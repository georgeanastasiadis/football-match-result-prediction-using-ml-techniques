{
 "cells": [
  {
   "cell_type": "markdown",
   "id": "5a2a7abc",
   "metadata": {},
   "source": [
    "# Scenario 1"
   ]
  },
  {
   "cell_type": "markdown",
   "id": "31c8c70b",
   "metadata": {},
   "source": [
    "4 seasons as train set. Trying to predict the last 2 seasons."
   ]
  },
  {
   "cell_type": "markdown",
   "id": "79156d23",
   "metadata": {},
   "source": [
    "# Bundesliga"
   ]
  },
  {
   "cell_type": "code",
   "execution_count": 1,
   "id": "dda5ced1",
   "metadata": {},
   "outputs": [],
   "source": [
    "import numpy as np\n",
    "import pandas as pd\n",
    "from sklearn.neighbors import KNeighborsClassifier\n",
    "from sklearn.metrics import confusion_matrix,classification_report,ConfusionMatrixDisplay\n",
    "from sklearn.model_selection import train_test_split\n",
    "from sklearn.preprocessing import MinMaxScaler\n",
    "from sklearn.model_selection import GridSearchCV"
   ]
  },
  {
   "cell_type": "code",
   "execution_count": 2,
   "id": "dc83e900",
   "metadata": {},
   "outputs": [],
   "source": [
    "df = pd.read_csv(r\"C:\\Users\\George\\Desktop\\football-match-prediction-using-ml-techniques\\fe\\bundesliga.csv\")"
   ]
  },
  {
   "cell_type": "code",
   "execution_count": 3,
   "id": "fec52e88",
   "metadata": {},
   "outputs": [
    {
     "data": {
      "text/plain": [
       "array(['Bayern Munich', 'Dortmund', 'Ein Frankfurt', 'FC Koln',\n",
       "       'Hannover', 'Hertha', 'Hoffenheim', \"M'gladbach\", 'Paderborn',\n",
       "       'Augsburg', 'Hamburg', 'Leverkusen', 'Schalke 04', 'Stuttgart',\n",
       "       'Werder Bremen', 'Wolfsburg', 'Freiburg', 'Mainz', 'Darmstadt',\n",
       "       'Ingolstadt', 'RB Leipzig', 'Fortuna Dusseldorf', 'Nurnberg',\n",
       "       'Union Berlin'], dtype=object)"
      ]
     },
     "execution_count": 3,
     "metadata": {},
     "output_type": "execute_result"
    }
   ],
   "source": [
    "df['HomeTeam'].unique()"
   ]
  },
  {
   "cell_type": "code",
   "execution_count": 4,
   "id": "32bd75ac",
   "metadata": {},
   "outputs": [],
   "source": [
    "team_id = {'Bayern Munich':1, 'Dortmund':2, 'Ein Frankfurt':3, 'FC Koln':4,\n",
    "           'Hannover':5, 'Hertha':6, 'Hoffenheim':7, \"M'gladbach\":8, 'Paderborn':9,\n",
    "           'Augsburg':10, 'Hamburg':11, 'Leverkusen':12, 'Schalke 04':13, 'Stuttgart':14,\n",
    "           'Werder Bremen':15, 'Wolfsburg':16, 'Freiburg':17, 'Mainz':18, 'Darmstadt':19,\n",
    "           'Ingolstadt':20, 'RB Leipzig':21, 'Fortuna Dusseldorf':22, 'Nurnberg':23,\n",
    "           'Union Berlin':24}"
   ]
  },
  {
   "cell_type": "code",
   "execution_count": 5,
   "id": "6e8c1657",
   "metadata": {},
   "outputs": [],
   "source": [
    "for key,value in df.iteritems():\n",
    "    df['HomeTeam'] = df['HomeTeam'].apply(lambda x: team_id.get(x,x))\n",
    "    \n",
    "for key,value in df.iteritems():\n",
    "    df['AwayTeam'] = df['AwayTeam'].apply(lambda x: team_id.get(x,x))"
   ]
  },
  {
   "cell_type": "code",
   "execution_count": 6,
   "id": "cca3ad12",
   "metadata": {},
   "outputs": [],
   "source": [
    "#We are dropping the starts that are not available to us before the game \n",
    "df = df.drop(['Unnamed: 0', 'Date','FTHG', 'FTAG', 'HTHG','HTAG','league', 'Hppda_coef', 'Appda_coef','HTW', 'HTD',\n",
    "              'season','HTCR', 'ATCR','HTGS','HTxpts', 'ATxpts','ATGS', 'HTGC', 'ATGC','HTOVA_S', 'HTatt_S', \n",
    "              'HTmid_S','HTdef_S', 'ATOVA_S', 'ATatt_S','ATmid_S','ATdef_S','l5_ravg_HTgs', 'l5_ravg_ATgs',\n",
    "              'l5_ravg_HTgc', 'l5_ravg_ATgc', 'HomeTeamPoints','AwayTeamPoints',\n",
    "              'HTL', 'ATL', 'ATD', 'ATW'],axis=1)\n",
    "\n",
    "df = df.dropna()"
   ]
  },
  {
   "cell_type": "code",
   "execution_count": 12,
   "id": "49be850c",
   "metadata": {},
   "outputs": [],
   "source": [
    "X = df[['AVGH',\n",
    " 'AVGD',\n",
    " 'AVGA',\n",
    " 'HT_draws',\n",
    " 'AT_draws',\n",
    " 'HT_losses',\n",
    " 'AT_losses',\n",
    " 'l5_ravg_HTST',\n",
    " 'l5_ravg_HTCR',\n",
    " 'l5_ravg_ATCR',\n",
    " 'l5_ravg_HTxG',\n",
    " 'l5_ravg_ATxG',\n",
    " 'l5_ravg_HTxpts',\n",
    " 'l5_ravg_ATxpts',\n",
    " 'l5_ravg_HTdeep',\n",
    " 'l5_htdiff',\n",
    " 'avgHTP',\n",
    " 'avgATP',\n",
    " 'diff_points']]\n",
    "y = df['FTR']"
   ]
  },
  {
   "cell_type": "code",
   "execution_count": 13,
   "id": "017acf44",
   "metadata": {},
   "outputs": [],
   "source": [
    "X_train, X_test, y_train, y_test = train_test_split(X, y, test_size=0.33, random_state=101)"
   ]
  },
  {
   "cell_type": "code",
   "execution_count": 14,
   "id": "42ab74da",
   "metadata": {},
   "outputs": [],
   "source": [
    "scaler = MinMaxScaler()\n",
    "\n",
    "scaled_X_train = scaler.fit_transform(X_train)\n",
    "scaled_X_test = scaler.transform(X_test)"
   ]
  },
  {
   "cell_type": "code",
   "execution_count": 15,
   "id": "f3fa0423",
   "metadata": {},
   "outputs": [],
   "source": [
    "first_model = KNeighborsClassifier()\n",
    "\n",
    "first_model.fit(scaled_X_train,y_train)\n",
    "first_model_pred = first_model.predict(scaled_X_test)"
   ]
  },
  {
   "cell_type": "code",
   "execution_count": 16,
   "id": "e8323571",
   "metadata": {},
   "outputs": [
    {
     "data": {
      "text/plain": [
       "array([[ 75,  37,  31],\n",
       "       [ 51,  22,  48],\n",
       "       [ 87,  58, 108]], dtype=int64)"
      ]
     },
     "execution_count": 16,
     "metadata": {},
     "output_type": "execute_result"
    }
   ],
   "source": [
    "confusion_matrix(y_test,first_model_pred)"
   ]
  },
  {
   "cell_type": "code",
   "execution_count": 17,
   "id": "3a4b5a2a",
   "metadata": {},
   "outputs": [
    {
     "name": "stdout",
     "output_type": "stream",
     "text": [
      "              precision    recall  f1-score   support\n",
      "\n",
      "           A       0.35      0.52      0.42       143\n",
      "           D       0.19      0.18      0.18       121\n",
      "           H       0.58      0.43      0.49       253\n",
      "\n",
      "    accuracy                           0.40       517\n",
      "   macro avg       0.37      0.38      0.37       517\n",
      "weighted avg       0.42      0.40      0.40       517\n",
      "\n"
     ]
    }
   ],
   "source": [
    "print(classification_report(y_test,first_model_pred))"
   ]
  },
  {
   "cell_type": "markdown",
   "id": "47409dfd",
   "metadata": {},
   "source": [
    "**KNN has very low accuracy comparing to the other models but it can classify the draws better than the other models.**\n",
    "\n",
    "Since we can't perform RFE with KNN we will only check if we can improve the model using **GridSearchCV**."
   ]
  },
  {
   "cell_type": "code",
   "execution_count": 18,
   "id": "3f402d6d",
   "metadata": {},
   "outputs": [],
   "source": [
    "leaf_size = list(range(1,30))\n",
    "n_neighbors = list(range(1,40))\n",
    "p=[1,2,3]\n",
    "weights = ['uniform','distance']"
   ]
  },
  {
   "cell_type": "code",
   "execution_count": 19,
   "id": "682ea8ea",
   "metadata": {},
   "outputs": [],
   "source": [
    "grid_param = {'leaf_size': leaf_size,\n",
    "              'n_neighbors': n_neighbors,\n",
    "              'p': p,\n",
    "              'weights':weights}"
   ]
  },
  {
   "cell_type": "code",
   "execution_count": 20,
   "id": "8ec8f300",
   "metadata": {},
   "outputs": [],
   "source": [
    "model = KNeighborsClassifier()"
   ]
  },
  {
   "cell_type": "code",
   "execution_count": 21,
   "id": "a2484d28",
   "metadata": {},
   "outputs": [],
   "source": [
    "grid_model = GridSearchCV(model,param_grid=grid_param)"
   ]
  },
  {
   "cell_type": "code",
   "execution_count": 22,
   "id": "c99b9a0d",
   "metadata": {},
   "outputs": [
    {
     "data": {
      "text/html": [
       "<style>#sk-container-id-1 {color: black;background-color: white;}#sk-container-id-1 pre{padding: 0;}#sk-container-id-1 div.sk-toggleable {background-color: white;}#sk-container-id-1 label.sk-toggleable__label {cursor: pointer;display: block;width: 100%;margin-bottom: 0;padding: 0.3em;box-sizing: border-box;text-align: center;}#sk-container-id-1 label.sk-toggleable__label-arrow:before {content: \"▸\";float: left;margin-right: 0.25em;color: #696969;}#sk-container-id-1 label.sk-toggleable__label-arrow:hover:before {color: black;}#sk-container-id-1 div.sk-estimator:hover label.sk-toggleable__label-arrow:before {color: black;}#sk-container-id-1 div.sk-toggleable__content {max-height: 0;max-width: 0;overflow: hidden;text-align: left;background-color: #f0f8ff;}#sk-container-id-1 div.sk-toggleable__content pre {margin: 0.2em;color: black;border-radius: 0.25em;background-color: #f0f8ff;}#sk-container-id-1 input.sk-toggleable__control:checked~div.sk-toggleable__content {max-height: 200px;max-width: 100%;overflow: auto;}#sk-container-id-1 input.sk-toggleable__control:checked~label.sk-toggleable__label-arrow:before {content: \"▾\";}#sk-container-id-1 div.sk-estimator input.sk-toggleable__control:checked~label.sk-toggleable__label {background-color: #d4ebff;}#sk-container-id-1 div.sk-label input.sk-toggleable__control:checked~label.sk-toggleable__label {background-color: #d4ebff;}#sk-container-id-1 input.sk-hidden--visually {border: 0;clip: rect(1px 1px 1px 1px);clip: rect(1px, 1px, 1px, 1px);height: 1px;margin: -1px;overflow: hidden;padding: 0;position: absolute;width: 1px;}#sk-container-id-1 div.sk-estimator {font-family: monospace;background-color: #f0f8ff;border: 1px dotted black;border-radius: 0.25em;box-sizing: border-box;margin-bottom: 0.5em;}#sk-container-id-1 div.sk-estimator:hover {background-color: #d4ebff;}#sk-container-id-1 div.sk-parallel-item::after {content: \"\";width: 100%;border-bottom: 1px solid gray;flex-grow: 1;}#sk-container-id-1 div.sk-label:hover label.sk-toggleable__label {background-color: #d4ebff;}#sk-container-id-1 div.sk-serial::before {content: \"\";position: absolute;border-left: 1px solid gray;box-sizing: border-box;top: 0;bottom: 0;left: 50%;z-index: 0;}#sk-container-id-1 div.sk-serial {display: flex;flex-direction: column;align-items: center;background-color: white;padding-right: 0.2em;padding-left: 0.2em;position: relative;}#sk-container-id-1 div.sk-item {position: relative;z-index: 1;}#sk-container-id-1 div.sk-parallel {display: flex;align-items: stretch;justify-content: center;background-color: white;position: relative;}#sk-container-id-1 div.sk-item::before, #sk-container-id-1 div.sk-parallel-item::before {content: \"\";position: absolute;border-left: 1px solid gray;box-sizing: border-box;top: 0;bottom: 0;left: 50%;z-index: -1;}#sk-container-id-1 div.sk-parallel-item {display: flex;flex-direction: column;z-index: 1;position: relative;background-color: white;}#sk-container-id-1 div.sk-parallel-item:first-child::after {align-self: flex-end;width: 50%;}#sk-container-id-1 div.sk-parallel-item:last-child::after {align-self: flex-start;width: 50%;}#sk-container-id-1 div.sk-parallel-item:only-child::after {width: 0;}#sk-container-id-1 div.sk-dashed-wrapped {border: 1px dashed gray;margin: 0 0.4em 0.5em 0.4em;box-sizing: border-box;padding-bottom: 0.4em;background-color: white;}#sk-container-id-1 div.sk-label label {font-family: monospace;font-weight: bold;display: inline-block;line-height: 1.2em;}#sk-container-id-1 div.sk-label-container {text-align: center;}#sk-container-id-1 div.sk-container {/* jupyter's `normalize.less` sets `[hidden] { display: none; }` but bootstrap.min.css set `[hidden] { display: none !important; }` so we also need the `!important` here to be able to override the default hidden behavior on the sphinx rendered scikit-learn.org. See: https://github.com/scikit-learn/scikit-learn/issues/21755 */display: inline-block !important;position: relative;}#sk-container-id-1 div.sk-text-repr-fallback {display: none;}</style><div id=\"sk-container-id-1\" class=\"sk-top-container\"><div class=\"sk-text-repr-fallback\"><pre>GridSearchCV(estimator=KNeighborsClassifier(),\n",
       "             param_grid={&#x27;leaf_size&#x27;: [1, 2, 3, 4, 5, 6, 7, 8, 9, 10, 11, 12,\n",
       "                                       13, 14, 15, 16, 17, 18, 19, 20, 21, 22,\n",
       "                                       23, 24, 25, 26, 27, 28, 29],\n",
       "                         &#x27;n_neighbors&#x27;: [1, 2, 3, 4, 5, 6, 7, 8, 9, 10, 11, 12,\n",
       "                                         13, 14, 15, 16, 17, 18, 19, 20, 21, 22,\n",
       "                                         23, 24, 25, 26, 27, 28, 29, 30, ...],\n",
       "                         &#x27;p&#x27;: [1, 2, 3], &#x27;weights&#x27;: [&#x27;uniform&#x27;, &#x27;distance&#x27;]})</pre><b>In a Jupyter environment, please rerun this cell to show the HTML representation or trust the notebook. <br />On GitHub, the HTML representation is unable to render, please try loading this page with nbviewer.org.</b></div><div class=\"sk-container\" hidden><div class=\"sk-item sk-dashed-wrapped\"><div class=\"sk-label-container\"><div class=\"sk-label sk-toggleable\"><input class=\"sk-toggleable__control sk-hidden--visually\" id=\"sk-estimator-id-1\" type=\"checkbox\" ><label for=\"sk-estimator-id-1\" class=\"sk-toggleable__label sk-toggleable__label-arrow\">GridSearchCV</label><div class=\"sk-toggleable__content\"><pre>GridSearchCV(estimator=KNeighborsClassifier(),\n",
       "             param_grid={&#x27;leaf_size&#x27;: [1, 2, 3, 4, 5, 6, 7, 8, 9, 10, 11, 12,\n",
       "                                       13, 14, 15, 16, 17, 18, 19, 20, 21, 22,\n",
       "                                       23, 24, 25, 26, 27, 28, 29],\n",
       "                         &#x27;n_neighbors&#x27;: [1, 2, 3, 4, 5, 6, 7, 8, 9, 10, 11, 12,\n",
       "                                         13, 14, 15, 16, 17, 18, 19, 20, 21, 22,\n",
       "                                         23, 24, 25, 26, 27, 28, 29, 30, ...],\n",
       "                         &#x27;p&#x27;: [1, 2, 3], &#x27;weights&#x27;: [&#x27;uniform&#x27;, &#x27;distance&#x27;]})</pre></div></div></div><div class=\"sk-parallel\"><div class=\"sk-parallel-item\"><div class=\"sk-item\"><div class=\"sk-label-container\"><div class=\"sk-label sk-toggleable\"><input class=\"sk-toggleable__control sk-hidden--visually\" id=\"sk-estimator-id-2\" type=\"checkbox\" ><label for=\"sk-estimator-id-2\" class=\"sk-toggleable__label sk-toggleable__label-arrow\">estimator: KNeighborsClassifier</label><div class=\"sk-toggleable__content\"><pre>KNeighborsClassifier()</pre></div></div></div><div class=\"sk-serial\"><div class=\"sk-item\"><div class=\"sk-estimator sk-toggleable\"><input class=\"sk-toggleable__control sk-hidden--visually\" id=\"sk-estimator-id-3\" type=\"checkbox\" ><label for=\"sk-estimator-id-3\" class=\"sk-toggleable__label sk-toggleable__label-arrow\">KNeighborsClassifier</label><div class=\"sk-toggleable__content\"><pre>KNeighborsClassifier()</pre></div></div></div></div></div></div></div></div></div></div>"
      ],
      "text/plain": [
       "GridSearchCV(estimator=KNeighborsClassifier(),\n",
       "             param_grid={'leaf_size': [1, 2, 3, 4, 5, 6, 7, 8, 9, 10, 11, 12,\n",
       "                                       13, 14, 15, 16, 17, 18, 19, 20, 21, 22,\n",
       "                                       23, 24, 25, 26, 27, 28, 29],\n",
       "                         'n_neighbors': [1, 2, 3, 4, 5, 6, 7, 8, 9, 10, 11, 12,\n",
       "                                         13, 14, 15, 16, 17, 18, 19, 20, 21, 22,\n",
       "                                         23, 24, 25, 26, 27, 28, 29, 30, ...],\n",
       "                         'p': [1, 2, 3], 'weights': ['uniform', 'distance']})"
      ]
     },
     "execution_count": 22,
     "metadata": {},
     "output_type": "execute_result"
    }
   ],
   "source": [
    "grid_model.fit(scaled_X_train,y_train)"
   ]
  },
  {
   "cell_type": "code",
   "execution_count": 23,
   "id": "83ad9fe8",
   "metadata": {},
   "outputs": [],
   "source": [
    "y_pred = grid_model.predict(scaled_X_test)"
   ]
  },
  {
   "cell_type": "code",
   "execution_count": 24,
   "id": "b042fc0e",
   "metadata": {},
   "outputs": [
    {
     "data": {
      "text/plain": [
       "{'leaf_size': 1, 'n_neighbors': 39, 'p': 3, 'weights': 'distance'}"
      ]
     },
     "execution_count": 24,
     "metadata": {},
     "output_type": "execute_result"
    }
   ],
   "source": [
    "grid_model.best_params_"
   ]
  },
  {
   "cell_type": "code",
   "execution_count": 25,
   "id": "1c2b8758",
   "metadata": {},
   "outputs": [],
   "source": [
    "c = confusion_matrix(y_test,y_pred)"
   ]
  },
  {
   "cell_type": "code",
   "execution_count": 26,
   "id": "3d0cf03d",
   "metadata": {},
   "outputs": [
    {
     "data": {
      "text/plain": [
       "array([[ 68,   5,  70],\n",
       "       [ 35,   3,  83],\n",
       "       [ 54,   8, 191]], dtype=int64)"
      ]
     },
     "execution_count": 26,
     "metadata": {},
     "output_type": "execute_result"
    }
   ],
   "source": [
    "c"
   ]
  },
  {
   "cell_type": "code",
   "execution_count": 27,
   "id": "500b699d",
   "metadata": {},
   "outputs": [
    {
     "name": "stdout",
     "output_type": "stream",
     "text": [
      "              precision    recall  f1-score   support\n",
      "\n",
      "           A       0.43      0.48      0.45       143\n",
      "           D       0.19      0.02      0.04       121\n",
      "           H       0.56      0.75      0.64       253\n",
      "\n",
      "    accuracy                           0.51       517\n",
      "   macro avg       0.39      0.42      0.38       517\n",
      "weighted avg       0.44      0.51      0.45       517\n",
      "\n"
     ]
    }
   ],
   "source": [
    "print(classification_report(y_test,y_pred))"
   ]
  },
  {
   "cell_type": "markdown",
   "id": "46bab904",
   "metadata": {},
   "source": [
    "**Best accuracy we could get is 0.51.**\n",
    "\n",
    "Features **All**."
   ]
  },
  {
   "cell_type": "markdown",
   "id": "e4a17505",
   "metadata": {},
   "source": [
    "# **Premier League**"
   ]
  },
  {
   "cell_type": "code",
   "execution_count": 28,
   "id": "60046211",
   "metadata": {},
   "outputs": [],
   "source": [
    "df = pd.read_csv(r\"C:\\Users\\George\\Desktop\\football-match-prediction-using-ml-techniques\\fe\\premier_league.csv\")"
   ]
  },
  {
   "cell_type": "code",
   "execution_count": 29,
   "id": "7c6ed6c9",
   "metadata": {},
   "outputs": [],
   "source": [
    "#We assign a unique value at every team of the league\n",
    "team_id = {'Arsenal':1, 'Leicester':2, 'Man United':3, 'QPR':4, 'Stoke':5, 'West Brom':6,\n",
    "           'West Ham':7, 'Liverpool':8, 'Newcastle':9, 'Burnley':10, 'Aston Villa':11,\n",
    "           'Chelsea':12, 'Crystal Palace':13, 'Everton':14, 'Southampton':15, 'Swansea':16,\n",
    "           'Hull':17, 'Sunderland':18, 'Tottenham':19, 'Man City':20, 'Bournemouth':21,\n",
    "           'Norwich':22, 'Watford':23, 'Middlesbrough':24, 'Brighton':25, 'Huddersfield':26,\n",
    "           'Fulham':27, 'Wolves':28, 'Cardiff':29, 'Sheffield United':30}\n",
    "\n",
    "for key,value in df.iteritems():\n",
    "    df['HomeTeam'] = df['HomeTeam'].apply(lambda x: team_id.get(x,x))\n",
    "    \n",
    "for key,value in df.iteritems():\n",
    "    df['AwayTeam'] = df['AwayTeam'].apply(lambda x: team_id.get(x,x))"
   ]
  },
  {
   "cell_type": "code",
   "execution_count": 30,
   "id": "1bd99455",
   "metadata": {},
   "outputs": [],
   "source": [
    "#We are dropping the starts that are not available to us before the game \n",
    "df = df.drop(['Unnamed: 0', 'Date','FTHG', 'FTAG', 'HTHG','HTAG','league', 'Hppda_coef', 'Appda_coef','HTW', 'HTD',\n",
    "              'season','HTCR', 'ATCR','HTGS','HTxpts', 'ATxpts','ATGS', 'HTGC', 'ATGC','HTOVA_S', 'HTatt_S', \n",
    "              'HTmid_S','HTdef_S', 'ATOVA_S', 'ATatt_S','ATmid_S','ATdef_S','l5_ravg_HTgs', 'l5_ravg_ATgs',\n",
    "              'l5_ravg_HTgc', 'l5_ravg_ATgc', 'HomeTeamPoints','AwayTeamPoints',\n",
    "              'HTL', 'ATL', 'ATD', 'ATW'],axis=1)\n",
    "\n",
    "df = df.dropna()"
   ]
  },
  {
   "cell_type": "code",
   "execution_count": 33,
   "id": "fdedc5c9",
   "metadata": {},
   "outputs": [],
   "source": [
    "X = df[['AVGH',\n",
    " 'AVGD',\n",
    " 'AVGA',\n",
    " 'HT_draws',\n",
    " 'AT_draws',\n",
    " 'HT_losses',\n",
    " 'AT_losses',\n",
    " 'l5_ravg_HTST',\n",
    " 'l5_ravg_HTCR',\n",
    " 'l5_ravg_ATCR',\n",
    " 'l5_ravg_HTxG',\n",
    " 'l5_ravg_ATxG',\n",
    " 'l5_ravg_HTxpts',\n",
    " 'l5_ravg_ATxpts',\n",
    " 'l5_atdiff',\n",
    " 'avgHTP',\n",
    " 'avgATP',\n",
    " 'diff_points',\n",
    " 'diff_MID']]\n",
    "y = df['FTR']"
   ]
  },
  {
   "cell_type": "code",
   "execution_count": 34,
   "id": "ceabb1b2",
   "metadata": {},
   "outputs": [],
   "source": [
    "X_train, X_test, y_train, y_test = train_test_split(X, y, test_size=0.33, random_state=101)"
   ]
  },
  {
   "cell_type": "code",
   "execution_count": 35,
   "id": "2af857c3",
   "metadata": {},
   "outputs": [],
   "source": [
    "scaler = MinMaxScaler()\n",
    "\n",
    "scaled_X_train = scaler.fit_transform(X_train)\n",
    "scaled_X_test = scaler.transform(X_test)"
   ]
  },
  {
   "cell_type": "code",
   "execution_count": 36,
   "id": "0ec96239",
   "metadata": {},
   "outputs": [],
   "source": [
    "base = KNeighborsClassifier()"
   ]
  },
  {
   "cell_type": "code",
   "execution_count": 37,
   "id": "c3fb9454",
   "metadata": {},
   "outputs": [
    {
     "data": {
      "text/html": [
       "<style>#sk-container-id-2 {color: black;background-color: white;}#sk-container-id-2 pre{padding: 0;}#sk-container-id-2 div.sk-toggleable {background-color: white;}#sk-container-id-2 label.sk-toggleable__label {cursor: pointer;display: block;width: 100%;margin-bottom: 0;padding: 0.3em;box-sizing: border-box;text-align: center;}#sk-container-id-2 label.sk-toggleable__label-arrow:before {content: \"▸\";float: left;margin-right: 0.25em;color: #696969;}#sk-container-id-2 label.sk-toggleable__label-arrow:hover:before {color: black;}#sk-container-id-2 div.sk-estimator:hover label.sk-toggleable__label-arrow:before {color: black;}#sk-container-id-2 div.sk-toggleable__content {max-height: 0;max-width: 0;overflow: hidden;text-align: left;background-color: #f0f8ff;}#sk-container-id-2 div.sk-toggleable__content pre {margin: 0.2em;color: black;border-radius: 0.25em;background-color: #f0f8ff;}#sk-container-id-2 input.sk-toggleable__control:checked~div.sk-toggleable__content {max-height: 200px;max-width: 100%;overflow: auto;}#sk-container-id-2 input.sk-toggleable__control:checked~label.sk-toggleable__label-arrow:before {content: \"▾\";}#sk-container-id-2 div.sk-estimator input.sk-toggleable__control:checked~label.sk-toggleable__label {background-color: #d4ebff;}#sk-container-id-2 div.sk-label input.sk-toggleable__control:checked~label.sk-toggleable__label {background-color: #d4ebff;}#sk-container-id-2 input.sk-hidden--visually {border: 0;clip: rect(1px 1px 1px 1px);clip: rect(1px, 1px, 1px, 1px);height: 1px;margin: -1px;overflow: hidden;padding: 0;position: absolute;width: 1px;}#sk-container-id-2 div.sk-estimator {font-family: monospace;background-color: #f0f8ff;border: 1px dotted black;border-radius: 0.25em;box-sizing: border-box;margin-bottom: 0.5em;}#sk-container-id-2 div.sk-estimator:hover {background-color: #d4ebff;}#sk-container-id-2 div.sk-parallel-item::after {content: \"\";width: 100%;border-bottom: 1px solid gray;flex-grow: 1;}#sk-container-id-2 div.sk-label:hover label.sk-toggleable__label {background-color: #d4ebff;}#sk-container-id-2 div.sk-serial::before {content: \"\";position: absolute;border-left: 1px solid gray;box-sizing: border-box;top: 0;bottom: 0;left: 50%;z-index: 0;}#sk-container-id-2 div.sk-serial {display: flex;flex-direction: column;align-items: center;background-color: white;padding-right: 0.2em;padding-left: 0.2em;position: relative;}#sk-container-id-2 div.sk-item {position: relative;z-index: 1;}#sk-container-id-2 div.sk-parallel {display: flex;align-items: stretch;justify-content: center;background-color: white;position: relative;}#sk-container-id-2 div.sk-item::before, #sk-container-id-2 div.sk-parallel-item::before {content: \"\";position: absolute;border-left: 1px solid gray;box-sizing: border-box;top: 0;bottom: 0;left: 50%;z-index: -1;}#sk-container-id-2 div.sk-parallel-item {display: flex;flex-direction: column;z-index: 1;position: relative;background-color: white;}#sk-container-id-2 div.sk-parallel-item:first-child::after {align-self: flex-end;width: 50%;}#sk-container-id-2 div.sk-parallel-item:last-child::after {align-self: flex-start;width: 50%;}#sk-container-id-2 div.sk-parallel-item:only-child::after {width: 0;}#sk-container-id-2 div.sk-dashed-wrapped {border: 1px dashed gray;margin: 0 0.4em 0.5em 0.4em;box-sizing: border-box;padding-bottom: 0.4em;background-color: white;}#sk-container-id-2 div.sk-label label {font-family: monospace;font-weight: bold;display: inline-block;line-height: 1.2em;}#sk-container-id-2 div.sk-label-container {text-align: center;}#sk-container-id-2 div.sk-container {/* jupyter's `normalize.less` sets `[hidden] { display: none; }` but bootstrap.min.css set `[hidden] { display: none !important; }` so we also need the `!important` here to be able to override the default hidden behavior on the sphinx rendered scikit-learn.org. See: https://github.com/scikit-learn/scikit-learn/issues/21755 */display: inline-block !important;position: relative;}#sk-container-id-2 div.sk-text-repr-fallback {display: none;}</style><div id=\"sk-container-id-2\" class=\"sk-top-container\"><div class=\"sk-text-repr-fallback\"><pre>KNeighborsClassifier()</pre><b>In a Jupyter environment, please rerun this cell to show the HTML representation or trust the notebook. <br />On GitHub, the HTML representation is unable to render, please try loading this page with nbviewer.org.</b></div><div class=\"sk-container\" hidden><div class=\"sk-item\"><div class=\"sk-estimator sk-toggleable\"><input class=\"sk-toggleable__control sk-hidden--visually\" id=\"sk-estimator-id-4\" type=\"checkbox\" checked><label for=\"sk-estimator-id-4\" class=\"sk-toggleable__label sk-toggleable__label-arrow\">KNeighborsClassifier</label><div class=\"sk-toggleable__content\"><pre>KNeighborsClassifier()</pre></div></div></div></div></div>"
      ],
      "text/plain": [
       "KNeighborsClassifier()"
      ]
     },
     "execution_count": 37,
     "metadata": {},
     "output_type": "execute_result"
    }
   ],
   "source": [
    "base.fit(scaled_X_train,y_train)"
   ]
  },
  {
   "cell_type": "code",
   "execution_count": 38,
   "id": "0ee1e610",
   "metadata": {},
   "outputs": [],
   "source": [
    "base_pred = base.predict(scaled_X_test)"
   ]
  },
  {
   "cell_type": "code",
   "execution_count": 39,
   "id": "55627479",
   "metadata": {},
   "outputs": [
    {
     "data": {
      "text/plain": [
       "array([[ 98,  28,  55],\n",
       "       [ 68,  24,  68],\n",
       "       [ 95,  45, 173]], dtype=int64)"
      ]
     },
     "execution_count": 39,
     "metadata": {},
     "output_type": "execute_result"
    }
   ],
   "source": [
    "confusion_matrix(y_test, base_pred)"
   ]
  },
  {
   "cell_type": "code",
   "execution_count": 40,
   "id": "628518c4",
   "metadata": {},
   "outputs": [
    {
     "name": "stdout",
     "output_type": "stream",
     "text": [
      "              precision    recall  f1-score   support\n",
      "\n",
      "           A       0.38      0.54      0.44       181\n",
      "           D       0.25      0.15      0.19       160\n",
      "           H       0.58      0.55      0.57       313\n",
      "\n",
      "    accuracy                           0.45       654\n",
      "   macro avg       0.40      0.41      0.40       654\n",
      "weighted avg       0.44      0.45      0.44       654\n",
      "\n"
     ]
    }
   ],
   "source": [
    "print(classification_report(y_test,base_pred))"
   ]
  },
  {
   "cell_type": "code",
   "execution_count": 41,
   "id": "fdd58739",
   "metadata": {},
   "outputs": [],
   "source": [
    "leaf_size = list(range(1,30))\n",
    "n_neighbors = list(range(1,40))\n",
    "p=[1,2,3]\n",
    "weights = ['uniform','distance']"
   ]
  },
  {
   "cell_type": "code",
   "execution_count": 42,
   "id": "5de54105",
   "metadata": {},
   "outputs": [],
   "source": [
    "grid_param = {'leaf_size':leaf_size,\n",
    "              'n_neighbors':n_neighbors,\n",
    "              'p': p,\n",
    "              'weights': weights}"
   ]
  },
  {
   "cell_type": "code",
   "execution_count": 43,
   "id": "d595a9d5",
   "metadata": {},
   "outputs": [],
   "source": [
    "grid_model = GridSearchCV(base,param_grid=grid_param,scoring='accuracy')"
   ]
  },
  {
   "cell_type": "code",
   "execution_count": 44,
   "id": "773a9ca2",
   "metadata": {},
   "outputs": [
    {
     "data": {
      "text/html": [
       "<style>#sk-container-id-3 {color: black;background-color: white;}#sk-container-id-3 pre{padding: 0;}#sk-container-id-3 div.sk-toggleable {background-color: white;}#sk-container-id-3 label.sk-toggleable__label {cursor: pointer;display: block;width: 100%;margin-bottom: 0;padding: 0.3em;box-sizing: border-box;text-align: center;}#sk-container-id-3 label.sk-toggleable__label-arrow:before {content: \"▸\";float: left;margin-right: 0.25em;color: #696969;}#sk-container-id-3 label.sk-toggleable__label-arrow:hover:before {color: black;}#sk-container-id-3 div.sk-estimator:hover label.sk-toggleable__label-arrow:before {color: black;}#sk-container-id-3 div.sk-toggleable__content {max-height: 0;max-width: 0;overflow: hidden;text-align: left;background-color: #f0f8ff;}#sk-container-id-3 div.sk-toggleable__content pre {margin: 0.2em;color: black;border-radius: 0.25em;background-color: #f0f8ff;}#sk-container-id-3 input.sk-toggleable__control:checked~div.sk-toggleable__content {max-height: 200px;max-width: 100%;overflow: auto;}#sk-container-id-3 input.sk-toggleable__control:checked~label.sk-toggleable__label-arrow:before {content: \"▾\";}#sk-container-id-3 div.sk-estimator input.sk-toggleable__control:checked~label.sk-toggleable__label {background-color: #d4ebff;}#sk-container-id-3 div.sk-label input.sk-toggleable__control:checked~label.sk-toggleable__label {background-color: #d4ebff;}#sk-container-id-3 input.sk-hidden--visually {border: 0;clip: rect(1px 1px 1px 1px);clip: rect(1px, 1px, 1px, 1px);height: 1px;margin: -1px;overflow: hidden;padding: 0;position: absolute;width: 1px;}#sk-container-id-3 div.sk-estimator {font-family: monospace;background-color: #f0f8ff;border: 1px dotted black;border-radius: 0.25em;box-sizing: border-box;margin-bottom: 0.5em;}#sk-container-id-3 div.sk-estimator:hover {background-color: #d4ebff;}#sk-container-id-3 div.sk-parallel-item::after {content: \"\";width: 100%;border-bottom: 1px solid gray;flex-grow: 1;}#sk-container-id-3 div.sk-label:hover label.sk-toggleable__label {background-color: #d4ebff;}#sk-container-id-3 div.sk-serial::before {content: \"\";position: absolute;border-left: 1px solid gray;box-sizing: border-box;top: 0;bottom: 0;left: 50%;z-index: 0;}#sk-container-id-3 div.sk-serial {display: flex;flex-direction: column;align-items: center;background-color: white;padding-right: 0.2em;padding-left: 0.2em;position: relative;}#sk-container-id-3 div.sk-item {position: relative;z-index: 1;}#sk-container-id-3 div.sk-parallel {display: flex;align-items: stretch;justify-content: center;background-color: white;position: relative;}#sk-container-id-3 div.sk-item::before, #sk-container-id-3 div.sk-parallel-item::before {content: \"\";position: absolute;border-left: 1px solid gray;box-sizing: border-box;top: 0;bottom: 0;left: 50%;z-index: -1;}#sk-container-id-3 div.sk-parallel-item {display: flex;flex-direction: column;z-index: 1;position: relative;background-color: white;}#sk-container-id-3 div.sk-parallel-item:first-child::after {align-self: flex-end;width: 50%;}#sk-container-id-3 div.sk-parallel-item:last-child::after {align-self: flex-start;width: 50%;}#sk-container-id-3 div.sk-parallel-item:only-child::after {width: 0;}#sk-container-id-3 div.sk-dashed-wrapped {border: 1px dashed gray;margin: 0 0.4em 0.5em 0.4em;box-sizing: border-box;padding-bottom: 0.4em;background-color: white;}#sk-container-id-3 div.sk-label label {font-family: monospace;font-weight: bold;display: inline-block;line-height: 1.2em;}#sk-container-id-3 div.sk-label-container {text-align: center;}#sk-container-id-3 div.sk-container {/* jupyter's `normalize.less` sets `[hidden] { display: none; }` but bootstrap.min.css set `[hidden] { display: none !important; }` so we also need the `!important` here to be able to override the default hidden behavior on the sphinx rendered scikit-learn.org. See: https://github.com/scikit-learn/scikit-learn/issues/21755 */display: inline-block !important;position: relative;}#sk-container-id-3 div.sk-text-repr-fallback {display: none;}</style><div id=\"sk-container-id-3\" class=\"sk-top-container\"><div class=\"sk-text-repr-fallback\"><pre>GridSearchCV(estimator=KNeighborsClassifier(),\n",
       "             param_grid={&#x27;leaf_size&#x27;: [1, 2, 3, 4, 5, 6, 7, 8, 9, 10, 11, 12,\n",
       "                                       13, 14, 15, 16, 17, 18, 19, 20, 21, 22,\n",
       "                                       23, 24, 25, 26, 27, 28, 29],\n",
       "                         &#x27;n_neighbors&#x27;: [1, 2, 3, 4, 5, 6, 7, 8, 9, 10, 11, 12,\n",
       "                                         13, 14, 15, 16, 17, 18, 19, 20, 21, 22,\n",
       "                                         23, 24, 25, 26, 27, 28, 29, 30, ...],\n",
       "                         &#x27;p&#x27;: [1, 2, 3], &#x27;weights&#x27;: [&#x27;uniform&#x27;, &#x27;distance&#x27;]},\n",
       "             scoring=&#x27;accuracy&#x27;)</pre><b>In a Jupyter environment, please rerun this cell to show the HTML representation or trust the notebook. <br />On GitHub, the HTML representation is unable to render, please try loading this page with nbviewer.org.</b></div><div class=\"sk-container\" hidden><div class=\"sk-item sk-dashed-wrapped\"><div class=\"sk-label-container\"><div class=\"sk-label sk-toggleable\"><input class=\"sk-toggleable__control sk-hidden--visually\" id=\"sk-estimator-id-5\" type=\"checkbox\" ><label for=\"sk-estimator-id-5\" class=\"sk-toggleable__label sk-toggleable__label-arrow\">GridSearchCV</label><div class=\"sk-toggleable__content\"><pre>GridSearchCV(estimator=KNeighborsClassifier(),\n",
       "             param_grid={&#x27;leaf_size&#x27;: [1, 2, 3, 4, 5, 6, 7, 8, 9, 10, 11, 12,\n",
       "                                       13, 14, 15, 16, 17, 18, 19, 20, 21, 22,\n",
       "                                       23, 24, 25, 26, 27, 28, 29],\n",
       "                         &#x27;n_neighbors&#x27;: [1, 2, 3, 4, 5, 6, 7, 8, 9, 10, 11, 12,\n",
       "                                         13, 14, 15, 16, 17, 18, 19, 20, 21, 22,\n",
       "                                         23, 24, 25, 26, 27, 28, 29, 30, ...],\n",
       "                         &#x27;p&#x27;: [1, 2, 3], &#x27;weights&#x27;: [&#x27;uniform&#x27;, &#x27;distance&#x27;]},\n",
       "             scoring=&#x27;accuracy&#x27;)</pre></div></div></div><div class=\"sk-parallel\"><div class=\"sk-parallel-item\"><div class=\"sk-item\"><div class=\"sk-label-container\"><div class=\"sk-label sk-toggleable\"><input class=\"sk-toggleable__control sk-hidden--visually\" id=\"sk-estimator-id-6\" type=\"checkbox\" ><label for=\"sk-estimator-id-6\" class=\"sk-toggleable__label sk-toggleable__label-arrow\">estimator: KNeighborsClassifier</label><div class=\"sk-toggleable__content\"><pre>KNeighborsClassifier()</pre></div></div></div><div class=\"sk-serial\"><div class=\"sk-item\"><div class=\"sk-estimator sk-toggleable\"><input class=\"sk-toggleable__control sk-hidden--visually\" id=\"sk-estimator-id-7\" type=\"checkbox\" ><label for=\"sk-estimator-id-7\" class=\"sk-toggleable__label sk-toggleable__label-arrow\">KNeighborsClassifier</label><div class=\"sk-toggleable__content\"><pre>KNeighborsClassifier()</pre></div></div></div></div></div></div></div></div></div></div>"
      ],
      "text/plain": [
       "GridSearchCV(estimator=KNeighborsClassifier(),\n",
       "             param_grid={'leaf_size': [1, 2, 3, 4, 5, 6, 7, 8, 9, 10, 11, 12,\n",
       "                                       13, 14, 15, 16, 17, 18, 19, 20, 21, 22,\n",
       "                                       23, 24, 25, 26, 27, 28, 29],\n",
       "                         'n_neighbors': [1, 2, 3, 4, 5, 6, 7, 8, 9, 10, 11, 12,\n",
       "                                         13, 14, 15, 16, 17, 18, 19, 20, 21, 22,\n",
       "                                         23, 24, 25, 26, 27, 28, 29, 30, ...],\n",
       "                         'p': [1, 2, 3], 'weights': ['uniform', 'distance']},\n",
       "             scoring='accuracy')"
      ]
     },
     "execution_count": 44,
     "metadata": {},
     "output_type": "execute_result"
    }
   ],
   "source": [
    "grid_model.fit(scaled_X_train,y_train)"
   ]
  },
  {
   "cell_type": "code",
   "execution_count": 45,
   "id": "eaa21a90",
   "metadata": {},
   "outputs": [
    {
     "data": {
      "text/plain": [
       "{'leaf_size': 1, 'n_neighbors': 39, 'p': 2, 'weights': 'uniform'}"
      ]
     },
     "execution_count": 45,
     "metadata": {},
     "output_type": "execute_result"
    }
   ],
   "source": [
    "grid_model.best_params_"
   ]
  },
  {
   "cell_type": "code",
   "execution_count": 46,
   "id": "b2b84d55",
   "metadata": {},
   "outputs": [],
   "source": [
    "grid_pred = grid_model.predict(scaled_X_test)"
   ]
  },
  {
   "cell_type": "code",
   "execution_count": 47,
   "id": "826788b9",
   "metadata": {},
   "outputs": [
    {
     "data": {
      "text/plain": [
       "array([[100,   7,  74],\n",
       "       [ 43,   3, 114],\n",
       "       [ 48,  11, 254]], dtype=int64)"
      ]
     },
     "execution_count": 47,
     "metadata": {},
     "output_type": "execute_result"
    }
   ],
   "source": [
    "confusion_matrix(y_test,grid_pred)"
   ]
  },
  {
   "cell_type": "code",
   "execution_count": 48,
   "id": "413c7ca3",
   "metadata": {},
   "outputs": [
    {
     "name": "stdout",
     "output_type": "stream",
     "text": [
      "              precision    recall  f1-score   support\n",
      "\n",
      "           A       0.52      0.55      0.54       181\n",
      "           D       0.14      0.02      0.03       160\n",
      "           H       0.57      0.81      0.67       313\n",
      "\n",
      "    accuracy                           0.55       654\n",
      "   macro avg       0.41      0.46      0.41       654\n",
      "weighted avg       0.45      0.55      0.48       654\n",
      "\n"
     ]
    }
   ],
   "source": [
    "print(classification_report(y_test,grid_pred))"
   ]
  },
  {
   "cell_type": "markdown",
   "id": "33290a3f",
   "metadata": {},
   "source": [
    "**Best accuracy 0.55**\n",
    "\n",
    "Features: \n",
    "- 'AVGH'\n",
    "- 'AVGD'\n",
    "- 'AVGA'\n",
    "- 'HT_draws'\n",
    "- 'AT_draws'\n",
    "- 'HT_losses'\n",
    "- 'AT_losses'\n",
    "- 'l5_ravg_HTST'\n",
    "- 'l5_ravg_HTCR'\n",
    "- 'l5_ravg_ATCR'\n",
    "- 'l5_ravg_HTxG'\n",
    "- 'l5_ravg_ATxG'\n",
    "- 'l5_ravg_HTxpts'\n",
    "- 'l5_ravg_ATxpts'\n",
    "- 'l5_atdiff'\n",
    "- 'avgHTP'\n",
    "- 'avgATP'\n",
    "- 'diff_points'\n",
    "- 'diff_MID'"
   ]
  },
  {
   "cell_type": "markdown",
   "id": "a721f684",
   "metadata": {},
   "source": [
    "**La Liga**"
   ]
  },
  {
   "cell_type": "code",
   "execution_count": 49,
   "id": "72e2bc15",
   "metadata": {},
   "outputs": [],
   "source": [
    "df = pd.read_csv(r\"C:\\Users\\George\\Desktop\\football-match-prediction-using-ml-techniques\\fe\\la_liga.csv\")"
   ]
  },
  {
   "cell_type": "code",
   "execution_count": 50,
   "id": "e840768c",
   "metadata": {},
   "outputs": [],
   "source": [
    "#We assign a unique value at every team of the league\n",
    "team_id = {'Almeria':1, 'Granada':2, 'Malaga':3, 'Sevilla':4, 'Barcelona':5, 'Celta':6,\n",
    "           'Eibar':7, 'Levante':8, 'Real Madrid':9, 'Vallecano':10, 'Getafe':11,\n",
    "           'Valencia':12, 'Ath Bilbao':13, 'Ath Madrid':14, 'Cordoba':15, 'Espanol':16,\n",
    "           'Elche':17, 'La Coruna':18, 'Sociedad':19, 'Villarreal':20, 'Betis':21,\n",
    "           'Sp Gijon':22, 'Las Palmas':23, 'Leganes':24, 'Osasuna':25, 'Alaves':26, 'Girona':27,\n",
    "           'Valladolid':28, 'Huesca':29, 'Mallorca':30}\n",
    "\n",
    "for key,value in df.iteritems():\n",
    "    df['HomeTeam'] = df['HomeTeam'].apply(lambda x: team_id.get(x,x))\n",
    "    \n",
    "for key,value in df.iteritems():\n",
    "    df['AwayTeam'] = df['AwayTeam'].apply(lambda x: team_id.get(x,x))"
   ]
  },
  {
   "cell_type": "code",
   "execution_count": 51,
   "id": "8e28ba63",
   "metadata": {},
   "outputs": [],
   "source": [
    "#We are dropping the starts that are not available to us before the game \n",
    "df = df.drop(['Unnamed: 0', 'Date','FTHG', 'FTAG', 'HTHG','HTAG','league', 'Hppda_coef', 'Appda_coef','HTW', 'HTD',\n",
    "              'season','HTCR', 'ATCR','HTGS','HTxpts', 'ATxpts','ATGS', 'HTGC', 'ATGC','HTOVA_S', 'HTatt_S', \n",
    "              'HTmid_S','HTdef_S', 'ATOVA_S', 'ATatt_S','ATmid_S','ATdef_S','l5_ravg_HTgs', 'l5_ravg_ATgs',\n",
    "              'l5_ravg_HTgc', 'l5_ravg_ATgc', 'HomeTeamPoints','AwayTeamPoints',\n",
    "              'HTL', 'ATL', 'ATD', 'ATW'],axis=1)\n",
    "\n",
    "df = df.dropna()"
   ]
  },
  {
   "cell_type": "code",
   "execution_count": 58,
   "id": "04e1754f",
   "metadata": {},
   "outputs": [],
   "source": [
    "#We are training the model using the features selected by RFE having as core the Logistic Regression model\n",
    "X = df[['AVGH', 'AVGD', 'AVGA','HT_wins', 'AT_wins', 'HT_draws', 'AT_draws', 'HT_losses', 'AT_losses','l5_ravg_ATST',\n",
    "        'l5_ravg_HTCR','l5_ravg_ATCR', 'l5_ravg_HTxG', 'l5_ravg_ATxG', 'l5_ravg_HTxpts', 'l5_htdiff','l5_atdiff',\n",
    "        'avgHTP', 'avgATP', 'l5_ravg_HTp', 'diff_points', 'diff_MID', 'diff_OVA']]\n",
    "y = df['FTR']"
   ]
  },
  {
   "cell_type": "code",
   "execution_count": 59,
   "id": "5b72ba70",
   "metadata": {},
   "outputs": [],
   "source": [
    "X_train, X_test, y_train, y_test = train_test_split(X, y, test_size=0.33, random_state=101)"
   ]
  },
  {
   "cell_type": "code",
   "execution_count": 60,
   "id": "db492d6d",
   "metadata": {},
   "outputs": [],
   "source": [
    "scaler = MinMaxScaler()\n",
    "\n",
    "scaled_X_train = scaler.fit_transform(X_train)\n",
    "scaled_X_test = scaler.transform(X_test)"
   ]
  },
  {
   "cell_type": "code",
   "execution_count": 61,
   "id": "7ed3829c",
   "metadata": {},
   "outputs": [],
   "source": [
    "first_model = KNeighborsClassifier()\n",
    "\n",
    "first_model.fit(scaled_X_train,y_train)\n",
    "first_model_pred = first_model.predict(scaled_X_test)"
   ]
  },
  {
   "cell_type": "code",
   "execution_count": 62,
   "id": "39e52a41",
   "metadata": {},
   "outputs": [
    {
     "data": {
      "text/plain": [
       "array([[ 98,  30,  56],\n",
       "       [ 61,  32,  66],\n",
       "       [ 81,  64, 166]], dtype=int64)"
      ]
     },
     "execution_count": 62,
     "metadata": {},
     "output_type": "execute_result"
    }
   ],
   "source": [
    "confusion_matrix(y_test,first_model_pred)"
   ]
  },
  {
   "cell_type": "code",
   "execution_count": 63,
   "id": "4a9ca6fa",
   "metadata": {},
   "outputs": [
    {
     "name": "stdout",
     "output_type": "stream",
     "text": [
      "              precision    recall  f1-score   support\n",
      "\n",
      "           A       0.41      0.53      0.46       184\n",
      "           D       0.25      0.20      0.22       159\n",
      "           H       0.58      0.53      0.55       311\n",
      "\n",
      "    accuracy                           0.45       654\n",
      "   macro avg       0.41      0.42      0.41       654\n",
      "weighted avg       0.45      0.45      0.45       654\n",
      "\n"
     ]
    }
   ],
   "source": [
    "print(classification_report(y_test,first_model_pred))"
   ]
  },
  {
   "cell_type": "code",
   "execution_count": 64,
   "id": "64e79100",
   "metadata": {},
   "outputs": [],
   "source": [
    "leaf_size = list(range(1,30))\n",
    "n_neighbors = list(range(1,40))\n",
    "p=[1,2,3]\n",
    "weights = ['uniform','distance']"
   ]
  },
  {
   "cell_type": "code",
   "execution_count": 65,
   "id": "5ca47bb7",
   "metadata": {},
   "outputs": [],
   "source": [
    "grid_param = {'leaf_size':leaf_size,\n",
    "              'n_neighbors':n_neighbors,\n",
    "              'p': p,\n",
    "              'weights': weights}"
   ]
  },
  {
   "cell_type": "code",
   "execution_count": 66,
   "id": "96182ff4",
   "metadata": {},
   "outputs": [],
   "source": [
    "grid_model = GridSearchCV(first_model,param_grid=grid_param,scoring='accuracy')"
   ]
  },
  {
   "cell_type": "code",
   "execution_count": 67,
   "id": "5f92292e",
   "metadata": {},
   "outputs": [
    {
     "data": {
      "text/html": [
       "<style>#sk-container-id-4 {color: black;background-color: white;}#sk-container-id-4 pre{padding: 0;}#sk-container-id-4 div.sk-toggleable {background-color: white;}#sk-container-id-4 label.sk-toggleable__label {cursor: pointer;display: block;width: 100%;margin-bottom: 0;padding: 0.3em;box-sizing: border-box;text-align: center;}#sk-container-id-4 label.sk-toggleable__label-arrow:before {content: \"▸\";float: left;margin-right: 0.25em;color: #696969;}#sk-container-id-4 label.sk-toggleable__label-arrow:hover:before {color: black;}#sk-container-id-4 div.sk-estimator:hover label.sk-toggleable__label-arrow:before {color: black;}#sk-container-id-4 div.sk-toggleable__content {max-height: 0;max-width: 0;overflow: hidden;text-align: left;background-color: #f0f8ff;}#sk-container-id-4 div.sk-toggleable__content pre {margin: 0.2em;color: black;border-radius: 0.25em;background-color: #f0f8ff;}#sk-container-id-4 input.sk-toggleable__control:checked~div.sk-toggleable__content {max-height: 200px;max-width: 100%;overflow: auto;}#sk-container-id-4 input.sk-toggleable__control:checked~label.sk-toggleable__label-arrow:before {content: \"▾\";}#sk-container-id-4 div.sk-estimator input.sk-toggleable__control:checked~label.sk-toggleable__label {background-color: #d4ebff;}#sk-container-id-4 div.sk-label input.sk-toggleable__control:checked~label.sk-toggleable__label {background-color: #d4ebff;}#sk-container-id-4 input.sk-hidden--visually {border: 0;clip: rect(1px 1px 1px 1px);clip: rect(1px, 1px, 1px, 1px);height: 1px;margin: -1px;overflow: hidden;padding: 0;position: absolute;width: 1px;}#sk-container-id-4 div.sk-estimator {font-family: monospace;background-color: #f0f8ff;border: 1px dotted black;border-radius: 0.25em;box-sizing: border-box;margin-bottom: 0.5em;}#sk-container-id-4 div.sk-estimator:hover {background-color: #d4ebff;}#sk-container-id-4 div.sk-parallel-item::after {content: \"\";width: 100%;border-bottom: 1px solid gray;flex-grow: 1;}#sk-container-id-4 div.sk-label:hover label.sk-toggleable__label {background-color: #d4ebff;}#sk-container-id-4 div.sk-serial::before {content: \"\";position: absolute;border-left: 1px solid gray;box-sizing: border-box;top: 0;bottom: 0;left: 50%;z-index: 0;}#sk-container-id-4 div.sk-serial {display: flex;flex-direction: column;align-items: center;background-color: white;padding-right: 0.2em;padding-left: 0.2em;position: relative;}#sk-container-id-4 div.sk-item {position: relative;z-index: 1;}#sk-container-id-4 div.sk-parallel {display: flex;align-items: stretch;justify-content: center;background-color: white;position: relative;}#sk-container-id-4 div.sk-item::before, #sk-container-id-4 div.sk-parallel-item::before {content: \"\";position: absolute;border-left: 1px solid gray;box-sizing: border-box;top: 0;bottom: 0;left: 50%;z-index: -1;}#sk-container-id-4 div.sk-parallel-item {display: flex;flex-direction: column;z-index: 1;position: relative;background-color: white;}#sk-container-id-4 div.sk-parallel-item:first-child::after {align-self: flex-end;width: 50%;}#sk-container-id-4 div.sk-parallel-item:last-child::after {align-self: flex-start;width: 50%;}#sk-container-id-4 div.sk-parallel-item:only-child::after {width: 0;}#sk-container-id-4 div.sk-dashed-wrapped {border: 1px dashed gray;margin: 0 0.4em 0.5em 0.4em;box-sizing: border-box;padding-bottom: 0.4em;background-color: white;}#sk-container-id-4 div.sk-label label {font-family: monospace;font-weight: bold;display: inline-block;line-height: 1.2em;}#sk-container-id-4 div.sk-label-container {text-align: center;}#sk-container-id-4 div.sk-container {/* jupyter's `normalize.less` sets `[hidden] { display: none; }` but bootstrap.min.css set `[hidden] { display: none !important; }` so we also need the `!important` here to be able to override the default hidden behavior on the sphinx rendered scikit-learn.org. See: https://github.com/scikit-learn/scikit-learn/issues/21755 */display: inline-block !important;position: relative;}#sk-container-id-4 div.sk-text-repr-fallback {display: none;}</style><div id=\"sk-container-id-4\" class=\"sk-top-container\"><div class=\"sk-text-repr-fallback\"><pre>GridSearchCV(estimator=KNeighborsClassifier(),\n",
       "             param_grid={&#x27;leaf_size&#x27;: [1, 2, 3, 4, 5, 6, 7, 8, 9, 10, 11, 12,\n",
       "                                       13, 14, 15, 16, 17, 18, 19, 20, 21, 22,\n",
       "                                       23, 24, 25, 26, 27, 28, 29],\n",
       "                         &#x27;n_neighbors&#x27;: [1, 2, 3, 4, 5, 6, 7, 8, 9, 10, 11, 12,\n",
       "                                         13, 14, 15, 16, 17, 18, 19, 20, 21, 22,\n",
       "                                         23, 24, 25, 26, 27, 28, 29, 30, ...],\n",
       "                         &#x27;p&#x27;: [1, 2, 3], &#x27;weights&#x27;: [&#x27;uniform&#x27;, &#x27;distance&#x27;]},\n",
       "             scoring=&#x27;accuracy&#x27;)</pre><b>In a Jupyter environment, please rerun this cell to show the HTML representation or trust the notebook. <br />On GitHub, the HTML representation is unable to render, please try loading this page with nbviewer.org.</b></div><div class=\"sk-container\" hidden><div class=\"sk-item sk-dashed-wrapped\"><div class=\"sk-label-container\"><div class=\"sk-label sk-toggleable\"><input class=\"sk-toggleable__control sk-hidden--visually\" id=\"sk-estimator-id-8\" type=\"checkbox\" ><label for=\"sk-estimator-id-8\" class=\"sk-toggleable__label sk-toggleable__label-arrow\">GridSearchCV</label><div class=\"sk-toggleable__content\"><pre>GridSearchCV(estimator=KNeighborsClassifier(),\n",
       "             param_grid={&#x27;leaf_size&#x27;: [1, 2, 3, 4, 5, 6, 7, 8, 9, 10, 11, 12,\n",
       "                                       13, 14, 15, 16, 17, 18, 19, 20, 21, 22,\n",
       "                                       23, 24, 25, 26, 27, 28, 29],\n",
       "                         &#x27;n_neighbors&#x27;: [1, 2, 3, 4, 5, 6, 7, 8, 9, 10, 11, 12,\n",
       "                                         13, 14, 15, 16, 17, 18, 19, 20, 21, 22,\n",
       "                                         23, 24, 25, 26, 27, 28, 29, 30, ...],\n",
       "                         &#x27;p&#x27;: [1, 2, 3], &#x27;weights&#x27;: [&#x27;uniform&#x27;, &#x27;distance&#x27;]},\n",
       "             scoring=&#x27;accuracy&#x27;)</pre></div></div></div><div class=\"sk-parallel\"><div class=\"sk-parallel-item\"><div class=\"sk-item\"><div class=\"sk-label-container\"><div class=\"sk-label sk-toggleable\"><input class=\"sk-toggleable__control sk-hidden--visually\" id=\"sk-estimator-id-9\" type=\"checkbox\" ><label for=\"sk-estimator-id-9\" class=\"sk-toggleable__label sk-toggleable__label-arrow\">estimator: KNeighborsClassifier</label><div class=\"sk-toggleable__content\"><pre>KNeighborsClassifier()</pre></div></div></div><div class=\"sk-serial\"><div class=\"sk-item\"><div class=\"sk-estimator sk-toggleable\"><input class=\"sk-toggleable__control sk-hidden--visually\" id=\"sk-estimator-id-10\" type=\"checkbox\" ><label for=\"sk-estimator-id-10\" class=\"sk-toggleable__label sk-toggleable__label-arrow\">KNeighborsClassifier</label><div class=\"sk-toggleable__content\"><pre>KNeighborsClassifier()</pre></div></div></div></div></div></div></div></div></div></div>"
      ],
      "text/plain": [
       "GridSearchCV(estimator=KNeighborsClassifier(),\n",
       "             param_grid={'leaf_size': [1, 2, 3, 4, 5, 6, 7, 8, 9, 10, 11, 12,\n",
       "                                       13, 14, 15, 16, 17, 18, 19, 20, 21, 22,\n",
       "                                       23, 24, 25, 26, 27, 28, 29],\n",
       "                         'n_neighbors': [1, 2, 3, 4, 5, 6, 7, 8, 9, 10, 11, 12,\n",
       "                                         13, 14, 15, 16, 17, 18, 19, 20, 21, 22,\n",
       "                                         23, 24, 25, 26, 27, 28, 29, 30, ...],\n",
       "                         'p': [1, 2, 3], 'weights': ['uniform', 'distance']},\n",
       "             scoring='accuracy')"
      ]
     },
     "execution_count": 67,
     "metadata": {},
     "output_type": "execute_result"
    }
   ],
   "source": [
    "grid_model.fit(scaled_X_train,y_train)"
   ]
  },
  {
   "cell_type": "code",
   "execution_count": 68,
   "id": "843b58f7",
   "metadata": {},
   "outputs": [
    {
     "data": {
      "text/plain": [
       "{'leaf_size': 1, 'n_neighbors': 22, 'p': 1, 'weights': 'distance'}"
      ]
     },
     "execution_count": 68,
     "metadata": {},
     "output_type": "execute_result"
    }
   ],
   "source": [
    "grid_model.best_params_"
   ]
  },
  {
   "cell_type": "code",
   "execution_count": 69,
   "id": "ab3d2e7d",
   "metadata": {},
   "outputs": [],
   "source": [
    "grid_pred = grid_model.predict(scaled_X_test)"
   ]
  },
  {
   "cell_type": "code",
   "execution_count": 70,
   "id": "be189ace",
   "metadata": {},
   "outputs": [
    {
     "data": {
      "text/plain": [
       "array([[ 76,  20,  88],\n",
       "       [ 43,  24,  92],\n",
       "       [ 54,  23, 234]], dtype=int64)"
      ]
     },
     "execution_count": 70,
     "metadata": {},
     "output_type": "execute_result"
    }
   ],
   "source": [
    "confusion_matrix(y_test,grid_pred)"
   ]
  },
  {
   "cell_type": "code",
   "execution_count": 71,
   "id": "2f5b68a2",
   "metadata": {},
   "outputs": [
    {
     "name": "stdout",
     "output_type": "stream",
     "text": [
      "              precision    recall  f1-score   support\n",
      "\n",
      "           A       0.41      0.53      0.46       184\n",
      "           D       0.25      0.20      0.22       159\n",
      "           H       0.58      0.53      0.55       311\n",
      "\n",
      "    accuracy                           0.45       654\n",
      "   macro avg       0.41      0.42      0.41       654\n",
      "weighted avg       0.45      0.45      0.45       654\n",
      "\n"
     ]
    }
   ],
   "source": [
    "print(classification_report(y_test,first_model_pred))"
   ]
  },
  {
   "cell_type": "markdown",
   "id": "99257ed4",
   "metadata": {},
   "source": [
    "**Best accuracy I could get is 0.45. Actually it didn't improved after GridSearchCV**"
   ]
  },
  {
   "cell_type": "markdown",
   "id": "f2e1f00d",
   "metadata": {},
   "source": [
    "# Serie A"
   ]
  },
  {
   "cell_type": "code",
   "execution_count": 72,
   "id": "d12afbaa",
   "metadata": {},
   "outputs": [],
   "source": [
    "df = pd.read_csv(r\"C:\\Users\\George\\Desktop\\football-match-prediction-using-ml-techniques\\fe\\serie_a.csv\")"
   ]
  },
  {
   "cell_type": "code",
   "execution_count": 73,
   "id": "b1dbfa66",
   "metadata": {},
   "outputs": [],
   "source": [
    "#We assign a unique value at every team of the league\n",
    "team_id = {'Chievo':1, 'Roma':2, 'Atalanta':3, 'Cesena':4, 'Genoa':5, 'Milan':6,\n",
    "           'Palermo':7, 'Sassuolo':8, 'Torino':9, 'Udinese':10, 'Empoli':11, 'Juventus':12,\n",
    "           'Cagliari':13, 'Fiorentina':14, 'Inter':15, 'Lazio':16, 'Napoli':17, 'Parma':18,\n",
    "           'Sampdoria':19, 'Verona':20, 'Frosinone':21, 'Bologna':22, 'Carpi':23, 'Pescara':24,\n",
    "           'Crotone':25, 'Benevento':26, 'Spal':27, 'Lecce':28, 'Brescia':29}\n",
    "\n",
    "for key,value in df.iteritems():\n",
    "    df['HomeTeam'] = df['HomeTeam'].apply(lambda x: team_id.get(x,x))\n",
    "    \n",
    "for key,value in df.iteritems():\n",
    "    df['AwayTeam'] = df['AwayTeam'].apply(lambda x: team_id.get(x,x))"
   ]
  },
  {
   "cell_type": "code",
   "execution_count": 74,
   "id": "6c4303bb",
   "metadata": {},
   "outputs": [],
   "source": [
    "#We are dropping the starts that are not available to us before the game \n",
    "df = df.drop(['Unnamed: 0', 'Date','FTHG', 'FTAG', 'HTHG','HTAG','league', 'Hppda_coef', 'Appda_coef','HTW', 'HTD','season',\n",
    "              'HTCR', 'ATCR','HTGS','HTxpts', 'ATxpts','ATGS', 'HTGC', 'ATGC','HTOVA_S', 'HTatt_S', 'HomeTeamPoints', 'AwayTeamPoints',\n",
    "              'HTmid_S','HTdef_S', 'ATOVA_S', 'ATatt_S','ATmid_S','ATdef_S','l5_ravg_HTgs', 'l5_ravg_ATgs',\n",
    "              'HTL', 'ATL', 'ATD', 'ATW','l5_ravg_HTgc', 'l5_ravg_ATgc','round'],axis=1)\n",
    "\n",
    "df = df.dropna()"
   ]
  },
  {
   "cell_type": "code",
   "execution_count": 75,
   "id": "6b593f29",
   "metadata": {},
   "outputs": [],
   "source": [
    "X = df[['AVGH', 'AVGD', 'AVGA', 'l5_ravg_ATCR', 'avgHTP', 'avgATP']]\n",
    "y = df['FTR']"
   ]
  },
  {
   "cell_type": "code",
   "execution_count": 76,
   "id": "784e9f37",
   "metadata": {},
   "outputs": [],
   "source": [
    "X_train, X_test, y_train, y_test = train_test_split(X, y, test_size=0.33, random_state=101)"
   ]
  },
  {
   "cell_type": "code",
   "execution_count": 77,
   "id": "8fb64b53",
   "metadata": {},
   "outputs": [],
   "source": [
    "scaler = MinMaxScaler()\n",
    "\n",
    "scaled_X_train = scaler.fit_transform(X_train)\n",
    "scaled_X_test = scaler.transform(X_test)"
   ]
  },
  {
   "cell_type": "code",
   "execution_count": 78,
   "id": "9e162629",
   "metadata": {},
   "outputs": [],
   "source": [
    "first_model = KNeighborsClassifier()\n",
    "\n",
    "first_model.fit(scaled_X_train,y_train)\n",
    "first_model_pred = first_model.predict(scaled_X_test)"
   ]
  },
  {
   "cell_type": "code",
   "execution_count": 79,
   "id": "e524be3a",
   "metadata": {},
   "outputs": [
    {
     "data": {
      "text/plain": [
       "array([[123,  30,  44],\n",
       "       [ 73,  33,  70],\n",
       "       [ 66,  55, 159]], dtype=int64)"
      ]
     },
     "execution_count": 79,
     "metadata": {},
     "output_type": "execute_result"
    }
   ],
   "source": [
    "confusion_matrix(y_test,first_model_pred)"
   ]
  },
  {
   "cell_type": "code",
   "execution_count": 80,
   "id": "39d39bf4",
   "metadata": {},
   "outputs": [
    {
     "name": "stdout",
     "output_type": "stream",
     "text": [
      "              precision    recall  f1-score   support\n",
      "\n",
      "           A       0.47      0.62      0.54       197\n",
      "           D       0.28      0.19      0.22       176\n",
      "           H       0.58      0.57      0.58       280\n",
      "\n",
      "    accuracy                           0.48       653\n",
      "   macro avg       0.44      0.46      0.45       653\n",
      "weighted avg       0.47      0.48      0.47       653\n",
      "\n"
     ]
    }
   ],
   "source": [
    "print(classification_report(y_test,first_model_pred))"
   ]
  },
  {
   "cell_type": "code",
   "execution_count": 81,
   "id": "42fe5ab9",
   "metadata": {},
   "outputs": [],
   "source": [
    "leaf_size = list(range(1,30))\n",
    "n_neighbors = list(range(1,40))\n",
    "p=[1,2,3]\n",
    "weights = ['uniform','distance']"
   ]
  },
  {
   "cell_type": "code",
   "execution_count": 82,
   "id": "4cc216ab",
   "metadata": {},
   "outputs": [],
   "source": [
    "grid_param = {'leaf_size':leaf_size,\n",
    "              'n_neighbors':n_neighbors,\n",
    "              'p': p,\n",
    "              'weights': weights}"
   ]
  },
  {
   "cell_type": "code",
   "execution_count": 83,
   "id": "310697c9",
   "metadata": {},
   "outputs": [],
   "source": [
    "grid_model = GridSearchCV(first_model,param_grid=grid_param,scoring='accuracy')"
   ]
  },
  {
   "cell_type": "code",
   "execution_count": 84,
   "id": "05e574ba",
   "metadata": {},
   "outputs": [
    {
     "data": {
      "text/html": [
       "<style>#sk-container-id-5 {color: black;background-color: white;}#sk-container-id-5 pre{padding: 0;}#sk-container-id-5 div.sk-toggleable {background-color: white;}#sk-container-id-5 label.sk-toggleable__label {cursor: pointer;display: block;width: 100%;margin-bottom: 0;padding: 0.3em;box-sizing: border-box;text-align: center;}#sk-container-id-5 label.sk-toggleable__label-arrow:before {content: \"▸\";float: left;margin-right: 0.25em;color: #696969;}#sk-container-id-5 label.sk-toggleable__label-arrow:hover:before {color: black;}#sk-container-id-5 div.sk-estimator:hover label.sk-toggleable__label-arrow:before {color: black;}#sk-container-id-5 div.sk-toggleable__content {max-height: 0;max-width: 0;overflow: hidden;text-align: left;background-color: #f0f8ff;}#sk-container-id-5 div.sk-toggleable__content pre {margin: 0.2em;color: black;border-radius: 0.25em;background-color: #f0f8ff;}#sk-container-id-5 input.sk-toggleable__control:checked~div.sk-toggleable__content {max-height: 200px;max-width: 100%;overflow: auto;}#sk-container-id-5 input.sk-toggleable__control:checked~label.sk-toggleable__label-arrow:before {content: \"▾\";}#sk-container-id-5 div.sk-estimator input.sk-toggleable__control:checked~label.sk-toggleable__label {background-color: #d4ebff;}#sk-container-id-5 div.sk-label input.sk-toggleable__control:checked~label.sk-toggleable__label {background-color: #d4ebff;}#sk-container-id-5 input.sk-hidden--visually {border: 0;clip: rect(1px 1px 1px 1px);clip: rect(1px, 1px, 1px, 1px);height: 1px;margin: -1px;overflow: hidden;padding: 0;position: absolute;width: 1px;}#sk-container-id-5 div.sk-estimator {font-family: monospace;background-color: #f0f8ff;border: 1px dotted black;border-radius: 0.25em;box-sizing: border-box;margin-bottom: 0.5em;}#sk-container-id-5 div.sk-estimator:hover {background-color: #d4ebff;}#sk-container-id-5 div.sk-parallel-item::after {content: \"\";width: 100%;border-bottom: 1px solid gray;flex-grow: 1;}#sk-container-id-5 div.sk-label:hover label.sk-toggleable__label {background-color: #d4ebff;}#sk-container-id-5 div.sk-serial::before {content: \"\";position: absolute;border-left: 1px solid gray;box-sizing: border-box;top: 0;bottom: 0;left: 50%;z-index: 0;}#sk-container-id-5 div.sk-serial {display: flex;flex-direction: column;align-items: center;background-color: white;padding-right: 0.2em;padding-left: 0.2em;position: relative;}#sk-container-id-5 div.sk-item {position: relative;z-index: 1;}#sk-container-id-5 div.sk-parallel {display: flex;align-items: stretch;justify-content: center;background-color: white;position: relative;}#sk-container-id-5 div.sk-item::before, #sk-container-id-5 div.sk-parallel-item::before {content: \"\";position: absolute;border-left: 1px solid gray;box-sizing: border-box;top: 0;bottom: 0;left: 50%;z-index: -1;}#sk-container-id-5 div.sk-parallel-item {display: flex;flex-direction: column;z-index: 1;position: relative;background-color: white;}#sk-container-id-5 div.sk-parallel-item:first-child::after {align-self: flex-end;width: 50%;}#sk-container-id-5 div.sk-parallel-item:last-child::after {align-self: flex-start;width: 50%;}#sk-container-id-5 div.sk-parallel-item:only-child::after {width: 0;}#sk-container-id-5 div.sk-dashed-wrapped {border: 1px dashed gray;margin: 0 0.4em 0.5em 0.4em;box-sizing: border-box;padding-bottom: 0.4em;background-color: white;}#sk-container-id-5 div.sk-label label {font-family: monospace;font-weight: bold;display: inline-block;line-height: 1.2em;}#sk-container-id-5 div.sk-label-container {text-align: center;}#sk-container-id-5 div.sk-container {/* jupyter's `normalize.less` sets `[hidden] { display: none; }` but bootstrap.min.css set `[hidden] { display: none !important; }` so we also need the `!important` here to be able to override the default hidden behavior on the sphinx rendered scikit-learn.org. See: https://github.com/scikit-learn/scikit-learn/issues/21755 */display: inline-block !important;position: relative;}#sk-container-id-5 div.sk-text-repr-fallback {display: none;}</style><div id=\"sk-container-id-5\" class=\"sk-top-container\"><div class=\"sk-text-repr-fallback\"><pre>GridSearchCV(estimator=KNeighborsClassifier(),\n",
       "             param_grid={&#x27;leaf_size&#x27;: [1, 2, 3, 4, 5, 6, 7, 8, 9, 10, 11, 12,\n",
       "                                       13, 14, 15, 16, 17, 18, 19, 20, 21, 22,\n",
       "                                       23, 24, 25, 26, 27, 28, 29],\n",
       "                         &#x27;n_neighbors&#x27;: [1, 2, 3, 4, 5, 6, 7, 8, 9, 10, 11, 12,\n",
       "                                         13, 14, 15, 16, 17, 18, 19, 20, 21, 22,\n",
       "                                         23, 24, 25, 26, 27, 28, 29, 30, ...],\n",
       "                         &#x27;p&#x27;: [1, 2, 3], &#x27;weights&#x27;: [&#x27;uniform&#x27;, &#x27;distance&#x27;]},\n",
       "             scoring=&#x27;accuracy&#x27;)</pre><b>In a Jupyter environment, please rerun this cell to show the HTML representation or trust the notebook. <br />On GitHub, the HTML representation is unable to render, please try loading this page with nbviewer.org.</b></div><div class=\"sk-container\" hidden><div class=\"sk-item sk-dashed-wrapped\"><div class=\"sk-label-container\"><div class=\"sk-label sk-toggleable\"><input class=\"sk-toggleable__control sk-hidden--visually\" id=\"sk-estimator-id-11\" type=\"checkbox\" ><label for=\"sk-estimator-id-11\" class=\"sk-toggleable__label sk-toggleable__label-arrow\">GridSearchCV</label><div class=\"sk-toggleable__content\"><pre>GridSearchCV(estimator=KNeighborsClassifier(),\n",
       "             param_grid={&#x27;leaf_size&#x27;: [1, 2, 3, 4, 5, 6, 7, 8, 9, 10, 11, 12,\n",
       "                                       13, 14, 15, 16, 17, 18, 19, 20, 21, 22,\n",
       "                                       23, 24, 25, 26, 27, 28, 29],\n",
       "                         &#x27;n_neighbors&#x27;: [1, 2, 3, 4, 5, 6, 7, 8, 9, 10, 11, 12,\n",
       "                                         13, 14, 15, 16, 17, 18, 19, 20, 21, 22,\n",
       "                                         23, 24, 25, 26, 27, 28, 29, 30, ...],\n",
       "                         &#x27;p&#x27;: [1, 2, 3], &#x27;weights&#x27;: [&#x27;uniform&#x27;, &#x27;distance&#x27;]},\n",
       "             scoring=&#x27;accuracy&#x27;)</pre></div></div></div><div class=\"sk-parallel\"><div class=\"sk-parallel-item\"><div class=\"sk-item\"><div class=\"sk-label-container\"><div class=\"sk-label sk-toggleable\"><input class=\"sk-toggleable__control sk-hidden--visually\" id=\"sk-estimator-id-12\" type=\"checkbox\" ><label for=\"sk-estimator-id-12\" class=\"sk-toggleable__label sk-toggleable__label-arrow\">estimator: KNeighborsClassifier</label><div class=\"sk-toggleable__content\"><pre>KNeighborsClassifier()</pre></div></div></div><div class=\"sk-serial\"><div class=\"sk-item\"><div class=\"sk-estimator sk-toggleable\"><input class=\"sk-toggleable__control sk-hidden--visually\" id=\"sk-estimator-id-13\" type=\"checkbox\" ><label for=\"sk-estimator-id-13\" class=\"sk-toggleable__label sk-toggleable__label-arrow\">KNeighborsClassifier</label><div class=\"sk-toggleable__content\"><pre>KNeighborsClassifier()</pre></div></div></div></div></div></div></div></div></div></div>"
      ],
      "text/plain": [
       "GridSearchCV(estimator=KNeighborsClassifier(),\n",
       "             param_grid={'leaf_size': [1, 2, 3, 4, 5, 6, 7, 8, 9, 10, 11, 12,\n",
       "                                       13, 14, 15, 16, 17, 18, 19, 20, 21, 22,\n",
       "                                       23, 24, 25, 26, 27, 28, 29],\n",
       "                         'n_neighbors': [1, 2, 3, 4, 5, 6, 7, 8, 9, 10, 11, 12,\n",
       "                                         13, 14, 15, 16, 17, 18, 19, 20, 21, 22,\n",
       "                                         23, 24, 25, 26, 27, 28, 29, 30, ...],\n",
       "                         'p': [1, 2, 3], 'weights': ['uniform', 'distance']},\n",
       "             scoring='accuracy')"
      ]
     },
     "execution_count": 84,
     "metadata": {},
     "output_type": "execute_result"
    }
   ],
   "source": [
    "grid_model.fit(scaled_X_train,y_train)"
   ]
  },
  {
   "cell_type": "code",
   "execution_count": 85,
   "id": "911c30ce",
   "metadata": {},
   "outputs": [
    {
     "data": {
      "text/plain": [
       "{'leaf_size': 1, 'n_neighbors': 37, 'p': 2, 'weights': 'distance'}"
      ]
     },
     "execution_count": 85,
     "metadata": {},
     "output_type": "execute_result"
    }
   ],
   "source": [
    "grid_model.best_params_"
   ]
  },
  {
   "cell_type": "code",
   "execution_count": 86,
   "id": "4e9061a5",
   "metadata": {},
   "outputs": [],
   "source": [
    "grid_pred = grid_model.predict(scaled_X_test)"
   ]
  },
  {
   "cell_type": "code",
   "execution_count": 87,
   "id": "13912ac3",
   "metadata": {},
   "outputs": [
    {
     "data": {
      "text/plain": [
       "array([[115,  19,  63],\n",
       "       [ 57,  14, 105],\n",
       "       [ 43,  25, 212]], dtype=int64)"
      ]
     },
     "execution_count": 87,
     "metadata": {},
     "output_type": "execute_result"
    }
   ],
   "source": [
    "confusion_matrix(y_test,grid_pred)"
   ]
  },
  {
   "cell_type": "code",
   "execution_count": 88,
   "id": "a836538b",
   "metadata": {},
   "outputs": [
    {
     "name": "stdout",
     "output_type": "stream",
     "text": [
      "              precision    recall  f1-score   support\n",
      "\n",
      "           A       0.53      0.58      0.56       197\n",
      "           D       0.24      0.08      0.12       176\n",
      "           H       0.56      0.76      0.64       280\n",
      "\n",
      "    accuracy                           0.52       653\n",
      "   macro avg       0.44      0.47      0.44       653\n",
      "weighted avg       0.47      0.52      0.48       653\n",
      "\n"
     ]
    }
   ],
   "source": [
    "print(classification_report(y_test,grid_pred))"
   ]
  },
  {
   "cell_type": "markdown",
   "id": "3cd6c41e",
   "metadata": {},
   "source": [
    "**KNN actually worked really well for Seria A. It gave accuracy score of 0.52 and it also guessed right 30 draws.***\n",
    "\n",
    "Features: **All**."
   ]
  },
  {
   "cell_type": "markdown",
   "id": "e25b3e90",
   "metadata": {},
   "source": [
    "# Scenario 2"
   ]
  },
  {
   "cell_type": "markdown",
   "id": "e3cb9031",
   "metadata": {},
   "source": [
    "**Premier League**"
   ]
  },
  {
   "cell_type": "code",
   "execution_count": 12,
   "id": "e993258c",
   "metadata": {},
   "outputs": [],
   "source": [
    "df = pd.read_csv(r\"C:\\Users\\George\\Desktop\\football-match-prediction-using-ml-techniques\\fe\\premier_league.csv\")"
   ]
  },
  {
   "cell_type": "code",
   "execution_count": 13,
   "id": "cc3d9868",
   "metadata": {},
   "outputs": [],
   "source": [
    "#We assign a unique value at every team of the league\n",
    "team_id = {'Arsenal':1, 'Leicester':2, 'Man United':3, 'QPR':4, 'Stoke':5, 'West Brom':6,\n",
    "           'West Ham':7, 'Liverpool':8, 'Newcastle':9, 'Burnley':10, 'Aston Villa':11,\n",
    "           'Chelsea':12, 'Crystal Palace':13, 'Everton':14, 'Southampton':15, 'Swansea':16,\n",
    "           'Hull':17, 'Sunderland':18, 'Tottenham':19, 'Man City':20, 'Bournemouth':21,\n",
    "           'Norwich':22, 'Watford':23, 'Middlesbrough':24, 'Brighton':25, 'Huddersfield':26,\n",
    "           'Fulham':27, 'Wolves':28, 'Cardiff':29, 'Sheffield United':30}\n",
    "\n",
    "for key,value in df.iteritems():\n",
    "    df['HomeTeam'] = df['HomeTeam'].apply(lambda x: team_id.get(x,x))\n",
    "    \n",
    "for key,value in df.iteritems():\n",
    "    df['AwayTeam'] = df['AwayTeam'].apply(lambda x: team_id.get(x,x))"
   ]
  },
  {
   "cell_type": "code",
   "execution_count": 14,
   "id": "4d51d88d",
   "metadata": {},
   "outputs": [],
   "source": [
    "#We are dropping the starts that are not available to us before the game \n",
    "df = df.drop(['Unnamed: 0', 'Date','FTHG', 'FTAG', 'HTHG','HTAG','league', 'Hppda_coef', 'Appda_coef','HTW', 'HTD',\n",
    "              'HTCR', 'ATCR','HTGS','HTxpts', 'ATxpts','ATGS', 'HTGC', 'ATGC','HTOVA_S', 'HTatt_S', 'HomeTeamPoints','AwayTeamPoints',\n",
    "              'HTmid_S','HTdef_S', 'ATOVA_S', 'ATatt_S','ATmid_S','ATdef_S','l5_ravg_HTgs', 'l5_ravg_ATgs','l5_ravg_HTgc', 'l5_ravg_ATgc',\n",
    "              'HTL', 'ATL', 'ATD', 'ATW'],axis=1)\n",
    "\n",
    "df = df.dropna()"
   ]
  },
  {
   "cell_type": "code",
   "execution_count": 15,
   "id": "4c802c01",
   "metadata": {},
   "outputs": [],
   "source": [
    "s1415 = df[df['season']=='2014/2015'].drop('season',axis=1)\n",
    "s1516 = df[df['season']=='2015/2016'].drop('season',axis=1)\n",
    "s1617 = df[df['season']=='2016/2017'].drop('season',axis=1)\n",
    "s1718 = df[df['season']=='2017/2018'].drop('season',axis=1)\n",
    "s1819 = df[df['season']=='2018/2019'].drop('season',axis=1)\n",
    "s1920 = df[df['season']=='2019/2020'].drop('season',axis=1)"
   ]
  },
  {
   "cell_type": "markdown",
   "id": "e1b397ec",
   "metadata": {},
   "source": [
    "**Season 14/15**"
   ]
  },
  {
   "cell_type": "code",
   "execution_count": 16,
   "id": "94f6f5a7",
   "metadata": {},
   "outputs": [],
   "source": [
    "X = s1415.drop('FTR',axis=1)\n",
    "y = s1415[['FTR','round']]\n",
    "\n",
    "X_train = X[X['round']==1].drop('round',axis=1)\n",
    "X_test = X[X['round']==2].drop('round',axis=1)\n",
    "\n",
    "y_train = y[y['round']==1].drop('round',axis=1)\n",
    "y_test = y[y['round']==2].drop('round',axis=1)\n",
    "\n",
    "scaled_X_train = scaler.fit_transform(X_train)\n",
    "scaled_X_test = scaler.transform(X_test)"
   ]
  },
  {
   "cell_type": "code",
   "execution_count": 17,
   "id": "1752c71c",
   "metadata": {},
   "outputs": [],
   "source": [
    "first_model.fit(scaled_X_train,y_train.values.ravel())\n",
    "base_pred =first_model.predict(scaled_X_test)"
   ]
  },
  {
   "cell_type": "code",
   "execution_count": 18,
   "id": "e867d480",
   "metadata": {},
   "outputs": [
    {
     "data": {
      "text/plain": [
       "array([[35,  8, 16],\n",
       "       [12,  8, 21],\n",
       "       [29, 10, 51]], dtype=int64)"
      ]
     },
     "execution_count": 18,
     "metadata": {},
     "output_type": "execute_result"
    }
   ],
   "source": [
    "confusion_matrix(y_test,base_pred)"
   ]
  },
  {
   "cell_type": "code",
   "execution_count": 19,
   "id": "cf753526",
   "metadata": {},
   "outputs": [
    {
     "name": "stdout",
     "output_type": "stream",
     "text": [
      "              precision    recall  f1-score   support\n",
      "\n",
      "           A       0.46      0.59      0.52        59\n",
      "           D       0.31      0.20      0.24        41\n",
      "           H       0.58      0.57      0.57        90\n",
      "\n",
      "    accuracy                           0.49       190\n",
      "   macro avg       0.45      0.45      0.44       190\n",
      "weighted avg       0.48      0.49      0.48       190\n",
      "\n"
     ]
    }
   ],
   "source": [
    "print(classification_report(y_test,base_pred))"
   ]
  },
  {
   "cell_type": "markdown",
   "id": "b9f357bc",
   "metadata": {},
   "source": [
    "We are going to implement GridSearchCV, since we can't perform RFE at KNN."
   ]
  },
  {
   "cell_type": "code",
   "execution_count": 20,
   "id": "cf9c9507",
   "metadata": {},
   "outputs": [],
   "source": [
    "leaf_size = list(range(1,30))\n",
    "n_neighbors = list(range(1,40))\n",
    "p=[1,2,3]\n",
    "weights = ['uniform','distance']\n",
    "\n",
    "grid_param = {'leaf_size':leaf_size,\n",
    "              'n_neighbors':n_neighbors,\n",
    "              'p': p,\n",
    "              'weights': weights}"
   ]
  },
  {
   "cell_type": "code",
   "execution_count": 22,
   "id": "7d3eca6c",
   "metadata": {},
   "outputs": [],
   "source": [
    "grid_model = GridSearchCV(first_model,param_grid=grid_param,scoring='accuracy')\n",
    "\n",
    "grid_model.fit(scaled_X_train,y_train.values.ravel())\n",
    "grid_pred = grid_model.predict(scaled_X_test)"
   ]
  },
  {
   "cell_type": "code",
   "execution_count": 23,
   "id": "2a103606",
   "metadata": {},
   "outputs": [
    {
     "data": {
      "text/plain": [
       "{'leaf_size': 1, 'n_neighbors': 34, 'p': 1, 'weights': 'uniform'}"
      ]
     },
     "execution_count": 23,
     "metadata": {},
     "output_type": "execute_result"
    }
   ],
   "source": [
    "grid_model.best_params_"
   ]
  },
  {
   "cell_type": "code",
   "execution_count": 24,
   "id": "0a35ed91",
   "metadata": {},
   "outputs": [
    {
     "data": {
      "text/plain": [
       "array([[32,  0, 27],\n",
       "       [ 9,  0, 32],\n",
       "       [18,  0, 72]], dtype=int64)"
      ]
     },
     "execution_count": 24,
     "metadata": {},
     "output_type": "execute_result"
    }
   ],
   "source": [
    "confusion_matrix(y_test,grid_pred)"
   ]
  },
  {
   "cell_type": "code",
   "execution_count": 25,
   "id": "e88cd771",
   "metadata": {},
   "outputs": [
    {
     "name": "stdout",
     "output_type": "stream",
     "text": [
      "              precision    recall  f1-score   support\n",
      "\n",
      "           A       0.54      0.54      0.54        59\n",
      "           D       0.00      0.00      0.00        41\n",
      "           H       0.55      0.80      0.65        90\n",
      "\n",
      "    accuracy                           0.55       190\n",
      "   macro avg       0.36      0.45      0.40       190\n",
      "weighted avg       0.43      0.55      0.48       190\n",
      "\n"
     ]
    },
    {
     "name": "stderr",
     "output_type": "stream",
     "text": [
      "C:\\Users\\George\\anaconda3\\envs\\tf\\lib\\site-packages\\sklearn\\metrics\\_classification.py:1327: UndefinedMetricWarning: Precision and F-score are ill-defined and being set to 0.0 in labels with no predicted samples. Use `zero_division` parameter to control this behavior.\n",
      "  _warn_prf(average, modifier, msg_start, len(result))\n",
      "C:\\Users\\George\\anaconda3\\envs\\tf\\lib\\site-packages\\sklearn\\metrics\\_classification.py:1327: UndefinedMetricWarning: Precision and F-score are ill-defined and being set to 0.0 in labels with no predicted samples. Use `zero_division` parameter to control this behavior.\n",
      "  _warn_prf(average, modifier, msg_start, len(result))\n",
      "C:\\Users\\George\\anaconda3\\envs\\tf\\lib\\site-packages\\sklearn\\metrics\\_classification.py:1327: UndefinedMetricWarning: Precision and F-score are ill-defined and being set to 0.0 in labels with no predicted samples. Use `zero_division` parameter to control this behavior.\n",
      "  _warn_prf(average, modifier, msg_start, len(result))\n"
     ]
    }
   ],
   "source": [
    "print(classification_report(y_test,grid_pred))"
   ]
  },
  {
   "cell_type": "code",
   "execution_count": null,
   "id": "5a661108",
   "metadata": {},
   "outputs": [],
   "source": []
  },
  {
   "cell_type": "markdown",
   "id": "f6f79465",
   "metadata": {},
   "source": [
    "**Season 15/16**"
   ]
  },
  {
   "cell_type": "code",
   "execution_count": 26,
   "id": "c09bf26c",
   "metadata": {},
   "outputs": [],
   "source": [
    "X = s1516.drop('FTR',axis=1)\n",
    "y = s1516[['FTR','round']]\n",
    "\n",
    "X_train = X[X['round']==1].drop('round',axis=1)\n",
    "X_test = X[X['round']==2].drop('round',axis=1)\n",
    "\n",
    "y_train = y[y['round']==1].drop('round',axis=1)\n",
    "y_test = y[y['round']==2].drop('round',axis=1)\n",
    "\n",
    "scaled_X_train = scaler.fit_transform(X_train)\n",
    "scaled_X_test = scaler.transform(X_test)"
   ]
  },
  {
   "cell_type": "code",
   "execution_count": 27,
   "id": "5e8366dd",
   "metadata": {},
   "outputs": [],
   "source": [
    "first_model.fit(scaled_X_train,y_train.values.ravel())\n",
    "base_pred =first_model.predict(scaled_X_test)"
   ]
  },
  {
   "cell_type": "code",
   "execution_count": 28,
   "id": "32e711c6",
   "metadata": {},
   "outputs": [
    {
     "data": {
      "text/plain": [
       "array([[24,  9, 20],\n",
       "       [21, 10, 22],\n",
       "       [26, 20, 38]], dtype=int64)"
      ]
     },
     "execution_count": 28,
     "metadata": {},
     "output_type": "execute_result"
    }
   ],
   "source": [
    "confusion_matrix(y_test,base_pred)"
   ]
  },
  {
   "cell_type": "code",
   "execution_count": 29,
   "id": "8c689a9c",
   "metadata": {},
   "outputs": [
    {
     "name": "stdout",
     "output_type": "stream",
     "text": [
      "              precision    recall  f1-score   support\n",
      "\n",
      "           A       0.34      0.45      0.39        53\n",
      "           D       0.26      0.19      0.22        53\n",
      "           H       0.47      0.45      0.46        84\n",
      "\n",
      "    accuracy                           0.38       190\n",
      "   macro avg       0.36      0.36      0.36       190\n",
      "weighted avg       0.38      0.38      0.37       190\n",
      "\n"
     ]
    }
   ],
   "source": [
    "print(classification_report(y_test,base_pred))"
   ]
  },
  {
   "cell_type": "code",
   "execution_count": 30,
   "id": "4e116495",
   "metadata": {},
   "outputs": [],
   "source": [
    "leaf_size = list(range(1,30))\n",
    "n_neighbors = list(range(1,40))\n",
    "p=[1,2,3]\n",
    "weights = ['uniform','distance']\n",
    "\n",
    "grid_param = {'leaf_size':leaf_size,\n",
    "              'n_neighbors':n_neighbors,\n",
    "              'p': p,\n",
    "              'weights': weights}"
   ]
  },
  {
   "cell_type": "code",
   "execution_count": 31,
   "id": "1d8464dd",
   "metadata": {},
   "outputs": [],
   "source": [
    "grid_model = GridSearchCV(first_model,param_grid=grid_param,scoring='accuracy')\n",
    "\n",
    "grid_model.fit(scaled_X_train,y_train.values.ravel())\n",
    "grid_pred = grid_model.predict(scaled_X_test)"
   ]
  },
  {
   "cell_type": "code",
   "execution_count": 32,
   "id": "34376a35",
   "metadata": {},
   "outputs": [
    {
     "data": {
      "text/plain": [
       "{'leaf_size': 1, 'n_neighbors': 20, 'p': 3, 'weights': 'uniform'}"
      ]
     },
     "execution_count": 32,
     "metadata": {},
     "output_type": "execute_result"
    }
   ],
   "source": [
    "grid_model.best_params_"
   ]
  },
  {
   "cell_type": "code",
   "execution_count": 33,
   "id": "a1466672",
   "metadata": {},
   "outputs": [
    {
     "data": {
      "text/plain": [
       "array([[21,  6, 26],\n",
       "       [10,  5, 38],\n",
       "       [ 9,  8, 67]], dtype=int64)"
      ]
     },
     "execution_count": 33,
     "metadata": {},
     "output_type": "execute_result"
    }
   ],
   "source": [
    "confusion_matrix(y_test,grid_pred)"
   ]
  },
  {
   "cell_type": "code",
   "execution_count": 34,
   "id": "3f3ee901",
   "metadata": {},
   "outputs": [
    {
     "name": "stdout",
     "output_type": "stream",
     "text": [
      "              precision    recall  f1-score   support\n",
      "\n",
      "           A       0.53      0.40      0.45        53\n",
      "           D       0.26      0.09      0.14        53\n",
      "           H       0.51      0.80      0.62        84\n",
      "\n",
      "    accuracy                           0.49       190\n",
      "   macro avg       0.43      0.43      0.40       190\n",
      "weighted avg       0.45      0.49      0.44       190\n",
      "\n"
     ]
    }
   ],
   "source": [
    "print(classification_report(y_test,grid_pred))"
   ]
  },
  {
   "cell_type": "markdown",
   "id": "ce3aea91",
   "metadata": {},
   "source": [
    "Best accuracy we could get after GridSearchCV is 0,49.\n",
    "\n",
    "Hyperparameters:\n",
    "- 'leaf_size': 1 \n",
    "- 'n_neighbors': 20 \n",
    "- 'p': 3 \n",
    "- 'weights': 'uniform'"
   ]
  },
  {
   "cell_type": "markdown",
   "id": "c95632d2",
   "metadata": {},
   "source": [
    "**Season 16/17**"
   ]
  },
  {
   "cell_type": "code",
   "execution_count": 35,
   "id": "33e9e656",
   "metadata": {},
   "outputs": [],
   "source": [
    "X = s1617.drop('FTR',axis=1)\n",
    "y = s1617[['FTR','round']]\n",
    "\n",
    "X_train = X[X['round']==1].drop('round',axis=1)\n",
    "X_test = X[X['round']==2].drop('round',axis=1)\n",
    "\n",
    "y_train = y[y['round']==1].drop('round',axis=1)\n",
    "y_test = y[y['round']==2].drop('round',axis=1)\n",
    "\n",
    "scaled_X_train = scaler.fit_transform(X_train)\n",
    "scaled_X_test = scaler.transform(X_test)"
   ]
  },
  {
   "cell_type": "code",
   "execution_count": 36,
   "id": "9ba11a8f",
   "metadata": {},
   "outputs": [],
   "source": [
    "first_model.fit(scaled_X_train,y_train.values.ravel())\n",
    "base_pred =first_model.predict(scaled_X_test)"
   ]
  },
  {
   "cell_type": "code",
   "execution_count": 37,
   "id": "d8cc4e95",
   "metadata": {},
   "outputs": [
    {
     "data": {
      "text/plain": [
       "array([[44,  0,  9],\n",
       "       [28,  0, 14],\n",
       "       [35,  0, 60]], dtype=int64)"
      ]
     },
     "execution_count": 37,
     "metadata": {},
     "output_type": "execute_result"
    }
   ],
   "source": [
    "confusion_matrix(y_test,base_pred)"
   ]
  },
  {
   "cell_type": "code",
   "execution_count": 38,
   "id": "e3556c9e",
   "metadata": {},
   "outputs": [
    {
     "name": "stdout",
     "output_type": "stream",
     "text": [
      "              precision    recall  f1-score   support\n",
      "\n",
      "           A       0.41      0.83      0.55        53\n",
      "           D       0.00      0.00      0.00        42\n",
      "           H       0.72      0.63      0.67        95\n",
      "\n",
      "    accuracy                           0.55       190\n",
      "   macro avg       0.38      0.49      0.41       190\n",
      "weighted avg       0.48      0.55      0.49       190\n",
      "\n"
     ]
    },
    {
     "name": "stderr",
     "output_type": "stream",
     "text": [
      "C:\\Users\\George\\anaconda3\\envs\\tf\\lib\\site-packages\\sklearn\\metrics\\_classification.py:1327: UndefinedMetricWarning: Precision and F-score are ill-defined and being set to 0.0 in labels with no predicted samples. Use `zero_division` parameter to control this behavior.\n",
      "  _warn_prf(average, modifier, msg_start, len(result))\n",
      "C:\\Users\\George\\anaconda3\\envs\\tf\\lib\\site-packages\\sklearn\\metrics\\_classification.py:1327: UndefinedMetricWarning: Precision and F-score are ill-defined and being set to 0.0 in labels with no predicted samples. Use `zero_division` parameter to control this behavior.\n",
      "  _warn_prf(average, modifier, msg_start, len(result))\n",
      "C:\\Users\\George\\anaconda3\\envs\\tf\\lib\\site-packages\\sklearn\\metrics\\_classification.py:1327: UndefinedMetricWarning: Precision and F-score are ill-defined and being set to 0.0 in labels with no predicted samples. Use `zero_division` parameter to control this behavior.\n",
      "  _warn_prf(average, modifier, msg_start, len(result))\n"
     ]
    }
   ],
   "source": [
    "print(classification_report(y_test,base_pred))"
   ]
  },
  {
   "cell_type": "code",
   "execution_count": 39,
   "id": "2c09cba6",
   "metadata": {},
   "outputs": [],
   "source": [
    "leaf_size = list(range(1,30))\n",
    "n_neighbors = list(range(1,40))\n",
    "p=[1,2,3]\n",
    "weights = ['uniform','distance']\n",
    "\n",
    "grid_param = {'leaf_size':leaf_size,\n",
    "              'n_neighbors':n_neighbors,\n",
    "              'p': p,\n",
    "              'weights': weights}"
   ]
  },
  {
   "cell_type": "code",
   "execution_count": 40,
   "id": "72d3e443",
   "metadata": {},
   "outputs": [],
   "source": [
    "grid_model = GridSearchCV(first_model,param_grid=grid_param,scoring='accuracy')\n",
    "\n",
    "grid_model.fit(scaled_X_train,y_train.values.ravel())\n",
    "grid_pred = grid_model.predict(scaled_X_test)"
   ]
  },
  {
   "cell_type": "code",
   "execution_count": 43,
   "id": "40b5e2fd",
   "metadata": {},
   "outputs": [
    {
     "data": {
      "text/plain": [
       "{'leaf_size': 1, 'n_neighbors': 39, 'p': 1, 'weights': 'uniform'}"
      ]
     },
     "execution_count": 43,
     "metadata": {},
     "output_type": "execute_result"
    }
   ],
   "source": [
    "grid_model.best_params_"
   ]
  },
  {
   "cell_type": "code",
   "execution_count": 41,
   "id": "8177efe2",
   "metadata": {},
   "outputs": [
    {
     "data": {
      "text/plain": [
       "array([[29,  0, 24],\n",
       "       [11,  0, 31],\n",
       "       [ 8,  0, 87]], dtype=int64)"
      ]
     },
     "execution_count": 41,
     "metadata": {},
     "output_type": "execute_result"
    }
   ],
   "source": [
    "confusion_matrix(y_test,grid_pred)"
   ]
  },
  {
   "cell_type": "code",
   "execution_count": 42,
   "id": "67ad2fba",
   "metadata": {},
   "outputs": [
    {
     "name": "stdout",
     "output_type": "stream",
     "text": [
      "              precision    recall  f1-score   support\n",
      "\n",
      "           A       0.60      0.55      0.57        53\n",
      "           D       0.00      0.00      0.00        42\n",
      "           H       0.61      0.92      0.73        95\n",
      "\n",
      "    accuracy                           0.61       190\n",
      "   macro avg       0.41      0.49      0.44       190\n",
      "weighted avg       0.47      0.61      0.53       190\n",
      "\n"
     ]
    },
    {
     "name": "stderr",
     "output_type": "stream",
     "text": [
      "C:\\Users\\George\\anaconda3\\envs\\tf\\lib\\site-packages\\sklearn\\metrics\\_classification.py:1327: UndefinedMetricWarning: Precision and F-score are ill-defined and being set to 0.0 in labels with no predicted samples. Use `zero_division` parameter to control this behavior.\n",
      "  _warn_prf(average, modifier, msg_start, len(result))\n",
      "C:\\Users\\George\\anaconda3\\envs\\tf\\lib\\site-packages\\sklearn\\metrics\\_classification.py:1327: UndefinedMetricWarning: Precision and F-score are ill-defined and being set to 0.0 in labels with no predicted samples. Use `zero_division` parameter to control this behavior.\n",
      "  _warn_prf(average, modifier, msg_start, len(result))\n",
      "C:\\Users\\George\\anaconda3\\envs\\tf\\lib\\site-packages\\sklearn\\metrics\\_classification.py:1327: UndefinedMetricWarning: Precision and F-score are ill-defined and being set to 0.0 in labels with no predicted samples. Use `zero_division` parameter to control this behavior.\n",
      "  _warn_prf(average, modifier, msg_start, len(result))\n"
     ]
    }
   ],
   "source": [
    "print(classification_report(y_test,grid_pred))"
   ]
  },
  {
   "cell_type": "markdown",
   "id": "c9816d0e",
   "metadata": {},
   "source": [
    "The best accuracy we could get is 0.61 after implementing GridSearchCV.\n",
    "\n",
    "Hyperparameters:\n",
    "- 'leaf_size': 1 \n",
    "- 'n_neighbors': 39 \n",
    "- 'p': 1 \n",
    "- 'weights': 'uniform'"
   ]
  },
  {
   "cell_type": "markdown",
   "id": "dc3a7856",
   "metadata": {},
   "source": [
    "**Season 17/18**"
   ]
  },
  {
   "cell_type": "code",
   "execution_count": 44,
   "id": "1f152757",
   "metadata": {},
   "outputs": [],
   "source": [
    "X = s1718.drop('FTR',axis=1)\n",
    "y = s1718[['FTR','round']]\n",
    "\n",
    "X_train = X[X['round']==1].drop('round',axis=1)\n",
    "X_test = X[X['round']==2].drop('round',axis=1)\n",
    "\n",
    "y_train = y[y['round']==1].drop('round',axis=1)\n",
    "y_test = y[y['round']==2].drop('round',axis=1)\n",
    "\n",
    "scaled_X_train = scaler.fit_transform(X_train)\n",
    "scaled_X_test = scaler.transform(X_test)"
   ]
  },
  {
   "cell_type": "code",
   "execution_count": 45,
   "id": "5c9ebceb",
   "metadata": {},
   "outputs": [],
   "source": [
    "first_model.fit(scaled_X_train,y_train.values.ravel())\n",
    "base_pred =first_model.predict(scaled_X_test)"
   ]
  },
  {
   "cell_type": "code",
   "execution_count": 46,
   "id": "e767c6ed",
   "metadata": {},
   "outputs": [
    {
     "data": {
      "text/plain": [
       "array([[40,  7,  3],\n",
       "       [31, 11, 10],\n",
       "       [35, 15, 38]], dtype=int64)"
      ]
     },
     "execution_count": 46,
     "metadata": {},
     "output_type": "execute_result"
    }
   ],
   "source": [
    "confusion_matrix(y_test,base_pred)"
   ]
  },
  {
   "cell_type": "code",
   "execution_count": 47,
   "id": "8d0b8ed1",
   "metadata": {},
   "outputs": [
    {
     "name": "stdout",
     "output_type": "stream",
     "text": [
      "              precision    recall  f1-score   support\n",
      "\n",
      "           A       0.38      0.80      0.51        50\n",
      "           D       0.33      0.21      0.26        52\n",
      "           H       0.75      0.43      0.55        88\n",
      "\n",
      "    accuracy                           0.47       190\n",
      "   macro avg       0.49      0.48      0.44       190\n",
      "weighted avg       0.54      0.47      0.46       190\n",
      "\n"
     ]
    }
   ],
   "source": [
    "print(classification_report(y_test,base_pred))"
   ]
  },
  {
   "cell_type": "code",
   "execution_count": 48,
   "id": "207963da",
   "metadata": {},
   "outputs": [],
   "source": [
    "leaf_size = list(range(1,30))\n",
    "n_neighbors = list(range(1,40))\n",
    "p=[1,2,3]\n",
    "weights = ['uniform','distance']\n",
    "\n",
    "grid_param = {'leaf_size':leaf_size,\n",
    "              'n_neighbors':n_neighbors,\n",
    "              'p': p,\n",
    "              'weights': weights}\n",
    "\n",
    "grid_model = GridSearchCV(first_model,param_grid=grid_param,scoring='accuracy')\n",
    "\n",
    "grid_model.fit(scaled_X_train,y_train.values.ravel())\n",
    "grid_pred = grid_model.predict(scaled_X_test)"
   ]
  },
  {
   "cell_type": "code",
   "execution_count": 49,
   "id": "70bf79ef",
   "metadata": {},
   "outputs": [
    {
     "data": {
      "text/plain": [
       "{'leaf_size': 1, 'n_neighbors': 16, 'p': 3, 'weights': 'distance'}"
      ]
     },
     "execution_count": 49,
     "metadata": {},
     "output_type": "execute_result"
    }
   ],
   "source": [
    "grid_model.best_params_"
   ]
  },
  {
   "cell_type": "code",
   "execution_count": 50,
   "id": "5e6089fa",
   "metadata": {},
   "outputs": [
    {
     "data": {
      "text/plain": [
       "array([[36,  0, 14],\n",
       "       [15,  6, 31],\n",
       "       [23,  5, 60]], dtype=int64)"
      ]
     },
     "execution_count": 50,
     "metadata": {},
     "output_type": "execute_result"
    }
   ],
   "source": [
    "confusion_matrix(y_test,grid_pred)"
   ]
  },
  {
   "cell_type": "code",
   "execution_count": 52,
   "id": "3b955b44",
   "metadata": {},
   "outputs": [
    {
     "name": "stdout",
     "output_type": "stream",
     "text": [
      "              precision    recall  f1-score   support\n",
      "\n",
      "           A       0.49      0.72      0.58        50\n",
      "           D       0.55      0.12      0.19        52\n",
      "           H       0.57      0.68      0.62        88\n",
      "\n",
      "    accuracy                           0.54       190\n",
      "   macro avg       0.53      0.51      0.46       190\n",
      "weighted avg       0.54      0.54      0.49       190\n",
      "\n"
     ]
    }
   ],
   "source": [
    "print(classification_report(y_test,grid_pred))"
   ]
  },
  {
   "cell_type": "markdown",
   "id": "3e2b2dd5",
   "metadata": {},
   "source": [
    "The best accuracy we could get is 0,54 after implementing GridSearchCv.\n",
    "\n",
    "Hyperparameters:\n",
    "- 'leaf_size': 1 \n",
    "- 'n_neighbors': 16 \n",
    "- 'p': 3 \n",
    "- 'weights': 'distance'"
   ]
  },
  {
   "cell_type": "markdown",
   "id": "ac9edb9b",
   "metadata": {},
   "source": [
    "**Season 18/19**"
   ]
  },
  {
   "cell_type": "code",
   "execution_count": 53,
   "id": "5a16dbdb",
   "metadata": {},
   "outputs": [],
   "source": [
    "X = s1819.drop('FTR',axis=1)\n",
    "y = s1819[['FTR','round']]\n",
    "\n",
    "X_train = X[X['round']==1].drop('round',axis=1)\n",
    "X_test = X[X['round']==2].drop('round',axis=1)\n",
    "\n",
    "y_train = y[y['round']==1].drop('round',axis=1)\n",
    "y_test = y[y['round']==2].drop('round',axis=1)\n",
    "\n",
    "scaled_X_train = scaler.fit_transform(X_train)\n",
    "scaled_X_test = scaler.transform(X_test)"
   ]
  },
  {
   "cell_type": "code",
   "execution_count": 54,
   "id": "e4f25574",
   "metadata": {},
   "outputs": [],
   "source": [
    "first_model.fit(scaled_X_train,y_train.values.ravel())\n",
    "base_pred =first_model.predict(scaled_X_test)"
   ]
  },
  {
   "cell_type": "code",
   "execution_count": 55,
   "id": "a233e922",
   "metadata": {},
   "outputs": [
    {
     "data": {
      "text/plain": [
       "array([[49,  4,  9],\n",
       "       [19,  3, 11],\n",
       "       [43,  5, 47]], dtype=int64)"
      ]
     },
     "execution_count": 55,
     "metadata": {},
     "output_type": "execute_result"
    }
   ],
   "source": [
    "confusion_matrix(y_test,base_pred)"
   ]
  },
  {
   "cell_type": "code",
   "execution_count": 56,
   "id": "2afdd7ab",
   "metadata": {},
   "outputs": [
    {
     "name": "stdout",
     "output_type": "stream",
     "text": [
      "              precision    recall  f1-score   support\n",
      "\n",
      "           A       0.44      0.79      0.57        62\n",
      "           D       0.25      0.09      0.13        33\n",
      "           H       0.70      0.49      0.58        95\n",
      "\n",
      "    accuracy                           0.52       190\n",
      "   macro avg       0.46      0.46      0.43       190\n",
      "weighted avg       0.54      0.52      0.50       190\n",
      "\n"
     ]
    }
   ],
   "source": [
    "print(classification_report(y_test,base_pred))"
   ]
  },
  {
   "cell_type": "code",
   "execution_count": 57,
   "id": "f6efee8a",
   "metadata": {},
   "outputs": [],
   "source": [
    "leaf_size = list(range(1,30))\n",
    "n_neighbors = list(range(1,40))\n",
    "p=[1,2,3]\n",
    "weights = ['uniform','distance']\n",
    "\n",
    "grid_param = {'leaf_size':leaf_size,\n",
    "              'n_neighbors':n_neighbors,\n",
    "              'p': p,\n",
    "              'weights': weights}\n",
    "\n",
    "grid_model = GridSearchCV(first_model,param_grid=grid_param,scoring='accuracy')\n",
    "\n",
    "grid_model.fit(scaled_X_train,y_train.values.ravel())\n",
    "grid_pred = grid_model.predict(scaled_X_test)"
   ]
  },
  {
   "cell_type": "code",
   "execution_count": 58,
   "id": "ed281e69",
   "metadata": {},
   "outputs": [
    {
     "data": {
      "text/plain": [
       "{'leaf_size': 1, 'n_neighbors': 12, 'p': 2, 'weights': 'distance'}"
      ]
     },
     "execution_count": 58,
     "metadata": {},
     "output_type": "execute_result"
    }
   ],
   "source": [
    "grid_model.best_params_"
   ]
  },
  {
   "cell_type": "code",
   "execution_count": 59,
   "id": "bad02ad9",
   "metadata": {},
   "outputs": [
    {
     "data": {
      "text/plain": [
       "array([[47,  0, 15],\n",
       "       [17,  1, 15],\n",
       "       [36,  1, 58]], dtype=int64)"
      ]
     },
     "execution_count": 59,
     "metadata": {},
     "output_type": "execute_result"
    }
   ],
   "source": [
    "confusion_matrix(y_test,grid_pred)"
   ]
  },
  {
   "cell_type": "code",
   "execution_count": 60,
   "id": "79598a61",
   "metadata": {},
   "outputs": [
    {
     "name": "stdout",
     "output_type": "stream",
     "text": [
      "              precision    recall  f1-score   support\n",
      "\n",
      "           A       0.47      0.76      0.58        62\n",
      "           D       0.50      0.03      0.06        33\n",
      "           H       0.66      0.61      0.63        95\n",
      "\n",
      "    accuracy                           0.56       190\n",
      "   macro avg       0.54      0.47      0.42       190\n",
      "weighted avg       0.57      0.56      0.52       190\n",
      "\n"
     ]
    }
   ],
   "source": [
    "print(classification_report(y_test,grid_pred))"
   ]
  },
  {
   "cell_type": "markdown",
   "id": "ca8663d2",
   "metadata": {},
   "source": [
    "Best accuracy we could get is 0,56 after GridSearchCV\n",
    "\n",
    "Hyperparameters:\n",
    "- 'leaf_size': 1 \n",
    "- 'n_neighbors': 12 \n",
    "- 'p': 2 \n",
    "- 'weights': 'distance'"
   ]
  },
  {
   "cell_type": "markdown",
   "id": "70a8e09d",
   "metadata": {},
   "source": [
    "**Season 19/20**"
   ]
  },
  {
   "cell_type": "code",
   "execution_count": 61,
   "id": "7133c349",
   "metadata": {},
   "outputs": [],
   "source": [
    "X = s1920.drop('FTR',axis=1)\n",
    "y = s1920[['FTR','round']]\n",
    "\n",
    "X_train = X[X['round']==1].drop('round',axis=1)\n",
    "X_test = X[X['round']==2].drop('round',axis=1)\n",
    "\n",
    "y_train = y[y['round']==1].drop('round',axis=1)\n",
    "y_test = y[y['round']==2].drop('round',axis=1)\n",
    "\n",
    "scaled_X_train = scaler.fit_transform(X_train)\n",
    "scaled_X_test = scaler.transform(X_test)"
   ]
  },
  {
   "cell_type": "code",
   "execution_count": 62,
   "id": "47e69b63",
   "metadata": {},
   "outputs": [],
   "source": [
    "first_model.fit(scaled_X_train,y_train.values.ravel())\n",
    "base_pred =first_model.predict(scaled_X_test)"
   ]
  },
  {
   "cell_type": "code",
   "execution_count": 63,
   "id": "00ead362",
   "metadata": {},
   "outputs": [
    {
     "data": {
      "text/plain": [
       "array([[37,  5, 13],\n",
       "       [20,  7, 19],\n",
       "       [39,  5, 45]], dtype=int64)"
      ]
     },
     "execution_count": 63,
     "metadata": {},
     "output_type": "execute_result"
    }
   ],
   "source": [
    "confusion_matrix(y_test,base_pred)"
   ]
  },
  {
   "cell_type": "code",
   "execution_count": 64,
   "id": "2c8784e8",
   "metadata": {},
   "outputs": [
    {
     "name": "stdout",
     "output_type": "stream",
     "text": [
      "              precision    recall  f1-score   support\n",
      "\n",
      "           A       0.39      0.67      0.49        55\n",
      "           D       0.41      0.15      0.22        46\n",
      "           H       0.58      0.51      0.54        89\n",
      "\n",
      "    accuracy                           0.47       190\n",
      "   macro avg       0.46      0.44      0.42       190\n",
      "weighted avg       0.49      0.47      0.45       190\n",
      "\n"
     ]
    }
   ],
   "source": [
    "print(classification_report(y_test,base_pred))"
   ]
  },
  {
   "cell_type": "code",
   "execution_count": 65,
   "id": "a081a81c",
   "metadata": {},
   "outputs": [],
   "source": [
    "leaf_size = list(range(1,30))\n",
    "n_neighbors = list(range(1,40))\n",
    "p=[1,2,3]\n",
    "weights = ['uniform','distance']\n",
    "\n",
    "grid_param = {'leaf_size':leaf_size,\n",
    "              'n_neighbors':n_neighbors,\n",
    "              'p': p,\n",
    "              'weights': weights}\n",
    "\n",
    "grid_model = GridSearchCV(first_model,param_grid=grid_param,scoring='accuracy')\n",
    "\n",
    "grid_model.fit(scaled_X_train,y_train.values.ravel())\n",
    "grid_pred = grid_model.predict(scaled_X_test)"
   ]
  },
  {
   "cell_type": "code",
   "execution_count": 66,
   "id": "0d32f5f6",
   "metadata": {},
   "outputs": [
    {
     "data": {
      "text/plain": [
       "{'leaf_size': 1, 'n_neighbors': 12, 'p': 3, 'weights': 'uniform'}"
      ]
     },
     "execution_count": 66,
     "metadata": {},
     "output_type": "execute_result"
    }
   ],
   "source": [
    "grid_model.best_params_"
   ]
  },
  {
   "cell_type": "code",
   "execution_count": 67,
   "id": "93128f30",
   "metadata": {},
   "outputs": [
    {
     "data": {
      "text/plain": [
       "array([[30,  0, 25],\n",
       "       [13,  1, 32],\n",
       "       [22,  1, 66]], dtype=int64)"
      ]
     },
     "execution_count": 67,
     "metadata": {},
     "output_type": "execute_result"
    }
   ],
   "source": [
    "confusion_matrix(y_test,grid_pred)"
   ]
  },
  {
   "cell_type": "code",
   "execution_count": 68,
   "id": "25333873",
   "metadata": {},
   "outputs": [
    {
     "name": "stdout",
     "output_type": "stream",
     "text": [
      "              precision    recall  f1-score   support\n",
      "\n",
      "           A       0.46      0.55      0.50        55\n",
      "           D       0.50      0.02      0.04        46\n",
      "           H       0.54      0.74      0.62        89\n",
      "\n",
      "    accuracy                           0.51       190\n",
      "   macro avg       0.50      0.44      0.39       190\n",
      "weighted avg       0.51      0.51      0.45       190\n",
      "\n"
     ]
    }
   ],
   "source": [
    "print(classification_report(y_test,grid_pred))"
   ]
  },
  {
   "cell_type": "markdown",
   "id": "eb6e5dc9",
   "metadata": {},
   "source": [
    "Best accuracy we could get is 0.51 after implementing GridSearchCV.\n",
    "\n",
    "Hyperparameters:\n",
    "- 'leaf_size': 1, \n",
    "- 'n_neighbors': 12, \n",
    "- 'p': 3, \n",
    "- 'weights': 'uniform'"
   ]
  },
  {
   "cell_type": "markdown",
   "id": "36b39487",
   "metadata": {},
   "source": [
    "**Bundesliga**"
   ]
  },
  {
   "cell_type": "code",
   "execution_count": 11,
   "id": "0118fd45",
   "metadata": {},
   "outputs": [],
   "source": [
    "df = pd.read_csv(r\"C:\\Users\\George\\Desktop\\football-match-prediction-using-ml-techniques\\fe\\bundesliga.csv\")"
   ]
  },
  {
   "cell_type": "code",
   "execution_count": 12,
   "id": "b48f296d",
   "metadata": {},
   "outputs": [],
   "source": [
    "#We assign a unique value at every team of the league\n",
    "team_id = {'Bayern Munich':1, 'Dortmund':2, 'Ein Frankfurt':3, 'FC Koln':4,\n",
    "           'Hannover':5, 'Hertha':6, 'Hoffenheim':7, \"M'gladbach\":8, 'Paderborn':9,\n",
    "           'Augsburg':10, 'Hamburg':11, 'Leverkusen':12, 'Schalke 04':13, 'Stuttgart':14,\n",
    "           'Werder Bremen':15, 'Wolfsburg':16, 'Freiburg':17, 'Mainz':18, 'Darmstadt':19,\n",
    "           'Ingolstadt':20, 'RB Leipzig':21, 'Fortuna Dusseldorf':22, 'Nurnberg':23,\n",
    "           'Union Berlin':24}\n",
    "\n",
    "for key,value in df.iteritems():\n",
    "    df['HomeTeam'] = df['HomeTeam'].apply(lambda x: team_id.get(x,x))\n",
    "    \n",
    "for key,value in df.iteritems():\n",
    "    df['AwayTeam'] = df['AwayTeam'].apply(lambda x: team_id.get(x,x))"
   ]
  },
  {
   "cell_type": "code",
   "execution_count": 13,
   "id": "9d2cc61f",
   "metadata": {},
   "outputs": [],
   "source": [
    "#We are dropping the starts that are not available to us before the game \n",
    "df = df.drop(['Unnamed: 0', 'Date','FTHG', 'FTAG', 'HTHG','HTAG','league', 'Hppda_coef', 'Appda_coef','HTW', 'HTD',\n",
    "              'HTCR', 'ATCR','HTGS','HTxpts', 'ATxpts','ATGS', 'HTGC', 'ATGC','HTOVA_S', 'HTatt_S', 'HomeTeamPoints', 'AwayTeamPoints',\n",
    "              'HTmid_S','HTdef_S', 'ATOVA_S', 'ATatt_S','ATmid_S','ATdef_S','l5_ravg_HTgs', 'l5_ravg_ATgs',\n",
    "              'HTL', 'ATL', 'ATD', 'ATW','l5_ravg_HTgc', 'l5_ravg_ATgc'],axis=1)\n",
    "\n",
    "df = df.dropna()"
   ]
  },
  {
   "cell_type": "code",
   "execution_count": 14,
   "id": "65ab8d2b",
   "metadata": {},
   "outputs": [],
   "source": [
    "s1415 = df[df['season']=='2014/2015'].drop('season',axis=1)\n",
    "s1516 = df[df['season']=='2015/2016'].drop('season',axis=1)\n",
    "s1617 = df[df['season']=='2016/2017'].drop('season',axis=1)\n",
    "s1718 = df[df['season']=='2017/2018'].drop('season',axis=1)\n",
    "s1819 = df[df['season']=='2018/2019'].drop('season',axis=1)\n",
    "s1920 = df[df['season']=='2019/2020'].drop('season',axis=1)"
   ]
  },
  {
   "cell_type": "markdown",
   "id": "3b627c21",
   "metadata": {},
   "source": [
    "**Season 14/15**"
   ]
  },
  {
   "cell_type": "code",
   "execution_count": 15,
   "id": "875e4637",
   "metadata": {},
   "outputs": [],
   "source": [
    "X = s1415.drop('FTR',axis=1)\n",
    "y = s1415[['FTR','round']]\n",
    "\n",
    "X_train = X[X['round']==1].drop('round',axis=1)\n",
    "X_test = X[X['round']==2].drop('round',axis=1)\n",
    "\n",
    "y_train = y[y['round']==1].drop('round',axis=1)\n",
    "y_test = y[y['round']==2].drop('round',axis=1)\n",
    "\n",
    "scaled_X_train = scaler.fit_transform(X_train)\n",
    "scaled_X_test = scaler.transform(X_test)"
   ]
  },
  {
   "cell_type": "code",
   "execution_count": 16,
   "id": "69f783ad",
   "metadata": {},
   "outputs": [],
   "source": [
    "first_model.fit(scaled_X_train,y_train.values.ravel())\n",
    "base_pred =first_model.predict(scaled_X_test)"
   ]
  },
  {
   "cell_type": "code",
   "execution_count": 17,
   "id": "ff0a8729",
   "metadata": {},
   "outputs": [
    {
     "data": {
      "text/plain": [
       "array([[28,  8,  4],\n",
       "       [22, 10,  7],\n",
       "       [18, 43, 13]], dtype=int64)"
      ]
     },
     "execution_count": 17,
     "metadata": {},
     "output_type": "execute_result"
    }
   ],
   "source": [
    "confusion_matrix(y_test,base_pred)"
   ]
  },
  {
   "cell_type": "code",
   "execution_count": 18,
   "id": "43578dfb",
   "metadata": {},
   "outputs": [
    {
     "name": "stdout",
     "output_type": "stream",
     "text": [
      "              precision    recall  f1-score   support\n",
      "\n",
      "           A       0.41      0.70      0.52        40\n",
      "           D       0.16      0.26      0.20        39\n",
      "           H       0.54      0.18      0.27        74\n",
      "\n",
      "    accuracy                           0.33       153\n",
      "   macro avg       0.37      0.38      0.33       153\n",
      "weighted avg       0.41      0.33      0.31       153\n",
      "\n"
     ]
    }
   ],
   "source": [
    "print(classification_report(y_test,base_pred))"
   ]
  },
  {
   "cell_type": "code",
   "execution_count": 19,
   "id": "a6b20f3a",
   "metadata": {},
   "outputs": [],
   "source": [
    "leaf_size = list(range(1,30))\n",
    "n_neighbors = list(range(1,40))\n",
    "p=[1,2,3]\n",
    "weights = ['uniform','distance']\n",
    "\n",
    "grid_param = {'leaf_size':leaf_size,\n",
    "              'n_neighbors':n_neighbors,\n",
    "              'p': p,\n",
    "              'weights': weights}\n",
    "\n",
    "grid_model = GridSearchCV(first_model,param_grid=grid_param,scoring='accuracy',n_jobs=-1)\n",
    "\n",
    "grid_model.fit(scaled_X_train,y_train.values.ravel())\n",
    "grid_pred = grid_model.predict(scaled_X_test)"
   ]
  },
  {
   "cell_type": "code",
   "execution_count": 20,
   "id": "68f2751a",
   "metadata": {},
   "outputs": [
    {
     "data": {
      "text/plain": [
       "{'leaf_size': 1, 'n_neighbors': 25, 'p': 3, 'weights': 'uniform'}"
      ]
     },
     "execution_count": 20,
     "metadata": {},
     "output_type": "execute_result"
    }
   ],
   "source": [
    "grid_model.best_params_"
   ]
  },
  {
   "cell_type": "code",
   "execution_count": 21,
   "id": "f79b84cc",
   "metadata": {},
   "outputs": [
    {
     "data": {
      "text/plain": [
       "array([[14,  4, 22],\n",
       "       [ 6,  4, 29],\n",
       "       [ 6, 17, 51]], dtype=int64)"
      ]
     },
     "execution_count": 21,
     "metadata": {},
     "output_type": "execute_result"
    }
   ],
   "source": [
    "confusion_matrix(y_test,grid_pred)"
   ]
  },
  {
   "cell_type": "code",
   "execution_count": 22,
   "id": "604c1096",
   "metadata": {},
   "outputs": [
    {
     "name": "stdout",
     "output_type": "stream",
     "text": [
      "              precision    recall  f1-score   support\n",
      "\n",
      "           A       0.54      0.35      0.42        40\n",
      "           D       0.16      0.10      0.12        39\n",
      "           H       0.50      0.69      0.58        74\n",
      "\n",
      "    accuracy                           0.45       153\n",
      "   macro avg       0.40      0.38      0.38       153\n",
      "weighted avg       0.42      0.45      0.42       153\n",
      "\n"
     ]
    }
   ],
   "source": [
    "print(classification_report(y_test,grid_pred))"
   ]
  },
  {
   "cell_type": "markdown",
   "id": "f034c413",
   "metadata": {},
   "source": [
    "The best accuracy we could get is 0.45 after the implementation of GridSearchCV.\n",
    "\n",
    "Hyperparameters:\n",
    "- 'leaf_size': 1 \n",
    "- 'n_neighbors': 25\n",
    "- 'p': 3 \n",
    "- 'weights': 'uniform'"
   ]
  },
  {
   "cell_type": "markdown",
   "id": "fd5c3da0",
   "metadata": {},
   "source": [
    "**Season 15/16**"
   ]
  },
  {
   "cell_type": "code",
   "execution_count": 82,
   "id": "b13ca2b6",
   "metadata": {},
   "outputs": [],
   "source": [
    "X = s1516.drop('FTR',axis=1)\n",
    "y = s1516[['FTR','round']]\n",
    "\n",
    "X_train = X[X['round']==1].drop('round',axis=1)\n",
    "X_test = X[X['round']==2].drop('round',axis=1)\n",
    "\n",
    "y_train = y[y['round']==1].drop('round',axis=1)\n",
    "y_test = y[y['round']==2].drop('round',axis=1)\n",
    "\n",
    "scaled_X_train = scaler.fit_transform(X_train)\n",
    "scaled_X_test = scaler.transform(X_test)"
   ]
  },
  {
   "cell_type": "code",
   "execution_count": 83,
   "id": "bc61545a",
   "metadata": {},
   "outputs": [],
   "source": [
    "first_model.fit(scaled_X_train,y_train.values.ravel())\n",
    "base_pred =first_model.predict(scaled_X_test)"
   ]
  },
  {
   "cell_type": "code",
   "execution_count": 84,
   "id": "2bd04107",
   "metadata": {},
   "outputs": [
    {
     "data": {
      "text/plain": [
       "array([[19,  6, 21],\n",
       "       [17,  6, 15],\n",
       "       [20,  4, 45]], dtype=int64)"
      ]
     },
     "execution_count": 84,
     "metadata": {},
     "output_type": "execute_result"
    }
   ],
   "source": [
    "confusion_matrix(y_test,base_pred)"
   ]
  },
  {
   "cell_type": "code",
   "execution_count": 85,
   "id": "25321477",
   "metadata": {},
   "outputs": [
    {
     "name": "stdout",
     "output_type": "stream",
     "text": [
      "              precision    recall  f1-score   support\n",
      "\n",
      "           A       0.34      0.41      0.37        46\n",
      "           D       0.38      0.16      0.22        38\n",
      "           H       0.56      0.65      0.60        69\n",
      "\n",
      "    accuracy                           0.46       153\n",
      "   macro avg       0.42      0.41      0.40       153\n",
      "weighted avg       0.45      0.46      0.44       153\n",
      "\n"
     ]
    }
   ],
   "source": [
    "print(classification_report(y_test,base_pred))"
   ]
  },
  {
   "cell_type": "code",
   "execution_count": 86,
   "id": "3f7278e0",
   "metadata": {},
   "outputs": [],
   "source": [
    "leaf_size = list(range(1,30))\n",
    "n_neighbors = list(range(1,40))\n",
    "p=[1,2,3]\n",
    "weights = ['uniform','distance']\n",
    "\n",
    "grid_param = {'leaf_size':leaf_size,\n",
    "              'n_neighbors':n_neighbors,\n",
    "              'p': p,\n",
    "              'weights': weights}\n",
    "\n",
    "grid_model = GridSearchCV(first_model,param_grid=grid_param,scoring='accuracy')\n",
    "\n",
    "grid_model.fit(scaled_X_train,y_train.values.ravel())\n",
    "grid_pred = grid_model.predict(scaled_X_test)"
   ]
  },
  {
   "cell_type": "code",
   "execution_count": 89,
   "id": "72821cb8",
   "metadata": {},
   "outputs": [
    {
     "data": {
      "text/plain": [
       "{'leaf_size': 1, 'n_neighbors': 27, 'p': 2, 'weights': 'uniform'}"
      ]
     },
     "execution_count": 89,
     "metadata": {},
     "output_type": "execute_result"
    }
   ],
   "source": [
    "grid_model.best_params_"
   ]
  },
  {
   "cell_type": "code",
   "execution_count": 87,
   "id": "d97a07dc",
   "metadata": {},
   "outputs": [
    {
     "data": {
      "text/plain": [
       "array([[20,  1, 25],\n",
       "       [ 7,  0, 31],\n",
       "       [ 8,  3, 58]], dtype=int64)"
      ]
     },
     "execution_count": 87,
     "metadata": {},
     "output_type": "execute_result"
    }
   ],
   "source": [
    "confusion_matrix(y_test,grid_pred)"
   ]
  },
  {
   "cell_type": "code",
   "execution_count": 88,
   "id": "2ffcd51a",
   "metadata": {},
   "outputs": [
    {
     "name": "stdout",
     "output_type": "stream",
     "text": [
      "              precision    recall  f1-score   support\n",
      "\n",
      "           A       0.57      0.43      0.49        46\n",
      "           D       0.00      0.00      0.00        38\n",
      "           H       0.51      0.84      0.63        69\n",
      "\n",
      "    accuracy                           0.51       153\n",
      "   macro avg       0.36      0.43      0.38       153\n",
      "weighted avg       0.40      0.51      0.43       153\n",
      "\n"
     ]
    }
   ],
   "source": [
    "print(classification_report(y_test,grid_pred))"
   ]
  },
  {
   "cell_type": "markdown",
   "id": "29fc6ba8",
   "metadata": {},
   "source": [
    "Best accuracy we could get is 0.51 after implementing GridSearchCV.\n",
    "\n",
    "Hyperparameters:\n",
    "- 'leaf_size': 1\n",
    "- 'n_neighbors': 27\n",
    "- 'p': 2\n",
    "- 'weights': 'uniform'"
   ]
  },
  {
   "cell_type": "markdown",
   "id": "6b3092d7",
   "metadata": {},
   "source": [
    "**Season 16/17**"
   ]
  },
  {
   "cell_type": "code",
   "execution_count": 90,
   "id": "e4ca5b53",
   "metadata": {},
   "outputs": [],
   "source": [
    "X = s1617.drop('FTR',axis=1)\n",
    "y = s1617[['FTR','round']]\n",
    "\n",
    "X_train = X[X['round']==1].drop('round',axis=1)\n",
    "X_test = X[X['round']==2].drop('round',axis=1)\n",
    "\n",
    "y_train = y[y['round']==1].drop('round',axis=1)\n",
    "y_test = y[y['round']==2].drop('round',axis=1)\n",
    "\n",
    "scaled_X_train = scaler.fit_transform(X_train)\n",
    "scaled_X_test = scaler.transform(X_test)"
   ]
  },
  {
   "cell_type": "code",
   "execution_count": 91,
   "id": "63c014ff",
   "metadata": {},
   "outputs": [],
   "source": [
    "first_model.fit(scaled_X_train,y_train.values.ravel())\n",
    "base_pred =first_model.predict(scaled_X_test)"
   ]
  },
  {
   "cell_type": "code",
   "execution_count": 92,
   "id": "d1e57406",
   "metadata": {},
   "outputs": [
    {
     "data": {
      "text/plain": [
       "array([[18, 11, 12],\n",
       "       [ 9,  9, 17],\n",
       "       [13, 30, 34]], dtype=int64)"
      ]
     },
     "execution_count": 92,
     "metadata": {},
     "output_type": "execute_result"
    }
   ],
   "source": [
    "confusion_matrix(y_test,base_pred)"
   ]
  },
  {
   "cell_type": "code",
   "execution_count": 93,
   "id": "c9eda692",
   "metadata": {},
   "outputs": [
    {
     "name": "stdout",
     "output_type": "stream",
     "text": [
      "              precision    recall  f1-score   support\n",
      "\n",
      "           A       0.45      0.44      0.44        41\n",
      "           D       0.18      0.26      0.21        35\n",
      "           H       0.54      0.44      0.49        77\n",
      "\n",
      "    accuracy                           0.40       153\n",
      "   macro avg       0.39      0.38      0.38       153\n",
      "weighted avg       0.43      0.40      0.41       153\n",
      "\n"
     ]
    }
   ],
   "source": [
    "print(classification_report(y_test,base_pred))"
   ]
  },
  {
   "cell_type": "code",
   "execution_count": 94,
   "id": "643eec6e",
   "metadata": {},
   "outputs": [],
   "source": [
    "leaf_size = list(range(1,30))\n",
    "n_neighbors = list(range(1,40))\n",
    "p=[1,2,3]\n",
    "weights = ['uniform','distance']\n",
    "\n",
    "grid_param = {'leaf_size':leaf_size,\n",
    "              'n_neighbors':n_neighbors,\n",
    "              'p': p,\n",
    "              'weights': weights}\n",
    "\n",
    "grid_model = GridSearchCV(first_model,param_grid=grid_param,scoring='accuracy')\n",
    "\n",
    "grid_model.fit(scaled_X_train,y_train.values.ravel())\n",
    "grid_pred = grid_model.predict(scaled_X_test)"
   ]
  },
  {
   "cell_type": "code",
   "execution_count": 95,
   "id": "58da1850",
   "metadata": {},
   "outputs": [
    {
     "data": {
      "text/plain": [
       "{'leaf_size': 1, 'n_neighbors': 32, 'p': 1, 'weights': 'uniform'}"
      ]
     },
     "execution_count": 95,
     "metadata": {},
     "output_type": "execute_result"
    }
   ],
   "source": [
    "grid_model.best_params_"
   ]
  },
  {
   "cell_type": "code",
   "execution_count": 96,
   "id": "d1a3f955",
   "metadata": {},
   "outputs": [
    {
     "data": {
      "text/plain": [
       "array([[ 7,  0, 34],\n",
       "       [ 3,  0, 32],\n",
       "       [ 4,  0, 73]], dtype=int64)"
      ]
     },
     "execution_count": 96,
     "metadata": {},
     "output_type": "execute_result"
    }
   ],
   "source": [
    "confusion_matrix(y_test,grid_pred)"
   ]
  },
  {
   "cell_type": "code",
   "execution_count": 97,
   "id": "601d3e97",
   "metadata": {},
   "outputs": [
    {
     "name": "stdout",
     "output_type": "stream",
     "text": [
      "              precision    recall  f1-score   support\n",
      "\n",
      "           A       0.50      0.17      0.25        41\n",
      "           D       0.00      0.00      0.00        35\n",
      "           H       0.53      0.95      0.68        77\n",
      "\n",
      "    accuracy                           0.52       153\n",
      "   macro avg       0.34      0.37      0.31       153\n",
      "weighted avg       0.40      0.52      0.41       153\n",
      "\n"
     ]
    },
    {
     "name": "stderr",
     "output_type": "stream",
     "text": [
      "C:\\Users\\George\\anaconda3\\envs\\tf\\lib\\site-packages\\sklearn\\metrics\\_classification.py:1327: UndefinedMetricWarning: Precision and F-score are ill-defined and being set to 0.0 in labels with no predicted samples. Use `zero_division` parameter to control this behavior.\n",
      "  _warn_prf(average, modifier, msg_start, len(result))\n",
      "C:\\Users\\George\\anaconda3\\envs\\tf\\lib\\site-packages\\sklearn\\metrics\\_classification.py:1327: UndefinedMetricWarning: Precision and F-score are ill-defined and being set to 0.0 in labels with no predicted samples. Use `zero_division` parameter to control this behavior.\n",
      "  _warn_prf(average, modifier, msg_start, len(result))\n",
      "C:\\Users\\George\\anaconda3\\envs\\tf\\lib\\site-packages\\sklearn\\metrics\\_classification.py:1327: UndefinedMetricWarning: Precision and F-score are ill-defined and being set to 0.0 in labels with no predicted samples. Use `zero_division` parameter to control this behavior.\n",
      "  _warn_prf(average, modifier, msg_start, len(result))\n"
     ]
    }
   ],
   "source": [
    "print(classification_report(y_test,grid_pred))"
   ]
  },
  {
   "cell_type": "markdown",
   "id": "04992074",
   "metadata": {},
   "source": [
    "Best accuracy we could get is 0,52 after implementing GridSearchCV.\n",
    "\n",
    "Hyperparameters:\n",
    "- 'leaf_size': 1  \n",
    "- 'n_neighbors': 32\n",
    "- 'p': 1 \n",
    "- 'weights': 'uniform'"
   ]
  },
  {
   "cell_type": "markdown",
   "id": "a1b2bc19",
   "metadata": {},
   "source": [
    "**Season 17/18**"
   ]
  },
  {
   "cell_type": "code",
   "execution_count": 26,
   "id": "32e496d9",
   "metadata": {},
   "outputs": [],
   "source": [
    "X = s1718.drop('FTR',axis=1)\n",
    "y = s1718[['FTR','round']]\n",
    "\n",
    "X_train = X[X['round']==1].drop('round',axis=1)\n",
    "X_test = X[X['round']==2].drop('round',axis=1)\n",
    "\n",
    "y_train = y[y['round']==1].drop('round',axis=1)\n",
    "y_test = y[y['round']==2].drop('round',axis=1)\n",
    "\n",
    "scaled_X_train = scaler.fit_transform(X_train)\n",
    "scaled_X_test = scaler.transform(X_test)"
   ]
  },
  {
   "cell_type": "code",
   "execution_count": 27,
   "id": "458d920a",
   "metadata": {},
   "outputs": [],
   "source": [
    "first_model.fit(scaled_X_train,y_train.values.ravel())\n",
    "base_pred =first_model.predict(scaled_X_test)"
   ]
  },
  {
   "cell_type": "code",
   "execution_count": 28,
   "id": "afd2fe25",
   "metadata": {},
   "outputs": [
    {
     "data": {
      "text/plain": [
       "array([[13, 13, 18],\n",
       "       [12,  7, 19],\n",
       "       [ 9, 23, 39]], dtype=int64)"
      ]
     },
     "execution_count": 28,
     "metadata": {},
     "output_type": "execute_result"
    }
   ],
   "source": [
    "confusion_matrix(y_test,base_pred)"
   ]
  },
  {
   "cell_type": "code",
   "execution_count": 29,
   "id": "97376bf0",
   "metadata": {},
   "outputs": [
    {
     "name": "stdout",
     "output_type": "stream",
     "text": [
      "              precision    recall  f1-score   support\n",
      "\n",
      "           A       0.38      0.30      0.33        44\n",
      "           D       0.16      0.18      0.17        38\n",
      "           H       0.51      0.55      0.53        71\n",
      "\n",
      "    accuracy                           0.39       153\n",
      "   macro avg       0.35      0.34      0.35       153\n",
      "weighted avg       0.39      0.39      0.39       153\n",
      "\n"
     ]
    }
   ],
   "source": [
    "print(classification_report(y_test,base_pred))"
   ]
  },
  {
   "cell_type": "code",
   "execution_count": 30,
   "id": "d418cd4f",
   "metadata": {},
   "outputs": [],
   "source": [
    "leaf_size = list(range(1,30))\n",
    "n_neighbors = list(range(1,40))\n",
    "p=[1,2,3]\n",
    "weights = ['uniform','distance']\n",
    "\n",
    "grid_param = {'leaf_size':leaf_size,\n",
    "              'n_neighbors':n_neighbors,\n",
    "              'p': p,\n",
    "              'weights': weights}\n",
    "\n",
    "grid_model = GridSearchCV(first_model,param_grid=grid_param,scoring='accuracy')\n",
    "\n",
    "grid_model.fit(scaled_X_train,y_train.values.ravel())\n",
    "grid_pred = grid_model.predict(scaled_X_test)"
   ]
  },
  {
   "cell_type": "code",
   "execution_count": 31,
   "id": "0da160be",
   "metadata": {},
   "outputs": [
    {
     "data": {
      "text/plain": [
       "{'leaf_size': 1, 'n_neighbors': 31, 'p': 1, 'weights': 'uniform'}"
      ]
     },
     "execution_count": 31,
     "metadata": {},
     "output_type": "execute_result"
    }
   ],
   "source": [
    "grid_model.best_params_"
   ]
  },
  {
   "cell_type": "code",
   "execution_count": 32,
   "id": "b707a12b",
   "metadata": {},
   "outputs": [
    {
     "data": {
      "text/plain": [
       "array([[ 9,  8, 27],\n",
       "       [ 5,  6, 27],\n",
       "       [ 3, 15, 53]], dtype=int64)"
      ]
     },
     "execution_count": 32,
     "metadata": {},
     "output_type": "execute_result"
    }
   ],
   "source": [
    "confusion_matrix(y_test,grid_pred)"
   ]
  },
  {
   "cell_type": "code",
   "execution_count": 34,
   "id": "0a0ac2f9",
   "metadata": {},
   "outputs": [
    {
     "name": "stdout",
     "output_type": "stream",
     "text": [
      "              precision    recall  f1-score   support\n",
      "\n",
      "           A       0.53      0.20      0.30        44\n",
      "           D       0.21      0.16      0.18        38\n",
      "           H       0.50      0.75      0.60        71\n",
      "\n",
      "    accuracy                           0.44       153\n",
      "   macro avg       0.41      0.37      0.36       153\n",
      "weighted avg       0.43      0.44      0.41       153\n",
      "\n"
     ]
    }
   ],
   "source": [
    "print(classification_report(y_test,grid_pred))"
   ]
  },
  {
   "cell_type": "markdown",
   "id": "f1dc1e2c",
   "metadata": {},
   "source": [
    "The best accuracy we could get is 0,44 after implementing GridSearchCV.\n",
    "\n",
    "Hyperparameter:\n",
    "- 'leaf_size': 1 \n",
    "- 'n_neighbors': 31 \n",
    "- 'p': 1 \n",
    "- 'weights': 'uniform'"
   ]
  },
  {
   "cell_type": "markdown",
   "id": "ba55083b",
   "metadata": {},
   "source": [
    "**Season 18/19**"
   ]
  },
  {
   "cell_type": "code",
   "execution_count": 35,
   "id": "f42d3629",
   "metadata": {},
   "outputs": [],
   "source": [
    "X = s1819.drop('FTR',axis=1)\n",
    "y = s1819[['FTR','round']]\n",
    "\n",
    "X_train = X[X['round']==1].drop('round',axis=1)\n",
    "X_test = X[X['round']==2].drop('round',axis=1)\n",
    "\n",
    "y_train = y[y['round']==1].drop('round',axis=1)\n",
    "y_test = y[y['round']==2].drop('round',axis=1)\n",
    "\n",
    "scaled_X_train = scaler.fit_transform(X_train)\n",
    "scaled_X_test = scaler.transform(X_test)"
   ]
  },
  {
   "cell_type": "code",
   "execution_count": 36,
   "id": "6a8958bf",
   "metadata": {},
   "outputs": [],
   "source": [
    "first_model.fit(scaled_X_train,y_train.values.ravel())\n",
    "base_pred =first_model.predict(scaled_X_test)"
   ]
  },
  {
   "cell_type": "code",
   "execution_count": 37,
   "id": "cede9dcd",
   "metadata": {},
   "outputs": [
    {
     "data": {
      "text/plain": [
       "array([[24, 13, 12],\n",
       "       [13,  9, 13],\n",
       "       [20, 13, 36]], dtype=int64)"
      ]
     },
     "execution_count": 37,
     "metadata": {},
     "output_type": "execute_result"
    }
   ],
   "source": [
    "confusion_matrix(y_test,base_pred)"
   ]
  },
  {
   "cell_type": "code",
   "execution_count": 38,
   "id": "be4a24ac",
   "metadata": {},
   "outputs": [
    {
     "name": "stdout",
     "output_type": "stream",
     "text": [
      "              precision    recall  f1-score   support\n",
      "\n",
      "           A       0.42      0.49      0.45        49\n",
      "           D       0.26      0.26      0.26        35\n",
      "           H       0.59      0.52      0.55        69\n",
      "\n",
      "    accuracy                           0.45       153\n",
      "   macro avg       0.42      0.42      0.42       153\n",
      "weighted avg       0.46      0.45      0.45       153\n",
      "\n"
     ]
    }
   ],
   "source": [
    "print(classification_report(y_test,base_pred))"
   ]
  },
  {
   "cell_type": "code",
   "execution_count": 41,
   "id": "7d7d6161",
   "metadata": {},
   "outputs": [],
   "source": [
    "leaf_size = list(range(1,30))\n",
    "n_neighbors = list(range(1,40))\n",
    "p=[1,2,3]\n",
    "weights = ['uniform','distance']\n",
    "\n",
    "grid_param = {'leaf_size':leaf_size,\n",
    "              'n_neighbors':n_neighbors,\n",
    "              'p': p,\n",
    "              'weights': weights}\n",
    "\n",
    "grid_model = GridSearchCV(first_model,param_grid=grid_param,scoring='accuracy')\n",
    "\n",
    "grid_model.fit(scaled_X_train,y_train.values.ravel())\n",
    "grid_pred = grid_model.predict(scaled_X_test)"
   ]
  },
  {
   "cell_type": "code",
   "execution_count": 42,
   "id": "ec126eab",
   "metadata": {},
   "outputs": [
    {
     "data": {
      "text/plain": [
       "{'leaf_size': 1, 'n_neighbors': 23, 'p': 3, 'weights': 'uniform'}"
      ]
     },
     "execution_count": 42,
     "metadata": {},
     "output_type": "execute_result"
    }
   ],
   "source": [
    "grid_model.best_params_"
   ]
  },
  {
   "cell_type": "code",
   "execution_count": 43,
   "id": "0f1880cd",
   "metadata": {},
   "outputs": [
    {
     "data": {
      "text/plain": [
       "array([[18,  5, 26],\n",
       "       [ 6,  4, 25],\n",
       "       [ 8,  3, 58]], dtype=int64)"
      ]
     },
     "execution_count": 43,
     "metadata": {},
     "output_type": "execute_result"
    }
   ],
   "source": [
    "confusion_matrix(y_test,grid_pred)"
   ]
  },
  {
   "cell_type": "code",
   "execution_count": 44,
   "id": "e0fb2fca",
   "metadata": {},
   "outputs": [
    {
     "name": "stdout",
     "output_type": "stream",
     "text": [
      "              precision    recall  f1-score   support\n",
      "\n",
      "           A       0.56      0.37      0.44        49\n",
      "           D       0.33      0.11      0.17        35\n",
      "           H       0.53      0.84      0.65        69\n",
      "\n",
      "    accuracy                           0.52       153\n",
      "   macro avg       0.48      0.44      0.42       153\n",
      "weighted avg       0.50      0.52      0.48       153\n",
      "\n"
     ]
    }
   ],
   "source": [
    "print(classification_report(y_test,grid_pred))"
   ]
  },
  {
   "cell_type": "markdown",
   "id": "9a6ae6c3",
   "metadata": {},
   "source": [
    "The best accuracy we could get is 0,52 after implementing GridSearchCV.\n",
    "\n",
    "Hyperparameters:\n",
    "- 'leaf_size': 1 \n",
    "- 'n_neighbors': 23\n",
    "- 'p': 3\n",
    "- 'weights': 'uniform'"
   ]
  },
  {
   "cell_type": "markdown",
   "id": "aa63bc92",
   "metadata": {},
   "source": [
    "**Season 19/20**"
   ]
  },
  {
   "cell_type": "code",
   "execution_count": 45,
   "id": "4bafee88",
   "metadata": {},
   "outputs": [],
   "source": [
    "X = s1920.drop('FTR',axis=1)\n",
    "y = s1920[['FTR','round']]\n",
    "\n",
    "X_train = X[X['round']==1].drop('round',axis=1)\n",
    "X_test = X[X['round']==2].drop('round',axis=1)\n",
    "\n",
    "y_train = y[y['round']==1].drop('round',axis=1)\n",
    "y_test = y[y['round']==2].drop('round',axis=1)\n",
    "\n",
    "scaled_X_train = scaler.fit_transform(X_train)\n",
    "scaled_X_test = scaler.transform(X_test)"
   ]
  },
  {
   "cell_type": "code",
   "execution_count": 46,
   "id": "f0b71e50",
   "metadata": {},
   "outputs": [],
   "source": [
    "first_model.fit(scaled_X_train,y_train.values.ravel())\n",
    "base_pred =first_model.predict(scaled_X_test)"
   ]
  },
  {
   "cell_type": "code",
   "execution_count": 47,
   "id": "e4219172",
   "metadata": {},
   "outputs": [
    {
     "data": {
      "text/plain": [
       "array([[29,  9, 26],\n",
       "       [11, 10, 14],\n",
       "       [18,  8, 28]], dtype=int64)"
      ]
     },
     "execution_count": 47,
     "metadata": {},
     "output_type": "execute_result"
    }
   ],
   "source": [
    "confusion_matrix(y_test,base_pred)"
   ]
  },
  {
   "cell_type": "code",
   "execution_count": 48,
   "id": "ad576bcb",
   "metadata": {},
   "outputs": [
    {
     "name": "stdout",
     "output_type": "stream",
     "text": [
      "              precision    recall  f1-score   support\n",
      "\n",
      "           A       0.50      0.45      0.48        64\n",
      "           D       0.37      0.29      0.32        35\n",
      "           H       0.41      0.52      0.46        54\n",
      "\n",
      "    accuracy                           0.44       153\n",
      "   macro avg       0.43      0.42      0.42       153\n",
      "weighted avg       0.44      0.44      0.43       153\n",
      "\n"
     ]
    }
   ],
   "source": [
    "print(classification_report(y_test,base_pred))"
   ]
  },
  {
   "cell_type": "code",
   "execution_count": 49,
   "id": "8f3918a6",
   "metadata": {},
   "outputs": [],
   "source": [
    "leaf_size = list(range(1,30))\n",
    "n_neighbors = list(range(1,40))\n",
    "p=[1,2,3]\n",
    "weights = ['uniform','distance']\n",
    "\n",
    "grid_param = {'leaf_size':leaf_size,\n",
    "              'n_neighbors':n_neighbors,\n",
    "              'p': p,\n",
    "              'weights': weights}\n",
    "\n",
    "grid_model = GridSearchCV(first_model,param_grid=grid_param,scoring='accuracy')\n",
    "\n",
    "grid_model.fit(scaled_X_train,y_train.values.ravel())\n",
    "grid_pred = grid_model.predict(scaled_X_test)"
   ]
  },
  {
   "cell_type": "code",
   "execution_count": 50,
   "id": "5257bb18",
   "metadata": {},
   "outputs": [
    {
     "data": {
      "text/plain": [
       "{'leaf_size': 1, 'n_neighbors': 36, 'p': 1, 'weights': 'uniform'}"
      ]
     },
     "execution_count": 50,
     "metadata": {},
     "output_type": "execute_result"
    }
   ],
   "source": [
    "grid_model.best_params_"
   ]
  },
  {
   "cell_type": "code",
   "execution_count": 51,
   "id": "fff3c5ff",
   "metadata": {},
   "outputs": [
    {
     "data": {
      "text/plain": [
       "array([[22,  0, 42],\n",
       "       [ 2,  0, 33],\n",
       "       [ 3,  0, 51]], dtype=int64)"
      ]
     },
     "execution_count": 51,
     "metadata": {},
     "output_type": "execute_result"
    }
   ],
   "source": [
    "confusion_matrix(y_test,grid_pred)"
   ]
  },
  {
   "cell_type": "code",
   "execution_count": 52,
   "id": "0faa221d",
   "metadata": {},
   "outputs": [
    {
     "name": "stdout",
     "output_type": "stream",
     "text": [
      "              precision    recall  f1-score   support\n",
      "\n",
      "           A       0.81      0.34      0.48        64\n",
      "           D       0.00      0.00      0.00        35\n",
      "           H       0.40      0.94      0.57        54\n",
      "\n",
      "    accuracy                           0.48       153\n",
      "   macro avg       0.41      0.43      0.35       153\n",
      "weighted avg       0.48      0.48      0.40       153\n",
      "\n"
     ]
    },
    {
     "name": "stderr",
     "output_type": "stream",
     "text": [
      "C:\\Users\\George\\anaconda3\\envs\\tf\\lib\\site-packages\\sklearn\\metrics\\_classification.py:1327: UndefinedMetricWarning: Precision and F-score are ill-defined and being set to 0.0 in labels with no predicted samples. Use `zero_division` parameter to control this behavior.\n",
      "  _warn_prf(average, modifier, msg_start, len(result))\n",
      "C:\\Users\\George\\anaconda3\\envs\\tf\\lib\\site-packages\\sklearn\\metrics\\_classification.py:1327: UndefinedMetricWarning: Precision and F-score are ill-defined and being set to 0.0 in labels with no predicted samples. Use `zero_division` parameter to control this behavior.\n",
      "  _warn_prf(average, modifier, msg_start, len(result))\n",
      "C:\\Users\\George\\anaconda3\\envs\\tf\\lib\\site-packages\\sklearn\\metrics\\_classification.py:1327: UndefinedMetricWarning: Precision and F-score are ill-defined and being set to 0.0 in labels with no predicted samples. Use `zero_division` parameter to control this behavior.\n",
      "  _warn_prf(average, modifier, msg_start, len(result))\n"
     ]
    }
   ],
   "source": [
    "print(classification_report(y_test,grid_pred))"
   ]
  },
  {
   "cell_type": "markdown",
   "id": "7f2b7945",
   "metadata": {},
   "source": [
    "The best accuracy we could get is 0,48 after GridSearchCV\n",
    "\n",
    "Hyperparameter:\n",
    "- 'leaf_size': 1 \n",
    "- 'n_neighbors': 36 \n",
    "- 'p': 1 \n",
    "- 'weights': 'uniform'"
   ]
  },
  {
   "cell_type": "markdown",
   "id": "5e60a539",
   "metadata": {},
   "source": [
    "**Serie A**"
   ]
  },
  {
   "cell_type": "code",
   "execution_count": 11,
   "id": "1924785b",
   "metadata": {},
   "outputs": [],
   "source": [
    "df = pd.read_csv(r\"C:\\Users\\George\\Desktop\\football-match-prediction-using-ml-techniques\\fe\\serie_a.csv\")"
   ]
  },
  {
   "cell_type": "code",
   "execution_count": 12,
   "id": "40a2d158",
   "metadata": {},
   "outputs": [],
   "source": [
    "#We assign a unique value at every team of the league\n",
    "team_id = {'Chievo':1, 'Roma':2, 'Atalanta':3, 'Cesena':4, 'Genoa':5, 'Milan':6,\n",
    "           'Palermo':7, 'Sassuolo':8, 'Torino':9, 'Udinese':10, 'Empoli':11, 'Juventus':12,\n",
    "           'Cagliari':13, 'Fiorentina':14, 'Inter':15, 'Lazio':16, 'Napoli':17, 'Parma':18,\n",
    "           'Sampdoria':19, 'Verona':20, 'Frosinone':21, 'Bologna':22, 'Carpi':23, 'Pescara':24,\n",
    "           'Crotone':25, 'Benevento':26, 'Spal':27, 'Lecce':28, 'Brescia':29}\n",
    "\n",
    "for key,value in df.iteritems():\n",
    "    df['HomeTeam'] = df['HomeTeam'].apply(lambda x: team_id.get(x,x))\n",
    "    \n",
    "for key,value in df.iteritems():\n",
    "    df['AwayTeam'] = df['AwayTeam'].apply(lambda x: team_id.get(x,x))"
   ]
  },
  {
   "cell_type": "code",
   "execution_count": 13,
   "id": "d713b606",
   "metadata": {},
   "outputs": [],
   "source": [
    "#We are dropping the starts that are not available to us before the game \n",
    "df = df.drop(['Unnamed: 0', 'Date','FTHG', 'FTAG', 'HTHG','HTAG','league', 'Hppda_coef', 'Appda_coef','HTW', 'HTD',\n",
    "              'HTCR', 'ATCR','HTGS','HTxpts', 'ATxpts','ATGS', 'HTGC', 'ATGC','HTOVA_S', 'HTatt_S', 'HomeTeamPoints', 'AwayTeamPoints',\n",
    "              'HTmid_S','HTdef_S', 'ATOVA_S', 'ATatt_S','ATmid_S','ATdef_S','l5_ravg_HTgs', 'l5_ravg_ATgs',\n",
    "              'HTL', 'ATL', 'ATD', 'ATW','l5_ravg_HTgc', 'l5_ravg_ATgc'],axis=1)\n",
    "\n",
    "df = df.dropna()"
   ]
  },
  {
   "cell_type": "code",
   "execution_count": 14,
   "id": "5de4c057",
   "metadata": {},
   "outputs": [],
   "source": [
    "s1415 = df[df['season']=='2014/2015'].drop('season',axis=1)\n",
    "s1516 = df[df['season']=='2015/2016'].drop('season',axis=1)\n",
    "s1617 = df[df['season']=='2016/2017'].drop('season',axis=1)\n",
    "s1718 = df[df['season']=='2017/2018'].drop('season',axis=1)\n",
    "s1819 = df[df['season']=='2018/2019'].drop('season',axis=1)\n",
    "s1920 = df[df['season']=='2019/2020'].drop('season',axis=1)"
   ]
  },
  {
   "cell_type": "markdown",
   "id": "4db3f1cd",
   "metadata": {},
   "source": [
    "**Season 14/15**"
   ]
  },
  {
   "cell_type": "code",
   "execution_count": 58,
   "id": "c288cd6a",
   "metadata": {},
   "outputs": [],
   "source": [
    "X = s1415.drop('FTR',axis=1)\n",
    "y = s1415[['FTR','round']]\n",
    "\n",
    "X_train = X[X['round']==1].drop('round',axis=1)\n",
    "X_test = X[X['round']==2].drop('round',axis=1)\n",
    "\n",
    "y_train = y[y['round']==1].drop('round',axis=1)\n",
    "y_test = y[y['round']==2].drop('round',axis=1)\n",
    "\n",
    "scaled_X_train = scaler.fit_transform(X_train)\n",
    "scaled_X_test = scaler.transform(X_test)"
   ]
  },
  {
   "cell_type": "code",
   "execution_count": 59,
   "id": "9279d873",
   "metadata": {},
   "outputs": [],
   "source": [
    "first_model.fit(scaled_X_train,y_train.values.ravel())\n",
    "base_pred =first_model.predict(scaled_X_test)"
   ]
  },
  {
   "cell_type": "code",
   "execution_count": 60,
   "id": "31f591f1",
   "metadata": {},
   "outputs": [
    {
     "data": {
      "text/plain": [
       "array([[25, 26,  2],\n",
       "       [19, 25, 10],\n",
       "       [26, 43, 14]], dtype=int64)"
      ]
     },
     "execution_count": 60,
     "metadata": {},
     "output_type": "execute_result"
    }
   ],
   "source": [
    "confusion_matrix(y_test,base_pred)"
   ]
  },
  {
   "cell_type": "code",
   "execution_count": 61,
   "id": "56ce0674",
   "metadata": {},
   "outputs": [
    {
     "name": "stdout",
     "output_type": "stream",
     "text": [
      "              precision    recall  f1-score   support\n",
      "\n",
      "           A       0.36      0.47      0.41        53\n",
      "           D       0.27      0.46      0.34        54\n",
      "           H       0.54      0.17      0.26        83\n",
      "\n",
      "    accuracy                           0.34       190\n",
      "   macro avg       0.39      0.37      0.33       190\n",
      "weighted avg       0.41      0.34      0.32       190\n",
      "\n"
     ]
    }
   ],
   "source": [
    "print(classification_report(y_test,base_pred))"
   ]
  },
  {
   "cell_type": "code",
   "execution_count": 63,
   "id": "1d043cd5",
   "metadata": {},
   "outputs": [],
   "source": [
    "leaf_size = list(range(1,30))\n",
    "n_neighbors = list(range(1,40))\n",
    "p=[1,2,3]\n",
    "weights = ['uniform','distance']\n",
    "\n",
    "grid_param = {'leaf_size':leaf_size,\n",
    "              'n_neighbors':n_neighbors,\n",
    "              'p': p,\n",
    "              'weights': weights}\n",
    "\n",
    "grid_model = GridSearchCV(first_model,param_grid=grid_param,scoring='accuracy')\n",
    "\n",
    "grid_model.fit(scaled_X_train,y_train.values.ravel())\n",
    "grid_pred = grid_model.predict(scaled_X_test)"
   ]
  },
  {
   "cell_type": "code",
   "execution_count": 64,
   "id": "97ed4586",
   "metadata": {},
   "outputs": [
    {
     "data": {
      "text/plain": [
       "{'leaf_size': 1, 'n_neighbors': 30, 'p': 1, 'weights': 'distance'}"
      ]
     },
     "execution_count": 64,
     "metadata": {},
     "output_type": "execute_result"
    }
   ],
   "source": [
    "grid_model.best_params_"
   ]
  },
  {
   "cell_type": "code",
   "execution_count": 65,
   "id": "35b3dcdb",
   "metadata": {},
   "outputs": [
    {
     "data": {
      "text/plain": [
       "array([[14, 35,  4],\n",
       "       [ 9, 40,  5],\n",
       "       [ 6, 65, 12]], dtype=int64)"
      ]
     },
     "execution_count": 65,
     "metadata": {},
     "output_type": "execute_result"
    }
   ],
   "source": [
    "confusion_matrix(y_test,grid_pred)"
   ]
  },
  {
   "cell_type": "code",
   "execution_count": 66,
   "id": "13471e48",
   "metadata": {},
   "outputs": [
    {
     "name": "stdout",
     "output_type": "stream",
     "text": [
      "              precision    recall  f1-score   support\n",
      "\n",
      "           A       0.48      0.26      0.34        53\n",
      "           D       0.29      0.74      0.41        54\n",
      "           H       0.57      0.14      0.23        83\n",
      "\n",
      "    accuracy                           0.35       190\n",
      "   macro avg       0.45      0.38      0.33       190\n",
      "weighted avg       0.47      0.35      0.31       190\n",
      "\n"
     ]
    }
   ],
   "source": [
    "print(classification_report(y_test,grid_pred))"
   ]
  },
  {
   "cell_type": "markdown",
   "id": "edd73076",
   "metadata": {},
   "source": [
    "Τhe best accuracy we could get is 0,35 after GridSearchCV.\n",
    "\n",
    "Hyperparameters:\n",
    "- 'leaf_size': 1 \n",
    "- 'n_neighbors': 30 \n",
    "- 'p': 1 \n",
    "- 'weights': 'distance'"
   ]
  },
  {
   "cell_type": "markdown",
   "id": "490aa8c2",
   "metadata": {},
   "source": [
    "**Season 15/16**"
   ]
  },
  {
   "cell_type": "code",
   "execution_count": 67,
   "id": "1668e837",
   "metadata": {},
   "outputs": [],
   "source": [
    "X = s1516.drop('FTR',axis=1)\n",
    "y = s1516[['FTR','round']]\n",
    "\n",
    "X_train = X[X['round']==1].drop('round',axis=1)\n",
    "X_test = X[X['round']==2].drop('round',axis=1)\n",
    "\n",
    "y_train = y[y['round']==1].drop('round',axis=1)\n",
    "y_test = y[y['round']==2].drop('round',axis=1)\n",
    "\n",
    "scaled_X_train = scaler.fit_transform(X_train)\n",
    "scaled_X_test = scaler.transform(X_test)"
   ]
  },
  {
   "cell_type": "code",
   "execution_count": 68,
   "id": "606c8623",
   "metadata": {},
   "outputs": [],
   "source": [
    "first_model.fit(scaled_X_train,y_train.values.ravel())\n",
    "base_pred =first_model.predict(scaled_X_test)"
   ]
  },
  {
   "cell_type": "code",
   "execution_count": 69,
   "id": "1300cbc4",
   "metadata": {},
   "outputs": [
    {
     "data": {
      "text/plain": [
       "array([[45,  3,  0],\n",
       "       [41, 10,  2],\n",
       "       [60, 13, 16]], dtype=int64)"
      ]
     },
     "execution_count": 69,
     "metadata": {},
     "output_type": "execute_result"
    }
   ],
   "source": [
    "confusion_matrix(y_test,base_pred)"
   ]
  },
  {
   "cell_type": "code",
   "execution_count": 70,
   "id": "fd23a012",
   "metadata": {},
   "outputs": [
    {
     "name": "stdout",
     "output_type": "stream",
     "text": [
      "              precision    recall  f1-score   support\n",
      "\n",
      "           A       0.31      0.94      0.46        48\n",
      "           D       0.38      0.19      0.25        53\n",
      "           H       0.89      0.18      0.30        89\n",
      "\n",
      "    accuracy                           0.37       190\n",
      "   macro avg       0.53      0.44      0.34       190\n",
      "weighted avg       0.60      0.37      0.33       190\n",
      "\n"
     ]
    }
   ],
   "source": [
    "print(classification_report(y_test,base_pred))"
   ]
  },
  {
   "cell_type": "code",
   "execution_count": 71,
   "id": "41c6eb71",
   "metadata": {},
   "outputs": [],
   "source": [
    "leaf_size = list(range(1,30))\n",
    "n_neighbors = list(range(1,40))\n",
    "p=[1,2,3]\n",
    "weights = ['uniform','distance']\n",
    "\n",
    "grid_param = {'leaf_size':leaf_size,\n",
    "              'n_neighbors':n_neighbors,\n",
    "              'p': p,\n",
    "              'weights': weights}\n",
    "\n",
    "grid_model = GridSearchCV(first_model,param_grid=grid_param,scoring='accuracy')\n",
    "\n",
    "grid_model.fit(scaled_X_train,y_train.values.ravel())\n",
    "grid_pred = grid_model.predict(scaled_X_test)"
   ]
  },
  {
   "cell_type": "code",
   "execution_count": 72,
   "id": "51a44f61",
   "metadata": {},
   "outputs": [
    {
     "data": {
      "text/plain": [
       "{'leaf_size': 1, 'n_neighbors': 32, 'p': 3, 'weights': 'uniform'}"
      ]
     },
     "execution_count": 72,
     "metadata": {},
     "output_type": "execute_result"
    }
   ],
   "source": [
    "grid_model.best_params_"
   ]
  },
  {
   "cell_type": "code",
   "execution_count": 73,
   "id": "fa077187",
   "metadata": {},
   "outputs": [
    {
     "data": {
      "text/plain": [
       "array([[46,  0,  2],\n",
       "       [38,  0, 15],\n",
       "       [50,  0, 39]], dtype=int64)"
      ]
     },
     "execution_count": 73,
     "metadata": {},
     "output_type": "execute_result"
    }
   ],
   "source": [
    "confusion_matrix(y_test,grid_pred)"
   ]
  },
  {
   "cell_type": "code",
   "execution_count": 74,
   "id": "4d1c3ea7",
   "metadata": {},
   "outputs": [
    {
     "name": "stdout",
     "output_type": "stream",
     "text": [
      "              precision    recall  f1-score   support\n",
      "\n",
      "           A       0.34      0.96      0.51        48\n",
      "           D       0.00      0.00      0.00        53\n",
      "           H       0.70      0.44      0.54        89\n",
      "\n",
      "    accuracy                           0.45       190\n",
      "   macro avg       0.35      0.47      0.35       190\n",
      "weighted avg       0.41      0.45      0.38       190\n",
      "\n"
     ]
    },
    {
     "name": "stderr",
     "output_type": "stream",
     "text": [
      "C:\\Users\\George\\anaconda3\\envs\\tf\\lib\\site-packages\\sklearn\\metrics\\_classification.py:1327: UndefinedMetricWarning: Precision and F-score are ill-defined and being set to 0.0 in labels with no predicted samples. Use `zero_division` parameter to control this behavior.\n",
      "  _warn_prf(average, modifier, msg_start, len(result))\n",
      "C:\\Users\\George\\anaconda3\\envs\\tf\\lib\\site-packages\\sklearn\\metrics\\_classification.py:1327: UndefinedMetricWarning: Precision and F-score are ill-defined and being set to 0.0 in labels with no predicted samples. Use `zero_division` parameter to control this behavior.\n",
      "  _warn_prf(average, modifier, msg_start, len(result))\n",
      "C:\\Users\\George\\anaconda3\\envs\\tf\\lib\\site-packages\\sklearn\\metrics\\_classification.py:1327: UndefinedMetricWarning: Precision and F-score are ill-defined and being set to 0.0 in labels with no predicted samples. Use `zero_division` parameter to control this behavior.\n",
      "  _warn_prf(average, modifier, msg_start, len(result))\n"
     ]
    }
   ],
   "source": [
    "print(classification_report(y_test,grid_pred))"
   ]
  },
  {
   "cell_type": "markdown",
   "id": "05f592a5",
   "metadata": {},
   "source": [
    "The best accuracy we could get is 0,45 after GridSearchCV.\n",
    "\n",
    "Hyperparameters:\n",
    "- 'leaf_size': 1 \n",
    "- 'n_neighbors': 32 \n",
    "- 'p': 3 \n",
    "- 'weights': 'uniform'"
   ]
  },
  {
   "cell_type": "markdown",
   "id": "10bd4a3b",
   "metadata": {},
   "source": [
    "**Season 16/17**"
   ]
  },
  {
   "cell_type": "code",
   "execution_count": 75,
   "id": "ce0d32e5",
   "metadata": {},
   "outputs": [],
   "source": [
    "X = s1617.drop('FTR',axis=1)\n",
    "y = s1617[['FTR','round']]\n",
    "\n",
    "X_train = X[X['round']==1].drop('round',axis=1)\n",
    "X_test = X[X['round']==2].drop('round',axis=1)\n",
    "\n",
    "y_train = y[y['round']==1].drop('round',axis=1)\n",
    "y_test = y[y['round']==2].drop('round',axis=1)\n",
    "\n",
    "scaled_X_train = scaler.fit_transform(X_train)\n",
    "scaled_X_test = scaler.transform(X_test)"
   ]
  },
  {
   "cell_type": "code",
   "execution_count": 76,
   "id": "f2162a20",
   "metadata": {},
   "outputs": [],
   "source": [
    "first_model.fit(scaled_X_train,y_train.values.ravel())\n",
    "base_pred =first_model.predict(scaled_X_test)"
   ]
  },
  {
   "cell_type": "code",
   "execution_count": 77,
   "id": "8b4fccae",
   "metadata": {},
   "outputs": [
    {
     "data": {
      "text/plain": [
       "array([[36,  0, 28],\n",
       "       [18,  1, 23],\n",
       "       [18,  1, 65]], dtype=int64)"
      ]
     },
     "execution_count": 77,
     "metadata": {},
     "output_type": "execute_result"
    }
   ],
   "source": [
    "confusion_matrix(y_test,base_pred)"
   ]
  },
  {
   "cell_type": "code",
   "execution_count": 78,
   "id": "1a9a5849",
   "metadata": {},
   "outputs": [
    {
     "name": "stdout",
     "output_type": "stream",
     "text": [
      "              precision    recall  f1-score   support\n",
      "\n",
      "           A       0.50      0.56      0.53        64\n",
      "           D       0.50      0.02      0.05        42\n",
      "           H       0.56      0.77      0.65        84\n",
      "\n",
      "    accuracy                           0.54       190\n",
      "   macro avg       0.52      0.45      0.41       190\n",
      "weighted avg       0.53      0.54      0.48       190\n",
      "\n"
     ]
    }
   ],
   "source": [
    "print(classification_report(y_test,base_pred))"
   ]
  },
  {
   "cell_type": "code",
   "execution_count": 79,
   "id": "eb22db94",
   "metadata": {},
   "outputs": [],
   "source": [
    "leaf_size = list(range(1,30))\n",
    "n_neighbors = list(range(1,40))\n",
    "p=[1,2,3]\n",
    "weights = ['uniform','distance']\n",
    "\n",
    "grid_param = {'leaf_size':leaf_size,\n",
    "              'n_neighbors':n_neighbors,\n",
    "              'p': p,\n",
    "              'weights': weights}\n",
    "\n",
    "grid_model = GridSearchCV(first_model,param_grid=grid_param,scoring='accuracy')\n",
    "\n",
    "grid_model.fit(scaled_X_train,y_train.values.ravel())\n",
    "grid_pred = grid_model.predict(scaled_X_test)"
   ]
  },
  {
   "cell_type": "code",
   "execution_count": 80,
   "id": "b67af53b",
   "metadata": {},
   "outputs": [
    {
     "data": {
      "text/plain": [
       "{'leaf_size': 1, 'n_neighbors': 18, 'p': 2, 'weights': 'uniform'}"
      ]
     },
     "execution_count": 80,
     "metadata": {},
     "output_type": "execute_result"
    }
   ],
   "source": [
    "grid_model.best_params_"
   ]
  },
  {
   "cell_type": "code",
   "execution_count": 81,
   "id": "2aad95bb",
   "metadata": {},
   "outputs": [
    {
     "data": {
      "text/plain": [
       "array([[35,  0, 29],\n",
       "       [14,  0, 28],\n",
       "       [11,  0, 73]], dtype=int64)"
      ]
     },
     "execution_count": 81,
     "metadata": {},
     "output_type": "execute_result"
    }
   ],
   "source": [
    "confusion_matrix(y_test,grid_pred)"
   ]
  },
  {
   "cell_type": "code",
   "execution_count": 82,
   "id": "987b5720",
   "metadata": {},
   "outputs": [
    {
     "name": "stdout",
     "output_type": "stream",
     "text": [
      "              precision    recall  f1-score   support\n",
      "\n",
      "           A       0.58      0.55      0.56        64\n",
      "           D       0.00      0.00      0.00        42\n",
      "           H       0.56      0.87      0.68        84\n",
      "\n",
      "    accuracy                           0.57       190\n",
      "   macro avg       0.38      0.47      0.42       190\n",
      "weighted avg       0.44      0.57      0.49       190\n",
      "\n"
     ]
    },
    {
     "name": "stderr",
     "output_type": "stream",
     "text": [
      "C:\\Users\\George\\anaconda3\\envs\\tf\\lib\\site-packages\\sklearn\\metrics\\_classification.py:1327: UndefinedMetricWarning: Precision and F-score are ill-defined and being set to 0.0 in labels with no predicted samples. Use `zero_division` parameter to control this behavior.\n",
      "  _warn_prf(average, modifier, msg_start, len(result))\n",
      "C:\\Users\\George\\anaconda3\\envs\\tf\\lib\\site-packages\\sklearn\\metrics\\_classification.py:1327: UndefinedMetricWarning: Precision and F-score are ill-defined and being set to 0.0 in labels with no predicted samples. Use `zero_division` parameter to control this behavior.\n",
      "  _warn_prf(average, modifier, msg_start, len(result))\n",
      "C:\\Users\\George\\anaconda3\\envs\\tf\\lib\\site-packages\\sklearn\\metrics\\_classification.py:1327: UndefinedMetricWarning: Precision and F-score are ill-defined and being set to 0.0 in labels with no predicted samples. Use `zero_division` parameter to control this behavior.\n",
      "  _warn_prf(average, modifier, msg_start, len(result))\n"
     ]
    }
   ],
   "source": [
    "print(classification_report(y_test,grid_pred))"
   ]
  },
  {
   "cell_type": "markdown",
   "id": "8e0baa25",
   "metadata": {},
   "source": [
    "Best accuracy we could get is 0,57 after GridSearchCV.\n",
    "\n",
    "Hyperparameters:\n",
    "- 'leaf_size': 1 \n",
    "- 'n_neighbors': 18 \n",
    "- 'p': 2 \n",
    "- 'weights': 'uniform'"
   ]
  },
  {
   "cell_type": "markdown",
   "id": "7a05d39d",
   "metadata": {},
   "source": [
    "**Season 17/18**"
   ]
  },
  {
   "cell_type": "code",
   "execution_count": 83,
   "id": "5d0fc12e",
   "metadata": {},
   "outputs": [],
   "source": [
    "X = s1718.drop('FTR',axis=1)\n",
    "y = s1718[['FTR','round']]\n",
    "\n",
    "X_train = X[X['round']==1].drop('round',axis=1)\n",
    "X_test = X[X['round']==2].drop('round',axis=1)\n",
    "\n",
    "y_train = y[y['round']==1].drop('round',axis=1)\n",
    "y_test = y[y['round']==2].drop('round',axis=1)\n",
    "\n",
    "scaled_X_train = scaler.fit_transform(X_train)\n",
    "scaled_X_test = scaler.transform(X_test)"
   ]
  },
  {
   "cell_type": "code",
   "execution_count": 84,
   "id": "e9d8e1d4",
   "metadata": {},
   "outputs": [],
   "source": [
    "first_model.fit(scaled_X_train,y_train.values.ravel())\n",
    "base_pred =first_model.predict(scaled_X_test)"
   ]
  },
  {
   "cell_type": "code",
   "execution_count": 85,
   "id": "c80a1fa3",
   "metadata": {},
   "outputs": [
    {
     "data": {
      "text/plain": [
       "array([[35, 22,  6],\n",
       "       [19, 16,  6],\n",
       "       [30, 26, 30]], dtype=int64)"
      ]
     },
     "execution_count": 85,
     "metadata": {},
     "output_type": "execute_result"
    }
   ],
   "source": [
    "confusion_matrix(y_test,base_pred)"
   ]
  },
  {
   "cell_type": "code",
   "execution_count": 86,
   "id": "b9810d21",
   "metadata": {},
   "outputs": [
    {
     "name": "stdout",
     "output_type": "stream",
     "text": [
      "              precision    recall  f1-score   support\n",
      "\n",
      "           A       0.42      0.56      0.48        63\n",
      "           D       0.25      0.39      0.30        41\n",
      "           H       0.71      0.35      0.47        86\n",
      "\n",
      "    accuracy                           0.43       190\n",
      "   macro avg       0.46      0.43      0.42       190\n",
      "weighted avg       0.52      0.43      0.44       190\n",
      "\n"
     ]
    }
   ],
   "source": [
    "print(classification_report(y_test,base_pred))"
   ]
  },
  {
   "cell_type": "code",
   "execution_count": 87,
   "id": "0c5de9eb",
   "metadata": {},
   "outputs": [],
   "source": [
    "leaf_size = list(range(1,30))\n",
    "n_neighbors = list(range(1,40))\n",
    "p=[1,2,3]\n",
    "weights = ['uniform','distance']\n",
    "\n",
    "grid_param = {'leaf_size':leaf_size,\n",
    "              'n_neighbors':n_neighbors,\n",
    "              'p': p,\n",
    "              'weights': weights}\n",
    "\n",
    "grid_model = GridSearchCV(first_model,param_grid=grid_param,scoring='accuracy')\n",
    "\n",
    "grid_model.fit(scaled_X_train,y_train.values.ravel())\n",
    "grid_pred = grid_model.predict(scaled_X_test)"
   ]
  },
  {
   "cell_type": "code",
   "execution_count": 88,
   "id": "9d1dff74",
   "metadata": {},
   "outputs": [
    {
     "data": {
      "text/plain": [
       "{'leaf_size': 1, 'n_neighbors': 9, 'p': 1, 'weights': 'uniform'}"
      ]
     },
     "execution_count": 88,
     "metadata": {},
     "output_type": "execute_result"
    }
   ],
   "source": [
    "grid_model.best_params_"
   ]
  },
  {
   "cell_type": "code",
   "execution_count": 89,
   "id": "ec3583f3",
   "metadata": {},
   "outputs": [
    {
     "data": {
      "text/plain": [
       "array([[39, 16,  8],\n",
       "       [22, 12,  7],\n",
       "       [25, 18, 43]], dtype=int64)"
      ]
     },
     "execution_count": 89,
     "metadata": {},
     "output_type": "execute_result"
    }
   ],
   "source": [
    "confusion_matrix(y_test,grid_pred)"
   ]
  },
  {
   "cell_type": "code",
   "execution_count": 90,
   "id": "49ef13ce",
   "metadata": {},
   "outputs": [
    {
     "name": "stdout",
     "output_type": "stream",
     "text": [
      "              precision    recall  f1-score   support\n",
      "\n",
      "           A       0.45      0.62      0.52        63\n",
      "           D       0.26      0.29      0.28        41\n",
      "           H       0.74      0.50      0.60        86\n",
      "\n",
      "    accuracy                           0.49       190\n",
      "   macro avg       0.49      0.47      0.47       190\n",
      "weighted avg       0.54      0.49      0.50       190\n",
      "\n"
     ]
    }
   ],
   "source": [
    "print(classification_report(y_test,grid_pred))"
   ]
  },
  {
   "cell_type": "markdown",
   "id": "5ed8a8ee",
   "metadata": {},
   "source": [
    "Best accuracy we could get is 0,49 after GridSearchCV.\n",
    "\n",
    "Hyperparameters:\n",
    "- 'leaf_size': 1 \n",
    "- 'n_neighbors': 9 \n",
    "- 'p': 1 \n",
    "- 'weights': 'uniform'"
   ]
  },
  {
   "cell_type": "markdown",
   "id": "bd0cb32b",
   "metadata": {},
   "source": [
    "**Season 18/19**"
   ]
  },
  {
   "cell_type": "code",
   "execution_count": 91,
   "id": "be8253c8",
   "metadata": {},
   "outputs": [],
   "source": [
    "X = s1819.drop('FTR',axis=1)\n",
    "y = s1819[['FTR','round']]\n",
    "\n",
    "X_train = X[X['round']==1].drop('round',axis=1)\n",
    "X_test = X[X['round']==2].drop('round',axis=1)\n",
    "\n",
    "y_train = y[y['round']==1].drop('round',axis=1)\n",
    "y_test = y[y['round']==2].drop('round',axis=1)\n",
    "\n",
    "scaled_X_train = scaler.fit_transform(X_train)\n",
    "scaled_X_test = scaler.transform(X_test)"
   ]
  },
  {
   "cell_type": "code",
   "execution_count": 92,
   "id": "310f1e1b",
   "metadata": {},
   "outputs": [],
   "source": [
    "first_model.fit(scaled_X_train,y_train.values.ravel())\n",
    "base_pred =first_model.predict(scaled_X_test)"
   ]
  },
  {
   "cell_type": "code",
   "execution_count": 93,
   "id": "f05fa672",
   "metadata": {},
   "outputs": [
    {
     "data": {
      "text/plain": [
       "array([[15, 24, 16],\n",
       "       [12, 15, 25],\n",
       "       [20, 16, 47]], dtype=int64)"
      ]
     },
     "execution_count": 93,
     "metadata": {},
     "output_type": "execute_result"
    }
   ],
   "source": [
    "confusion_matrix(y_test,base_pred)"
   ]
  },
  {
   "cell_type": "code",
   "execution_count": 94,
   "id": "9f5f9585",
   "metadata": {},
   "outputs": [
    {
     "name": "stdout",
     "output_type": "stream",
     "text": [
      "              precision    recall  f1-score   support\n",
      "\n",
      "           A       0.32      0.27      0.29        55\n",
      "           D       0.27      0.29      0.28        52\n",
      "           H       0.53      0.57      0.55        83\n",
      "\n",
      "    accuracy                           0.41       190\n",
      "   macro avg       0.38      0.38      0.37       190\n",
      "weighted avg       0.40      0.41      0.40       190\n",
      "\n"
     ]
    }
   ],
   "source": [
    "print(classification_report(y_test,base_pred))"
   ]
  },
  {
   "cell_type": "code",
   "execution_count": 95,
   "id": "7d14e45d",
   "metadata": {},
   "outputs": [],
   "source": [
    "leaf_size = list(range(1,30))\n",
    "n_neighbors = list(range(1,40))\n",
    "p=[1,2,3]\n",
    "weights = ['uniform','distance']\n",
    "\n",
    "grid_param = {'leaf_size':leaf_size,\n",
    "              'n_neighbors':n_neighbors,\n",
    "              'p': p,\n",
    "              'weights': weights}\n",
    "\n",
    "grid_model = GridSearchCV(first_model,param_grid=grid_param,scoring='accuracy')\n",
    "\n",
    "grid_model.fit(scaled_X_train,y_train.values.ravel())\n",
    "grid_pred = grid_model.predict(scaled_X_test)"
   ]
  },
  {
   "cell_type": "code",
   "execution_count": 96,
   "id": "5ffb0bbd",
   "metadata": {},
   "outputs": [
    {
     "data": {
      "text/plain": [
       "{'leaf_size': 1, 'n_neighbors': 15, 'p': 1, 'weights': 'distance'}"
      ]
     },
     "execution_count": 96,
     "metadata": {},
     "output_type": "execute_result"
    }
   ],
   "source": [
    "grid_model.best_params_"
   ]
  },
  {
   "cell_type": "code",
   "execution_count": 97,
   "id": "21fdc941",
   "metadata": {},
   "outputs": [
    {
     "data": {
      "text/plain": [
       "array([[16, 29, 10],\n",
       "       [ 5, 23, 24],\n",
       "       [ 6, 23, 54]], dtype=int64)"
      ]
     },
     "execution_count": 97,
     "metadata": {},
     "output_type": "execute_result"
    }
   ],
   "source": [
    "confusion_matrix(y_test,grid_pred)"
   ]
  },
  {
   "cell_type": "code",
   "execution_count": 98,
   "id": "92e7caf0",
   "metadata": {},
   "outputs": [
    {
     "name": "stdout",
     "output_type": "stream",
     "text": [
      "              precision    recall  f1-score   support\n",
      "\n",
      "           A       0.59      0.29      0.39        55\n",
      "           D       0.31      0.44      0.36        52\n",
      "           H       0.61      0.65      0.63        83\n",
      "\n",
      "    accuracy                           0.49       190\n",
      "   macro avg       0.50      0.46      0.46       190\n",
      "weighted avg       0.52      0.49      0.49       190\n",
      "\n"
     ]
    }
   ],
   "source": [
    "print(classification_report(y_test,grid_pred))"
   ]
  },
  {
   "cell_type": "markdown",
   "id": "883c541b",
   "metadata": {},
   "source": [
    "The best accuracy we could get is 0,49 after implementing GridSearchCV.\n",
    "\n",
    "Hyperparameters:\n",
    "- 'leaf_size': 1 \n",
    "- 'n_neighbors': 9 \n",
    "- 'p': 1 \n",
    "- 'weights': 'uniform'"
   ]
  },
  {
   "cell_type": "markdown",
   "id": "037e4ef7",
   "metadata": {},
   "source": [
    "**Season 19/20**"
   ]
  },
  {
   "cell_type": "code",
   "execution_count": 99,
   "id": "ba5a942a",
   "metadata": {},
   "outputs": [],
   "source": [
    "X = s1920.drop('FTR',axis=1)\n",
    "y = s1920[['FTR','round']]\n",
    "\n",
    "X_train = X[X['round']==1].drop('round',axis=1)\n",
    "X_test = X[X['round']==2].drop('round',axis=1)\n",
    "\n",
    "y_train = y[y['round']==1].drop('round',axis=1)\n",
    "y_test = y[y['round']==2].drop('round',axis=1)\n",
    "\n",
    "scaled_X_train = scaler.fit_transform(X_train)\n",
    "scaled_X_test = scaler.transform(X_test)"
   ]
  },
  {
   "cell_type": "code",
   "execution_count": 100,
   "id": "c83af4aa",
   "metadata": {},
   "outputs": [],
   "source": [
    "first_model.fit(scaled_X_train,y_train.values.ravel())\n",
    "base_pred =first_model.predict(scaled_X_test)"
   ]
  },
  {
   "cell_type": "code",
   "execution_count": 101,
   "id": "7447dfd5",
   "metadata": {},
   "outputs": [
    {
     "data": {
      "text/plain": [
       "array([[44,  3, 20],\n",
       "       [23,  4, 16],\n",
       "       [25,  5, 50]], dtype=int64)"
      ]
     },
     "execution_count": 101,
     "metadata": {},
     "output_type": "execute_result"
    }
   ],
   "source": [
    "confusion_matrix(y_test,base_pred)"
   ]
  },
  {
   "cell_type": "code",
   "execution_count": 102,
   "id": "c2745491",
   "metadata": {},
   "outputs": [
    {
     "name": "stdout",
     "output_type": "stream",
     "text": [
      "              precision    recall  f1-score   support\n",
      "\n",
      "           A       0.48      0.66      0.55        67\n",
      "           D       0.33      0.09      0.15        43\n",
      "           H       0.58      0.62      0.60        80\n",
      "\n",
      "    accuracy                           0.52       190\n",
      "   macro avg       0.46      0.46      0.43       190\n",
      "weighted avg       0.49      0.52      0.48       190\n",
      "\n"
     ]
    }
   ],
   "source": [
    "print(classification_report(y_test,base_pred))"
   ]
  },
  {
   "cell_type": "code",
   "execution_count": 103,
   "id": "633798f1",
   "metadata": {},
   "outputs": [],
   "source": [
    "leaf_size = list(range(1,30))\n",
    "n_neighbors = list(range(1,40))\n",
    "p=[1,2,3]\n",
    "weights = ['uniform','distance']\n",
    "\n",
    "grid_param = {'leaf_size':leaf_size,\n",
    "              'n_neighbors':n_neighbors,\n",
    "              'p': p,\n",
    "              'weights': weights}\n",
    "\n",
    "grid_model = GridSearchCV(first_model,param_grid=grid_param,scoring='accuracy')\n",
    "\n",
    "grid_model.fit(scaled_X_train,y_train.values.ravel())\n",
    "grid_pred = grid_model.predict(scaled_X_test)"
   ]
  },
  {
   "cell_type": "code",
   "execution_count": 104,
   "id": "886e3b57",
   "metadata": {},
   "outputs": [
    {
     "data": {
      "text/plain": [
       "{'leaf_size': 1, 'n_neighbors': 35, 'p': 1, 'weights': 'distance'}"
      ]
     },
     "execution_count": 104,
     "metadata": {},
     "output_type": "execute_result"
    }
   ],
   "source": [
    "grid_model.best_params_"
   ]
  },
  {
   "cell_type": "code",
   "execution_count": 105,
   "id": "b757c89c",
   "metadata": {},
   "outputs": [
    {
     "data": {
      "text/plain": [
       "array([[40,  0, 27],\n",
       "       [20,  0, 23],\n",
       "       [21,  0, 59]], dtype=int64)"
      ]
     },
     "execution_count": 105,
     "metadata": {},
     "output_type": "execute_result"
    }
   ],
   "source": [
    "confusion_matrix(y_test,grid_pred)"
   ]
  },
  {
   "cell_type": "code",
   "execution_count": 106,
   "id": "23ee3b76",
   "metadata": {},
   "outputs": [
    {
     "name": "stdout",
     "output_type": "stream",
     "text": [
      "              precision    recall  f1-score   support\n",
      "\n",
      "           A       0.49      0.60      0.54        67\n",
      "           D       0.00      0.00      0.00        43\n",
      "           H       0.54      0.74      0.62        80\n",
      "\n",
      "    accuracy                           0.52       190\n",
      "   macro avg       0.35      0.44      0.39       190\n",
      "weighted avg       0.40      0.52      0.45       190\n",
      "\n"
     ]
    },
    {
     "name": "stderr",
     "output_type": "stream",
     "text": [
      "C:\\Users\\George\\anaconda3\\envs\\tf\\lib\\site-packages\\sklearn\\metrics\\_classification.py:1327: UndefinedMetricWarning: Precision and F-score are ill-defined and being set to 0.0 in labels with no predicted samples. Use `zero_division` parameter to control this behavior.\n",
      "  _warn_prf(average, modifier, msg_start, len(result))\n",
      "C:\\Users\\George\\anaconda3\\envs\\tf\\lib\\site-packages\\sklearn\\metrics\\_classification.py:1327: UndefinedMetricWarning: Precision and F-score are ill-defined and being set to 0.0 in labels with no predicted samples. Use `zero_division` parameter to control this behavior.\n",
      "  _warn_prf(average, modifier, msg_start, len(result))\n",
      "C:\\Users\\George\\anaconda3\\envs\\tf\\lib\\site-packages\\sklearn\\metrics\\_classification.py:1327: UndefinedMetricWarning: Precision and F-score are ill-defined and being set to 0.0 in labels with no predicted samples. Use `zero_division` parameter to control this behavior.\n",
      "  _warn_prf(average, modifier, msg_start, len(result))\n"
     ]
    }
   ],
   "source": [
    "print(classification_report(y_test,grid_pred))"
   ]
  },
  {
   "cell_type": "markdown",
   "id": "15361c8e",
   "metadata": {},
   "source": [
    "The best accuracy we could get is 0,52 after implementing GridSearchCV.\n",
    "\n",
    "Hyperparameters:\n",
    "- 'leaf_size': 1 \n",
    "- 'n_neighbors': 35 \n",
    "- 'p': 1 \n",
    "- 'weights': 'distance'"
   ]
  },
  {
   "cell_type": "markdown",
   "id": "65ee2189",
   "metadata": {},
   "source": [
    "**La Liga**"
   ]
  },
  {
   "cell_type": "code",
   "execution_count": 12,
   "id": "05249159",
   "metadata": {},
   "outputs": [],
   "source": [
    "df = pd.read_csv(r\"C:\\Users\\George\\Desktop\\football-match-prediction-using-ml-techniques\\fe\\la_liga.csv\")"
   ]
  },
  {
   "cell_type": "code",
   "execution_count": 13,
   "id": "f74d20a1",
   "metadata": {},
   "outputs": [],
   "source": [
    "#We assign a unique value at every team of the league\n",
    "team_id = {'Almeria':1, 'Granada':2, 'Malaga':3, 'Sevilla':4, 'Barcelona':5, 'Celta':6,\n",
    "           'Eibar':7, 'Levante':8, 'Real Madrid':9, 'Vallecano':10, 'Getafe':11,\n",
    "           'Valencia':12, 'Ath Bilbao':13, 'Ath Madrid':14, 'Cordoba':15, 'Espanol':16,\n",
    "           'Elche':17, 'La Coruna':18, 'Sociedad':19, 'Villarreal':20, 'Betis':21,\n",
    "           'Sp Gijon':22, 'Las Palmas':23, 'Leganes':24, 'Osasuna':25, 'Alaves':26, 'Girona':27,\n",
    "           'Valladolid':28, 'Huesca':29, 'Mallorca':30}\n",
    "\n",
    "for key,value in df.iteritems():\n",
    "    df['HomeTeam'] = df['HomeTeam'].apply(lambda x: team_id.get(x,x))\n",
    "    \n",
    "for key,value in df.iteritems():\n",
    "    df['AwayTeam'] = df['AwayTeam'].apply(lambda x: team_id.get(x,x))"
   ]
  },
  {
   "cell_type": "code",
   "execution_count": 14,
   "id": "9abec788",
   "metadata": {},
   "outputs": [],
   "source": [
    "#We are dropping the starts that are not available to us before the game \n",
    "df = df.drop(['Unnamed: 0', 'Date','FTHG', 'FTAG', 'HTHG','HTAG','league', 'Hppda_coef', 'Appda_coef','HTW', 'HTD',\n",
    "              'HTCR', 'ATCR','HTGS','HTxpts', 'ATxpts','ATGS', 'HTGC', 'ATGC','HTOVA_S', 'HTatt_S', 'HomeTeamPoints','AwayTeamPoints',\n",
    "              'HTmid_S','HTdef_S', 'ATOVA_S', 'ATatt_S','ATmid_S','ATdef_S','l5_ravg_HTgs', 'l5_ravg_ATgs','l5_ravg_HTgc', 'l5_ravg_ATgc',\n",
    "              'HTL', 'ATL', 'ATD', 'ATW'],axis=1)\n",
    "\n",
    "df = df.dropna()"
   ]
  },
  {
   "cell_type": "code",
   "execution_count": 15,
   "id": "8aa21e27",
   "metadata": {},
   "outputs": [],
   "source": [
    "s1415 = df[df['season']=='2014/2015'].drop('season',axis=1)\n",
    "s1516 = df[df['season']=='2015/2016'].drop('season',axis=1)\n",
    "s1617 = df[df['season']=='2016/2017'].drop('season',axis=1)\n",
    "s1718 = df[df['season']=='2017/2018'].drop('season',axis=1)\n",
    "s1819 = df[df['season']=='2018/2019'].drop('season',axis=1)\n",
    "s1920 = df[df['season']=='2019/2020'].drop('season',axis=1)"
   ]
  },
  {
   "cell_type": "markdown",
   "id": "a3af58c7",
   "metadata": {},
   "source": [
    "**Season 14/15**"
   ]
  },
  {
   "cell_type": "code",
   "execution_count": 111,
   "id": "816f4a15",
   "metadata": {},
   "outputs": [],
   "source": [
    "X = s1415.drop('FTR',axis=1)\n",
    "y = s1415[['FTR','round']]\n",
    "\n",
    "X_train = X[X['round']==1].drop('round',axis=1)\n",
    "X_test = X[X['round']==2].drop('round',axis=1)\n",
    "\n",
    "y_train = y[y['round']==1].drop('round',axis=1)\n",
    "y_test = y[y['round']==2].drop('round',axis=1)\n",
    "\n",
    "scaled_X_train = scaler.fit_transform(X_train)\n",
    "scaled_X_test = scaler.transform(X_test)"
   ]
  },
  {
   "cell_type": "code",
   "execution_count": 112,
   "id": "dc56dac4",
   "metadata": {},
   "outputs": [],
   "source": [
    "first_model.fit(scaled_X_train,y_train.values.ravel())\n",
    "base_pred =first_model.predict(scaled_X_test)"
   ]
  },
  {
   "cell_type": "code",
   "execution_count": 113,
   "id": "004cdd9a",
   "metadata": {},
   "outputs": [
    {
     "data": {
      "text/plain": [
       "array([[33,  9, 14],\n",
       "       [15, 13, 16],\n",
       "       [24, 10, 56]], dtype=int64)"
      ]
     },
     "execution_count": 113,
     "metadata": {},
     "output_type": "execute_result"
    }
   ],
   "source": [
    "confusion_matrix(y_test,base_pred)"
   ]
  },
  {
   "cell_type": "code",
   "execution_count": 114,
   "id": "f11a13a1",
   "metadata": {},
   "outputs": [
    {
     "name": "stdout",
     "output_type": "stream",
     "text": [
      "              precision    recall  f1-score   support\n",
      "\n",
      "           A       0.46      0.59      0.52        56\n",
      "           D       0.41      0.30      0.34        44\n",
      "           H       0.65      0.62      0.64        90\n",
      "\n",
      "    accuracy                           0.54       190\n",
      "   macro avg       0.51      0.50      0.50       190\n",
      "weighted avg       0.54      0.54      0.53       190\n",
      "\n"
     ]
    }
   ],
   "source": [
    "print(classification_report(y_test,base_pred))"
   ]
  },
  {
   "cell_type": "code",
   "execution_count": 115,
   "id": "43b41b4a",
   "metadata": {},
   "outputs": [],
   "source": [
    "leaf_size = list(range(1,30))\n",
    "n_neighbors = list(range(1,40))\n",
    "p=[1,2,3]\n",
    "weights = ['uniform','distance']\n",
    "\n",
    "grid_param = {'leaf_size':leaf_size,\n",
    "              'n_neighbors':n_neighbors,\n",
    "              'p': p,\n",
    "              'weights': weights}\n",
    "\n",
    "grid_model = GridSearchCV(first_model,param_grid=grid_param,scoring='accuracy')\n",
    "\n",
    "grid_model.fit(scaled_X_train,y_train.values.ravel())\n",
    "grid_pred = grid_model.predict(scaled_X_test)"
   ]
  },
  {
   "cell_type": "code",
   "execution_count": 116,
   "id": "c7e97ce3",
   "metadata": {},
   "outputs": [
    {
     "data": {
      "text/plain": [
       "{'leaf_size': 1, 'n_neighbors': 39, 'p': 2, 'weights': 'distance'}"
      ]
     },
     "execution_count": 116,
     "metadata": {},
     "output_type": "execute_result"
    }
   ],
   "source": [
    "grid_model.best_params_"
   ]
  },
  {
   "cell_type": "code",
   "execution_count": 117,
   "id": "bb911b75",
   "metadata": {},
   "outputs": [
    {
     "data": {
      "text/plain": [
       "array([[38,  5, 13],\n",
       "       [17,  2, 25],\n",
       "       [17,  2, 71]], dtype=int64)"
      ]
     },
     "execution_count": 117,
     "metadata": {},
     "output_type": "execute_result"
    }
   ],
   "source": [
    "confusion_matrix(y_test,grid_pred)"
   ]
  },
  {
   "cell_type": "code",
   "execution_count": 118,
   "id": "7bf0f5b4",
   "metadata": {},
   "outputs": [
    {
     "name": "stdout",
     "output_type": "stream",
     "text": [
      "              precision    recall  f1-score   support\n",
      "\n",
      "           A       0.53      0.68      0.59        56\n",
      "           D       0.22      0.05      0.08        44\n",
      "           H       0.65      0.79      0.71        90\n",
      "\n",
      "    accuracy                           0.58       190\n",
      "   macro avg       0.47      0.50      0.46       190\n",
      "weighted avg       0.52      0.58      0.53       190\n",
      "\n"
     ]
    }
   ],
   "source": [
    "print(classification_report(y_test,grid_pred))"
   ]
  },
  {
   "cell_type": "markdown",
   "id": "7e5a6b3b",
   "metadata": {},
   "source": [
    "The best accuracy we could get is 0,58 after implementing GridSearchCV\n",
    "\n",
    "Hyperparameters:\n",
    "- 'leaf_size': 1\n",
    "- 'n_neighbors': 39 \n",
    "- 'p': 2 \n",
    "- 'weights': 'distance'"
   ]
  },
  {
   "cell_type": "markdown",
   "id": "cac7f2a9",
   "metadata": {},
   "source": [
    "**Season 15/16**"
   ]
  },
  {
   "cell_type": "code",
   "execution_count": 119,
   "id": "d5e3ab41",
   "metadata": {},
   "outputs": [],
   "source": [
    "X = s1516.drop('FTR',axis=1)\n",
    "y = s1516[['FTR','round']]\n",
    "\n",
    "X_train = X[X['round']==1].drop('round',axis=1)\n",
    "X_test = X[X['round']==2].drop('round',axis=1)\n",
    "\n",
    "y_train = y[y['round']==1].drop('round',axis=1)\n",
    "y_test = y[y['round']==2].drop('round',axis=1)\n",
    "\n",
    "scaled_X_train = scaler.fit_transform(X_train)\n",
    "scaled_X_test = scaler.transform(X_test)"
   ]
  },
  {
   "cell_type": "code",
   "execution_count": 120,
   "id": "ee713112",
   "metadata": {},
   "outputs": [],
   "source": [
    "first_model.fit(scaled_X_train,y_train.values.ravel())\n",
    "base_pred =first_model.predict(scaled_X_test)"
   ]
  },
  {
   "cell_type": "code",
   "execution_count": 121,
   "id": "66390990",
   "metadata": {},
   "outputs": [
    {
     "data": {
      "text/plain": [
       "array([[15, 15, 23],\n",
       "       [11,  7, 27],\n",
       "       [18,  3, 71]], dtype=int64)"
      ]
     },
     "execution_count": 121,
     "metadata": {},
     "output_type": "execute_result"
    }
   ],
   "source": [
    "confusion_matrix(y_test,base_pred)"
   ]
  },
  {
   "cell_type": "code",
   "execution_count": 122,
   "id": "068ece81",
   "metadata": {},
   "outputs": [
    {
     "name": "stdout",
     "output_type": "stream",
     "text": [
      "              precision    recall  f1-score   support\n",
      "\n",
      "           A       0.34      0.28      0.31        53\n",
      "           D       0.28      0.16      0.20        45\n",
      "           H       0.59      0.77      0.67        92\n",
      "\n",
      "    accuracy                           0.49       190\n",
      "   macro avg       0.40      0.40      0.39       190\n",
      "weighted avg       0.45      0.49      0.46       190\n",
      "\n"
     ]
    }
   ],
   "source": [
    "print(classification_report(y_test,base_pred))"
   ]
  },
  {
   "cell_type": "code",
   "execution_count": 123,
   "id": "bb61e2a7",
   "metadata": {},
   "outputs": [],
   "source": [
    "leaf_size = list(range(1,30))\n",
    "n_neighbors = list(range(1,40))\n",
    "p=[1,2,3]\n",
    "weights = ['uniform','distance']\n",
    "\n",
    "grid_param = {'leaf_size':leaf_size,\n",
    "              'n_neighbors':n_neighbors,\n",
    "              'p': p,\n",
    "              'weights': weights}\n",
    "\n",
    "grid_model = GridSearchCV(first_model,param_grid=grid_param,scoring='accuracy')\n",
    "\n",
    "grid_model.fit(scaled_X_train,y_train.values.ravel())\n",
    "grid_pred = grid_model.predict(scaled_X_test)"
   ]
  },
  {
   "cell_type": "code",
   "execution_count": 124,
   "id": "bc8d92dc",
   "metadata": {},
   "outputs": [
    {
     "data": {
      "text/plain": [
       "{'leaf_size': 1, 'n_neighbors': 9, 'p': 2, 'weights': 'distance'}"
      ]
     },
     "execution_count": 124,
     "metadata": {},
     "output_type": "execute_result"
    }
   ],
   "source": [
    "grid_model.best_params_"
   ]
  },
  {
   "cell_type": "code",
   "execution_count": 125,
   "id": "7f35e748",
   "metadata": {},
   "outputs": [
    {
     "data": {
      "text/plain": [
       "array([[20,  7, 26],\n",
       "       [ 8,  3, 34],\n",
       "       [10,  2, 80]], dtype=int64)"
      ]
     },
     "execution_count": 125,
     "metadata": {},
     "output_type": "execute_result"
    }
   ],
   "source": [
    "confusion_matrix(y_test,grid_pred)"
   ]
  },
  {
   "cell_type": "code",
   "execution_count": 126,
   "id": "2adc326e",
   "metadata": {},
   "outputs": [
    {
     "name": "stdout",
     "output_type": "stream",
     "text": [
      "              precision    recall  f1-score   support\n",
      "\n",
      "           A       0.53      0.38      0.44        53\n",
      "           D       0.25      0.07      0.11        45\n",
      "           H       0.57      0.87      0.69        92\n",
      "\n",
      "    accuracy                           0.54       190\n",
      "   macro avg       0.45      0.44      0.41       190\n",
      "weighted avg       0.48      0.54      0.48       190\n",
      "\n"
     ]
    }
   ],
   "source": [
    "print(classification_report(y_test,grid_pred))"
   ]
  },
  {
   "cell_type": "markdown",
   "id": "640960c7",
   "metadata": {},
   "source": [
    "Best accuracy we could get is 0.54 after implementing GridSearchCV.\n",
    "\n",
    "Hyperparameters:\n",
    "- 'leaf_size': 1 \n",
    "- 'n_neighbors': 9 \n",
    "- 'p': 2 \n",
    "- 'weights': 'distance'"
   ]
  },
  {
   "cell_type": "markdown",
   "id": "1eb1605e",
   "metadata": {},
   "source": [
    "**Season 16/17**"
   ]
  },
  {
   "cell_type": "code",
   "execution_count": 16,
   "id": "39597b02",
   "metadata": {},
   "outputs": [],
   "source": [
    "X = s1617.drop('FTR',axis=1)\n",
    "y = s1617[['FTR','round']]\n",
    "\n",
    "X_train = X[X['round']==1].drop('round',axis=1)\n",
    "X_test = X[X['round']==2].drop('round',axis=1)\n",
    "\n",
    "y_train = y[y['round']==1].drop('round',axis=1)\n",
    "y_test = y[y['round']==2].drop('round',axis=1)\n",
    "\n",
    "scaled_X_train = scaler.fit_transform(X_train)\n",
    "scaled_X_test = scaler.transform(X_test)"
   ]
  },
  {
   "cell_type": "code",
   "execution_count": 17,
   "id": "6e580bbe",
   "metadata": {},
   "outputs": [],
   "source": [
    "first_model.fit(scaled_X_train,y_train.values.ravel())\n",
    "base_pred =first_model.predict(scaled_X_test)"
   ]
  },
  {
   "cell_type": "code",
   "execution_count": 18,
   "id": "a91c646e",
   "metadata": {},
   "outputs": [
    {
     "data": {
      "text/plain": [
       "array([[32, 25,  4],\n",
       "       [ 5, 18, 12],\n",
       "       [10, 42, 42]], dtype=int64)"
      ]
     },
     "execution_count": 18,
     "metadata": {},
     "output_type": "execute_result"
    }
   ],
   "source": [
    "confusion_matrix(y_test,base_pred)"
   ]
  },
  {
   "cell_type": "code",
   "execution_count": 19,
   "id": "ca47539c",
   "metadata": {},
   "outputs": [
    {
     "name": "stdout",
     "output_type": "stream",
     "text": [
      "              precision    recall  f1-score   support\n",
      "\n",
      "           A       0.68      0.52      0.59        61\n",
      "           D       0.21      0.51      0.30        35\n",
      "           H       0.72      0.45      0.55        94\n",
      "\n",
      "    accuracy                           0.48       190\n",
      "   macro avg       0.54      0.50      0.48       190\n",
      "weighted avg       0.62      0.48      0.52       190\n",
      "\n"
     ]
    }
   ],
   "source": [
    "print(classification_report(y_test,base_pred))"
   ]
  },
  {
   "cell_type": "code",
   "execution_count": 20,
   "id": "e305aa94",
   "metadata": {},
   "outputs": [],
   "source": [
    "leaf_size = list(range(1,30))\n",
    "n_neighbors = list(range(1,40))\n",
    "p=[1,2,3]\n",
    "weights = ['uniform','distance']\n",
    "\n",
    "grid_param = {'leaf_size':leaf_size,\n",
    "              'n_neighbors':n_neighbors,\n",
    "              'p': p,\n",
    "              'weights': weights}\n",
    "\n",
    "grid_model = GridSearchCV(first_model,param_grid=grid_param,scoring='accuracy')\n",
    "\n",
    "grid_model.fit(scaled_X_train,y_train.values.ravel())\n",
    "grid_pred = grid_model.predict(scaled_X_test)"
   ]
  },
  {
   "cell_type": "code",
   "execution_count": 21,
   "id": "a414b6aa",
   "metadata": {},
   "outputs": [
    {
     "data": {
      "text/plain": [
       "{'leaf_size': 1, 'n_neighbors': 10, 'p': 2, 'weights': 'uniform'}"
      ]
     },
     "execution_count": 21,
     "metadata": {},
     "output_type": "execute_result"
    }
   ],
   "source": [
    "grid_model.best_params_"
   ]
  },
  {
   "cell_type": "code",
   "execution_count": 22,
   "id": "809c49fc",
   "metadata": {},
   "outputs": [
    {
     "data": {
      "text/plain": [
       "array([[27, 23, 11],\n",
       "       [ 6, 12, 17],\n",
       "       [ 8, 35, 51]], dtype=int64)"
      ]
     },
     "execution_count": 22,
     "metadata": {},
     "output_type": "execute_result"
    }
   ],
   "source": [
    "confusion_matrix(y_test,grid_pred)"
   ]
  },
  {
   "cell_type": "code",
   "execution_count": 23,
   "id": "6c0f9057",
   "metadata": {},
   "outputs": [
    {
     "name": "stdout",
     "output_type": "stream",
     "text": [
      "              precision    recall  f1-score   support\n",
      "\n",
      "           A       0.66      0.44      0.53        61\n",
      "           D       0.17      0.34      0.23        35\n",
      "           H       0.65      0.54      0.59        94\n",
      "\n",
      "    accuracy                           0.47       190\n",
      "   macro avg       0.49      0.44      0.45       190\n",
      "weighted avg       0.56      0.47      0.50       190\n",
      "\n"
     ]
    }
   ],
   "source": [
    "print(classification_report(y_test,grid_pred))"
   ]
  },
  {
   "cell_type": "markdown",
   "id": "bac893b8",
   "metadata": {},
   "source": [
    "Best accuracy we could get is 0,47 after implementing GridSearchCV\n",
    "\n",
    "Hyperparameters:\n",
    "- 'leaf_size': 1\n",
    "- 'n_neighbors': 10\n",
    "- 'p': 2\n",
    "- 'weights': 'uniform'"
   ]
  },
  {
   "cell_type": "markdown",
   "id": "7fa2ab84",
   "metadata": {},
   "source": [
    "**Season 17/18**"
   ]
  },
  {
   "cell_type": "code",
   "execution_count": 46,
   "id": "cc27afef",
   "metadata": {},
   "outputs": [],
   "source": [
    "X = s1718.drop('FTR',axis=1)\n",
    "y = s1718[['FTR','round']]\n",
    "\n",
    "X_train = X[X['round']==1].drop('round',axis=1)\n",
    "X_test = X[X['round']==2].drop('round',axis=1)\n",
    "\n",
    "y_train = y[y['round']==1].drop('round',axis=1)\n",
    "y_test = y[y['round']==2].drop('round',axis=1)\n",
    "\n",
    "scaled_X_train = scaler.fit_transform(X_train)\n",
    "scaled_X_test = scaler.transform(X_test)"
   ]
  },
  {
   "cell_type": "code",
   "execution_count": 47,
   "id": "dfc8e185",
   "metadata": {},
   "outputs": [],
   "source": [
    "first_model.fit(scaled_X_train,y_train.values.ravel())\n",
    "base_pred =first_model.predict(scaled_X_test)"
   ]
  },
  {
   "cell_type": "code",
   "execution_count": 48,
   "id": "1086f33a",
   "metadata": {},
   "outputs": [
    {
     "data": {
      "text/plain": [
       "array([[34,  9, 10],\n",
       "       [24,  9, 11],\n",
       "       [44, 10, 39]], dtype=int64)"
      ]
     },
     "execution_count": 48,
     "metadata": {},
     "output_type": "execute_result"
    }
   ],
   "source": [
    "confusion_matrix(y_test,base_pred)"
   ]
  },
  {
   "cell_type": "code",
   "execution_count": 49,
   "id": "499b2c4c",
   "metadata": {},
   "outputs": [
    {
     "name": "stdout",
     "output_type": "stream",
     "text": [
      "              precision    recall  f1-score   support\n",
      "\n",
      "           A       0.33      0.64      0.44        53\n",
      "           D       0.32      0.20      0.25        44\n",
      "           H       0.65      0.42      0.51        93\n",
      "\n",
      "    accuracy                           0.43       190\n",
      "   macro avg       0.43      0.42      0.40       190\n",
      "weighted avg       0.49      0.43      0.43       190\n",
      "\n"
     ]
    }
   ],
   "source": [
    "print(classification_report(y_test,base_pred))"
   ]
  },
  {
   "cell_type": "code",
   "execution_count": 50,
   "id": "b96c9cd2",
   "metadata": {},
   "outputs": [],
   "source": [
    "leaf_size = list(range(1,30))\n",
    "n_neighbors = list(range(1,40))\n",
    "p=[1,2,3]\n",
    "weights = ['uniform','distance']\n",
    "\n",
    "grid_param = {'leaf_size':leaf_size,\n",
    "              'n_neighbors':n_neighbors,\n",
    "              'p': p,\n",
    "              'weights': weights}\n",
    "\n",
    "grid_model = GridSearchCV(first_model,param_grid=grid_param,scoring='accuracy')\n",
    "\n",
    "grid_model.fit(scaled_X_train,y_train.values.ravel())\n",
    "grid_pred = grid_model.predict(scaled_X_test)"
   ]
  },
  {
   "cell_type": "code",
   "execution_count": 51,
   "id": "981a61a6",
   "metadata": {},
   "outputs": [
    {
     "data": {
      "text/plain": [
       "{'leaf_size': 1, 'n_neighbors': 29, 'p': 1, 'weights': 'uniform'}"
      ]
     },
     "execution_count": 51,
     "metadata": {},
     "output_type": "execute_result"
    }
   ],
   "source": [
    "grid_model.best_params_"
   ]
  },
  {
   "cell_type": "code",
   "execution_count": 52,
   "id": "11bb2626",
   "metadata": {},
   "outputs": [
    {
     "data": {
      "text/plain": [
       "array([[25,  0, 28],\n",
       "       [18,  0, 26],\n",
       "       [20,  0, 73]], dtype=int64)"
      ]
     },
     "execution_count": 52,
     "metadata": {},
     "output_type": "execute_result"
    }
   ],
   "source": [
    "confusion_matrix(y_test,grid_pred)"
   ]
  },
  {
   "cell_type": "code",
   "execution_count": 53,
   "id": "dcad68d5",
   "metadata": {},
   "outputs": [
    {
     "name": "stdout",
     "output_type": "stream",
     "text": [
      "              precision    recall  f1-score   support\n",
      "\n",
      "           A       0.40      0.47      0.43        53\n",
      "           D       0.00      0.00      0.00        44\n",
      "           H       0.57      0.78      0.66        93\n",
      "\n",
      "    accuracy                           0.52       190\n",
      "   macro avg       0.32      0.42      0.36       190\n",
      "weighted avg       0.39      0.52      0.45       190\n",
      "\n"
     ]
    },
    {
     "name": "stderr",
     "output_type": "stream",
     "text": [
      "C:\\Users\\George\\anaconda3\\envs\\tf\\lib\\site-packages\\sklearn\\metrics\\_classification.py:1327: UndefinedMetricWarning: Precision and F-score are ill-defined and being set to 0.0 in labels with no predicted samples. Use `zero_division` parameter to control this behavior.\n",
      "  _warn_prf(average, modifier, msg_start, len(result))\n",
      "C:\\Users\\George\\anaconda3\\envs\\tf\\lib\\site-packages\\sklearn\\metrics\\_classification.py:1327: UndefinedMetricWarning: Precision and F-score are ill-defined and being set to 0.0 in labels with no predicted samples. Use `zero_division` parameter to control this behavior.\n",
      "  _warn_prf(average, modifier, msg_start, len(result))\n",
      "C:\\Users\\George\\anaconda3\\envs\\tf\\lib\\site-packages\\sklearn\\metrics\\_classification.py:1327: UndefinedMetricWarning: Precision and F-score are ill-defined and being set to 0.0 in labels with no predicted samples. Use `zero_division` parameter to control this behavior.\n",
      "  _warn_prf(average, modifier, msg_start, len(result))\n"
     ]
    }
   ],
   "source": [
    "print(classification_report(y_test,grid_pred))"
   ]
  },
  {
   "cell_type": "markdown",
   "id": "5ca2a4dd",
   "metadata": {},
   "source": [
    "Best accuracy we could get is 0,52 after implementing GridSearchCV\n",
    "\n",
    "Hyperparameters:\n",
    "- 'leaf_size': 1\n",
    "- 'n_neighbors': 29\n",
    "- 'p': 1\n",
    "- 'weights': 'uniform'"
   ]
  },
  {
   "cell_type": "markdown",
   "id": "e8b57bf8",
   "metadata": {},
   "source": [
    "**Season 18/19**"
   ]
  },
  {
   "cell_type": "code",
   "execution_count": 54,
   "id": "c9b631da",
   "metadata": {},
   "outputs": [],
   "source": [
    "X = s1819.drop('FTR',axis=1)\n",
    "y = s1819[['FTR','round']]\n",
    "\n",
    "X_train = X[X['round']==1].drop('round',axis=1)\n",
    "X_test = X[X['round']==2].drop('round',axis=1)\n",
    "\n",
    "y_train = y[y['round']==1].drop('round',axis=1)\n",
    "y_test = y[y['round']==2].drop('round',axis=1)\n",
    "\n",
    "scaled_X_train = scaler.fit_transform(X_train)\n",
    "scaled_X_test = scaler.transform(X_test)"
   ]
  },
  {
   "cell_type": "code",
   "execution_count": 55,
   "id": "3710c11f",
   "metadata": {},
   "outputs": [],
   "source": [
    "first_model.fit(scaled_X_train,y_train.values.ravel())\n",
    "base_pred =first_model.predict(scaled_X_test)"
   ]
  },
  {
   "cell_type": "code",
   "execution_count": 56,
   "id": "73530a17",
   "metadata": {},
   "outputs": [
    {
     "data": {
      "text/plain": [
       "array([[24, 15, 11],\n",
       "       [18, 12, 18],\n",
       "       [28, 27, 37]], dtype=int64)"
      ]
     },
     "execution_count": 56,
     "metadata": {},
     "output_type": "execute_result"
    }
   ],
   "source": [
    "confusion_matrix(y_test,base_pred)"
   ]
  },
  {
   "cell_type": "code",
   "execution_count": 57,
   "id": "4669b65d",
   "metadata": {},
   "outputs": [
    {
     "name": "stdout",
     "output_type": "stream",
     "text": [
      "              precision    recall  f1-score   support\n",
      "\n",
      "           A       0.34      0.48      0.40        50\n",
      "           D       0.22      0.25      0.24        48\n",
      "           H       0.56      0.40      0.47        92\n",
      "\n",
      "    accuracy                           0.38       190\n",
      "   macro avg       0.38      0.38      0.37       190\n",
      "weighted avg       0.42      0.38      0.39       190\n",
      "\n"
     ]
    }
   ],
   "source": [
    "print(classification_report(y_test,base_pred))"
   ]
  },
  {
   "cell_type": "code",
   "execution_count": 58,
   "id": "1f6c67b1",
   "metadata": {},
   "outputs": [],
   "source": [
    "leaf_size = list(range(1,30))\n",
    "n_neighbors = list(range(1,40))\n",
    "p=[1,2,3]\n",
    "weights = ['uniform','distance']\n",
    "\n",
    "grid_param = {'leaf_size':leaf_size,\n",
    "              'n_neighbors':n_neighbors,\n",
    "              'p': p,\n",
    "              'weights': weights}\n",
    "\n",
    "grid_model = GridSearchCV(first_model,param_grid=grid_param,scoring='accuracy')\n",
    "\n",
    "grid_model.fit(scaled_X_train,y_train.values.ravel())\n",
    "grid_pred = grid_model.predict(scaled_X_test)"
   ]
  },
  {
   "cell_type": "code",
   "execution_count": 59,
   "id": "f47ce3b4",
   "metadata": {},
   "outputs": [
    {
     "data": {
      "text/plain": [
       "{'leaf_size': 1, 'n_neighbors': 10, 'p': 3, 'weights': 'distance'}"
      ]
     },
     "execution_count": 59,
     "metadata": {},
     "output_type": "execute_result"
    }
   ],
   "source": [
    "grid_model.best_params_"
   ]
  },
  {
   "cell_type": "code",
   "execution_count": 60,
   "id": "08891bde",
   "metadata": {},
   "outputs": [
    {
     "data": {
      "text/plain": [
       "array([[11, 22, 17],\n",
       "       [ 8, 18, 22],\n",
       "       [15, 22, 55]], dtype=int64)"
      ]
     },
     "execution_count": 60,
     "metadata": {},
     "output_type": "execute_result"
    }
   ],
   "source": [
    "confusion_matrix(y_test,grid_pred)"
   ]
  },
  {
   "cell_type": "code",
   "execution_count": 61,
   "id": "d6c20697",
   "metadata": {},
   "outputs": [
    {
     "name": "stdout",
     "output_type": "stream",
     "text": [
      "              precision    recall  f1-score   support\n",
      "\n",
      "           A       0.32      0.22      0.26        50\n",
      "           D       0.29      0.38      0.33        48\n",
      "           H       0.59      0.60      0.59        92\n",
      "\n",
      "    accuracy                           0.44       190\n",
      "   macro avg       0.40      0.40      0.39       190\n",
      "weighted avg       0.44      0.44      0.44       190\n",
      "\n"
     ]
    }
   ],
   "source": [
    "print(classification_report(y_test,grid_pred))"
   ]
  },
  {
   "cell_type": "markdown",
   "id": "9a49dca9",
   "metadata": {},
   "source": [
    "Best accuracy we could get is 0,44 after implementing Grid Search.\n",
    "\n",
    "Hyperparameters:\n",
    "- 'leaf_size': 1\n",
    "- 'n_neighbors': 10\n",
    "- 'p': 3\n",
    "- 'weights': 'distance"
   ]
  },
  {
   "cell_type": "markdown",
   "id": "7362eb55",
   "metadata": {},
   "source": [
    "**Season 19/20**"
   ]
  },
  {
   "cell_type": "code",
   "execution_count": 38,
   "id": "e9cb9aaa",
   "metadata": {},
   "outputs": [],
   "source": [
    "X = s1920.drop('FTR',axis=1)\n",
    "y = s1920[['FTR','round']]\n",
    "\n",
    "X_train = X[X['round']==1].drop('round',axis=1)\n",
    "X_test = X[X['round']==2].drop('round',axis=1)\n",
    "\n",
    "y_train = y[y['round']==1].drop('round',axis=1)\n",
    "y_test = y[y['round']==2].drop('round',axis=1)\n",
    "\n",
    "scaled_X_train = scaler.fit_transform(X_train)\n",
    "scaled_X_test = scaler.transform(X_test)"
   ]
  },
  {
   "cell_type": "code",
   "execution_count": 39,
   "id": "724dcf81",
   "metadata": {},
   "outputs": [],
   "source": [
    "first_model.fit(scaled_X_train,y_train.values.ravel())\n",
    "base_pred =first_model.predict(scaled_X_test)"
   ]
  },
  {
   "cell_type": "code",
   "execution_count": 40,
   "id": "bb6f192c",
   "metadata": {},
   "outputs": [
    {
     "data": {
      "text/plain": [
       "array([[21, 25,  6],\n",
       "       [20, 22,  8],\n",
       "       [19, 46, 23]], dtype=int64)"
      ]
     },
     "execution_count": 40,
     "metadata": {},
     "output_type": "execute_result"
    }
   ],
   "source": [
    "confusion_matrix(y_test,base_pred)"
   ]
  },
  {
   "cell_type": "code",
   "execution_count": 41,
   "id": "33d970a3",
   "metadata": {},
   "outputs": [
    {
     "name": "stdout",
     "output_type": "stream",
     "text": [
      "              precision    recall  f1-score   support\n",
      "\n",
      "           A       0.35      0.40      0.38        52\n",
      "           D       0.24      0.44      0.31        50\n",
      "           H       0.62      0.26      0.37        88\n",
      "\n",
      "    accuracy                           0.35       190\n",
      "   macro avg       0.40      0.37      0.35       190\n",
      "weighted avg       0.45      0.35      0.35       190\n",
      "\n"
     ]
    }
   ],
   "source": [
    "print(classification_report(y_test,base_pred))"
   ]
  },
  {
   "cell_type": "code",
   "execution_count": 42,
   "id": "e13c6ceb",
   "metadata": {},
   "outputs": [],
   "source": [
    "leaf_size = list(range(1,30))\n",
    "n_neighbors = list(range(1,40))\n",
    "p=[1,2,3]\n",
    "weights = ['uniform','distance']\n",
    "\n",
    "grid_param = {'leaf_size':leaf_size,\n",
    "              'n_neighbors':n_neighbors,\n",
    "              'p': p,\n",
    "              'weights': weights}\n",
    "\n",
    "grid_model = GridSearchCV(first_model,param_grid=grid_param,scoring='accuracy')\n",
    "\n",
    "grid_model.fit(scaled_X_train,y_train.values.ravel())\n",
    "grid_pred = grid_model.predict(scaled_X_test)"
   ]
  },
  {
   "cell_type": "code",
   "execution_count": 45,
   "id": "be44b8dc",
   "metadata": {},
   "outputs": [
    {
     "data": {
      "text/plain": [
       "{'leaf_size': 1, 'n_neighbors': 24, 'p': 2, 'weights': 'uniform'}"
      ]
     },
     "execution_count": 45,
     "metadata": {},
     "output_type": "execute_result"
    }
   ],
   "source": [
    "grid_model.best_params_"
   ]
  },
  {
   "cell_type": "code",
   "execution_count": 43,
   "id": "64c7bb73",
   "metadata": {},
   "outputs": [
    {
     "data": {
      "text/plain": [
       "array([[15, 13, 24],\n",
       "       [12, 14, 24],\n",
       "       [12, 16, 60]], dtype=int64)"
      ]
     },
     "execution_count": 43,
     "metadata": {},
     "output_type": "execute_result"
    }
   ],
   "source": [
    "confusion_matrix(y_test,grid_pred)"
   ]
  },
  {
   "cell_type": "code",
   "execution_count": 44,
   "id": "f1bbbede",
   "metadata": {},
   "outputs": [
    {
     "name": "stdout",
     "output_type": "stream",
     "text": [
      "              precision    recall  f1-score   support\n",
      "\n",
      "           A       0.38      0.29      0.33        52\n",
      "           D       0.33      0.28      0.30        50\n",
      "           H       0.56      0.68      0.61        88\n",
      "\n",
      "    accuracy                           0.47       190\n",
      "   macro avg       0.42      0.42      0.41       190\n",
      "weighted avg       0.45      0.47      0.45       190\n",
      "\n"
     ]
    }
   ],
   "source": [
    "print(classification_report(y_test,grid_pred))"
   ]
  },
  {
   "cell_type": "markdown",
   "id": "018822d0",
   "metadata": {},
   "source": [
    "Best accuracy we could get is 0,47 after implementing GridSearchCV\n",
    "\n",
    "Hyperparameters:\n",
    "- 'leaf_size': 1\n",
    "- 'n_neighbors': 24\n",
    "- 'p': 2\n",
    "- 'weights': 'uniform' "
   ]
  },
  {
   "cell_type": "code",
   "execution_count": null,
   "id": "85142cfb",
   "metadata": {},
   "outputs": [],
   "source": []
  }
 ],
 "metadata": {
  "kernelspec": {
   "display_name": "Python 3 (ipykernel)",
   "language": "python",
   "name": "python3"
  },
  "language_info": {
   "codemirror_mode": {
    "name": "ipython",
    "version": 3
   },
   "file_extension": ".py",
   "mimetype": "text/x-python",
   "name": "python",
   "nbconvert_exporter": "python",
   "pygments_lexer": "ipython3",
   "version": "3.9.13"
  }
 },
 "nbformat": 4,
 "nbformat_minor": 5
}
