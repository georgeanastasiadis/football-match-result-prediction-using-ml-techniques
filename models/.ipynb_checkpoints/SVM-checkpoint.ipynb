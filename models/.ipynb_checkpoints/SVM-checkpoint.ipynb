{
 "cells": [
  {
   "cell_type": "code",
   "execution_count": 1,
   "id": "53400737",
   "metadata": {},
   "outputs": [],
   "source": [
    "import numpy as np\n",
    "import pandas as pd\n",
    "from sklearn.svm import SVC\n",
    "from sklearn.feature_selection import RFECV\n",
    "from sklearn.model_selection import cross_val_score\n",
    "from sklearn.model_selection import train_test_split\n",
    "from sklearn.preprocessing import MinMaxScaler\n",
    "from sklearn.metrics import accuracy_score,confusion_matrix,classification_report,ConfusionMatrixDisplay\n",
    "from sklearn.model_selection import GridSearchCV"
   ]
  },
  {
   "cell_type": "code",
   "execution_count": 2,
   "id": "220a00dd",
   "metadata": {},
   "outputs": [],
   "source": [
    "df = pd.read_csv(r\"C:\\Users\\George\\Desktop\\football-match-prediction-using-ml-techniques\\fe\\bundesliga.csv\")"
   ]
  },
  {
   "cell_type": "code",
   "execution_count": 3,
   "id": "3e019e2a",
   "metadata": {},
   "outputs": [],
   "source": [
    "team_id = {'Bayern Munich':1, 'Dortmund':2, 'Ein Frankfurt':3, 'FC Koln':4,\n",
    "           'Hannover':5, 'Hertha':6, 'Hoffenheim':7, \"M'gladbach\":8, 'Paderborn':9,\n",
    "           'Augsburg':10, 'Hamburg':11, 'Leverkusen':12, 'Schalke 04':13, 'Stuttgart':14,\n",
    "           'Werder Bremen':15, 'Wolfsburg':16, 'Freiburg':17, 'Mainz':18, 'Darmstadt':19,\n",
    "           'Ingolstadt':20, 'RB Leipzig':21, 'Fortuna Dusseldorf':22, 'Nurnberg':23,\n",
    "           'Union Berlin':24}"
   ]
  },
  {
   "cell_type": "code",
   "execution_count": 4,
   "id": "06efc18e",
   "metadata": {},
   "outputs": [],
   "source": [
    "for key,value in df.iteritems():\n",
    "    df['HomeTeam'] = df['HomeTeam'].apply(lambda x: team_id.get(x,x))\n",
    "    \n",
    "for key,value in df.iteritems():\n",
    "    df['AwayTeam'] = df['AwayTeam'].apply(lambda x: team_id.get(x,x))"
   ]
  },
  {
   "cell_type": "code",
   "execution_count": 5,
   "id": "2a5388f5",
   "metadata": {},
   "outputs": [],
   "source": [
    "#We are dropping the starts that are not available to us before the game \n",
    "df = df.drop(['Unnamed: 0', 'Date','FTHG', 'FTAG', 'HTHG','HTAG','league', 'Hppda_coef', 'Appda_coef','HTW', 'HTD',\n",
    "              'season','HTCR', 'ATCR','HTGS','HTxpts', 'ATxpts','ATGS', 'HTGC', 'ATGC','HTOVA_S', 'HTatt_S', \n",
    "              'HTmid_S','HTdef_S', 'ATOVA_S', 'ATatt_S','ATmid_S','ATdef_S','l5_ravg_HTgs', 'l5_ravg_ATgs',\n",
    "              'l5_ravg_HTgc', 'l5_ravg_ATgc', 'HomeTeamPoints','AwayTeamPoints',\n",
    "              'HTL', 'ATL', 'ATD', 'ATW'],axis=1)\n",
    "\n",
    "df = df.dropna()"
   ]
  },
  {
   "cell_type": "code",
   "execution_count": 6,
   "id": "a004d0fc",
   "metadata": {},
   "outputs": [],
   "source": [
    "X = df.drop(['FTR'],axis=1)\n",
    "y = df['FTR']"
   ]
  },
  {
   "cell_type": "code",
   "execution_count": 7,
   "id": "6d93cf81",
   "metadata": {},
   "outputs": [
    {
     "data": {
      "text/plain": [
       "Index(['HomeTeam', 'AwayTeam', 'round', 'AVGH', 'AVGD', 'AVGA', 'HT_wins',\n",
       "       'AT_wins', 'HT_draws', 'AT_draws', 'HT_losses', 'AT_losses',\n",
       "       'l5_ravg_HTST', 'l5_ravg_ATST', 'l5_ravg_HTCR', 'l5_ravg_ATCR',\n",
       "       'HToveral', 'AToveral', 'l5_ravg_HTxG', 'l5_ravg_ATxG',\n",
       "       'l5_ravg_HTxpts', 'l5_ravg_ATxpts', 'l5_ravg_HTdeep', 'l5_ravg_ATdeep',\n",
       "       'l5_ravg_HTppda', 'l5_ravg_ATppda', 'l5_htdiff', 'l5_atdiff', 'avgHTP',\n",
       "       'avgATP', 'l5_ravg_HTp', 'l3_ravg_ATp', 'diff_points', 'diff_ATT',\n",
       "       'diff_MID', 'diff_DEF', 'diff_OVA'],\n",
       "      dtype='object')"
      ]
     },
     "execution_count": 7,
     "metadata": {},
     "output_type": "execute_result"
    }
   ],
   "source": [
    "X.columns"
   ]
  },
  {
   "cell_type": "code",
   "execution_count": 8,
   "id": "4b840538",
   "metadata": {},
   "outputs": [],
   "source": [
    "X_train, X_test, y_train, y_test = train_test_split(X, y, test_size=0.33, random_state=101)"
   ]
  },
  {
   "cell_type": "code",
   "execution_count": 9,
   "id": "be17b228",
   "metadata": {},
   "outputs": [],
   "source": [
    "scaler = MinMaxScaler()"
   ]
  },
  {
   "cell_type": "code",
   "execution_count": 10,
   "id": "7f7f20f9",
   "metadata": {},
   "outputs": [],
   "source": [
    "scaled_X_train = scaler.fit_transform(X_train)\n",
    "scaled_X_test = scaler.transform(X_test)"
   ]
  },
  {
   "cell_type": "code",
   "execution_count": 11,
   "id": "7083cdd2",
   "metadata": {},
   "outputs": [],
   "source": [
    "model = SVC()"
   ]
  },
  {
   "cell_type": "code",
   "execution_count": 13,
   "id": "17ad1b46",
   "metadata": {},
   "outputs": [
    {
     "data": {
      "text/html": [
       "<style>#sk-container-id-1 {color: black;background-color: white;}#sk-container-id-1 pre{padding: 0;}#sk-container-id-1 div.sk-toggleable {background-color: white;}#sk-container-id-1 label.sk-toggleable__label {cursor: pointer;display: block;width: 100%;margin-bottom: 0;padding: 0.3em;box-sizing: border-box;text-align: center;}#sk-container-id-1 label.sk-toggleable__label-arrow:before {content: \"▸\";float: left;margin-right: 0.25em;color: #696969;}#sk-container-id-1 label.sk-toggleable__label-arrow:hover:before {color: black;}#sk-container-id-1 div.sk-estimator:hover label.sk-toggleable__label-arrow:before {color: black;}#sk-container-id-1 div.sk-toggleable__content {max-height: 0;max-width: 0;overflow: hidden;text-align: left;background-color: #f0f8ff;}#sk-container-id-1 div.sk-toggleable__content pre {margin: 0.2em;color: black;border-radius: 0.25em;background-color: #f0f8ff;}#sk-container-id-1 input.sk-toggleable__control:checked~div.sk-toggleable__content {max-height: 200px;max-width: 100%;overflow: auto;}#sk-container-id-1 input.sk-toggleable__control:checked~label.sk-toggleable__label-arrow:before {content: \"▾\";}#sk-container-id-1 div.sk-estimator input.sk-toggleable__control:checked~label.sk-toggleable__label {background-color: #d4ebff;}#sk-container-id-1 div.sk-label input.sk-toggleable__control:checked~label.sk-toggleable__label {background-color: #d4ebff;}#sk-container-id-1 input.sk-hidden--visually {border: 0;clip: rect(1px 1px 1px 1px);clip: rect(1px, 1px, 1px, 1px);height: 1px;margin: -1px;overflow: hidden;padding: 0;position: absolute;width: 1px;}#sk-container-id-1 div.sk-estimator {font-family: monospace;background-color: #f0f8ff;border: 1px dotted black;border-radius: 0.25em;box-sizing: border-box;margin-bottom: 0.5em;}#sk-container-id-1 div.sk-estimator:hover {background-color: #d4ebff;}#sk-container-id-1 div.sk-parallel-item::after {content: \"\";width: 100%;border-bottom: 1px solid gray;flex-grow: 1;}#sk-container-id-1 div.sk-label:hover label.sk-toggleable__label {background-color: #d4ebff;}#sk-container-id-1 div.sk-serial::before {content: \"\";position: absolute;border-left: 1px solid gray;box-sizing: border-box;top: 0;bottom: 0;left: 50%;z-index: 0;}#sk-container-id-1 div.sk-serial {display: flex;flex-direction: column;align-items: center;background-color: white;padding-right: 0.2em;padding-left: 0.2em;position: relative;}#sk-container-id-1 div.sk-item {position: relative;z-index: 1;}#sk-container-id-1 div.sk-parallel {display: flex;align-items: stretch;justify-content: center;background-color: white;position: relative;}#sk-container-id-1 div.sk-item::before, #sk-container-id-1 div.sk-parallel-item::before {content: \"\";position: absolute;border-left: 1px solid gray;box-sizing: border-box;top: 0;bottom: 0;left: 50%;z-index: -1;}#sk-container-id-1 div.sk-parallel-item {display: flex;flex-direction: column;z-index: 1;position: relative;background-color: white;}#sk-container-id-1 div.sk-parallel-item:first-child::after {align-self: flex-end;width: 50%;}#sk-container-id-1 div.sk-parallel-item:last-child::after {align-self: flex-start;width: 50%;}#sk-container-id-1 div.sk-parallel-item:only-child::after {width: 0;}#sk-container-id-1 div.sk-dashed-wrapped {border: 1px dashed gray;margin: 0 0.4em 0.5em 0.4em;box-sizing: border-box;padding-bottom: 0.4em;background-color: white;}#sk-container-id-1 div.sk-label label {font-family: monospace;font-weight: bold;display: inline-block;line-height: 1.2em;}#sk-container-id-1 div.sk-label-container {text-align: center;}#sk-container-id-1 div.sk-container {/* jupyter's `normalize.less` sets `[hidden] { display: none; }` but bootstrap.min.css set `[hidden] { display: none !important; }` so we also need the `!important` here to be able to override the default hidden behavior on the sphinx rendered scikit-learn.org. See: https://github.com/scikit-learn/scikit-learn/issues/21755 */display: inline-block !important;position: relative;}#sk-container-id-1 div.sk-text-repr-fallback {display: none;}</style><div id=\"sk-container-id-1\" class=\"sk-top-container\"><div class=\"sk-text-repr-fallback\"><pre>SVC()</pre><b>In a Jupyter environment, please rerun this cell to show the HTML representation or trust the notebook. <br />On GitHub, the HTML representation is unable to render, please try loading this page with nbviewer.org.</b></div><div class=\"sk-container\" hidden><div class=\"sk-item\"><div class=\"sk-estimator sk-toggleable\"><input class=\"sk-toggleable__control sk-hidden--visually\" id=\"sk-estimator-id-1\" type=\"checkbox\" checked><label for=\"sk-estimator-id-1\" class=\"sk-toggleable__label sk-toggleable__label-arrow\">SVC</label><div class=\"sk-toggleable__content\"><pre>SVC()</pre></div></div></div></div></div>"
      ],
      "text/plain": [
       "SVC()"
      ]
     },
     "execution_count": 13,
     "metadata": {},
     "output_type": "execute_result"
    }
   ],
   "source": [
    "model.fit(scaled_X_train,y_train)"
   ]
  },
  {
   "cell_type": "code",
   "execution_count": 14,
   "id": "771c30bc",
   "metadata": {},
   "outputs": [],
   "source": [
    "pred = model.predict(scaled_X_test)"
   ]
  },
  {
   "cell_type": "code",
   "execution_count": 16,
   "id": "97888368",
   "metadata": {},
   "outputs": [],
   "source": [
    "c = confusion_matrix(y_test,pred)"
   ]
  },
  {
   "cell_type": "code",
   "execution_count": 17,
   "id": "cd51a3ce",
   "metadata": {},
   "outputs": [
    {
     "data": {
      "text/plain": [
       "array([[ 72,   0,  71],\n",
       "       [ 38,   0,  83],\n",
       "       [ 46,   0, 207]], dtype=int64)"
      ]
     },
     "execution_count": 17,
     "metadata": {},
     "output_type": "execute_result"
    }
   ],
   "source": [
    "c"
   ]
  },
  {
   "cell_type": "code",
   "execution_count": 18,
   "id": "a37798ff",
   "metadata": {},
   "outputs": [
    {
     "name": "stdout",
     "output_type": "stream",
     "text": [
      "              precision    recall  f1-score   support\n",
      "\n",
      "           A       0.46      0.50      0.48       143\n",
      "           D       0.00      0.00      0.00       121\n",
      "           H       0.57      0.82      0.67       253\n",
      "\n",
      "    accuracy                           0.54       517\n",
      "   macro avg       0.34      0.44      0.39       517\n",
      "weighted avg       0.41      0.54      0.46       517\n",
      "\n"
     ]
    },
    {
     "name": "stderr",
     "output_type": "stream",
     "text": [
      "C:\\Users\\George\\anaconda3\\envs\\tf\\lib\\site-packages\\sklearn\\metrics\\_classification.py:1327: UndefinedMetricWarning: Precision and F-score are ill-defined and being set to 0.0 in labels with no predicted samples. Use `zero_division` parameter to control this behavior.\n",
      "  _warn_prf(average, modifier, msg_start, len(result))\n",
      "C:\\Users\\George\\anaconda3\\envs\\tf\\lib\\site-packages\\sklearn\\metrics\\_classification.py:1327: UndefinedMetricWarning: Precision and F-score are ill-defined and being set to 0.0 in labels with no predicted samples. Use `zero_division` parameter to control this behavior.\n",
      "  _warn_prf(average, modifier, msg_start, len(result))\n",
      "C:\\Users\\George\\anaconda3\\envs\\tf\\lib\\site-packages\\sklearn\\metrics\\_classification.py:1327: UndefinedMetricWarning: Precision and F-score are ill-defined and being set to 0.0 in labels with no predicted samples. Use `zero_division` parameter to control this behavior.\n",
      "  _warn_prf(average, modifier, msg_start, len(result))\n"
     ]
    }
   ],
   "source": [
    "print(classification_report(y_test,pred))"
   ]
  },
  {
   "cell_type": "code",
   "execution_count": 19,
   "id": "ff58a8f1",
   "metadata": {},
   "outputs": [
    {
     "name": "stdout",
     "output_type": "stream",
     "text": [
      "Features selected [False False  True False  True False False  True False False False False\n",
      " False False  True False False False False False False False False False\n",
      " False False False False  True False False False False False False False]\n",
      "Feature ranking [31 29  1  7  1 20 17  1  2  4  3 13 28  6  1 32 24 12  8 10  9 15 21 30\n",
      " 27 14 19 11  1 18 25  5 26 16 23 22]\n"
     ]
    }
   ],
   "source": [
    "estimator = SVC(kernel=\"linear\")\n",
    "selector = RFECV(estimator, step=1, scoring='accuracy', cv=5)\n",
    "selector = selector.fit(X, y)\n",
    "print(\"Features selected\", selector.support_)\n",
    "print(\"Feature ranking\", selector.ranking_)"
   ]
  },
  {
   "cell_type": "code",
   "execution_count": 20,
   "id": "e6fcfa59",
   "metadata": {},
   "outputs": [],
   "source": [
    "featured_columns = pd.DataFrame(selector.support_,\n",
    "                            index = X.columns,\n",
    "                            columns=['is_in'])"
   ]
  },
  {
   "cell_type": "code",
   "execution_count": 21,
   "id": "c4f8fd58",
   "metadata": {},
   "outputs": [],
   "source": [
    "featured_columns = featured_columns[featured_columns.is_in == True].index.tolist()"
   ]
  },
  {
   "cell_type": "code",
   "execution_count": 22,
   "id": "84b33614",
   "metadata": {},
   "outputs": [
    {
     "data": {
      "text/plain": [
       "['AVGH', 'AVGA', 'HT_draws', 'l5_ravg_ATCR', 'avgATP']"
      ]
     },
     "execution_count": 22,
     "metadata": {},
     "output_type": "execute_result"
    }
   ],
   "source": [
    "featured_columns"
   ]
  },
  {
   "cell_type": "code",
   "execution_count": 23,
   "id": "b5a74a45",
   "metadata": {},
   "outputs": [],
   "source": [
    "X = df[featured_columns]"
   ]
  },
  {
   "cell_type": "code",
   "execution_count": 24,
   "id": "683477bf",
   "metadata": {},
   "outputs": [],
   "source": [
    "X_train, X_test, y_train, y_test = train_test_split(X, y, test_size=0.33, random_state=101)"
   ]
  },
  {
   "cell_type": "code",
   "execution_count": 25,
   "id": "27293514",
   "metadata": {},
   "outputs": [],
   "source": [
    "scaled_X_train = scaler.fit_transform(X_train)\n",
    "scaled_X_test = scaler.transform(X_test)"
   ]
  },
  {
   "cell_type": "code",
   "execution_count": 26,
   "id": "42f503bc",
   "metadata": {},
   "outputs": [
    {
     "data": {
      "text/html": [
       "<style>#sk-container-id-2 {color: black;background-color: white;}#sk-container-id-2 pre{padding: 0;}#sk-container-id-2 div.sk-toggleable {background-color: white;}#sk-container-id-2 label.sk-toggleable__label {cursor: pointer;display: block;width: 100%;margin-bottom: 0;padding: 0.3em;box-sizing: border-box;text-align: center;}#sk-container-id-2 label.sk-toggleable__label-arrow:before {content: \"▸\";float: left;margin-right: 0.25em;color: #696969;}#sk-container-id-2 label.sk-toggleable__label-arrow:hover:before {color: black;}#sk-container-id-2 div.sk-estimator:hover label.sk-toggleable__label-arrow:before {color: black;}#sk-container-id-2 div.sk-toggleable__content {max-height: 0;max-width: 0;overflow: hidden;text-align: left;background-color: #f0f8ff;}#sk-container-id-2 div.sk-toggleable__content pre {margin: 0.2em;color: black;border-radius: 0.25em;background-color: #f0f8ff;}#sk-container-id-2 input.sk-toggleable__control:checked~div.sk-toggleable__content {max-height: 200px;max-width: 100%;overflow: auto;}#sk-container-id-2 input.sk-toggleable__control:checked~label.sk-toggleable__label-arrow:before {content: \"▾\";}#sk-container-id-2 div.sk-estimator input.sk-toggleable__control:checked~label.sk-toggleable__label {background-color: #d4ebff;}#sk-container-id-2 div.sk-label input.sk-toggleable__control:checked~label.sk-toggleable__label {background-color: #d4ebff;}#sk-container-id-2 input.sk-hidden--visually {border: 0;clip: rect(1px 1px 1px 1px);clip: rect(1px, 1px, 1px, 1px);height: 1px;margin: -1px;overflow: hidden;padding: 0;position: absolute;width: 1px;}#sk-container-id-2 div.sk-estimator {font-family: monospace;background-color: #f0f8ff;border: 1px dotted black;border-radius: 0.25em;box-sizing: border-box;margin-bottom: 0.5em;}#sk-container-id-2 div.sk-estimator:hover {background-color: #d4ebff;}#sk-container-id-2 div.sk-parallel-item::after {content: \"\";width: 100%;border-bottom: 1px solid gray;flex-grow: 1;}#sk-container-id-2 div.sk-label:hover label.sk-toggleable__label {background-color: #d4ebff;}#sk-container-id-2 div.sk-serial::before {content: \"\";position: absolute;border-left: 1px solid gray;box-sizing: border-box;top: 0;bottom: 0;left: 50%;z-index: 0;}#sk-container-id-2 div.sk-serial {display: flex;flex-direction: column;align-items: center;background-color: white;padding-right: 0.2em;padding-left: 0.2em;position: relative;}#sk-container-id-2 div.sk-item {position: relative;z-index: 1;}#sk-container-id-2 div.sk-parallel {display: flex;align-items: stretch;justify-content: center;background-color: white;position: relative;}#sk-container-id-2 div.sk-item::before, #sk-container-id-2 div.sk-parallel-item::before {content: \"\";position: absolute;border-left: 1px solid gray;box-sizing: border-box;top: 0;bottom: 0;left: 50%;z-index: -1;}#sk-container-id-2 div.sk-parallel-item {display: flex;flex-direction: column;z-index: 1;position: relative;background-color: white;}#sk-container-id-2 div.sk-parallel-item:first-child::after {align-self: flex-end;width: 50%;}#sk-container-id-2 div.sk-parallel-item:last-child::after {align-self: flex-start;width: 50%;}#sk-container-id-2 div.sk-parallel-item:only-child::after {width: 0;}#sk-container-id-2 div.sk-dashed-wrapped {border: 1px dashed gray;margin: 0 0.4em 0.5em 0.4em;box-sizing: border-box;padding-bottom: 0.4em;background-color: white;}#sk-container-id-2 div.sk-label label {font-family: monospace;font-weight: bold;display: inline-block;line-height: 1.2em;}#sk-container-id-2 div.sk-label-container {text-align: center;}#sk-container-id-2 div.sk-container {/* jupyter's `normalize.less` sets `[hidden] { display: none; }` but bootstrap.min.css set `[hidden] { display: none !important; }` so we also need the `!important` here to be able to override the default hidden behavior on the sphinx rendered scikit-learn.org. See: https://github.com/scikit-learn/scikit-learn/issues/21755 */display: inline-block !important;position: relative;}#sk-container-id-2 div.sk-text-repr-fallback {display: none;}</style><div id=\"sk-container-id-2\" class=\"sk-top-container\"><div class=\"sk-text-repr-fallback\"><pre>SVC()</pre><b>In a Jupyter environment, please rerun this cell to show the HTML representation or trust the notebook. <br />On GitHub, the HTML representation is unable to render, please try loading this page with nbviewer.org.</b></div><div class=\"sk-container\" hidden><div class=\"sk-item\"><div class=\"sk-estimator sk-toggleable\"><input class=\"sk-toggleable__control sk-hidden--visually\" id=\"sk-estimator-id-2\" type=\"checkbox\" checked><label for=\"sk-estimator-id-2\" class=\"sk-toggleable__label sk-toggleable__label-arrow\">SVC</label><div class=\"sk-toggleable__content\"><pre>SVC()</pre></div></div></div></div></div>"
      ],
      "text/plain": [
       "SVC()"
      ]
     },
     "execution_count": 26,
     "metadata": {},
     "output_type": "execute_result"
    }
   ],
   "source": [
    "model.fit(scaled_X_train,y_train)"
   ]
  },
  {
   "cell_type": "code",
   "execution_count": 27,
   "id": "291108cd",
   "metadata": {},
   "outputs": [],
   "source": [
    "pred = model.predict(scaled_X_test)"
   ]
  },
  {
   "cell_type": "code",
   "execution_count": 28,
   "id": "ea15f3b3",
   "metadata": {},
   "outputs": [
    {
     "data": {
      "text/plain": [
       "array([[ 58,   0,  85],\n",
       "       [ 15,   0, 106],\n",
       "       [ 22,   0, 231]], dtype=int64)"
      ]
     },
     "execution_count": 28,
     "metadata": {},
     "output_type": "execute_result"
    }
   ],
   "source": [
    "confusion_matrix(y_test,pred)"
   ]
  },
  {
   "cell_type": "code",
   "execution_count": 29,
   "id": "12e79462",
   "metadata": {
    "scrolled": false
   },
   "outputs": [
    {
     "name": "stdout",
     "output_type": "stream",
     "text": [
      "              precision    recall  f1-score   support\n",
      "\n",
      "           A       0.61      0.41      0.49       143\n",
      "           D       0.00      0.00      0.00       121\n",
      "           H       0.55      0.91      0.68       253\n",
      "\n",
      "    accuracy                           0.56       517\n",
      "   macro avg       0.39      0.44      0.39       517\n",
      "weighted avg       0.44      0.56      0.47       517\n",
      "\n"
     ]
    },
    {
     "name": "stderr",
     "output_type": "stream",
     "text": [
      "C:\\Users\\George\\anaconda3\\envs\\tf\\lib\\site-packages\\sklearn\\metrics\\_classification.py:1327: UndefinedMetricWarning: Precision and F-score are ill-defined and being set to 0.0 in labels with no predicted samples. Use `zero_division` parameter to control this behavior.\n",
      "  _warn_prf(average, modifier, msg_start, len(result))\n",
      "C:\\Users\\George\\anaconda3\\envs\\tf\\lib\\site-packages\\sklearn\\metrics\\_classification.py:1327: UndefinedMetricWarning: Precision and F-score are ill-defined and being set to 0.0 in labels with no predicted samples. Use `zero_division` parameter to control this behavior.\n",
      "  _warn_prf(average, modifier, msg_start, len(result))\n",
      "C:\\Users\\George\\anaconda3\\envs\\tf\\lib\\site-packages\\sklearn\\metrics\\_classification.py:1327: UndefinedMetricWarning: Precision and F-score are ill-defined and being set to 0.0 in labels with no predicted samples. Use `zero_division` parameter to control this behavior.\n",
      "  _warn_prf(average, modifier, msg_start, len(result))\n"
     ]
    }
   ],
   "source": [
    "print(classification_report(y_test,pred))"
   ]
  },
  {
   "cell_type": "code",
   "execution_count": 30,
   "id": "bec1ccb1",
   "metadata": {},
   "outputs": [],
   "source": [
    "kernel = ['linear','rbf', 'sigmoid']\n",
    "C = [1,2,3,4,5]\n",
    "gamma = [0.01,0.02,0.03,0.05,0.1,0.2]"
   ]
  },
  {
   "cell_type": "code",
   "execution_count": 31,
   "id": "4a10a86b",
   "metadata": {},
   "outputs": [],
   "source": [
    "param_grid = {'kernel': kernel,\n",
    "              'C': C,\n",
    "              'gamma': gamma}"
   ]
  },
  {
   "cell_type": "code",
   "execution_count": 33,
   "id": "458e799d",
   "metadata": {},
   "outputs": [],
   "source": [
    "grid_model = GridSearchCV(model,param_grid=param_grid)"
   ]
  },
  {
   "cell_type": "code",
   "execution_count": 34,
   "id": "a263ff16",
   "metadata": {},
   "outputs": [
    {
     "data": {
      "text/html": [
       "<style>#sk-container-id-3 {color: black;background-color: white;}#sk-container-id-3 pre{padding: 0;}#sk-container-id-3 div.sk-toggleable {background-color: white;}#sk-container-id-3 label.sk-toggleable__label {cursor: pointer;display: block;width: 100%;margin-bottom: 0;padding: 0.3em;box-sizing: border-box;text-align: center;}#sk-container-id-3 label.sk-toggleable__label-arrow:before {content: \"▸\";float: left;margin-right: 0.25em;color: #696969;}#sk-container-id-3 label.sk-toggleable__label-arrow:hover:before {color: black;}#sk-container-id-3 div.sk-estimator:hover label.sk-toggleable__label-arrow:before {color: black;}#sk-container-id-3 div.sk-toggleable__content {max-height: 0;max-width: 0;overflow: hidden;text-align: left;background-color: #f0f8ff;}#sk-container-id-3 div.sk-toggleable__content pre {margin: 0.2em;color: black;border-radius: 0.25em;background-color: #f0f8ff;}#sk-container-id-3 input.sk-toggleable__control:checked~div.sk-toggleable__content {max-height: 200px;max-width: 100%;overflow: auto;}#sk-container-id-3 input.sk-toggleable__control:checked~label.sk-toggleable__label-arrow:before {content: \"▾\";}#sk-container-id-3 div.sk-estimator input.sk-toggleable__control:checked~label.sk-toggleable__label {background-color: #d4ebff;}#sk-container-id-3 div.sk-label input.sk-toggleable__control:checked~label.sk-toggleable__label {background-color: #d4ebff;}#sk-container-id-3 input.sk-hidden--visually {border: 0;clip: rect(1px 1px 1px 1px);clip: rect(1px, 1px, 1px, 1px);height: 1px;margin: -1px;overflow: hidden;padding: 0;position: absolute;width: 1px;}#sk-container-id-3 div.sk-estimator {font-family: monospace;background-color: #f0f8ff;border: 1px dotted black;border-radius: 0.25em;box-sizing: border-box;margin-bottom: 0.5em;}#sk-container-id-3 div.sk-estimator:hover {background-color: #d4ebff;}#sk-container-id-3 div.sk-parallel-item::after {content: \"\";width: 100%;border-bottom: 1px solid gray;flex-grow: 1;}#sk-container-id-3 div.sk-label:hover label.sk-toggleable__label {background-color: #d4ebff;}#sk-container-id-3 div.sk-serial::before {content: \"\";position: absolute;border-left: 1px solid gray;box-sizing: border-box;top: 0;bottom: 0;left: 50%;z-index: 0;}#sk-container-id-3 div.sk-serial {display: flex;flex-direction: column;align-items: center;background-color: white;padding-right: 0.2em;padding-left: 0.2em;position: relative;}#sk-container-id-3 div.sk-item {position: relative;z-index: 1;}#sk-container-id-3 div.sk-parallel {display: flex;align-items: stretch;justify-content: center;background-color: white;position: relative;}#sk-container-id-3 div.sk-item::before, #sk-container-id-3 div.sk-parallel-item::before {content: \"\";position: absolute;border-left: 1px solid gray;box-sizing: border-box;top: 0;bottom: 0;left: 50%;z-index: -1;}#sk-container-id-3 div.sk-parallel-item {display: flex;flex-direction: column;z-index: 1;position: relative;background-color: white;}#sk-container-id-3 div.sk-parallel-item:first-child::after {align-self: flex-end;width: 50%;}#sk-container-id-3 div.sk-parallel-item:last-child::after {align-self: flex-start;width: 50%;}#sk-container-id-3 div.sk-parallel-item:only-child::after {width: 0;}#sk-container-id-3 div.sk-dashed-wrapped {border: 1px dashed gray;margin: 0 0.4em 0.5em 0.4em;box-sizing: border-box;padding-bottom: 0.4em;background-color: white;}#sk-container-id-3 div.sk-label label {font-family: monospace;font-weight: bold;display: inline-block;line-height: 1.2em;}#sk-container-id-3 div.sk-label-container {text-align: center;}#sk-container-id-3 div.sk-container {/* jupyter's `normalize.less` sets `[hidden] { display: none; }` but bootstrap.min.css set `[hidden] { display: none !important; }` so we also need the `!important` here to be able to override the default hidden behavior on the sphinx rendered scikit-learn.org. See: https://github.com/scikit-learn/scikit-learn/issues/21755 */display: inline-block !important;position: relative;}#sk-container-id-3 div.sk-text-repr-fallback {display: none;}</style><div id=\"sk-container-id-3\" class=\"sk-top-container\"><div class=\"sk-text-repr-fallback\"><pre>GridSearchCV(estimator=SVC(),\n",
       "             param_grid={&#x27;C&#x27;: [1, 2, 3, 4, 5],\n",
       "                         &#x27;gamma&#x27;: [0.01, 0.02, 0.03, 0.05, 0.1, 0.2],\n",
       "                         &#x27;kernel&#x27;: [&#x27;linear&#x27;, &#x27;rbf&#x27;, &#x27;sigmoid&#x27;]})</pre><b>In a Jupyter environment, please rerun this cell to show the HTML representation or trust the notebook. <br />On GitHub, the HTML representation is unable to render, please try loading this page with nbviewer.org.</b></div><div class=\"sk-container\" hidden><div class=\"sk-item sk-dashed-wrapped\"><div class=\"sk-label-container\"><div class=\"sk-label sk-toggleable\"><input class=\"sk-toggleable__control sk-hidden--visually\" id=\"sk-estimator-id-3\" type=\"checkbox\" ><label for=\"sk-estimator-id-3\" class=\"sk-toggleable__label sk-toggleable__label-arrow\">GridSearchCV</label><div class=\"sk-toggleable__content\"><pre>GridSearchCV(estimator=SVC(),\n",
       "             param_grid={&#x27;C&#x27;: [1, 2, 3, 4, 5],\n",
       "                         &#x27;gamma&#x27;: [0.01, 0.02, 0.03, 0.05, 0.1, 0.2],\n",
       "                         &#x27;kernel&#x27;: [&#x27;linear&#x27;, &#x27;rbf&#x27;, &#x27;sigmoid&#x27;]})</pre></div></div></div><div class=\"sk-parallel\"><div class=\"sk-parallel-item\"><div class=\"sk-item\"><div class=\"sk-label-container\"><div class=\"sk-label sk-toggleable\"><input class=\"sk-toggleable__control sk-hidden--visually\" id=\"sk-estimator-id-4\" type=\"checkbox\" ><label for=\"sk-estimator-id-4\" class=\"sk-toggleable__label sk-toggleable__label-arrow\">estimator: SVC</label><div class=\"sk-toggleable__content\"><pre>SVC()</pre></div></div></div><div class=\"sk-serial\"><div class=\"sk-item\"><div class=\"sk-estimator sk-toggleable\"><input class=\"sk-toggleable__control sk-hidden--visually\" id=\"sk-estimator-id-5\" type=\"checkbox\" ><label for=\"sk-estimator-id-5\" class=\"sk-toggleable__label sk-toggleable__label-arrow\">SVC</label><div class=\"sk-toggleable__content\"><pre>SVC()</pre></div></div></div></div></div></div></div></div></div></div>"
      ],
      "text/plain": [
       "GridSearchCV(estimator=SVC(),\n",
       "             param_grid={'C': [1, 2, 3, 4, 5],\n",
       "                         'gamma': [0.01, 0.02, 0.03, 0.05, 0.1, 0.2],\n",
       "                         'kernel': ['linear', 'rbf', 'sigmoid']})"
      ]
     },
     "execution_count": 34,
     "metadata": {},
     "output_type": "execute_result"
    }
   ],
   "source": [
    "grid_model.fit(scaled_X_train,y_train)"
   ]
  },
  {
   "cell_type": "code",
   "execution_count": 35,
   "id": "aa8d374f",
   "metadata": {},
   "outputs": [
    {
     "data": {
      "text/plain": [
       "{'C': 5, 'gamma': 0.01, 'kernel': 'linear'}"
      ]
     },
     "execution_count": 35,
     "metadata": {},
     "output_type": "execute_result"
    }
   ],
   "source": [
    "grid_model.best_params_"
   ]
  },
  {
   "cell_type": "code",
   "execution_count": 36,
   "id": "12266672",
   "metadata": {},
   "outputs": [],
   "source": [
    "y_pred = grid_model.predict(scaled_X_test)"
   ]
  },
  {
   "cell_type": "code",
   "execution_count": 37,
   "id": "41059594",
   "metadata": {},
   "outputs": [],
   "source": [
    "c = confusion_matrix(y_test,y_pred)"
   ]
  },
  {
   "cell_type": "code",
   "execution_count": 38,
   "id": "dd512263",
   "metadata": {},
   "outputs": [
    {
     "data": {
      "text/plain": [
       "array([[ 39,   0, 104],\n",
       "       [ 10,   0, 111],\n",
       "       [ 13,   0, 240]], dtype=int64)"
      ]
     },
     "execution_count": 38,
     "metadata": {},
     "output_type": "execute_result"
    }
   ],
   "source": [
    "c"
   ]
  },
  {
   "cell_type": "code",
   "execution_count": 39,
   "id": "98d683fb",
   "metadata": {
    "scrolled": false
   },
   "outputs": [
    {
     "name": "stdout",
     "output_type": "stream",
     "text": [
      "              precision    recall  f1-score   support\n",
      "\n",
      "           A       0.63      0.27      0.38       143\n",
      "           D       0.00      0.00      0.00       121\n",
      "           H       0.53      0.95      0.68       253\n",
      "\n",
      "    accuracy                           0.54       517\n",
      "   macro avg       0.39      0.41      0.35       517\n",
      "weighted avg       0.43      0.54      0.44       517\n",
      "\n"
     ]
    },
    {
     "name": "stderr",
     "output_type": "stream",
     "text": [
      "C:\\Users\\George\\anaconda3\\envs\\tf\\lib\\site-packages\\sklearn\\metrics\\_classification.py:1327: UndefinedMetricWarning: Precision and F-score are ill-defined and being set to 0.0 in labels with no predicted samples. Use `zero_division` parameter to control this behavior.\n",
      "  _warn_prf(average, modifier, msg_start, len(result))\n",
      "C:\\Users\\George\\anaconda3\\envs\\tf\\lib\\site-packages\\sklearn\\metrics\\_classification.py:1327: UndefinedMetricWarning: Precision and F-score are ill-defined and being set to 0.0 in labels with no predicted samples. Use `zero_division` parameter to control this behavior.\n",
      "  _warn_prf(average, modifier, msg_start, len(result))\n",
      "C:\\Users\\George\\anaconda3\\envs\\tf\\lib\\site-packages\\sklearn\\metrics\\_classification.py:1327: UndefinedMetricWarning: Precision and F-score are ill-defined and being set to 0.0 in labels with no predicted samples. Use `zero_division` parameter to control this behavior.\n",
      "  _warn_prf(average, modifier, msg_start, len(result))\n"
     ]
    }
   ],
   "source": [
    "print(classification_report(y_test,y_pred))"
   ]
  },
  {
   "cell_type": "markdown",
   "id": "5c6dc79b",
   "metadata": {},
   "source": [
    "**We didn't manage to improve the model using GridSearchCV.**"
   ]
  },
  {
   "cell_type": "markdown",
   "id": "011bb27c",
   "metadata": {},
   "source": [
    "**Premier League**"
   ]
  },
  {
   "cell_type": "code",
   "execution_count": 40,
   "id": "a12ca123",
   "metadata": {},
   "outputs": [],
   "source": [
    "df = pd.read_csv(r\"C:\\Users\\George\\Desktop\\football-match-prediction-using-ml-techniques\\fe\\premier_league.csv\")"
   ]
  },
  {
   "cell_type": "code",
   "execution_count": 41,
   "id": "5446e8fd",
   "metadata": {},
   "outputs": [],
   "source": [
    "#We assign a unique value at every team of the league\n",
    "team_id = {'Arsenal':1, 'Leicester':2, 'Man United':3, 'QPR':4, 'Stoke':5, 'West Brom':6,\n",
    "           'West Ham':7, 'Liverpool':8, 'Newcastle':9, 'Burnley':10, 'Aston Villa':11,\n",
    "           'Chelsea':12, 'Crystal Palace':13, 'Everton':14, 'Southampton':15, 'Swansea':16,\n",
    "           'Hull':17, 'Sunderland':18, 'Tottenham':19, 'Man City':20, 'Bournemouth':21,\n",
    "           'Norwich':22, 'Watford':23, 'Middlesbrough':24, 'Brighton':25, 'Huddersfield':26,\n",
    "           'Fulham':27, 'Wolves':28, 'Cardiff':29, 'Sheffield United':30}\n",
    "\n",
    "for key,value in df.iteritems():\n",
    "    df['HomeTeam'] = df['HomeTeam'].apply(lambda x: team_id.get(x,x))\n",
    "    \n",
    "for key,value in df.iteritems():\n",
    "    df['AwayTeam'] = df['AwayTeam'].apply(lambda x: team_id.get(x,x))"
   ]
  },
  {
   "cell_type": "code",
   "execution_count": 42,
   "id": "4bc496d2",
   "metadata": {},
   "outputs": [],
   "source": [
    "#We are dropping the starts that are not available to us before the game \n",
    "df = df.drop(['Unnamed: 0', 'Date','FTHG', 'FTAG', 'HTHG','HTAG','league', 'Hppda_coef', 'Appda_coef','HTW', 'HTD',\n",
    "              'season','HTCR', 'ATCR','HTGS','HTxpts', 'ATxpts','ATGS', 'HTGC', 'ATGC','HTOVA_S', 'HTatt_S', \n",
    "              'HTmid_S','HTdef_S', 'ATOVA_S', 'ATatt_S','ATmid_S','ATdef_S','l5_ravg_HTgs', 'l5_ravg_ATgs',\n",
    "              'l5_ravg_HTgc', 'l5_ravg_ATgc', 'HomeTeamPoints','AwayTeamPoints',\n",
    "              'HTL', 'ATL', 'ATD', 'ATW'],axis=1)\n",
    "\n",
    "df = df.dropna()"
   ]
  },
  {
   "cell_type": "code",
   "execution_count": 43,
   "id": "4e68fac7",
   "metadata": {},
   "outputs": [],
   "source": [
    "X = df.drop('FTR',axis=1)\n",
    "y = df['FTR']"
   ]
  },
  {
   "cell_type": "code",
   "execution_count": 44,
   "id": "68aa68cd",
   "metadata": {},
   "outputs": [],
   "source": [
    "X_train, X_test, y_train, y_test = train_test_split(X, y, test_size=0.33, random_state=101)"
   ]
  },
  {
   "cell_type": "code",
   "execution_count": 45,
   "id": "18661bd0",
   "metadata": {},
   "outputs": [],
   "source": [
    "scaled_X_train = scaler.fit_transform(X_train)\n",
    "scaled_X_test = scaler.transform(X_test)"
   ]
  },
  {
   "cell_type": "code",
   "execution_count": 46,
   "id": "773bb2ef",
   "metadata": {},
   "outputs": [],
   "source": [
    "model = SVC()"
   ]
  },
  {
   "cell_type": "code",
   "execution_count": 47,
   "id": "1dacc965",
   "metadata": {},
   "outputs": [
    {
     "data": {
      "text/html": [
       "<style>#sk-container-id-4 {color: black;background-color: white;}#sk-container-id-4 pre{padding: 0;}#sk-container-id-4 div.sk-toggleable {background-color: white;}#sk-container-id-4 label.sk-toggleable__label {cursor: pointer;display: block;width: 100%;margin-bottom: 0;padding: 0.3em;box-sizing: border-box;text-align: center;}#sk-container-id-4 label.sk-toggleable__label-arrow:before {content: \"▸\";float: left;margin-right: 0.25em;color: #696969;}#sk-container-id-4 label.sk-toggleable__label-arrow:hover:before {color: black;}#sk-container-id-4 div.sk-estimator:hover label.sk-toggleable__label-arrow:before {color: black;}#sk-container-id-4 div.sk-toggleable__content {max-height: 0;max-width: 0;overflow: hidden;text-align: left;background-color: #f0f8ff;}#sk-container-id-4 div.sk-toggleable__content pre {margin: 0.2em;color: black;border-radius: 0.25em;background-color: #f0f8ff;}#sk-container-id-4 input.sk-toggleable__control:checked~div.sk-toggleable__content {max-height: 200px;max-width: 100%;overflow: auto;}#sk-container-id-4 input.sk-toggleable__control:checked~label.sk-toggleable__label-arrow:before {content: \"▾\";}#sk-container-id-4 div.sk-estimator input.sk-toggleable__control:checked~label.sk-toggleable__label {background-color: #d4ebff;}#sk-container-id-4 div.sk-label input.sk-toggleable__control:checked~label.sk-toggleable__label {background-color: #d4ebff;}#sk-container-id-4 input.sk-hidden--visually {border: 0;clip: rect(1px 1px 1px 1px);clip: rect(1px, 1px, 1px, 1px);height: 1px;margin: -1px;overflow: hidden;padding: 0;position: absolute;width: 1px;}#sk-container-id-4 div.sk-estimator {font-family: monospace;background-color: #f0f8ff;border: 1px dotted black;border-radius: 0.25em;box-sizing: border-box;margin-bottom: 0.5em;}#sk-container-id-4 div.sk-estimator:hover {background-color: #d4ebff;}#sk-container-id-4 div.sk-parallel-item::after {content: \"\";width: 100%;border-bottom: 1px solid gray;flex-grow: 1;}#sk-container-id-4 div.sk-label:hover label.sk-toggleable__label {background-color: #d4ebff;}#sk-container-id-4 div.sk-serial::before {content: \"\";position: absolute;border-left: 1px solid gray;box-sizing: border-box;top: 0;bottom: 0;left: 50%;z-index: 0;}#sk-container-id-4 div.sk-serial {display: flex;flex-direction: column;align-items: center;background-color: white;padding-right: 0.2em;padding-left: 0.2em;position: relative;}#sk-container-id-4 div.sk-item {position: relative;z-index: 1;}#sk-container-id-4 div.sk-parallel {display: flex;align-items: stretch;justify-content: center;background-color: white;position: relative;}#sk-container-id-4 div.sk-item::before, #sk-container-id-4 div.sk-parallel-item::before {content: \"\";position: absolute;border-left: 1px solid gray;box-sizing: border-box;top: 0;bottom: 0;left: 50%;z-index: -1;}#sk-container-id-4 div.sk-parallel-item {display: flex;flex-direction: column;z-index: 1;position: relative;background-color: white;}#sk-container-id-4 div.sk-parallel-item:first-child::after {align-self: flex-end;width: 50%;}#sk-container-id-4 div.sk-parallel-item:last-child::after {align-self: flex-start;width: 50%;}#sk-container-id-4 div.sk-parallel-item:only-child::after {width: 0;}#sk-container-id-4 div.sk-dashed-wrapped {border: 1px dashed gray;margin: 0 0.4em 0.5em 0.4em;box-sizing: border-box;padding-bottom: 0.4em;background-color: white;}#sk-container-id-4 div.sk-label label {font-family: monospace;font-weight: bold;display: inline-block;line-height: 1.2em;}#sk-container-id-4 div.sk-label-container {text-align: center;}#sk-container-id-4 div.sk-container {/* jupyter's `normalize.less` sets `[hidden] { display: none; }` but bootstrap.min.css set `[hidden] { display: none !important; }` so we also need the `!important` here to be able to override the default hidden behavior on the sphinx rendered scikit-learn.org. See: https://github.com/scikit-learn/scikit-learn/issues/21755 */display: inline-block !important;position: relative;}#sk-container-id-4 div.sk-text-repr-fallback {display: none;}</style><div id=\"sk-container-id-4\" class=\"sk-top-container\"><div class=\"sk-text-repr-fallback\"><pre>SVC()</pre><b>In a Jupyter environment, please rerun this cell to show the HTML representation or trust the notebook. <br />On GitHub, the HTML representation is unable to render, please try loading this page with nbviewer.org.</b></div><div class=\"sk-container\" hidden><div class=\"sk-item\"><div class=\"sk-estimator sk-toggleable\"><input class=\"sk-toggleable__control sk-hidden--visually\" id=\"sk-estimator-id-6\" type=\"checkbox\" checked><label for=\"sk-estimator-id-6\" class=\"sk-toggleable__label sk-toggleable__label-arrow\">SVC</label><div class=\"sk-toggleable__content\"><pre>SVC()</pre></div></div></div></div></div>"
      ],
      "text/plain": [
       "SVC()"
      ]
     },
     "execution_count": 47,
     "metadata": {},
     "output_type": "execute_result"
    }
   ],
   "source": [
    "model.fit(scaled_X_train,y_train)"
   ]
  },
  {
   "cell_type": "code",
   "execution_count": 48,
   "id": "7063f9a0",
   "metadata": {},
   "outputs": [],
   "source": [
    "pred = model.predict(scaled_X_test)"
   ]
  },
  {
   "cell_type": "code",
   "execution_count": 49,
   "id": "e8a94963",
   "metadata": {},
   "outputs": [
    {
     "data": {
      "text/plain": [
       "array([[ 85,   0,  96],\n",
       "       [ 32,   0, 128],\n",
       "       [ 37,   1, 275]], dtype=int64)"
      ]
     },
     "execution_count": 49,
     "metadata": {},
     "output_type": "execute_result"
    }
   ],
   "source": [
    "confusion_matrix(y_test,pred)"
   ]
  },
  {
   "cell_type": "code",
   "execution_count": 50,
   "id": "d2399f91",
   "metadata": {},
   "outputs": [
    {
     "name": "stdout",
     "output_type": "stream",
     "text": [
      "              precision    recall  f1-score   support\n",
      "\n",
      "           A       0.55      0.47      0.51       181\n",
      "           D       0.00      0.00      0.00       160\n",
      "           H       0.55      0.88      0.68       313\n",
      "\n",
      "    accuracy                           0.55       654\n",
      "   macro avg       0.37      0.45      0.39       654\n",
      "weighted avg       0.42      0.55      0.46       654\n",
      "\n"
     ]
    }
   ],
   "source": [
    "print(classification_report(y_test,pred))"
   ]
  },
  {
   "cell_type": "code",
   "execution_count": 51,
   "id": "0cbef64f",
   "metadata": {},
   "outputs": [
    {
     "name": "stdout",
     "output_type": "stream",
     "text": [
      "Features selected [False False  True  True  True False False  True False False False  True\n",
      " False False  True False False  True  True  True  True False False False\n",
      " False False  True  True  True False False False False  True  True False]\n",
      "Feature ranking [16 22  1  1  1  6 20  1  3  2  4  1 10 17  1 15 21  1  1  1  1 11  9 12\n",
      " 13  7  1  1  1  8 14  5 18  1  1 19]\n"
     ]
    }
   ],
   "source": [
    "estimator = SVC(kernel=\"linear\")\n",
    "selector = RFECV(estimator, step=1, scoring='accuracy', cv=5)\n",
    "selector = selector.fit(X, y)\n",
    "print(\"Features selected\", selector.support_)\n",
    "print(\"Feature ranking\", selector.ranking_)"
   ]
  },
  {
   "cell_type": "code",
   "execution_count": 52,
   "id": "64fcf103",
   "metadata": {},
   "outputs": [],
   "source": [
    "featured_columns = pd.DataFrame(selector.support_,\n",
    "                            index = X.columns,\n",
    "                            columns=['is_in'])"
   ]
  },
  {
   "cell_type": "code",
   "execution_count": 53,
   "id": "1cbd5c30",
   "metadata": {},
   "outputs": [],
   "source": [
    "featured_columns = featured_columns[featured_columns.is_in == True].index.tolist()"
   ]
  },
  {
   "cell_type": "code",
   "execution_count": 54,
   "id": "3363ac60",
   "metadata": {},
   "outputs": [
    {
     "data": {
      "text/plain": [
       "['AVGH',\n",
       " 'AVGD',\n",
       " 'AVGA',\n",
       " 'HT_draws',\n",
       " 'l5_ravg_HTST',\n",
       " 'l5_ravg_ATCR',\n",
       " 'l5_ravg_HTxG',\n",
       " 'l5_ravg_ATxG',\n",
       " 'l5_ravg_HTxpts',\n",
       " 'l5_ravg_ATxpts',\n",
       " 'l5_atdiff',\n",
       " 'avgHTP',\n",
       " 'avgATP',\n",
       " 'diff_MID',\n",
       " 'diff_DEF']"
      ]
     },
     "execution_count": 54,
     "metadata": {},
     "output_type": "execute_result"
    }
   ],
   "source": [
    "featured_columns"
   ]
  },
  {
   "cell_type": "code",
   "execution_count": 55,
   "id": "3210ccbe",
   "metadata": {},
   "outputs": [],
   "source": [
    "X = df[featured_columns]"
   ]
  },
  {
   "cell_type": "code",
   "execution_count": 56,
   "id": "8b60b45c",
   "metadata": {},
   "outputs": [],
   "source": [
    "X_train, X_test, y_train, y_test = train_test_split(X, y, test_size=0.33, random_state=101)"
   ]
  },
  {
   "cell_type": "code",
   "execution_count": 57,
   "id": "6543ec1d",
   "metadata": {},
   "outputs": [],
   "source": [
    "scaled_X_train = scaler.fit_transform(X_train)\n",
    "scaled_X_test = scaler.transform(X_test)"
   ]
  },
  {
   "cell_type": "code",
   "execution_count": 58,
   "id": "a051e082",
   "metadata": {},
   "outputs": [
    {
     "data": {
      "text/html": [
       "<style>#sk-container-id-5 {color: black;background-color: white;}#sk-container-id-5 pre{padding: 0;}#sk-container-id-5 div.sk-toggleable {background-color: white;}#sk-container-id-5 label.sk-toggleable__label {cursor: pointer;display: block;width: 100%;margin-bottom: 0;padding: 0.3em;box-sizing: border-box;text-align: center;}#sk-container-id-5 label.sk-toggleable__label-arrow:before {content: \"▸\";float: left;margin-right: 0.25em;color: #696969;}#sk-container-id-5 label.sk-toggleable__label-arrow:hover:before {color: black;}#sk-container-id-5 div.sk-estimator:hover label.sk-toggleable__label-arrow:before {color: black;}#sk-container-id-5 div.sk-toggleable__content {max-height: 0;max-width: 0;overflow: hidden;text-align: left;background-color: #f0f8ff;}#sk-container-id-5 div.sk-toggleable__content pre {margin: 0.2em;color: black;border-radius: 0.25em;background-color: #f0f8ff;}#sk-container-id-5 input.sk-toggleable__control:checked~div.sk-toggleable__content {max-height: 200px;max-width: 100%;overflow: auto;}#sk-container-id-5 input.sk-toggleable__control:checked~label.sk-toggleable__label-arrow:before {content: \"▾\";}#sk-container-id-5 div.sk-estimator input.sk-toggleable__control:checked~label.sk-toggleable__label {background-color: #d4ebff;}#sk-container-id-5 div.sk-label input.sk-toggleable__control:checked~label.sk-toggleable__label {background-color: #d4ebff;}#sk-container-id-5 input.sk-hidden--visually {border: 0;clip: rect(1px 1px 1px 1px);clip: rect(1px, 1px, 1px, 1px);height: 1px;margin: -1px;overflow: hidden;padding: 0;position: absolute;width: 1px;}#sk-container-id-5 div.sk-estimator {font-family: monospace;background-color: #f0f8ff;border: 1px dotted black;border-radius: 0.25em;box-sizing: border-box;margin-bottom: 0.5em;}#sk-container-id-5 div.sk-estimator:hover {background-color: #d4ebff;}#sk-container-id-5 div.sk-parallel-item::after {content: \"\";width: 100%;border-bottom: 1px solid gray;flex-grow: 1;}#sk-container-id-5 div.sk-label:hover label.sk-toggleable__label {background-color: #d4ebff;}#sk-container-id-5 div.sk-serial::before {content: \"\";position: absolute;border-left: 1px solid gray;box-sizing: border-box;top: 0;bottom: 0;left: 50%;z-index: 0;}#sk-container-id-5 div.sk-serial {display: flex;flex-direction: column;align-items: center;background-color: white;padding-right: 0.2em;padding-left: 0.2em;position: relative;}#sk-container-id-5 div.sk-item {position: relative;z-index: 1;}#sk-container-id-5 div.sk-parallel {display: flex;align-items: stretch;justify-content: center;background-color: white;position: relative;}#sk-container-id-5 div.sk-item::before, #sk-container-id-5 div.sk-parallel-item::before {content: \"\";position: absolute;border-left: 1px solid gray;box-sizing: border-box;top: 0;bottom: 0;left: 50%;z-index: -1;}#sk-container-id-5 div.sk-parallel-item {display: flex;flex-direction: column;z-index: 1;position: relative;background-color: white;}#sk-container-id-5 div.sk-parallel-item:first-child::after {align-self: flex-end;width: 50%;}#sk-container-id-5 div.sk-parallel-item:last-child::after {align-self: flex-start;width: 50%;}#sk-container-id-5 div.sk-parallel-item:only-child::after {width: 0;}#sk-container-id-5 div.sk-dashed-wrapped {border: 1px dashed gray;margin: 0 0.4em 0.5em 0.4em;box-sizing: border-box;padding-bottom: 0.4em;background-color: white;}#sk-container-id-5 div.sk-label label {font-family: monospace;font-weight: bold;display: inline-block;line-height: 1.2em;}#sk-container-id-5 div.sk-label-container {text-align: center;}#sk-container-id-5 div.sk-container {/* jupyter's `normalize.less` sets `[hidden] { display: none; }` but bootstrap.min.css set `[hidden] { display: none !important; }` so we also need the `!important` here to be able to override the default hidden behavior on the sphinx rendered scikit-learn.org. See: https://github.com/scikit-learn/scikit-learn/issues/21755 */display: inline-block !important;position: relative;}#sk-container-id-5 div.sk-text-repr-fallback {display: none;}</style><div id=\"sk-container-id-5\" class=\"sk-top-container\"><div class=\"sk-text-repr-fallback\"><pre>SVC()</pre><b>In a Jupyter environment, please rerun this cell to show the HTML representation or trust the notebook. <br />On GitHub, the HTML representation is unable to render, please try loading this page with nbviewer.org.</b></div><div class=\"sk-container\" hidden><div class=\"sk-item\"><div class=\"sk-estimator sk-toggleable\"><input class=\"sk-toggleable__control sk-hidden--visually\" id=\"sk-estimator-id-7\" type=\"checkbox\" checked><label for=\"sk-estimator-id-7\" class=\"sk-toggleable__label sk-toggleable__label-arrow\">SVC</label><div class=\"sk-toggleable__content\"><pre>SVC()</pre></div></div></div></div></div>"
      ],
      "text/plain": [
       "SVC()"
      ]
     },
     "execution_count": 58,
     "metadata": {},
     "output_type": "execute_result"
    }
   ],
   "source": [
    "model.fit(scaled_X_train,y_train)"
   ]
  },
  {
   "cell_type": "code",
   "execution_count": 59,
   "id": "ecde00b2",
   "metadata": {},
   "outputs": [],
   "source": [
    "rfe_pred = model.predict(scaled_X_test)"
   ]
  },
  {
   "cell_type": "code",
   "execution_count": 60,
   "id": "81974318",
   "metadata": {},
   "outputs": [
    {
     "data": {
      "text/plain": [
       "array([[ 90,   0,  91],\n",
       "       [ 37,   0, 123],\n",
       "       [ 36,   2, 275]], dtype=int64)"
      ]
     },
     "execution_count": 60,
     "metadata": {},
     "output_type": "execute_result"
    }
   ],
   "source": [
    "confusion_matrix(y_test,rfe_pred)"
   ]
  },
  {
   "cell_type": "code",
   "execution_count": 61,
   "id": "0274b478",
   "metadata": {},
   "outputs": [
    {
     "name": "stdout",
     "output_type": "stream",
     "text": [
      "              precision    recall  f1-score   support\n",
      "\n",
      "           A       0.55      0.50      0.52       181\n",
      "           D       0.00      0.00      0.00       160\n",
      "           H       0.56      0.88      0.69       313\n",
      "\n",
      "    accuracy                           0.56       654\n",
      "   macro avg       0.37      0.46      0.40       654\n",
      "weighted avg       0.42      0.56      0.47       654\n",
      "\n"
     ]
    }
   ],
   "source": [
    "print(classification_report(y_test,rfe_pred))"
   ]
  },
  {
   "cell_type": "code",
   "execution_count": 62,
   "id": "14147af1",
   "metadata": {},
   "outputs": [],
   "source": [
    "kernel = ['rbf', 'sigmoid']\n",
    "C = [1,2,3,4,5]\n",
    "gamma = [0.01,0.02,0.03,0.05,0.1,0.2,'scale','auto']"
   ]
  },
  {
   "cell_type": "code",
   "execution_count": 63,
   "id": "8c8e62f0",
   "metadata": {},
   "outputs": [],
   "source": [
    "param_grid = {'kernel': kernel,\n",
    "              'C': C,\n",
    "              'gamma': gamma}"
   ]
  },
  {
   "cell_type": "code",
   "execution_count": 64,
   "id": "b0e019f4",
   "metadata": {},
   "outputs": [],
   "source": [
    "grid_model = GridSearchCV(model, param_grid=param_grid, scoring='accuracy')"
   ]
  },
  {
   "cell_type": "code",
   "execution_count": 65,
   "id": "c9da9bea",
   "metadata": {},
   "outputs": [
    {
     "data": {
      "text/html": [
       "<style>#sk-container-id-6 {color: black;background-color: white;}#sk-container-id-6 pre{padding: 0;}#sk-container-id-6 div.sk-toggleable {background-color: white;}#sk-container-id-6 label.sk-toggleable__label {cursor: pointer;display: block;width: 100%;margin-bottom: 0;padding: 0.3em;box-sizing: border-box;text-align: center;}#sk-container-id-6 label.sk-toggleable__label-arrow:before {content: \"▸\";float: left;margin-right: 0.25em;color: #696969;}#sk-container-id-6 label.sk-toggleable__label-arrow:hover:before {color: black;}#sk-container-id-6 div.sk-estimator:hover label.sk-toggleable__label-arrow:before {color: black;}#sk-container-id-6 div.sk-toggleable__content {max-height: 0;max-width: 0;overflow: hidden;text-align: left;background-color: #f0f8ff;}#sk-container-id-6 div.sk-toggleable__content pre {margin: 0.2em;color: black;border-radius: 0.25em;background-color: #f0f8ff;}#sk-container-id-6 input.sk-toggleable__control:checked~div.sk-toggleable__content {max-height: 200px;max-width: 100%;overflow: auto;}#sk-container-id-6 input.sk-toggleable__control:checked~label.sk-toggleable__label-arrow:before {content: \"▾\";}#sk-container-id-6 div.sk-estimator input.sk-toggleable__control:checked~label.sk-toggleable__label {background-color: #d4ebff;}#sk-container-id-6 div.sk-label input.sk-toggleable__control:checked~label.sk-toggleable__label {background-color: #d4ebff;}#sk-container-id-6 input.sk-hidden--visually {border: 0;clip: rect(1px 1px 1px 1px);clip: rect(1px, 1px, 1px, 1px);height: 1px;margin: -1px;overflow: hidden;padding: 0;position: absolute;width: 1px;}#sk-container-id-6 div.sk-estimator {font-family: monospace;background-color: #f0f8ff;border: 1px dotted black;border-radius: 0.25em;box-sizing: border-box;margin-bottom: 0.5em;}#sk-container-id-6 div.sk-estimator:hover {background-color: #d4ebff;}#sk-container-id-6 div.sk-parallel-item::after {content: \"\";width: 100%;border-bottom: 1px solid gray;flex-grow: 1;}#sk-container-id-6 div.sk-label:hover label.sk-toggleable__label {background-color: #d4ebff;}#sk-container-id-6 div.sk-serial::before {content: \"\";position: absolute;border-left: 1px solid gray;box-sizing: border-box;top: 0;bottom: 0;left: 50%;z-index: 0;}#sk-container-id-6 div.sk-serial {display: flex;flex-direction: column;align-items: center;background-color: white;padding-right: 0.2em;padding-left: 0.2em;position: relative;}#sk-container-id-6 div.sk-item {position: relative;z-index: 1;}#sk-container-id-6 div.sk-parallel {display: flex;align-items: stretch;justify-content: center;background-color: white;position: relative;}#sk-container-id-6 div.sk-item::before, #sk-container-id-6 div.sk-parallel-item::before {content: \"\";position: absolute;border-left: 1px solid gray;box-sizing: border-box;top: 0;bottom: 0;left: 50%;z-index: -1;}#sk-container-id-6 div.sk-parallel-item {display: flex;flex-direction: column;z-index: 1;position: relative;background-color: white;}#sk-container-id-6 div.sk-parallel-item:first-child::after {align-self: flex-end;width: 50%;}#sk-container-id-6 div.sk-parallel-item:last-child::after {align-self: flex-start;width: 50%;}#sk-container-id-6 div.sk-parallel-item:only-child::after {width: 0;}#sk-container-id-6 div.sk-dashed-wrapped {border: 1px dashed gray;margin: 0 0.4em 0.5em 0.4em;box-sizing: border-box;padding-bottom: 0.4em;background-color: white;}#sk-container-id-6 div.sk-label label {font-family: monospace;font-weight: bold;display: inline-block;line-height: 1.2em;}#sk-container-id-6 div.sk-label-container {text-align: center;}#sk-container-id-6 div.sk-container {/* jupyter's `normalize.less` sets `[hidden] { display: none; }` but bootstrap.min.css set `[hidden] { display: none !important; }` so we also need the `!important` here to be able to override the default hidden behavior on the sphinx rendered scikit-learn.org. See: https://github.com/scikit-learn/scikit-learn/issues/21755 */display: inline-block !important;position: relative;}#sk-container-id-6 div.sk-text-repr-fallback {display: none;}</style><div id=\"sk-container-id-6\" class=\"sk-top-container\"><div class=\"sk-text-repr-fallback\"><pre>GridSearchCV(estimator=SVC(),\n",
       "             param_grid={&#x27;C&#x27;: [1, 2, 3, 4, 5],\n",
       "                         &#x27;gamma&#x27;: [0.01, 0.02, 0.03, 0.05, 0.1, 0.2, &#x27;scale&#x27;,\n",
       "                                   &#x27;auto&#x27;],\n",
       "                         &#x27;kernel&#x27;: [&#x27;rbf&#x27;, &#x27;sigmoid&#x27;]},\n",
       "             scoring=&#x27;accuracy&#x27;)</pre><b>In a Jupyter environment, please rerun this cell to show the HTML representation or trust the notebook. <br />On GitHub, the HTML representation is unable to render, please try loading this page with nbviewer.org.</b></div><div class=\"sk-container\" hidden><div class=\"sk-item sk-dashed-wrapped\"><div class=\"sk-label-container\"><div class=\"sk-label sk-toggleable\"><input class=\"sk-toggleable__control sk-hidden--visually\" id=\"sk-estimator-id-8\" type=\"checkbox\" ><label for=\"sk-estimator-id-8\" class=\"sk-toggleable__label sk-toggleable__label-arrow\">GridSearchCV</label><div class=\"sk-toggleable__content\"><pre>GridSearchCV(estimator=SVC(),\n",
       "             param_grid={&#x27;C&#x27;: [1, 2, 3, 4, 5],\n",
       "                         &#x27;gamma&#x27;: [0.01, 0.02, 0.03, 0.05, 0.1, 0.2, &#x27;scale&#x27;,\n",
       "                                   &#x27;auto&#x27;],\n",
       "                         &#x27;kernel&#x27;: [&#x27;rbf&#x27;, &#x27;sigmoid&#x27;]},\n",
       "             scoring=&#x27;accuracy&#x27;)</pre></div></div></div><div class=\"sk-parallel\"><div class=\"sk-parallel-item\"><div class=\"sk-item\"><div class=\"sk-label-container\"><div class=\"sk-label sk-toggleable\"><input class=\"sk-toggleable__control sk-hidden--visually\" id=\"sk-estimator-id-9\" type=\"checkbox\" ><label for=\"sk-estimator-id-9\" class=\"sk-toggleable__label sk-toggleable__label-arrow\">estimator: SVC</label><div class=\"sk-toggleable__content\"><pre>SVC()</pre></div></div></div><div class=\"sk-serial\"><div class=\"sk-item\"><div class=\"sk-estimator sk-toggleable\"><input class=\"sk-toggleable__control sk-hidden--visually\" id=\"sk-estimator-id-10\" type=\"checkbox\" ><label for=\"sk-estimator-id-10\" class=\"sk-toggleable__label sk-toggleable__label-arrow\">SVC</label><div class=\"sk-toggleable__content\"><pre>SVC()</pre></div></div></div></div></div></div></div></div></div></div>"
      ],
      "text/plain": [
       "GridSearchCV(estimator=SVC(),\n",
       "             param_grid={'C': [1, 2, 3, 4, 5],\n",
       "                         'gamma': [0.01, 0.02, 0.03, 0.05, 0.1, 0.2, 'scale',\n",
       "                                   'auto'],\n",
       "                         'kernel': ['rbf', 'sigmoid']},\n",
       "             scoring='accuracy')"
      ]
     },
     "execution_count": 65,
     "metadata": {},
     "output_type": "execute_result"
    }
   ],
   "source": [
    "grid_model.fit(scaled_X_train,y_train)"
   ]
  },
  {
   "cell_type": "code",
   "execution_count": 66,
   "id": "30e29f73",
   "metadata": {},
   "outputs": [
    {
     "data": {
      "text/plain": [
       "{'C': 5, 'gamma': 0.2, 'kernel': 'rbf'}"
      ]
     },
     "execution_count": 66,
     "metadata": {},
     "output_type": "execute_result"
    }
   ],
   "source": [
    "grid_model.best_params_"
   ]
  },
  {
   "cell_type": "code",
   "execution_count": 67,
   "id": "ecc03203",
   "metadata": {},
   "outputs": [],
   "source": [
    "grid_pred = grid_model.predict(scaled_X_test)"
   ]
  },
  {
   "cell_type": "code",
   "execution_count": 68,
   "id": "7bf4c749",
   "metadata": {},
   "outputs": [
    {
     "data": {
      "text/plain": [
       "array([[ 86,   0,  95],\n",
       "       [ 32,   0, 128],\n",
       "       [ 31,   0, 282]], dtype=int64)"
      ]
     },
     "execution_count": 68,
     "metadata": {},
     "output_type": "execute_result"
    }
   ],
   "source": [
    "confusion_matrix(y_test,grid_pred)"
   ]
  },
  {
   "cell_type": "markdown",
   "id": "e886dbce",
   "metadata": {},
   "source": [
    "We will try one more time"
   ]
  },
  {
   "cell_type": "code",
   "execution_count": 86,
   "id": "c5b2537e",
   "metadata": {},
   "outputs": [],
   "source": [
    "kernel = ['rbf', 'sigmoid']\n",
    "C = [1,2,3,4,5,6,7,8,9,10]\n",
    "gamma = [0.1,0.15,0.16,0.17,0.18,0.2,0.3,'scale']"
   ]
  },
  {
   "cell_type": "code",
   "execution_count": 87,
   "id": "128f835a",
   "metadata": {},
   "outputs": [],
   "source": [
    "param_grid = {'kernel': kernel,\n",
    "              'C': C,\n",
    "              'gamma': gamma}"
   ]
  },
  {
   "cell_type": "code",
   "execution_count": 88,
   "id": "f880df1a",
   "metadata": {},
   "outputs": [],
   "source": [
    "grid_model = GridSearchCV(model, param_grid=param_grid, scoring='accuracy')"
   ]
  },
  {
   "cell_type": "code",
   "execution_count": 89,
   "id": "b2d3e390",
   "metadata": {},
   "outputs": [
    {
     "data": {
      "text/html": [
       "<style>#sk-container-id-9 {color: black;background-color: white;}#sk-container-id-9 pre{padding: 0;}#sk-container-id-9 div.sk-toggleable {background-color: white;}#sk-container-id-9 label.sk-toggleable__label {cursor: pointer;display: block;width: 100%;margin-bottom: 0;padding: 0.3em;box-sizing: border-box;text-align: center;}#sk-container-id-9 label.sk-toggleable__label-arrow:before {content: \"▸\";float: left;margin-right: 0.25em;color: #696969;}#sk-container-id-9 label.sk-toggleable__label-arrow:hover:before {color: black;}#sk-container-id-9 div.sk-estimator:hover label.sk-toggleable__label-arrow:before {color: black;}#sk-container-id-9 div.sk-toggleable__content {max-height: 0;max-width: 0;overflow: hidden;text-align: left;background-color: #f0f8ff;}#sk-container-id-9 div.sk-toggleable__content pre {margin: 0.2em;color: black;border-radius: 0.25em;background-color: #f0f8ff;}#sk-container-id-9 input.sk-toggleable__control:checked~div.sk-toggleable__content {max-height: 200px;max-width: 100%;overflow: auto;}#sk-container-id-9 input.sk-toggleable__control:checked~label.sk-toggleable__label-arrow:before {content: \"▾\";}#sk-container-id-9 div.sk-estimator input.sk-toggleable__control:checked~label.sk-toggleable__label {background-color: #d4ebff;}#sk-container-id-9 div.sk-label input.sk-toggleable__control:checked~label.sk-toggleable__label {background-color: #d4ebff;}#sk-container-id-9 input.sk-hidden--visually {border: 0;clip: rect(1px 1px 1px 1px);clip: rect(1px, 1px, 1px, 1px);height: 1px;margin: -1px;overflow: hidden;padding: 0;position: absolute;width: 1px;}#sk-container-id-9 div.sk-estimator {font-family: monospace;background-color: #f0f8ff;border: 1px dotted black;border-radius: 0.25em;box-sizing: border-box;margin-bottom: 0.5em;}#sk-container-id-9 div.sk-estimator:hover {background-color: #d4ebff;}#sk-container-id-9 div.sk-parallel-item::after {content: \"\";width: 100%;border-bottom: 1px solid gray;flex-grow: 1;}#sk-container-id-9 div.sk-label:hover label.sk-toggleable__label {background-color: #d4ebff;}#sk-container-id-9 div.sk-serial::before {content: \"\";position: absolute;border-left: 1px solid gray;box-sizing: border-box;top: 0;bottom: 0;left: 50%;z-index: 0;}#sk-container-id-9 div.sk-serial {display: flex;flex-direction: column;align-items: center;background-color: white;padding-right: 0.2em;padding-left: 0.2em;position: relative;}#sk-container-id-9 div.sk-item {position: relative;z-index: 1;}#sk-container-id-9 div.sk-parallel {display: flex;align-items: stretch;justify-content: center;background-color: white;position: relative;}#sk-container-id-9 div.sk-item::before, #sk-container-id-9 div.sk-parallel-item::before {content: \"\";position: absolute;border-left: 1px solid gray;box-sizing: border-box;top: 0;bottom: 0;left: 50%;z-index: -1;}#sk-container-id-9 div.sk-parallel-item {display: flex;flex-direction: column;z-index: 1;position: relative;background-color: white;}#sk-container-id-9 div.sk-parallel-item:first-child::after {align-self: flex-end;width: 50%;}#sk-container-id-9 div.sk-parallel-item:last-child::after {align-self: flex-start;width: 50%;}#sk-container-id-9 div.sk-parallel-item:only-child::after {width: 0;}#sk-container-id-9 div.sk-dashed-wrapped {border: 1px dashed gray;margin: 0 0.4em 0.5em 0.4em;box-sizing: border-box;padding-bottom: 0.4em;background-color: white;}#sk-container-id-9 div.sk-label label {font-family: monospace;font-weight: bold;display: inline-block;line-height: 1.2em;}#sk-container-id-9 div.sk-label-container {text-align: center;}#sk-container-id-9 div.sk-container {/* jupyter's `normalize.less` sets `[hidden] { display: none; }` but bootstrap.min.css set `[hidden] { display: none !important; }` so we also need the `!important` here to be able to override the default hidden behavior on the sphinx rendered scikit-learn.org. See: https://github.com/scikit-learn/scikit-learn/issues/21755 */display: inline-block !important;position: relative;}#sk-container-id-9 div.sk-text-repr-fallback {display: none;}</style><div id=\"sk-container-id-9\" class=\"sk-top-container\"><div class=\"sk-text-repr-fallback\"><pre>GridSearchCV(estimator=SVC(),\n",
       "             param_grid={&#x27;C&#x27;: [1, 2, 3, 4, 5, 6, 7, 8, 9, 10],\n",
       "                         &#x27;gamma&#x27;: [0.1, 0.15, 0.16, 0.17, 0.18, 0.2, 0.3,\n",
       "                                   &#x27;scale&#x27;],\n",
       "                         &#x27;kernel&#x27;: [&#x27;rbf&#x27;, &#x27;sigmoid&#x27;]},\n",
       "             scoring=&#x27;accuracy&#x27;)</pre><b>In a Jupyter environment, please rerun this cell to show the HTML representation or trust the notebook. <br />On GitHub, the HTML representation is unable to render, please try loading this page with nbviewer.org.</b></div><div class=\"sk-container\" hidden><div class=\"sk-item sk-dashed-wrapped\"><div class=\"sk-label-container\"><div class=\"sk-label sk-toggleable\"><input class=\"sk-toggleable__control sk-hidden--visually\" id=\"sk-estimator-id-19\" type=\"checkbox\" ><label for=\"sk-estimator-id-19\" class=\"sk-toggleable__label sk-toggleable__label-arrow\">GridSearchCV</label><div class=\"sk-toggleable__content\"><pre>GridSearchCV(estimator=SVC(),\n",
       "             param_grid={&#x27;C&#x27;: [1, 2, 3, 4, 5, 6, 7, 8, 9, 10],\n",
       "                         &#x27;gamma&#x27;: [0.1, 0.15, 0.16, 0.17, 0.18, 0.2, 0.3,\n",
       "                                   &#x27;scale&#x27;],\n",
       "                         &#x27;kernel&#x27;: [&#x27;rbf&#x27;, &#x27;sigmoid&#x27;]},\n",
       "             scoring=&#x27;accuracy&#x27;)</pre></div></div></div><div class=\"sk-parallel\"><div class=\"sk-parallel-item\"><div class=\"sk-item\"><div class=\"sk-label-container\"><div class=\"sk-label sk-toggleable\"><input class=\"sk-toggleable__control sk-hidden--visually\" id=\"sk-estimator-id-20\" type=\"checkbox\" ><label for=\"sk-estimator-id-20\" class=\"sk-toggleable__label sk-toggleable__label-arrow\">estimator: SVC</label><div class=\"sk-toggleable__content\"><pre>SVC()</pre></div></div></div><div class=\"sk-serial\"><div class=\"sk-item\"><div class=\"sk-estimator sk-toggleable\"><input class=\"sk-toggleable__control sk-hidden--visually\" id=\"sk-estimator-id-21\" type=\"checkbox\" ><label for=\"sk-estimator-id-21\" class=\"sk-toggleable__label sk-toggleable__label-arrow\">SVC</label><div class=\"sk-toggleable__content\"><pre>SVC()</pre></div></div></div></div></div></div></div></div></div></div>"
      ],
      "text/plain": [
       "GridSearchCV(estimator=SVC(),\n",
       "             param_grid={'C': [1, 2, 3, 4, 5, 6, 7, 8, 9, 10],\n",
       "                         'gamma': [0.1, 0.15, 0.16, 0.17, 0.18, 0.2, 0.3,\n",
       "                                   'scale'],\n",
       "                         'kernel': ['rbf', 'sigmoid']},\n",
       "             scoring='accuracy')"
      ]
     },
     "execution_count": 89,
     "metadata": {},
     "output_type": "execute_result"
    }
   ],
   "source": [
    "grid_model.fit(scaled_X_train,y_train)"
   ]
  },
  {
   "cell_type": "code",
   "execution_count": 90,
   "id": "d0c62a83",
   "metadata": {},
   "outputs": [
    {
     "data": {
      "text/plain": [
       "{'C': 4, 'gamma': 0.15, 'kernel': 'sigmoid'}"
      ]
     },
     "execution_count": 90,
     "metadata": {},
     "output_type": "execute_result"
    }
   ],
   "source": [
    "grid_model.best_params_"
   ]
  },
  {
   "cell_type": "code",
   "execution_count": 91,
   "id": "4e285ffe",
   "metadata": {},
   "outputs": [],
   "source": [
    "grid_pred = grid_model.predict(scaled_X_test)"
   ]
  },
  {
   "cell_type": "code",
   "execution_count": 92,
   "id": "4b7d3536",
   "metadata": {},
   "outputs": [
    {
     "data": {
      "text/plain": [
       "array([[ 91,   1,  89],\n",
       "       [ 31,   0, 129],\n",
       "       [ 38,   0, 275]], dtype=int64)"
      ]
     },
     "execution_count": 92,
     "metadata": {},
     "output_type": "execute_result"
    }
   ],
   "source": [
    "confusion_matrix(y_test,grid_pred)"
   ]
  },
  {
   "cell_type": "code",
   "execution_count": 93,
   "id": "8ecb29e2",
   "metadata": {},
   "outputs": [
    {
     "name": "stdout",
     "output_type": "stream",
     "text": [
      "              precision    recall  f1-score   support\n",
      "\n",
      "           A       0.57      0.50      0.53       181\n",
      "           D       0.00      0.00      0.00       160\n",
      "           H       0.56      0.88      0.68       313\n",
      "\n",
      "    accuracy                           0.56       654\n",
      "   macro avg       0.38      0.46      0.41       654\n",
      "weighted avg       0.42      0.56      0.47       654\n",
      "\n"
     ]
    }
   ],
   "source": [
    "print(classification_report(y_test,grid_pred))"
   ]
  },
  {
   "cell_type": "markdown",
   "id": "22ef08ce",
   "metadata": {},
   "source": [
    "**We can't improve the model even further. 0.56 accuracy is the best I could get.**\n",
    "\n",
    "Features:\n",
    "- AVGH\n",
    "- AVGD\n",
    "- AVGA\n",
    "- HT_draws\n",
    "- l5_ravg_HTST\n",
    "- l5_ravg_ATCR\n",
    "- l5_ravg_HTxG\n",
    "- l5_ravg_ATxG\n",
    "- l5_ravg_HTxpts\n",
    "- l5_ravg_ATxpts\n",
    "- l5_atdiff\n",
    "- avgHTP\n",
    "- avgATP\n",
    "- diff_MID\n",
    "- diff_DEF"
   ]
  },
  {
   "cell_type": "markdown",
   "id": "5bc640ca",
   "metadata": {},
   "source": [
    "**La Liga**"
   ]
  },
  {
   "cell_type": "code",
   "execution_count": 47,
   "id": "13f2bd5c",
   "metadata": {},
   "outputs": [],
   "source": [
    "df = pd.read_csv(r\"C:\\Users\\George\\Desktop\\football-match-prediction-using-ml-techniques\\fe\\la_liga.csv\")"
   ]
  },
  {
   "cell_type": "code",
   "execution_count": 48,
   "id": "5d3af892",
   "metadata": {},
   "outputs": [],
   "source": [
    "#We assign a unique value at every team of the league\n",
    "team_id = {'Almeria':1, 'Granada':2, 'Malaga':3, 'Sevilla':4, 'Barcelona':5, 'Celta':6,\n",
    "           'Eibar':7, 'Levante':8, 'Real Madrid':9, 'Vallecano':10, 'Getafe':11,\n",
    "           'Valencia':12, 'Ath Bilbao':13, 'Ath Madrid':14, 'Cordoba':15, 'Espanol':16,\n",
    "           'Elche':17, 'La Coruna':18, 'Sociedad':19, 'Villarreal':20, 'Betis':21,\n",
    "           'Sp Gijon':22, 'Las Palmas':23, 'Leganes':24, 'Osasuna':25, 'Alaves':26, 'Girona':27,\n",
    "           'Valladolid':28, 'Huesca':29, 'Mallorca':30}\n",
    "\n",
    "for key,value in df.iteritems():\n",
    "    df['HomeTeam'] = df['HomeTeam'].apply(lambda x: team_id.get(x,x))\n",
    "    \n",
    "for key,value in df.iteritems():\n",
    "    df['AwayTeam'] = df['AwayTeam'].apply(lambda x: team_id.get(x,x))"
   ]
  },
  {
   "cell_type": "code",
   "execution_count": 49,
   "id": "7d7a4a2f",
   "metadata": {},
   "outputs": [],
   "source": [
    "#We are dropping the starts that are not available to us before the game \n",
    "df = df.drop(['Unnamed: 0', 'Date','FTHG', 'FTAG', 'HTHG','HTAG','league', 'Hppda_coef', 'Appda_coef','HTW', 'HTD',\n",
    "              'season','HTCR', 'ATCR','HTGS','HTxpts', 'ATxpts','ATGS', 'HTGC', 'ATGC','HTOVA_S', 'HTatt_S', \n",
    "              'HTmid_S','HTdef_S', 'ATOVA_S', 'ATatt_S','ATmid_S','ATdef_S','l5_ravg_HTgs', 'l5_ravg_ATgs',\n",
    "              'l5_ravg_HTgc', 'l5_ravg_ATgc', 'HomeTeamPoints','AwayTeamPoints',\n",
    "              'HTL', 'ATL', 'ATD', 'ATW'],axis=1)\n",
    "\n",
    "df = df.dropna()"
   ]
  },
  {
   "cell_type": "code",
   "execution_count": 50,
   "id": "84d8535e",
   "metadata": {},
   "outputs": [],
   "source": [
    "X = df.drop(['FTR'],axis=1)\n",
    "y = df['FTR']"
   ]
  },
  {
   "cell_type": "code",
   "execution_count": 51,
   "id": "f908638d",
   "metadata": {},
   "outputs": [
    {
     "data": {
      "text/plain": [
       "(1979, 36)"
      ]
     },
     "execution_count": 51,
     "metadata": {},
     "output_type": "execute_result"
    }
   ],
   "source": [
    "X.shape"
   ]
  },
  {
   "cell_type": "code",
   "execution_count": 37,
   "id": "b583e844",
   "metadata": {},
   "outputs": [],
   "source": [
    "X_train, X_test, y_train, y_test = train_test_split(X, y, test_size=0.33, random_state=101)"
   ]
  },
  {
   "cell_type": "code",
   "execution_count": 38,
   "id": "f3159c0f",
   "metadata": {},
   "outputs": [],
   "source": [
    "scaler = MinMaxScaler()\n",
    "\n",
    "scaled_X_train = scaler.fit_transform(X_train)\n",
    "scaled_X_test = scaler.transform(X_test)"
   ]
  },
  {
   "cell_type": "code",
   "execution_count": 8,
   "id": "4bdc0ca6",
   "metadata": {},
   "outputs": [],
   "source": [
    "first_model = SVC()\n",
    "\n",
    "first_model.fit(scaled_X_train,y_train)\n",
    "first_model_pred = first_model.predict(scaled_X_test)"
   ]
  },
  {
   "cell_type": "code",
   "execution_count": 9,
   "id": "cb21bf28",
   "metadata": {},
   "outputs": [
    {
     "data": {
      "text/plain": [
       "array([[ 74,   3, 107],\n",
       "       [ 48,   4, 107],\n",
       "       [ 50,   0, 261]], dtype=int64)"
      ]
     },
     "execution_count": 9,
     "metadata": {},
     "output_type": "execute_result"
    }
   ],
   "source": [
    "confusion_matrix(y_test,first_model_pred)"
   ]
  },
  {
   "cell_type": "code",
   "execution_count": 10,
   "id": "62a34534",
   "metadata": {},
   "outputs": [
    {
     "name": "stdout",
     "output_type": "stream",
     "text": [
      "              precision    recall  f1-score   support\n",
      "\n",
      "           A       0.43      0.40      0.42       184\n",
      "           D       0.57      0.03      0.05       159\n",
      "           H       0.55      0.84      0.66       311\n",
      "\n",
      "    accuracy                           0.52       654\n",
      "   macro avg       0.52      0.42      0.38       654\n",
      "weighted avg       0.52      0.52      0.44       654\n",
      "\n"
     ]
    }
   ],
   "source": [
    "print(classification_report(y_test,first_model_pred))"
   ]
  },
  {
   "cell_type": "code",
   "execution_count": 11,
   "id": "ee5818e7",
   "metadata": {},
   "outputs": [
    {
     "name": "stdout",
     "output_type": "stream",
     "text": [
      "Features selected [False False  True  True  True  True  True  True  True  True  True False\n",
      "  True  True  True False False  True  True  True  True False False False\n",
      " False  True  True  True  True  True False  True  True  True False  True]\n",
      "Feature ranking [12  8  1  1  1  1  1  1  1  1  1  9  1  1  1  2 11  1  1  1  1  3  6  4\n",
      "  5  1  1  1  1  1  7  1  1  1 10  1]\n"
     ]
    }
   ],
   "source": [
    "estimator = SVC(kernel=\"linear\")\n",
    "selector = RFECV(estimator, step=1, scoring='accuracy', cv=5)\n",
    "selector = selector.fit(X, y)\n",
    "print(\"Features selected\", selector.support_)\n",
    "print(\"Feature ranking\", selector.ranking_)"
   ]
  },
  {
   "cell_type": "code",
   "execution_count": 12,
   "id": "9a814173",
   "metadata": {},
   "outputs": [],
   "source": [
    "featured_columns = pd.DataFrame(selector.support_,\n",
    "                            index = X.columns,\n",
    "                            columns=['is_in'])"
   ]
  },
  {
   "cell_type": "code",
   "execution_count": 13,
   "id": "6c64e04b",
   "metadata": {},
   "outputs": [],
   "source": [
    "featured_columns = featured_columns[featured_columns.is_in == True].index.tolist()"
   ]
  },
  {
   "cell_type": "code",
   "execution_count": 14,
   "id": "1f12c47d",
   "metadata": {},
   "outputs": [
    {
     "data": {
      "text/plain": [
       "['AVGH',\n",
       " 'AVGD',\n",
       " 'AVGA',\n",
       " 'HT_wins',\n",
       " 'AT_wins',\n",
       " 'HT_draws',\n",
       " 'AT_draws',\n",
       " 'HT_losses',\n",
       " 'AT_losses',\n",
       " 'l5_ravg_ATST',\n",
       " 'l5_ravg_HTCR',\n",
       " 'l5_ravg_ATCR',\n",
       " 'l5_ravg_HTxG',\n",
       " 'l5_ravg_ATxG',\n",
       " 'l5_ravg_HTxpts',\n",
       " 'l5_ravg_ATxpts',\n",
       " 'l5_htdiff',\n",
       " 'l5_atdiff',\n",
       " 'avgHTP',\n",
       " 'avgATP',\n",
       " 'l5_ravg_HTp',\n",
       " 'diff_points',\n",
       " 'diff_ATT',\n",
       " 'diff_MID',\n",
       " 'diff_OVA']"
      ]
     },
     "execution_count": 14,
     "metadata": {},
     "output_type": "execute_result"
    }
   ],
   "source": [
    "featured_columns"
   ]
  },
  {
   "cell_type": "code",
   "execution_count": 15,
   "id": "82ccc206",
   "metadata": {},
   "outputs": [],
   "source": [
    "X = df[featured_columns]"
   ]
  },
  {
   "cell_type": "code",
   "execution_count": 16,
   "id": "0de62430",
   "metadata": {},
   "outputs": [],
   "source": [
    "X_train, X_test, y_train, y_test = train_test_split(X, y, test_size=0.33, random_state=101)"
   ]
  },
  {
   "cell_type": "code",
   "execution_count": 17,
   "id": "4c447743",
   "metadata": {},
   "outputs": [],
   "source": [
    "scaled_X_train = scaler.fit_transform(X_train)\n",
    "scaled_X_test = scaler.transform(X_test)"
   ]
  },
  {
   "cell_type": "code",
   "execution_count": 18,
   "id": "7ee19033",
   "metadata": {},
   "outputs": [
    {
     "data": {
      "text/html": [
       "<style>#sk-container-id-1 {color: black;background-color: white;}#sk-container-id-1 pre{padding: 0;}#sk-container-id-1 div.sk-toggleable {background-color: white;}#sk-container-id-1 label.sk-toggleable__label {cursor: pointer;display: block;width: 100%;margin-bottom: 0;padding: 0.3em;box-sizing: border-box;text-align: center;}#sk-container-id-1 label.sk-toggleable__label-arrow:before {content: \"▸\";float: left;margin-right: 0.25em;color: #696969;}#sk-container-id-1 label.sk-toggleable__label-arrow:hover:before {color: black;}#sk-container-id-1 div.sk-estimator:hover label.sk-toggleable__label-arrow:before {color: black;}#sk-container-id-1 div.sk-toggleable__content {max-height: 0;max-width: 0;overflow: hidden;text-align: left;background-color: #f0f8ff;}#sk-container-id-1 div.sk-toggleable__content pre {margin: 0.2em;color: black;border-radius: 0.25em;background-color: #f0f8ff;}#sk-container-id-1 input.sk-toggleable__control:checked~div.sk-toggleable__content {max-height: 200px;max-width: 100%;overflow: auto;}#sk-container-id-1 input.sk-toggleable__control:checked~label.sk-toggleable__label-arrow:before {content: \"▾\";}#sk-container-id-1 div.sk-estimator input.sk-toggleable__control:checked~label.sk-toggleable__label {background-color: #d4ebff;}#sk-container-id-1 div.sk-label input.sk-toggleable__control:checked~label.sk-toggleable__label {background-color: #d4ebff;}#sk-container-id-1 input.sk-hidden--visually {border: 0;clip: rect(1px 1px 1px 1px);clip: rect(1px, 1px, 1px, 1px);height: 1px;margin: -1px;overflow: hidden;padding: 0;position: absolute;width: 1px;}#sk-container-id-1 div.sk-estimator {font-family: monospace;background-color: #f0f8ff;border: 1px dotted black;border-radius: 0.25em;box-sizing: border-box;margin-bottom: 0.5em;}#sk-container-id-1 div.sk-estimator:hover {background-color: #d4ebff;}#sk-container-id-1 div.sk-parallel-item::after {content: \"\";width: 100%;border-bottom: 1px solid gray;flex-grow: 1;}#sk-container-id-1 div.sk-label:hover label.sk-toggleable__label {background-color: #d4ebff;}#sk-container-id-1 div.sk-serial::before {content: \"\";position: absolute;border-left: 1px solid gray;box-sizing: border-box;top: 0;bottom: 0;left: 50%;z-index: 0;}#sk-container-id-1 div.sk-serial {display: flex;flex-direction: column;align-items: center;background-color: white;padding-right: 0.2em;padding-left: 0.2em;position: relative;}#sk-container-id-1 div.sk-item {position: relative;z-index: 1;}#sk-container-id-1 div.sk-parallel {display: flex;align-items: stretch;justify-content: center;background-color: white;position: relative;}#sk-container-id-1 div.sk-item::before, #sk-container-id-1 div.sk-parallel-item::before {content: \"\";position: absolute;border-left: 1px solid gray;box-sizing: border-box;top: 0;bottom: 0;left: 50%;z-index: -1;}#sk-container-id-1 div.sk-parallel-item {display: flex;flex-direction: column;z-index: 1;position: relative;background-color: white;}#sk-container-id-1 div.sk-parallel-item:first-child::after {align-self: flex-end;width: 50%;}#sk-container-id-1 div.sk-parallel-item:last-child::after {align-self: flex-start;width: 50%;}#sk-container-id-1 div.sk-parallel-item:only-child::after {width: 0;}#sk-container-id-1 div.sk-dashed-wrapped {border: 1px dashed gray;margin: 0 0.4em 0.5em 0.4em;box-sizing: border-box;padding-bottom: 0.4em;background-color: white;}#sk-container-id-1 div.sk-label label {font-family: monospace;font-weight: bold;display: inline-block;line-height: 1.2em;}#sk-container-id-1 div.sk-label-container {text-align: center;}#sk-container-id-1 div.sk-container {/* jupyter's `normalize.less` sets `[hidden] { display: none; }` but bootstrap.min.css set `[hidden] { display: none !important; }` so we also need the `!important` here to be able to override the default hidden behavior on the sphinx rendered scikit-learn.org. See: https://github.com/scikit-learn/scikit-learn/issues/21755 */display: inline-block !important;position: relative;}#sk-container-id-1 div.sk-text-repr-fallback {display: none;}</style><div id=\"sk-container-id-1\" class=\"sk-top-container\"><div class=\"sk-text-repr-fallback\"><pre>SVC()</pre><b>In a Jupyter environment, please rerun this cell to show the HTML representation or trust the notebook. <br />On GitHub, the HTML representation is unable to render, please try loading this page with nbviewer.org.</b></div><div class=\"sk-container\" hidden><div class=\"sk-item\"><div class=\"sk-estimator sk-toggleable\"><input class=\"sk-toggleable__control sk-hidden--visually\" id=\"sk-estimator-id-1\" type=\"checkbox\" checked><label for=\"sk-estimator-id-1\" class=\"sk-toggleable__label sk-toggleable__label-arrow\">SVC</label><div class=\"sk-toggleable__content\"><pre>SVC()</pre></div></div></div></div></div>"
      ],
      "text/plain": [
       "SVC()"
      ]
     },
     "execution_count": 18,
     "metadata": {},
     "output_type": "execute_result"
    }
   ],
   "source": [
    "first_model.fit(scaled_X_train,y_train)"
   ]
  },
  {
   "cell_type": "code",
   "execution_count": 20,
   "id": "90532724",
   "metadata": {},
   "outputs": [],
   "source": [
    "rfe_pred = first_model.predict(scaled_X_test)"
   ]
  },
  {
   "cell_type": "code",
   "execution_count": 21,
   "id": "3fab471d",
   "metadata": {},
   "outputs": [
    {
     "data": {
      "text/plain": [
       "array([[ 65,   2, 117],\n",
       "       [ 46,   1, 112],\n",
       "       [ 44,   0, 267]], dtype=int64)"
      ]
     },
     "execution_count": 21,
     "metadata": {},
     "output_type": "execute_result"
    }
   ],
   "source": [
    "confusion_matrix(y_test,rfe_pred)"
   ]
  },
  {
   "cell_type": "code",
   "execution_count": 22,
   "id": "9b000a0f",
   "metadata": {},
   "outputs": [
    {
     "name": "stdout",
     "output_type": "stream",
     "text": [
      "              precision    recall  f1-score   support\n",
      "\n",
      "           A       0.42      0.35      0.38       184\n",
      "           D       0.33      0.01      0.01       159\n",
      "           H       0.54      0.86      0.66       311\n",
      "\n",
      "    accuracy                           0.51       654\n",
      "   macro avg       0.43      0.41      0.35       654\n",
      "weighted avg       0.46      0.51      0.43       654\n",
      "\n"
     ]
    }
   ],
   "source": [
    "print(classification_report(y_test,rfe_pred))"
   ]
  },
  {
   "cell_type": "code",
   "execution_count": 39,
   "id": "aff5f724",
   "metadata": {},
   "outputs": [],
   "source": [
    "kernel = ['rbf', 'sigmoid']\n",
    "C = [1,2,3,4,5,6,7,8,9,10]\n",
    "gamma = [0.1,0.15,0.16,0.17,0.18,0.2,0.3,'scale']"
   ]
  },
  {
   "cell_type": "code",
   "execution_count": 40,
   "id": "6abf2dbf",
   "metadata": {},
   "outputs": [],
   "source": [
    "param_grid = {'kernel': kernel,\n",
    "              'C': C,\n",
    "              'gamma': gamma}"
   ]
  },
  {
   "cell_type": "code",
   "execution_count": 41,
   "id": "0da5c9df",
   "metadata": {},
   "outputs": [],
   "source": [
    "grid_model = GridSearchCV(first_model, param_grid=param_grid, scoring='accuracy')"
   ]
  },
  {
   "cell_type": "code",
   "execution_count": 42,
   "id": "cd4916f6",
   "metadata": {},
   "outputs": [
    {
     "data": {
      "text/html": [
       "<style>#sk-container-id-3 {color: black;background-color: white;}#sk-container-id-3 pre{padding: 0;}#sk-container-id-3 div.sk-toggleable {background-color: white;}#sk-container-id-3 label.sk-toggleable__label {cursor: pointer;display: block;width: 100%;margin-bottom: 0;padding: 0.3em;box-sizing: border-box;text-align: center;}#sk-container-id-3 label.sk-toggleable__label-arrow:before {content: \"▸\";float: left;margin-right: 0.25em;color: #696969;}#sk-container-id-3 label.sk-toggleable__label-arrow:hover:before {color: black;}#sk-container-id-3 div.sk-estimator:hover label.sk-toggleable__label-arrow:before {color: black;}#sk-container-id-3 div.sk-toggleable__content {max-height: 0;max-width: 0;overflow: hidden;text-align: left;background-color: #f0f8ff;}#sk-container-id-3 div.sk-toggleable__content pre {margin: 0.2em;color: black;border-radius: 0.25em;background-color: #f0f8ff;}#sk-container-id-3 input.sk-toggleable__control:checked~div.sk-toggleable__content {max-height: 200px;max-width: 100%;overflow: auto;}#sk-container-id-3 input.sk-toggleable__control:checked~label.sk-toggleable__label-arrow:before {content: \"▾\";}#sk-container-id-3 div.sk-estimator input.sk-toggleable__control:checked~label.sk-toggleable__label {background-color: #d4ebff;}#sk-container-id-3 div.sk-label input.sk-toggleable__control:checked~label.sk-toggleable__label {background-color: #d4ebff;}#sk-container-id-3 input.sk-hidden--visually {border: 0;clip: rect(1px 1px 1px 1px);clip: rect(1px, 1px, 1px, 1px);height: 1px;margin: -1px;overflow: hidden;padding: 0;position: absolute;width: 1px;}#sk-container-id-3 div.sk-estimator {font-family: monospace;background-color: #f0f8ff;border: 1px dotted black;border-radius: 0.25em;box-sizing: border-box;margin-bottom: 0.5em;}#sk-container-id-3 div.sk-estimator:hover {background-color: #d4ebff;}#sk-container-id-3 div.sk-parallel-item::after {content: \"\";width: 100%;border-bottom: 1px solid gray;flex-grow: 1;}#sk-container-id-3 div.sk-label:hover label.sk-toggleable__label {background-color: #d4ebff;}#sk-container-id-3 div.sk-serial::before {content: \"\";position: absolute;border-left: 1px solid gray;box-sizing: border-box;top: 0;bottom: 0;left: 50%;z-index: 0;}#sk-container-id-3 div.sk-serial {display: flex;flex-direction: column;align-items: center;background-color: white;padding-right: 0.2em;padding-left: 0.2em;position: relative;}#sk-container-id-3 div.sk-item {position: relative;z-index: 1;}#sk-container-id-3 div.sk-parallel {display: flex;align-items: stretch;justify-content: center;background-color: white;position: relative;}#sk-container-id-3 div.sk-item::before, #sk-container-id-3 div.sk-parallel-item::before {content: \"\";position: absolute;border-left: 1px solid gray;box-sizing: border-box;top: 0;bottom: 0;left: 50%;z-index: -1;}#sk-container-id-3 div.sk-parallel-item {display: flex;flex-direction: column;z-index: 1;position: relative;background-color: white;}#sk-container-id-3 div.sk-parallel-item:first-child::after {align-self: flex-end;width: 50%;}#sk-container-id-3 div.sk-parallel-item:last-child::after {align-self: flex-start;width: 50%;}#sk-container-id-3 div.sk-parallel-item:only-child::after {width: 0;}#sk-container-id-3 div.sk-dashed-wrapped {border: 1px dashed gray;margin: 0 0.4em 0.5em 0.4em;box-sizing: border-box;padding-bottom: 0.4em;background-color: white;}#sk-container-id-3 div.sk-label label {font-family: monospace;font-weight: bold;display: inline-block;line-height: 1.2em;}#sk-container-id-3 div.sk-label-container {text-align: center;}#sk-container-id-3 div.sk-container {/* jupyter's `normalize.less` sets `[hidden] { display: none; }` but bootstrap.min.css set `[hidden] { display: none !important; }` so we also need the `!important` here to be able to override the default hidden behavior on the sphinx rendered scikit-learn.org. See: https://github.com/scikit-learn/scikit-learn/issues/21755 */display: inline-block !important;position: relative;}#sk-container-id-3 div.sk-text-repr-fallback {display: none;}</style><div id=\"sk-container-id-3\" class=\"sk-top-container\"><div class=\"sk-text-repr-fallback\"><pre>GridSearchCV(estimator=SVC(),\n",
       "             param_grid={&#x27;C&#x27;: [1, 2, 3, 4, 5, 6, 7, 8, 9, 10],\n",
       "                         &#x27;gamma&#x27;: [0.1, 0.15, 0.16, 0.17, 0.18, 0.2, 0.3,\n",
       "                                   &#x27;scale&#x27;],\n",
       "                         &#x27;kernel&#x27;: [&#x27;rbf&#x27;, &#x27;sigmoid&#x27;]},\n",
       "             scoring=&#x27;accuracy&#x27;)</pre><b>In a Jupyter environment, please rerun this cell to show the HTML representation or trust the notebook. <br />On GitHub, the HTML representation is unable to render, please try loading this page with nbviewer.org.</b></div><div class=\"sk-container\" hidden><div class=\"sk-item sk-dashed-wrapped\"><div class=\"sk-label-container\"><div class=\"sk-label sk-toggleable\"><input class=\"sk-toggleable__control sk-hidden--visually\" id=\"sk-estimator-id-5\" type=\"checkbox\" ><label for=\"sk-estimator-id-5\" class=\"sk-toggleable__label sk-toggleable__label-arrow\">GridSearchCV</label><div class=\"sk-toggleable__content\"><pre>GridSearchCV(estimator=SVC(),\n",
       "             param_grid={&#x27;C&#x27;: [1, 2, 3, 4, 5, 6, 7, 8, 9, 10],\n",
       "                         &#x27;gamma&#x27;: [0.1, 0.15, 0.16, 0.17, 0.18, 0.2, 0.3,\n",
       "                                   &#x27;scale&#x27;],\n",
       "                         &#x27;kernel&#x27;: [&#x27;rbf&#x27;, &#x27;sigmoid&#x27;]},\n",
       "             scoring=&#x27;accuracy&#x27;)</pre></div></div></div><div class=\"sk-parallel\"><div class=\"sk-parallel-item\"><div class=\"sk-item\"><div class=\"sk-label-container\"><div class=\"sk-label sk-toggleable\"><input class=\"sk-toggleable__control sk-hidden--visually\" id=\"sk-estimator-id-6\" type=\"checkbox\" ><label for=\"sk-estimator-id-6\" class=\"sk-toggleable__label sk-toggleable__label-arrow\">estimator: SVC</label><div class=\"sk-toggleable__content\"><pre>SVC()</pre></div></div></div><div class=\"sk-serial\"><div class=\"sk-item\"><div class=\"sk-estimator sk-toggleable\"><input class=\"sk-toggleable__control sk-hidden--visually\" id=\"sk-estimator-id-7\" type=\"checkbox\" ><label for=\"sk-estimator-id-7\" class=\"sk-toggleable__label sk-toggleable__label-arrow\">SVC</label><div class=\"sk-toggleable__content\"><pre>SVC()</pre></div></div></div></div></div></div></div></div></div></div>"
      ],
      "text/plain": [
       "GridSearchCV(estimator=SVC(),\n",
       "             param_grid={'C': [1, 2, 3, 4, 5, 6, 7, 8, 9, 10],\n",
       "                         'gamma': [0.1, 0.15, 0.16, 0.17, 0.18, 0.2, 0.3,\n",
       "                                   'scale'],\n",
       "                         'kernel': ['rbf', 'sigmoid']},\n",
       "             scoring='accuracy')"
      ]
     },
     "execution_count": 42,
     "metadata": {},
     "output_type": "execute_result"
    }
   ],
   "source": [
    "grid_model.fit(scaled_X_train,y_train)"
   ]
  },
  {
   "cell_type": "code",
   "execution_count": 43,
   "id": "e672f2a1",
   "metadata": {},
   "outputs": [
    {
     "data": {
      "text/plain": [
       "{'C': 4, 'gamma': 0.15, 'kernel': 'rbf'}"
      ]
     },
     "execution_count": 43,
     "metadata": {},
     "output_type": "execute_result"
    }
   ],
   "source": [
    "grid_model.best_params_"
   ]
  },
  {
   "cell_type": "code",
   "execution_count": 44,
   "id": "16ac37ee",
   "metadata": {},
   "outputs": [],
   "source": [
    "grid_pred = grid_model.predict(scaled_X_test)"
   ]
  },
  {
   "cell_type": "code",
   "execution_count": 45,
   "id": "cd696ab1",
   "metadata": {},
   "outputs": [
    {
     "data": {
      "text/plain": [
       "array([[ 68,   2, 114],\n",
       "       [ 42,   2, 115],\n",
       "       [ 48,   1, 262]], dtype=int64)"
      ]
     },
     "execution_count": 45,
     "metadata": {},
     "output_type": "execute_result"
    }
   ],
   "source": [
    "confusion_matrix(y_test,grid_pred)"
   ]
  },
  {
   "cell_type": "code",
   "execution_count": 46,
   "id": "f3ac776c",
   "metadata": {},
   "outputs": [
    {
     "name": "stdout",
     "output_type": "stream",
     "text": [
      "              precision    recall  f1-score   support\n",
      "\n",
      "           A       0.43      0.37      0.40       184\n",
      "           D       0.40      0.01      0.02       159\n",
      "           H       0.53      0.84      0.65       311\n",
      "\n",
      "    accuracy                           0.51       654\n",
      "   macro avg       0.45      0.41      0.36       654\n",
      "weighted avg       0.47      0.51      0.43       654\n",
      "\n"
     ]
    }
   ],
   "source": [
    "print(classification_report(y_test,grid_pred))"
   ]
  },
  {
   "cell_type": "markdown",
   "id": "03213b33",
   "metadata": {},
   "source": []
  },
  {
   "cell_type": "markdown",
   "id": "c6c8165d",
   "metadata": {},
   "source": [
    "# Serie A"
   ]
  },
  {
   "cell_type": "code",
   "execution_count": 2,
   "id": "b41dc684",
   "metadata": {},
   "outputs": [],
   "source": [
    "df = pd.read_csv(r\"C:\\Users\\George\\Desktop\\football-match-prediction-using-ml-techniques\\fe\\serie_a.csv\")"
   ]
  },
  {
   "cell_type": "code",
   "execution_count": 3,
   "id": "3ac4c1ab",
   "metadata": {},
   "outputs": [],
   "source": [
    "#We assign a unique value at every team of the league\n",
    "team_id = {'Chievo':1, 'Roma':2, 'Atalanta':3, 'Cesena':4, 'Genoa':5, 'Milan':6,\n",
    "           'Palermo':7, 'Sassuolo':8, 'Torino':9, 'Udinese':10, 'Empoli':11, 'Juventus':12,\n",
    "           'Cagliari':13, 'Fiorentina':14, 'Inter':15, 'Lazio':16, 'Napoli':17, 'Parma':18,\n",
    "           'Sampdoria':19, 'Verona':20, 'Frosinone':21, 'Bologna':22, 'Carpi':23, 'Pescara':24,\n",
    "           'Crotone':25, 'Benevento':26, 'Spal':27, 'Lecce':28, 'Brescia':29}\n",
    "\n",
    "for key,value in df.iteritems():\n",
    "    df['HomeTeam'] = df['HomeTeam'].apply(lambda x: team_id.get(x,x))\n",
    "    \n",
    "for key,value in df.iteritems():\n",
    "    df['AwayTeam'] = df['AwayTeam'].apply(lambda x: team_id.get(x,x))"
   ]
  },
  {
   "cell_type": "code",
   "execution_count": 4,
   "id": "9c494281",
   "metadata": {},
   "outputs": [],
   "source": [
    "#We are dropping the starts that are not available to us before the game \n",
    "df = df.drop(['Unnamed: 0', 'Date','FTHG', 'FTAG', 'HTHG','HTAG','league', 'Hppda_coef', 'Appda_coef','HTW', 'HTD','season',\n",
    "              'HTCR', 'ATCR','HTGS','HTxpts', 'ATxpts','ATGS', 'HTGC', 'ATGC','HTOVA_S', 'HTatt_S', 'HomeTeamPoints', 'AwayTeamPoints',\n",
    "              'HTmid_S','HTdef_S', 'ATOVA_S', 'ATatt_S','ATmid_S','ATdef_S','l5_ravg_HTgs', 'l5_ravg_ATgs',\n",
    "              'HTL', 'ATL', 'ATD', 'ATW','l5_ravg_HTgc', 'l5_ravg_ATgc','round'],axis=1)\n",
    "\n",
    "df = df.dropna()"
   ]
  },
  {
   "cell_type": "code",
   "execution_count": 5,
   "id": "838dabc6",
   "metadata": {},
   "outputs": [],
   "source": [
    "X = df.drop('FTR',axis=1)\n",
    "y = df['FTR']"
   ]
  },
  {
   "cell_type": "code",
   "execution_count": 6,
   "id": "23bf4c4d",
   "metadata": {},
   "outputs": [],
   "source": [
    "X_train, X_test, y_train, y_test = train_test_split(X, y, test_size=0.33, random_state=101)"
   ]
  },
  {
   "cell_type": "code",
   "execution_count": 7,
   "id": "19530f46",
   "metadata": {},
   "outputs": [],
   "source": [
    "scaler = MinMaxScaler()\n",
    "\n",
    "scaled_X_train = scaler.fit_transform(X_train)\n",
    "scaled_X_test = scaler.transform(X_test)"
   ]
  },
  {
   "cell_type": "code",
   "execution_count": 8,
   "id": "181b31d3",
   "metadata": {},
   "outputs": [],
   "source": [
    "model = SVC()\n",
    "\n",
    "model.fit(scaled_X_train,y_train)\n",
    "model_pred = model.predict(scaled_X_test)"
   ]
  },
  {
   "cell_type": "code",
   "execution_count": 9,
   "id": "5e55b786",
   "metadata": {},
   "outputs": [
    {
     "data": {
      "text/plain": [
       "array([[118,   5,  74],\n",
       "       [ 68,   0, 108],\n",
       "       [ 43,   2, 235]], dtype=int64)"
      ]
     },
     "execution_count": 9,
     "metadata": {},
     "output_type": "execute_result"
    }
   ],
   "source": [
    "confusion_matrix(y_test,model_pred)"
   ]
  },
  {
   "cell_type": "code",
   "execution_count": 10,
   "id": "6fec3726",
   "metadata": {},
   "outputs": [
    {
     "name": "stdout",
     "output_type": "stream",
     "text": [
      "              precision    recall  f1-score   support\n",
      "\n",
      "           A       0.52      0.60      0.55       197\n",
      "           D       0.00      0.00      0.00       176\n",
      "           H       0.56      0.84      0.67       280\n",
      "\n",
      "    accuracy                           0.54       653\n",
      "   macro avg       0.36      0.48      0.41       653\n",
      "weighted avg       0.40      0.54      0.46       653\n",
      "\n"
     ]
    }
   ],
   "source": [
    "print(classification_report(y_test,model_pred))"
   ]
  },
  {
   "cell_type": "code",
   "execution_count": 11,
   "id": "6f5b53e3",
   "metadata": {},
   "outputs": [
    {
     "name": "stdout",
     "output_type": "stream",
     "text": [
      "Features selected [False False  True  True  True  True  True  True  True  True  True  True\n",
      "  True  True  True False  True  True  True  True  True False  True False\n",
      " False  True  True  True  True  True False  True  True  True  True  True]\n",
      "Feature ranking [8 7 1 1 1 1 1 1 1 1 1 1 1 1 1 6 1 1 1 1 1 5 1 3 2 1 1 1 1 1 4 1 1 1 1 1]\n"
     ]
    }
   ],
   "source": [
    "estimator = SVC(kernel=\"linear\")\n",
    "selector = RFECV(estimator, step=1, scoring='accuracy', cv=5)\n",
    "selector = selector.fit(X, y)\n",
    "print(\"Features selected\", selector.support_)\n",
    "print(\"Feature ranking\", selector.ranking_)"
   ]
  },
  {
   "cell_type": "code",
   "execution_count": 12,
   "id": "2f071d2a",
   "metadata": {},
   "outputs": [],
   "source": [
    "featured_columns = pd.DataFrame(selector.support_,\n",
    "                            index = X.columns,\n",
    "                            columns=['is_in'])"
   ]
  },
  {
   "cell_type": "code",
   "execution_count": 13,
   "id": "d196902d",
   "metadata": {},
   "outputs": [],
   "source": [
    "featured_columns = featured_columns[featured_columns.is_in == True].index.tolist()"
   ]
  },
  {
   "cell_type": "code",
   "execution_count": 14,
   "id": "3a013200",
   "metadata": {},
   "outputs": [
    {
     "data": {
      "text/plain": [
       "['AVGH',\n",
       " 'AVGD',\n",
       " 'AVGA',\n",
       " 'HT_wins',\n",
       " 'AT_wins',\n",
       " 'HT_draws',\n",
       " 'AT_draws',\n",
       " 'HT_losses',\n",
       " 'AT_losses',\n",
       " 'l5_ravg_HTST',\n",
       " 'l5_ravg_ATST',\n",
       " 'l5_ravg_HTCR',\n",
       " 'l5_ravg_ATCR',\n",
       " 'AToveral',\n",
       " 'l5_ravg_HTxG',\n",
       " 'l5_ravg_ATxG',\n",
       " 'l5_ravg_HTxpts',\n",
       " 'l5_ravg_ATxpts',\n",
       " 'l5_ravg_ATdeep',\n",
       " 'l5_htdiff',\n",
       " 'l5_atdiff',\n",
       " 'avgHTP',\n",
       " 'avgATP',\n",
       " 'l5_ravg_HTp',\n",
       " 'diff_points',\n",
       " 'diff_ATT',\n",
       " 'diff_MID',\n",
       " 'diff_DEF',\n",
       " 'diff_OVA']"
      ]
     },
     "execution_count": 14,
     "metadata": {},
     "output_type": "execute_result"
    }
   ],
   "source": [
    "featured_columns"
   ]
  },
  {
   "cell_type": "code",
   "execution_count": 15,
   "id": "8a138789",
   "metadata": {},
   "outputs": [],
   "source": [
    "X = df[featured_columns]"
   ]
  },
  {
   "cell_type": "code",
   "execution_count": 16,
   "id": "24843a33",
   "metadata": {},
   "outputs": [],
   "source": [
    "X_train, X_test, y_train, y_test = train_test_split(X, y, test_size=0.33, random_state=101)"
   ]
  },
  {
   "cell_type": "code",
   "execution_count": 17,
   "id": "13a8f149",
   "metadata": {},
   "outputs": [],
   "source": [
    "scaled_X_train = scaler.fit_transform(X_train)\n",
    "scaled_X_test = scaler.transform(X_test)"
   ]
  },
  {
   "cell_type": "code",
   "execution_count": 19,
   "id": "a6c1aa13",
   "metadata": {},
   "outputs": [
    {
     "data": {
      "text/html": [
       "<style>#sk-container-id-1 {color: black;background-color: white;}#sk-container-id-1 pre{padding: 0;}#sk-container-id-1 div.sk-toggleable {background-color: white;}#sk-container-id-1 label.sk-toggleable__label {cursor: pointer;display: block;width: 100%;margin-bottom: 0;padding: 0.3em;box-sizing: border-box;text-align: center;}#sk-container-id-1 label.sk-toggleable__label-arrow:before {content: \"▸\";float: left;margin-right: 0.25em;color: #696969;}#sk-container-id-1 label.sk-toggleable__label-arrow:hover:before {color: black;}#sk-container-id-1 div.sk-estimator:hover label.sk-toggleable__label-arrow:before {color: black;}#sk-container-id-1 div.sk-toggleable__content {max-height: 0;max-width: 0;overflow: hidden;text-align: left;background-color: #f0f8ff;}#sk-container-id-1 div.sk-toggleable__content pre {margin: 0.2em;color: black;border-radius: 0.25em;background-color: #f0f8ff;}#sk-container-id-1 input.sk-toggleable__control:checked~div.sk-toggleable__content {max-height: 200px;max-width: 100%;overflow: auto;}#sk-container-id-1 input.sk-toggleable__control:checked~label.sk-toggleable__label-arrow:before {content: \"▾\";}#sk-container-id-1 div.sk-estimator input.sk-toggleable__control:checked~label.sk-toggleable__label {background-color: #d4ebff;}#sk-container-id-1 div.sk-label input.sk-toggleable__control:checked~label.sk-toggleable__label {background-color: #d4ebff;}#sk-container-id-1 input.sk-hidden--visually {border: 0;clip: rect(1px 1px 1px 1px);clip: rect(1px, 1px, 1px, 1px);height: 1px;margin: -1px;overflow: hidden;padding: 0;position: absolute;width: 1px;}#sk-container-id-1 div.sk-estimator {font-family: monospace;background-color: #f0f8ff;border: 1px dotted black;border-radius: 0.25em;box-sizing: border-box;margin-bottom: 0.5em;}#sk-container-id-1 div.sk-estimator:hover {background-color: #d4ebff;}#sk-container-id-1 div.sk-parallel-item::after {content: \"\";width: 100%;border-bottom: 1px solid gray;flex-grow: 1;}#sk-container-id-1 div.sk-label:hover label.sk-toggleable__label {background-color: #d4ebff;}#sk-container-id-1 div.sk-serial::before {content: \"\";position: absolute;border-left: 1px solid gray;box-sizing: border-box;top: 0;bottom: 0;left: 50%;z-index: 0;}#sk-container-id-1 div.sk-serial {display: flex;flex-direction: column;align-items: center;background-color: white;padding-right: 0.2em;padding-left: 0.2em;position: relative;}#sk-container-id-1 div.sk-item {position: relative;z-index: 1;}#sk-container-id-1 div.sk-parallel {display: flex;align-items: stretch;justify-content: center;background-color: white;position: relative;}#sk-container-id-1 div.sk-item::before, #sk-container-id-1 div.sk-parallel-item::before {content: \"\";position: absolute;border-left: 1px solid gray;box-sizing: border-box;top: 0;bottom: 0;left: 50%;z-index: -1;}#sk-container-id-1 div.sk-parallel-item {display: flex;flex-direction: column;z-index: 1;position: relative;background-color: white;}#sk-container-id-1 div.sk-parallel-item:first-child::after {align-self: flex-end;width: 50%;}#sk-container-id-1 div.sk-parallel-item:last-child::after {align-self: flex-start;width: 50%;}#sk-container-id-1 div.sk-parallel-item:only-child::after {width: 0;}#sk-container-id-1 div.sk-dashed-wrapped {border: 1px dashed gray;margin: 0 0.4em 0.5em 0.4em;box-sizing: border-box;padding-bottom: 0.4em;background-color: white;}#sk-container-id-1 div.sk-label label {font-family: monospace;font-weight: bold;display: inline-block;line-height: 1.2em;}#sk-container-id-1 div.sk-label-container {text-align: center;}#sk-container-id-1 div.sk-container {/* jupyter's `normalize.less` sets `[hidden] { display: none; }` but bootstrap.min.css set `[hidden] { display: none !important; }` so we also need the `!important` here to be able to override the default hidden behavior on the sphinx rendered scikit-learn.org. See: https://github.com/scikit-learn/scikit-learn/issues/21755 */display: inline-block !important;position: relative;}#sk-container-id-1 div.sk-text-repr-fallback {display: none;}</style><div id=\"sk-container-id-1\" class=\"sk-top-container\"><div class=\"sk-text-repr-fallback\"><pre>SVC()</pre><b>In a Jupyter environment, please rerun this cell to show the HTML representation or trust the notebook. <br />On GitHub, the HTML representation is unable to render, please try loading this page with nbviewer.org.</b></div><div class=\"sk-container\" hidden><div class=\"sk-item\"><div class=\"sk-estimator sk-toggleable\"><input class=\"sk-toggleable__control sk-hidden--visually\" id=\"sk-estimator-id-1\" type=\"checkbox\" checked><label for=\"sk-estimator-id-1\" class=\"sk-toggleable__label sk-toggleable__label-arrow\">SVC</label><div class=\"sk-toggleable__content\"><pre>SVC()</pre></div></div></div></div></div>"
      ],
      "text/plain": [
       "SVC()"
      ]
     },
     "execution_count": 19,
     "metadata": {},
     "output_type": "execute_result"
    }
   ],
   "source": [
    "model.fit(scaled_X_train,y_train)"
   ]
  },
  {
   "cell_type": "code",
   "execution_count": 20,
   "id": "76bad457",
   "metadata": {},
   "outputs": [],
   "source": [
    "rfe_pred = model.predict(scaled_X_test)"
   ]
  },
  {
   "cell_type": "code",
   "execution_count": 21,
   "id": "9ef86a19",
   "metadata": {},
   "outputs": [
    {
     "data": {
      "text/plain": [
       "array([[121,   1,  75],\n",
       "       [ 60,   2, 114],\n",
       "       [ 39,   1, 240]], dtype=int64)"
      ]
     },
     "execution_count": 21,
     "metadata": {},
     "output_type": "execute_result"
    }
   ],
   "source": [
    "confusion_matrix(y_test,rfe_pred)"
   ]
  },
  {
   "cell_type": "code",
   "execution_count": 22,
   "id": "446d5dcb",
   "metadata": {},
   "outputs": [
    {
     "name": "stdout",
     "output_type": "stream",
     "text": [
      "              precision    recall  f1-score   support\n",
      "\n",
      "           A       0.55      0.61      0.58       197\n",
      "           D       0.50      0.01      0.02       176\n",
      "           H       0.56      0.86      0.68       280\n",
      "\n",
      "    accuracy                           0.56       653\n",
      "   macro avg       0.54      0.49      0.43       653\n",
      "weighted avg       0.54      0.56      0.47       653\n",
      "\n"
     ]
    }
   ],
   "source": [
    "print(classification_report(y_test,rfe_pred))"
   ]
  },
  {
   "cell_type": "code",
   "execution_count": 23,
   "id": "6de2e43f",
   "metadata": {},
   "outputs": [],
   "source": [
    "kernel = ['rbf', 'sigmoid']\n",
    "C = [1,2,3,4,5,6,7,8,9,10]\n",
    "gamma = [0.1,0.15,0.16,0.17,0.18,0.2,0.3,'scale']"
   ]
  },
  {
   "cell_type": "code",
   "execution_count": 24,
   "id": "53be1efb",
   "metadata": {},
   "outputs": [],
   "source": [
    "param_grid = {'kernel': kernel,\n",
    "              'C': C,\n",
    "              'gamma': gamma}"
   ]
  },
  {
   "cell_type": "code",
   "execution_count": 26,
   "id": "c62eb94e",
   "metadata": {},
   "outputs": [],
   "source": [
    "grid_model = GridSearchCV(model, param_grid=param_grid, scoring='accuracy')"
   ]
  },
  {
   "cell_type": "code",
   "execution_count": 27,
   "id": "10526b8e",
   "metadata": {},
   "outputs": [
    {
     "data": {
      "text/html": [
       "<style>#sk-container-id-2 {color: black;background-color: white;}#sk-container-id-2 pre{padding: 0;}#sk-container-id-2 div.sk-toggleable {background-color: white;}#sk-container-id-2 label.sk-toggleable__label {cursor: pointer;display: block;width: 100%;margin-bottom: 0;padding: 0.3em;box-sizing: border-box;text-align: center;}#sk-container-id-2 label.sk-toggleable__label-arrow:before {content: \"▸\";float: left;margin-right: 0.25em;color: #696969;}#sk-container-id-2 label.sk-toggleable__label-arrow:hover:before {color: black;}#sk-container-id-2 div.sk-estimator:hover label.sk-toggleable__label-arrow:before {color: black;}#sk-container-id-2 div.sk-toggleable__content {max-height: 0;max-width: 0;overflow: hidden;text-align: left;background-color: #f0f8ff;}#sk-container-id-2 div.sk-toggleable__content pre {margin: 0.2em;color: black;border-radius: 0.25em;background-color: #f0f8ff;}#sk-container-id-2 input.sk-toggleable__control:checked~div.sk-toggleable__content {max-height: 200px;max-width: 100%;overflow: auto;}#sk-container-id-2 input.sk-toggleable__control:checked~label.sk-toggleable__label-arrow:before {content: \"▾\";}#sk-container-id-2 div.sk-estimator input.sk-toggleable__control:checked~label.sk-toggleable__label {background-color: #d4ebff;}#sk-container-id-2 div.sk-label input.sk-toggleable__control:checked~label.sk-toggleable__label {background-color: #d4ebff;}#sk-container-id-2 input.sk-hidden--visually {border: 0;clip: rect(1px 1px 1px 1px);clip: rect(1px, 1px, 1px, 1px);height: 1px;margin: -1px;overflow: hidden;padding: 0;position: absolute;width: 1px;}#sk-container-id-2 div.sk-estimator {font-family: monospace;background-color: #f0f8ff;border: 1px dotted black;border-radius: 0.25em;box-sizing: border-box;margin-bottom: 0.5em;}#sk-container-id-2 div.sk-estimator:hover {background-color: #d4ebff;}#sk-container-id-2 div.sk-parallel-item::after {content: \"\";width: 100%;border-bottom: 1px solid gray;flex-grow: 1;}#sk-container-id-2 div.sk-label:hover label.sk-toggleable__label {background-color: #d4ebff;}#sk-container-id-2 div.sk-serial::before {content: \"\";position: absolute;border-left: 1px solid gray;box-sizing: border-box;top: 0;bottom: 0;left: 50%;z-index: 0;}#sk-container-id-2 div.sk-serial {display: flex;flex-direction: column;align-items: center;background-color: white;padding-right: 0.2em;padding-left: 0.2em;position: relative;}#sk-container-id-2 div.sk-item {position: relative;z-index: 1;}#sk-container-id-2 div.sk-parallel {display: flex;align-items: stretch;justify-content: center;background-color: white;position: relative;}#sk-container-id-2 div.sk-item::before, #sk-container-id-2 div.sk-parallel-item::before {content: \"\";position: absolute;border-left: 1px solid gray;box-sizing: border-box;top: 0;bottom: 0;left: 50%;z-index: -1;}#sk-container-id-2 div.sk-parallel-item {display: flex;flex-direction: column;z-index: 1;position: relative;background-color: white;}#sk-container-id-2 div.sk-parallel-item:first-child::after {align-self: flex-end;width: 50%;}#sk-container-id-2 div.sk-parallel-item:last-child::after {align-self: flex-start;width: 50%;}#sk-container-id-2 div.sk-parallel-item:only-child::after {width: 0;}#sk-container-id-2 div.sk-dashed-wrapped {border: 1px dashed gray;margin: 0 0.4em 0.5em 0.4em;box-sizing: border-box;padding-bottom: 0.4em;background-color: white;}#sk-container-id-2 div.sk-label label {font-family: monospace;font-weight: bold;display: inline-block;line-height: 1.2em;}#sk-container-id-2 div.sk-label-container {text-align: center;}#sk-container-id-2 div.sk-container {/* jupyter's `normalize.less` sets `[hidden] { display: none; }` but bootstrap.min.css set `[hidden] { display: none !important; }` so we also need the `!important` here to be able to override the default hidden behavior on the sphinx rendered scikit-learn.org. See: https://github.com/scikit-learn/scikit-learn/issues/21755 */display: inline-block !important;position: relative;}#sk-container-id-2 div.sk-text-repr-fallback {display: none;}</style><div id=\"sk-container-id-2\" class=\"sk-top-container\"><div class=\"sk-text-repr-fallback\"><pre>GridSearchCV(estimator=SVC(),\n",
       "             param_grid={&#x27;C&#x27;: [1, 2, 3, 4, 5, 6, 7, 8, 9, 10],\n",
       "                         &#x27;gamma&#x27;: [0.1, 0.15, 0.16, 0.17, 0.18, 0.2, 0.3,\n",
       "                                   &#x27;scale&#x27;],\n",
       "                         &#x27;kernel&#x27;: [&#x27;rbf&#x27;, &#x27;sigmoid&#x27;]},\n",
       "             scoring=&#x27;accuracy&#x27;)</pre><b>In a Jupyter environment, please rerun this cell to show the HTML representation or trust the notebook. <br />On GitHub, the HTML representation is unable to render, please try loading this page with nbviewer.org.</b></div><div class=\"sk-container\" hidden><div class=\"sk-item sk-dashed-wrapped\"><div class=\"sk-label-container\"><div class=\"sk-label sk-toggleable\"><input class=\"sk-toggleable__control sk-hidden--visually\" id=\"sk-estimator-id-2\" type=\"checkbox\" ><label for=\"sk-estimator-id-2\" class=\"sk-toggleable__label sk-toggleable__label-arrow\">GridSearchCV</label><div class=\"sk-toggleable__content\"><pre>GridSearchCV(estimator=SVC(),\n",
       "             param_grid={&#x27;C&#x27;: [1, 2, 3, 4, 5, 6, 7, 8, 9, 10],\n",
       "                         &#x27;gamma&#x27;: [0.1, 0.15, 0.16, 0.17, 0.18, 0.2, 0.3,\n",
       "                                   &#x27;scale&#x27;],\n",
       "                         &#x27;kernel&#x27;: [&#x27;rbf&#x27;, &#x27;sigmoid&#x27;]},\n",
       "             scoring=&#x27;accuracy&#x27;)</pre></div></div></div><div class=\"sk-parallel\"><div class=\"sk-parallel-item\"><div class=\"sk-item\"><div class=\"sk-label-container\"><div class=\"sk-label sk-toggleable\"><input class=\"sk-toggleable__control sk-hidden--visually\" id=\"sk-estimator-id-3\" type=\"checkbox\" ><label for=\"sk-estimator-id-3\" class=\"sk-toggleable__label sk-toggleable__label-arrow\">estimator: SVC</label><div class=\"sk-toggleable__content\"><pre>SVC()</pre></div></div></div><div class=\"sk-serial\"><div class=\"sk-item\"><div class=\"sk-estimator sk-toggleable\"><input class=\"sk-toggleable__control sk-hidden--visually\" id=\"sk-estimator-id-4\" type=\"checkbox\" ><label for=\"sk-estimator-id-4\" class=\"sk-toggleable__label sk-toggleable__label-arrow\">SVC</label><div class=\"sk-toggleable__content\"><pre>SVC()</pre></div></div></div></div></div></div></div></div></div></div>"
      ],
      "text/plain": [
       "GridSearchCV(estimator=SVC(),\n",
       "             param_grid={'C': [1, 2, 3, 4, 5, 6, 7, 8, 9, 10],\n",
       "                         'gamma': [0.1, 0.15, 0.16, 0.17, 0.18, 0.2, 0.3,\n",
       "                                   'scale'],\n",
       "                         'kernel': ['rbf', 'sigmoid']},\n",
       "             scoring='accuracy')"
      ]
     },
     "execution_count": 27,
     "metadata": {},
     "output_type": "execute_result"
    }
   ],
   "source": [
    "grid_model.fit(scaled_X_train,y_train)"
   ]
  },
  {
   "cell_type": "code",
   "execution_count": 28,
   "id": "b26fb913",
   "metadata": {},
   "outputs": [],
   "source": [
    "grid_pred = grid_model.predict(scaled_X_test)"
   ]
  },
  {
   "cell_type": "code",
   "execution_count": 29,
   "id": "9fb4439e",
   "metadata": {},
   "outputs": [
    {
     "data": {
      "text/plain": [
       "array([[119,   1,  77],\n",
       "       [ 62,   2, 112],\n",
       "       [ 46,   5, 229]], dtype=int64)"
      ]
     },
     "execution_count": 29,
     "metadata": {},
     "output_type": "execute_result"
    }
   ],
   "source": [
    "confusion_matrix(y_test,grid_pred)"
   ]
  },
  {
   "cell_type": "code",
   "execution_count": 30,
   "id": "543d2623",
   "metadata": {},
   "outputs": [
    {
     "name": "stdout",
     "output_type": "stream",
     "text": [
      "              precision    recall  f1-score   support\n",
      "\n",
      "           A       0.52      0.60      0.56       197\n",
      "           D       0.25      0.01      0.02       176\n",
      "           H       0.55      0.82      0.66       280\n",
      "\n",
      "    accuracy                           0.54       653\n",
      "   macro avg       0.44      0.48      0.41       653\n",
      "weighted avg       0.46      0.54      0.46       653\n",
      "\n"
     ]
    }
   ],
   "source": [
    "print(classification_report(y_test,grid_pred))"
   ]
  },
  {
   "cell_type": "markdown",
   "id": "64907cd1",
   "metadata": {},
   "source": [
    "**Best accuracy we could get is 0.56 with the default hyperparameters after implementing RFECV.**\n",
    "\n",
    "Features:\n",
    "- AVGH\n",
    "- AVGD\n",
    "- AVGA\n",
    "- HT_wins\n",
    "- AT_wins\n",
    "- HT_draws\n",
    "- AT_draws\n",
    "- HT_losses\n",
    "- AT_losses\n",
    "- l5_ravg_HTST\n",
    "- l5_ravg_ATST\n",
    "- l5_ravg_HTCR\n",
    "- l5_ravg_ATCR\n",
    "- AToveral\n",
    "- l5_ravg_HTxG\n",
    "- l5_ravg_ATxG\n",
    "- l5_ravg_HTxpts\n",
    "- l5_ravg_ATxpts\n",
    "- l5_ravg_ATdeep\n",
    "- l5_htdiff\n",
    "- l5_atdiff\n",
    "- avgHTP\n",
    "- avgATP\n",
    "- l5_ravg_HTp\n",
    "- diff_points\n",
    "- diff_ATT\n",
    "- diff_MID\n",
    "- diff_DEF\n",
    "- diff_OVA"
   ]
  },
  {
   "cell_type": "markdown",
   "id": "af1236f8",
   "metadata": {},
   "source": [
    "# Scenario 2"
   ]
  },
  {
   "cell_type": "markdown",
   "id": "4a15c0d3",
   "metadata": {},
   "source": [
    "**Premier League**"
   ]
  },
  {
   "cell_type": "code",
   "execution_count": 274,
   "id": "11b4ff30",
   "metadata": {},
   "outputs": [],
   "source": [
    "df = pd.read_csv(r\"C:\\Users\\George\\Desktop\\football-match-prediction-using-ml-techniques\\fe\\premier_league.csv\")"
   ]
  },
  {
   "cell_type": "code",
   "execution_count": 275,
   "id": "87d17cfb",
   "metadata": {},
   "outputs": [],
   "source": [
    "#We assign a unique value at every team of the league\n",
    "team_id = {'Arsenal':1, 'Leicester':2, 'Man United':3, 'QPR':4, 'Stoke':5, 'West Brom':6,\n",
    "           'West Ham':7, 'Liverpool':8, 'Newcastle':9, 'Burnley':10, 'Aston Villa':11,\n",
    "           'Chelsea':12, 'Crystal Palace':13, 'Everton':14, 'Southampton':15, 'Swansea':16,\n",
    "           'Hull':17, 'Sunderland':18, 'Tottenham':19, 'Man City':20, 'Bournemouth':21,\n",
    "           'Norwich':22, 'Watford':23, 'Middlesbrough':24, 'Brighton':25, 'Huddersfield':26,\n",
    "           'Fulham':27, 'Wolves':28, 'Cardiff':29, 'Sheffield United':30}\n",
    "\n",
    "for key,value in df.iteritems():\n",
    "    df['HomeTeam'] = df['HomeTeam'].apply(lambda x: team_id.get(x,x))\n",
    "    \n",
    "for key,value in df.iteritems():\n",
    "    df['AwayTeam'] = df['AwayTeam'].apply(lambda x: team_id.get(x,x))"
   ]
  },
  {
   "cell_type": "code",
   "execution_count": 276,
   "id": "d4cb2f0d",
   "metadata": {},
   "outputs": [],
   "source": [
    "#We are dropping the starts that are not available to us before the game \n",
    "df = df.drop(['Unnamed: 0', 'Date','FTHG', 'FTAG', 'HTHG','HTAG','league', 'Hppda_coef', 'Appda_coef','HTW', 'HTD',\n",
    "              'HTCR', 'ATCR','HTGS','HTxpts', 'ATxpts','ATGS', 'HTGC', 'ATGC','HTOVA_S', 'HTatt_S', 'HomeTeamPoints','AwayTeamPoints',\n",
    "              'HTmid_S','HTdef_S', 'ATOVA_S', 'ATatt_S','ATmid_S','ATdef_S','l5_ravg_HTgs', 'l5_ravg_ATgs','l5_ravg_HTgc', 'l5_ravg_ATgc',\n",
    "              'HTL', 'ATL', 'ATD', 'ATW'],axis=1)\n",
    "\n",
    "df = df.dropna()"
   ]
  },
  {
   "cell_type": "code",
   "execution_count": 277,
   "id": "cf339787",
   "metadata": {},
   "outputs": [],
   "source": [
    "s1415 = df[df['season']=='2014/2015'].drop('season',axis=1)\n",
    "s1516 = df[df['season']=='2015/2016'].drop('season',axis=1)\n",
    "s1617 = df[df['season']=='2016/2017'].drop('season',axis=1)\n",
    "s1718 = df[df['season']=='2017/2018'].drop('season',axis=1)\n",
    "s1819 = df[df['season']=='2018/2019'].drop('season',axis=1)\n",
    "s1920 = df[df['season']=='2019/2020'].drop('season',axis=1)"
   ]
  },
  {
   "cell_type": "markdown",
   "id": "e62d09a4",
   "metadata": {},
   "source": [
    "**Season 14/15**"
   ]
  },
  {
   "cell_type": "code",
   "execution_count": 278,
   "id": "4697d50a",
   "metadata": {},
   "outputs": [],
   "source": [
    "X = s1415.drop('FTR',axis=1)\n",
    "y = s1415[['FTR','round']]\n",
    "\n",
    "X_train = X[X['round']==1].drop('round',axis=1)\n",
    "X_test = X[X['round']==2].drop('round',axis=1)\n",
    "\n",
    "y_train = y[y['round']==1].drop('round',axis=1)\n",
    "y_test = y[y['round']==2].drop('round',axis=1)\n",
    "\n",
    "scaled_X_train = scaler.fit_transform(X_train)\n",
    "scaled_X_test = scaler.transform(X_test)"
   ]
  },
  {
   "cell_type": "code",
   "execution_count": 279,
   "id": "b534b99e",
   "metadata": {},
   "outputs": [],
   "source": [
    "model.fit(scaled_X_train,y_train.values.ravel())\n",
    "base_pred =model.predict(scaled_X_test)"
   ]
  },
  {
   "cell_type": "code",
   "execution_count": 280,
   "id": "ebacf4f8",
   "metadata": {},
   "outputs": [
    {
     "data": {
      "text/plain": [
       "array([[43,  0, 16],\n",
       "       [17,  0, 24],\n",
       "       [35,  0, 55]], dtype=int64)"
      ]
     },
     "execution_count": 280,
     "metadata": {},
     "output_type": "execute_result"
    }
   ],
   "source": [
    "confusion_matrix(y_test,base_pred)"
   ]
  },
  {
   "cell_type": "code",
   "execution_count": 281,
   "id": "eaec4ed0",
   "metadata": {},
   "outputs": [
    {
     "name": "stdout",
     "output_type": "stream",
     "text": [
      "              precision    recall  f1-score   support\n",
      "\n",
      "           A       0.45      0.73      0.56        59\n",
      "           D       0.00      0.00      0.00        41\n",
      "           H       0.58      0.61      0.59        90\n",
      "\n",
      "    accuracy                           0.52       190\n",
      "   macro avg       0.34      0.45      0.38       190\n",
      "weighted avg       0.41      0.52      0.46       190\n",
      "\n"
     ]
    },
    {
     "name": "stderr",
     "output_type": "stream",
     "text": [
      "C:\\Users\\George\\anaconda3\\envs\\tf\\lib\\site-packages\\sklearn\\metrics\\_classification.py:1327: UndefinedMetricWarning: Precision and F-score are ill-defined and being set to 0.0 in labels with no predicted samples. Use `zero_division` parameter to control this behavior.\n",
      "  _warn_prf(average, modifier, msg_start, len(result))\n",
      "C:\\Users\\George\\anaconda3\\envs\\tf\\lib\\site-packages\\sklearn\\metrics\\_classification.py:1327: UndefinedMetricWarning: Precision and F-score are ill-defined and being set to 0.0 in labels with no predicted samples. Use `zero_division` parameter to control this behavior.\n",
      "  _warn_prf(average, modifier, msg_start, len(result))\n",
      "C:\\Users\\George\\anaconda3\\envs\\tf\\lib\\site-packages\\sklearn\\metrics\\_classification.py:1327: UndefinedMetricWarning: Precision and F-score are ill-defined and being set to 0.0 in labels with no predicted samples. Use `zero_division` parameter to control this behavior.\n",
      "  _warn_prf(average, modifier, msg_start, len(result))\n"
     ]
    }
   ],
   "source": [
    "print(classification_report(y_test,base_pred))"
   ]
  },
  {
   "cell_type": "code",
   "execution_count": 282,
   "id": "b83f542a",
   "metadata": {},
   "outputs": [
    {
     "name": "stdout",
     "output_type": "stream",
     "text": [
      "Features selected [False False  True  True False False False False False False False False\n",
      " False False False  True False False False  True False False False False\n",
      " False False False  True  True False False False False False False False\n",
      " False]\n",
      "Feature ranking [27 32  1  1  2  3 25 22  5 10  9  8  7 14 19  1 30 26  6  1 21 12 24 13\n",
      " 31 29 20  1  1  4 23 28 11 16 17 15 18]\n"
     ]
    }
   ],
   "source": [
    "estimator = SVC(kernel=\"linear\")\n",
    "selector = RFECV(estimator, step=1, scoring='accuracy', cv=5)\n",
    "selector = selector.fit(X, y.drop('round',axis=1).values.ravel())\n",
    "print(\"Features selected\", selector.support_)\n",
    "print(\"Feature ranking\", selector.ranking_)"
   ]
  },
  {
   "cell_type": "code",
   "execution_count": 283,
   "id": "187446f3",
   "metadata": {},
   "outputs": [
    {
     "data": {
      "text/plain": [
       "['round', 'AVGH', 'l5_ravg_ATCR', 'l5_ravg_ATxG', 'l5_atdiff', 'avgHTP']"
      ]
     },
     "execution_count": 283,
     "metadata": {},
     "output_type": "execute_result"
    }
   ],
   "source": [
    "featured_columns = pd.DataFrame(selector.support_,\n",
    "                            index = X.columns,\n",
    "                            columns=['is_in'])\n",
    "\n",
    "featured_columns = featured_columns[featured_columns.is_in == True].index.tolist()\n",
    "featured_columns"
   ]
  },
  {
   "cell_type": "code",
   "execution_count": 284,
   "id": "4f19ad34",
   "metadata": {},
   "outputs": [],
   "source": [
    "X = s1415[featured_columns]\n",
    "y = s1415[['FTR','round']]\n",
    "\n",
    "X_train = X[X['round']==1].drop('round',axis=1)\n",
    "X_test = X[X['round']==2].drop('round',axis=1)\n",
    "\n",
    "y_train = y[y['round']==1].drop('round',axis=1)\n",
    "y_test = y[y['round']==2].drop('round',axis=1)\n",
    "\n",
    "scaled_X_train = scaler.fit_transform(X_train)\n",
    "scaled_X_test = scaler.transform(X_test)"
   ]
  },
  {
   "cell_type": "code",
   "execution_count": 285,
   "id": "a6bc5627",
   "metadata": {},
   "outputs": [],
   "source": [
    "model.fit(scaled_X_train,y_train.values.ravel())\n",
    "rfe_pred =model.predict(scaled_X_test)"
   ]
  },
  {
   "cell_type": "code",
   "execution_count": 286,
   "id": "933b3ae9",
   "metadata": {},
   "outputs": [
    {
     "data": {
      "text/plain": [
       "array([[23,  2, 34],\n",
       "       [ 5,  2, 34],\n",
       "       [10,  3, 77]], dtype=int64)"
      ]
     },
     "execution_count": 286,
     "metadata": {},
     "output_type": "execute_result"
    }
   ],
   "source": [
    "confusion_matrix(y_test,rfe_pred)"
   ]
  },
  {
   "cell_type": "code",
   "execution_count": 287,
   "id": "fad10c4f",
   "metadata": {},
   "outputs": [
    {
     "name": "stdout",
     "output_type": "stream",
     "text": [
      "              precision    recall  f1-score   support\n",
      "\n",
      "           A       0.61      0.39      0.47        59\n",
      "           D       0.29      0.05      0.08        41\n",
      "           H       0.53      0.86      0.66        90\n",
      "\n",
      "    accuracy                           0.54       190\n",
      "   macro avg       0.47      0.43      0.40       190\n",
      "weighted avg       0.50      0.54      0.48       190\n",
      "\n"
     ]
    }
   ],
   "source": [
    "print(classification_report(y_test,rfe_pred))"
   ]
  },
  {
   "cell_type": "code",
   "execution_count": 288,
   "id": "7c1a3265",
   "metadata": {},
   "outputs": [],
   "source": [
    "#Define the parameters\n",
    "kernel = ['linear','rbf', 'sigmoid']\n",
    "C = [1,2,3,4,5,6,7,8,9,10]\n",
    "gamma = [0.1,0.15,0.16,0.17,0.18,0.2,0.3,'scale']\n",
    "\n",
    "param_grid = {'kernel': kernel,\n",
    "              'C': C,\n",
    "              'gamma': gamma}\n",
    "\n",
    "#Grid Search\n",
    "grid_model = GridSearchCV(model, param_grid=param_grid, scoring='accuracy')\n",
    "\n",
    "grid_model.fit(scaled_X_train,y_train.values.ravel())\n",
    "grid_pred = grid_model.predict(scaled_X_test)"
   ]
  },
  {
   "cell_type": "code",
   "execution_count": 289,
   "id": "e6778725",
   "metadata": {},
   "outputs": [
    {
     "data": {
      "text/plain": [
       "{'C': 5, 'gamma': 0.1, 'kernel': 'linear'}"
      ]
     },
     "execution_count": 289,
     "metadata": {},
     "output_type": "execute_result"
    }
   ],
   "source": [
    "grid_model.best_params_"
   ]
  },
  {
   "cell_type": "code",
   "execution_count": 290,
   "id": "13a8a9fd",
   "metadata": {},
   "outputs": [
    {
     "data": {
      "text/plain": [
       "array([[23,  1, 35],\n",
       "       [ 5,  0, 36],\n",
       "       [ 9,  0, 81]], dtype=int64)"
      ]
     },
     "execution_count": 290,
     "metadata": {},
     "output_type": "execute_result"
    }
   ],
   "source": [
    "confusion_matrix(y_test,grid_pred)\n"
   ]
  },
  {
   "cell_type": "code",
   "execution_count": 291,
   "id": "1974f8c7",
   "metadata": {},
   "outputs": [
    {
     "name": "stdout",
     "output_type": "stream",
     "text": [
      "              precision    recall  f1-score   support\n",
      "\n",
      "           A       0.62      0.39      0.48        59\n",
      "           D       0.00      0.00      0.00        41\n",
      "           H       0.53      0.90      0.67        90\n",
      "\n",
      "    accuracy                           0.55       190\n",
      "   macro avg       0.38      0.43      0.38       190\n",
      "weighted avg       0.45      0.55      0.47       190\n",
      "\n"
     ]
    }
   ],
   "source": [
    "print(classification_report(y_test,grid_pred))"
   ]
  },
  {
   "cell_type": "markdown",
   "id": "2384f4af",
   "metadata": {},
   "source": [
    "The best accuracy we could get is 0,55 after implementing RFE and GridSearchCV.\n",
    "\n",
    "Hyperparameters:\n",
    "- 'C': 5\n",
    "- 'gamma': 0.1\n",
    "- 'kernel': 'linear'\n",
    "\n",
    "Features:\n",
    "- 'AVGH'\n",
    "- 'l5_ravg_ATCR'\n",
    "- 'l5_ravg_ATxG'\n",
    "- 'l5_atdiff'\n",
    "- 'avgHTP'"
   ]
  },
  {
   "cell_type": "markdown",
   "id": "83ae56be",
   "metadata": {},
   "source": [
    "**Season 15/16**"
   ]
  },
  {
   "cell_type": "code",
   "execution_count": 292,
   "id": "54176352",
   "metadata": {},
   "outputs": [],
   "source": [
    "X = s1516.drop('FTR',axis=1)\n",
    "y = s1516[['FTR','round']]\n",
    "\n",
    "X_train = X[X['round']==1].drop('round',axis=1)\n",
    "X_test = X[X['round']==2].drop('round',axis=1)\n",
    "\n",
    "y_train = y[y['round']==1].drop('round',axis=1)\n",
    "y_test = y[y['round']==2].drop('round',axis=1)\n",
    "\n",
    "scaled_X_train = scaler.fit_transform(X_train)\n",
    "scaled_X_test = scaler.transform(X_test)"
   ]
  },
  {
   "cell_type": "code",
   "execution_count": 293,
   "id": "333a63ba",
   "metadata": {},
   "outputs": [],
   "source": [
    "model.fit(scaled_X_train,y_train.values.ravel())\n",
    "base_pred =model.predict(scaled_X_test)"
   ]
  },
  {
   "cell_type": "code",
   "execution_count": 294,
   "id": "d0fb018f",
   "metadata": {},
   "outputs": [
    {
     "data": {
      "text/plain": [
       "array([[ 4,  0, 49],\n",
       "       [ 3,  0, 50],\n",
       "       [ 2,  0, 82]], dtype=int64)"
      ]
     },
     "execution_count": 294,
     "metadata": {},
     "output_type": "execute_result"
    }
   ],
   "source": [
    "confusion_matrix(y_test,base_pred)"
   ]
  },
  {
   "cell_type": "code",
   "execution_count": 295,
   "id": "d856a9e4",
   "metadata": {},
   "outputs": [
    {
     "name": "stdout",
     "output_type": "stream",
     "text": [
      "              precision    recall  f1-score   support\n",
      "\n",
      "           A       0.44      0.08      0.13        53\n",
      "           D       0.00      0.00      0.00        53\n",
      "           H       0.45      0.98      0.62        84\n",
      "\n",
      "    accuracy                           0.45       190\n",
      "   macro avg       0.30      0.35      0.25       190\n",
      "weighted avg       0.32      0.45      0.31       190\n",
      "\n"
     ]
    },
    {
     "name": "stderr",
     "output_type": "stream",
     "text": [
      "C:\\Users\\George\\anaconda3\\envs\\tf\\lib\\site-packages\\sklearn\\metrics\\_classification.py:1327: UndefinedMetricWarning: Precision and F-score are ill-defined and being set to 0.0 in labels with no predicted samples. Use `zero_division` parameter to control this behavior.\n",
      "  _warn_prf(average, modifier, msg_start, len(result))\n",
      "C:\\Users\\George\\anaconda3\\envs\\tf\\lib\\site-packages\\sklearn\\metrics\\_classification.py:1327: UndefinedMetricWarning: Precision and F-score are ill-defined and being set to 0.0 in labels with no predicted samples. Use `zero_division` parameter to control this behavior.\n",
      "  _warn_prf(average, modifier, msg_start, len(result))\n",
      "C:\\Users\\George\\anaconda3\\envs\\tf\\lib\\site-packages\\sklearn\\metrics\\_classification.py:1327: UndefinedMetricWarning: Precision and F-score are ill-defined and being set to 0.0 in labels with no predicted samples. Use `zero_division` parameter to control this behavior.\n",
      "  _warn_prf(average, modifier, msg_start, len(result))\n"
     ]
    }
   ],
   "source": [
    "print(classification_report(y_test,base_pred))"
   ]
  },
  {
   "cell_type": "code",
   "execution_count": 296,
   "id": "02f6166f",
   "metadata": {},
   "outputs": [
    {
     "name": "stdout",
     "output_type": "stream",
     "text": [
      "Features selected [False False  True  True  True False False False False False False False\n",
      "  True  True  True  True False False  True  True  True  True False False\n",
      " False False False  True  True  True False False False False False False\n",
      " False]\n",
      "Feature ranking [18 22  1  1  1 12  7  9  4  5  8 10  1  1  1  1 24 19  1  1  1  1 20 13\n",
      " 17 15 14  1  1  1 16 11 21 23  2  3  6]\n"
     ]
    }
   ],
   "source": [
    "estimator = SVC(kernel=\"linear\")\n",
    "selector = RFECV(estimator, step=1, scoring='accuracy', cv=5)\n",
    "selector = selector.fit(X, y.drop('round',axis=1).values.ravel())\n",
    "print(\"Features selected\", selector.support_)\n",
    "print(\"Feature ranking\", selector.ranking_)"
   ]
  },
  {
   "cell_type": "code",
   "execution_count": 297,
   "id": "6e69a28a",
   "metadata": {},
   "outputs": [
    {
     "data": {
      "text/plain": [
       "['round',\n",
       " 'AVGH',\n",
       " 'AVGD',\n",
       " 'l5_ravg_HTST',\n",
       " 'l5_ravg_ATST',\n",
       " 'l5_ravg_HTCR',\n",
       " 'l5_ravg_ATCR',\n",
       " 'l5_ravg_HTxG',\n",
       " 'l5_ravg_ATxG',\n",
       " 'l5_ravg_HTxpts',\n",
       " 'l5_ravg_ATxpts',\n",
       " 'l5_atdiff',\n",
       " 'avgHTP',\n",
       " 'avgATP']"
      ]
     },
     "execution_count": 297,
     "metadata": {},
     "output_type": "execute_result"
    }
   ],
   "source": [
    "featured_columns = pd.DataFrame(selector.support_,\n",
    "                            index = X.columns,\n",
    "                            columns=['is_in'])\n",
    "\n",
    "featured_columns = featured_columns[featured_columns.is_in == True].index.tolist()\n",
    "featured_columns"
   ]
  },
  {
   "cell_type": "code",
   "execution_count": 298,
   "id": "0f4acada",
   "metadata": {},
   "outputs": [],
   "source": [
    "X = s1516[featured_columns]\n",
    "y = s1516[['FTR','round']]\n",
    "\n",
    "X_train = X[X['round']==1].drop('round',axis=1)\n",
    "X_test = X[X['round']==2].drop('round',axis=1)\n",
    "\n",
    "y_train = y[y['round']==1].drop('round',axis=1)\n",
    "y_test = y[y['round']==2].drop('round',axis=1)\n",
    "\n",
    "scaled_X_train = scaler.fit_transform(X_train)\n",
    "scaled_X_test = scaler.transform(X_test)"
   ]
  },
  {
   "cell_type": "code",
   "execution_count": 299,
   "id": "f0784992",
   "metadata": {},
   "outputs": [],
   "source": [
    "model.fit(scaled_X_train,y_train.values.ravel())\n",
    "rfe_pred =model.predict(scaled_X_test)"
   ]
  },
  {
   "cell_type": "code",
   "execution_count": 300,
   "id": "ecf5ca61",
   "metadata": {},
   "outputs": [
    {
     "data": {
      "text/plain": [
       "array([[35,  0, 18],\n",
       "       [22,  1, 30],\n",
       "       [23,  1, 60]], dtype=int64)"
      ]
     },
     "execution_count": 300,
     "metadata": {},
     "output_type": "execute_result"
    }
   ],
   "source": [
    "confusion_matrix(y_test,rfe_pred)"
   ]
  },
  {
   "cell_type": "code",
   "execution_count": 301,
   "id": "9ce4d1c4",
   "metadata": {},
   "outputs": [
    {
     "name": "stdout",
     "output_type": "stream",
     "text": [
      "              precision    recall  f1-score   support\n",
      "\n",
      "           A       0.44      0.66      0.53        53\n",
      "           D       0.50      0.02      0.04        53\n",
      "           H       0.56      0.71      0.63        84\n",
      "\n",
      "    accuracy                           0.51       190\n",
      "   macro avg       0.50      0.46      0.40       190\n",
      "weighted avg       0.51      0.51      0.43       190\n",
      "\n"
     ]
    }
   ],
   "source": [
    "print(classification_report(y_test,rfe_pred))"
   ]
  },
  {
   "cell_type": "code",
   "execution_count": 302,
   "id": "4ee8dcbc",
   "metadata": {},
   "outputs": [],
   "source": [
    "#Define the parameters\n",
    "kernel = ['linear','rbf', 'sigmoid']\n",
    "C = [1,2,3,4,5,6,7,8,9,10]\n",
    "gamma = [0.1,0.15,0.16,0.17,0.18,0.2,0.3,'scale']\n",
    "\n",
    "param_grid = {'kernel': kernel,\n",
    "              'C': C,\n",
    "              'gamma': gamma}\n",
    "\n",
    "#Grid Search\n",
    "grid_model = GridSearchCV(model, param_grid=param_grid, scoring='accuracy')\n",
    "\n",
    "grid_model.fit(scaled_X_train,y_train.values.ravel())\n",
    "grid_pred = grid_model.predict(scaled_X_test)"
   ]
  },
  {
   "cell_type": "code",
   "execution_count": 304,
   "id": "99a7f16b",
   "metadata": {},
   "outputs": [
    {
     "data": {
      "text/plain": [
       "{'C': 4, 'gamma': 0.16, 'kernel': 'sigmoid'}"
      ]
     },
     "execution_count": 304,
     "metadata": {},
     "output_type": "execute_result"
    }
   ],
   "source": [
    "grid_model.best_params_"
   ]
  },
  {
   "cell_type": "code",
   "execution_count": 303,
   "id": "9a7df6bd",
   "metadata": {},
   "outputs": [
    {
     "data": {
      "text/plain": [
       "array([[30,  0, 23],\n",
       "       [14,  0, 39],\n",
       "       [18,  0, 66]], dtype=int64)"
      ]
     },
     "execution_count": 303,
     "metadata": {},
     "output_type": "execute_result"
    }
   ],
   "source": [
    "confusion_matrix(y_test,grid_pred)"
   ]
  },
  {
   "cell_type": "code",
   "execution_count": 305,
   "id": "00f4835c",
   "metadata": {},
   "outputs": [
    {
     "name": "stdout",
     "output_type": "stream",
     "text": [
      "              precision    recall  f1-score   support\n",
      "\n",
      "           A       0.48      0.57      0.52        53\n",
      "           D       0.00      0.00      0.00        53\n",
      "           H       0.52      0.79      0.62        84\n",
      "\n",
      "    accuracy                           0.51       190\n",
      "   macro avg       0.33      0.45      0.38       190\n",
      "weighted avg       0.36      0.51      0.42       190\n",
      "\n"
     ]
    },
    {
     "name": "stderr",
     "output_type": "stream",
     "text": [
      "C:\\Users\\George\\anaconda3\\envs\\tf\\lib\\site-packages\\sklearn\\metrics\\_classification.py:1327: UndefinedMetricWarning: Precision and F-score are ill-defined and being set to 0.0 in labels with no predicted samples. Use `zero_division` parameter to control this behavior.\n",
      "  _warn_prf(average, modifier, msg_start, len(result))\n",
      "C:\\Users\\George\\anaconda3\\envs\\tf\\lib\\site-packages\\sklearn\\metrics\\_classification.py:1327: UndefinedMetricWarning: Precision and F-score are ill-defined and being set to 0.0 in labels with no predicted samples. Use `zero_division` parameter to control this behavior.\n",
      "  _warn_prf(average, modifier, msg_start, len(result))\n",
      "C:\\Users\\George\\anaconda3\\envs\\tf\\lib\\site-packages\\sklearn\\metrics\\_classification.py:1327: UndefinedMetricWarning: Precision and F-score are ill-defined and being set to 0.0 in labels with no predicted samples. Use `zero_division` parameter to control this behavior.\n",
      "  _warn_prf(average, modifier, msg_start, len(result))\n"
     ]
    }
   ],
   "source": [
    "print(classification_report(y_test,grid_pred))"
   ]
  },
  {
   "cell_type": "markdown",
   "id": "eb7a84e7",
   "metadata": {},
   "source": [
    "Best accuracy we could get is 0,51 from the base model after RFE.\n",
    "\n",
    "Features:\n",
    "- 'AVGH'\n",
    "- 'AVGD'\n",
    "- 'l5_ravg_HTST'\n",
    "- 'l5_ravg_ATST'\n",
    "- 'l5_ravg_HTCR'\n",
    "- 'l5_ravg_ATCR'\n",
    "- 'l5_ravg_HTxG'\n",
    "- 'l5_ravg_ATxG'\n",
    "- 'l5_ravg_HTxpts'\n",
    "- 'l5_ravg_ATxpts'\n",
    "- 'l5_atdiff'\n",
    "- 'avgHTP'\n",
    "- 'avgATP'"
   ]
  },
  {
   "cell_type": "markdown",
   "id": "2dd6726b",
   "metadata": {},
   "source": [
    "**Season 16/17**"
   ]
  },
  {
   "cell_type": "code",
   "execution_count": 306,
   "id": "a496fef3",
   "metadata": {},
   "outputs": [],
   "source": [
    "X = s1617.drop('FTR',axis=1)\n",
    "y = s1617[['FTR','round']]\n",
    "\n",
    "X_train = X[X['round']==1].drop('round',axis=1)\n",
    "X_test = X[X['round']==2].drop('round',axis=1)\n",
    "\n",
    "y_train = y[y['round']==1].drop('round',axis=1)\n",
    "y_test = y[y['round']==2].drop('round',axis=1)\n",
    "\n",
    "scaled_X_train = scaler.fit_transform(X_train)\n",
    "scaled_X_test = scaler.transform(X_test)"
   ]
  },
  {
   "cell_type": "code",
   "execution_count": 307,
   "id": "6cc80e00",
   "metadata": {},
   "outputs": [],
   "source": [
    "model.fit(scaled_X_train,y_train.values.ravel())\n",
    "base_pred = model.predict(scaled_X_test)"
   ]
  },
  {
   "cell_type": "code",
   "execution_count": 308,
   "id": "b602c28a",
   "metadata": {},
   "outputs": [
    {
     "data": {
      "text/plain": [
       "array([[12,  0, 41],\n",
       "       [ 6,  0, 36],\n",
       "       [ 6,  0, 89]], dtype=int64)"
      ]
     },
     "execution_count": 308,
     "metadata": {},
     "output_type": "execute_result"
    }
   ],
   "source": [
    "confusion_matrix(y_test,base_pred)"
   ]
  },
  {
   "cell_type": "code",
   "execution_count": 309,
   "id": "08b30067",
   "metadata": {},
   "outputs": [
    {
     "name": "stdout",
     "output_type": "stream",
     "text": [
      "              precision    recall  f1-score   support\n",
      "\n",
      "           A       0.50      0.23      0.31        53\n",
      "           D       0.00      0.00      0.00        42\n",
      "           H       0.54      0.94      0.68        95\n",
      "\n",
      "    accuracy                           0.53       190\n",
      "   macro avg       0.35      0.39      0.33       190\n",
      "weighted avg       0.41      0.53      0.43       190\n",
      "\n"
     ]
    },
    {
     "name": "stderr",
     "output_type": "stream",
     "text": [
      "C:\\Users\\George\\anaconda3\\envs\\tf\\lib\\site-packages\\sklearn\\metrics\\_classification.py:1327: UndefinedMetricWarning: Precision and F-score are ill-defined and being set to 0.0 in labels with no predicted samples. Use `zero_division` parameter to control this behavior.\n",
      "  _warn_prf(average, modifier, msg_start, len(result))\n",
      "C:\\Users\\George\\anaconda3\\envs\\tf\\lib\\site-packages\\sklearn\\metrics\\_classification.py:1327: UndefinedMetricWarning: Precision and F-score are ill-defined and being set to 0.0 in labels with no predicted samples. Use `zero_division` parameter to control this behavior.\n",
      "  _warn_prf(average, modifier, msg_start, len(result))\n",
      "C:\\Users\\George\\anaconda3\\envs\\tf\\lib\\site-packages\\sklearn\\metrics\\_classification.py:1327: UndefinedMetricWarning: Precision and F-score are ill-defined and being set to 0.0 in labels with no predicted samples. Use `zero_division` parameter to control this behavior.\n",
      "  _warn_prf(average, modifier, msg_start, len(result))\n"
     ]
    }
   ],
   "source": [
    "print(classification_report(y_test,base_pred))"
   ]
  },
  {
   "cell_type": "code",
   "execution_count": 310,
   "id": "046747d9",
   "metadata": {},
   "outputs": [
    {
     "name": "stdout",
     "output_type": "stream",
     "text": [
      "Features selected [False False False  True  True False False False False False False False\n",
      " False False  True  True False False  True False  True False False False\n",
      " False False False  True  True  True False False False False False  True\n",
      " False]\n",
      "Feature ranking [26 24  3  1  1  5 16 15  4  7  8  6 11 14  1  1 20 23  1 10  1 12 27 21\n",
      " 13 19  2  1  1  1 25 17  9 22 18  1 28]\n"
     ]
    }
   ],
   "source": [
    "estimator = SVC(kernel=\"linear\")\n",
    "selector = RFECV(estimator, step=1, scoring='accuracy', cv=5)\n",
    "selector = selector.fit(X, y.drop('round',axis=1).values.ravel())\n",
    "print(\"Features selected\", selector.support_)\n",
    "print(\"Feature ranking\", selector.ranking_)"
   ]
  },
  {
   "cell_type": "code",
   "execution_count": 311,
   "id": "b7a7c6d6",
   "metadata": {},
   "outputs": [
    {
     "data": {
      "text/plain": [
       "['AVGH',\n",
       " 'AVGD',\n",
       " 'l5_ravg_HTCR',\n",
       " 'l5_ravg_ATCR',\n",
       " 'l5_ravg_HTxG',\n",
       " 'l5_ravg_HTxpts',\n",
       " 'l5_atdiff',\n",
       " 'avgHTP',\n",
       " 'avgATP',\n",
       " 'diff_DEF']"
      ]
     },
     "execution_count": 311,
     "metadata": {},
     "output_type": "execute_result"
    }
   ],
   "source": [
    "featured_columns = pd.DataFrame(selector.support_,\n",
    "                               index = X.columns,\n",
    "                               columns=['is_in'])\n",
    "\n",
    "featured_columns = featured_columns[featured_columns.is_in == True].index.tolist()\n",
    "featured_columns"
   ]
  },
  {
   "cell_type": "code",
   "execution_count": 312,
   "id": "0ab2040c",
   "metadata": {},
   "outputs": [],
   "source": [
    "X = pd.concat([s1617[featured_columns],s1617['round']],axis=1)\n",
    "y = s1617[['FTR','round']]\n",
    "\n",
    "X_train = X[X['round']==1].drop('round',axis=1)\n",
    "X_test = X[X['round']==2].drop('round',axis=1)\n",
    "\n",
    "y_train = y[y['round']==1].drop('round',axis=1)\n",
    "y_test = y[y['round']==2].drop('round',axis=1)\n",
    "\n",
    "scaled_X_train = scaler.fit_transform(X_train)\n",
    "scaled_X_test = scaler.transform(X_test)"
   ]
  },
  {
   "cell_type": "code",
   "execution_count": 313,
   "id": "c87bde9e",
   "metadata": {},
   "outputs": [],
   "source": [
    "model.fit(scaled_X_train,y_train.values.ravel())\n",
    "rfe_pred = model.predict(scaled_X_test)"
   ]
  },
  {
   "cell_type": "code",
   "execution_count": 314,
   "id": "524b2a13",
   "metadata": {},
   "outputs": [
    {
     "data": {
      "text/plain": [
       "array([[26,  0, 27],\n",
       "       [ 6,  0, 36],\n",
       "       [ 5,  0, 90]], dtype=int64)"
      ]
     },
     "execution_count": 314,
     "metadata": {},
     "output_type": "execute_result"
    }
   ],
   "source": [
    "confusion_matrix(y_test,rfe_pred)"
   ]
  },
  {
   "cell_type": "code",
   "execution_count": 315,
   "id": "4d302344",
   "metadata": {},
   "outputs": [
    {
     "name": "stdout",
     "output_type": "stream",
     "text": [
      "              precision    recall  f1-score   support\n",
      "\n",
      "           A       0.70      0.49      0.58        53\n",
      "           D       0.00      0.00      0.00        42\n",
      "           H       0.59      0.95      0.73        95\n",
      "\n",
      "    accuracy                           0.61       190\n",
      "   macro avg       0.43      0.48      0.43       190\n",
      "weighted avg       0.49      0.61      0.52       190\n",
      "\n"
     ]
    },
    {
     "name": "stderr",
     "output_type": "stream",
     "text": [
      "C:\\Users\\George\\anaconda3\\envs\\tf\\lib\\site-packages\\sklearn\\metrics\\_classification.py:1327: UndefinedMetricWarning: Precision and F-score are ill-defined and being set to 0.0 in labels with no predicted samples. Use `zero_division` parameter to control this behavior.\n",
      "  _warn_prf(average, modifier, msg_start, len(result))\n",
      "C:\\Users\\George\\anaconda3\\envs\\tf\\lib\\site-packages\\sklearn\\metrics\\_classification.py:1327: UndefinedMetricWarning: Precision and F-score are ill-defined and being set to 0.0 in labels with no predicted samples. Use `zero_division` parameter to control this behavior.\n",
      "  _warn_prf(average, modifier, msg_start, len(result))\n",
      "C:\\Users\\George\\anaconda3\\envs\\tf\\lib\\site-packages\\sklearn\\metrics\\_classification.py:1327: UndefinedMetricWarning: Precision and F-score are ill-defined and being set to 0.0 in labels with no predicted samples. Use `zero_division` parameter to control this behavior.\n",
      "  _warn_prf(average, modifier, msg_start, len(result))\n"
     ]
    }
   ],
   "source": [
    "print(classification_report(y_test,rfe_pred))"
   ]
  },
  {
   "cell_type": "code",
   "execution_count": 316,
   "id": "24872b44",
   "metadata": {},
   "outputs": [],
   "source": [
    "#Define the parameters\n",
    "kernel = ['linear','rbf', 'sigmoid']\n",
    "C = [1,2,3,4,5,6,7,8,9,10]\n",
    "gamma = [0.1,0.15,0.16,0.17,0.18,0.2,0.3,'scale']\n",
    "\n",
    "param_grid = {'kernel': kernel,\n",
    "              'C': C,\n",
    "              'gamma': gamma}\n",
    "\n",
    "#Grid Search\n",
    "grid_model = GridSearchCV(model, param_grid=param_grid, scoring='accuracy')\n",
    "\n",
    "grid_model.fit(scaled_X_train,y_train.values.ravel())\n",
    "grid_pred = grid_model.predict(scaled_X_test)"
   ]
  },
  {
   "cell_type": "code",
   "execution_count": 317,
   "id": "8dbfdb92",
   "metadata": {},
   "outputs": [
    {
     "data": {
      "text/plain": [
       "{'C': 1, 'gamma': 0.1, 'kernel': 'rbf'}"
      ]
     },
     "execution_count": 317,
     "metadata": {},
     "output_type": "execute_result"
    }
   ],
   "source": [
    "grid_model.best_params_"
   ]
  },
  {
   "cell_type": "code",
   "execution_count": 318,
   "id": "bcb39e99",
   "metadata": {},
   "outputs": [
    {
     "data": {
      "text/plain": [
       "array([[18,  0, 35],\n",
       "       [ 5,  0, 37],\n",
       "       [ 3,  0, 92]], dtype=int64)"
      ]
     },
     "execution_count": 318,
     "metadata": {},
     "output_type": "execute_result"
    }
   ],
   "source": [
    "confusion_matrix(y_test,grid_pred)\n"
   ]
  },
  {
   "cell_type": "code",
   "execution_count": 319,
   "id": "4574df58",
   "metadata": {},
   "outputs": [
    {
     "name": "stdout",
     "output_type": "stream",
     "text": [
      "              precision    recall  f1-score   support\n",
      "\n",
      "           A       0.69      0.34      0.46        53\n",
      "           D       0.00      0.00      0.00        42\n",
      "           H       0.56      0.97      0.71        95\n",
      "\n",
      "    accuracy                           0.58       190\n",
      "   macro avg       0.42      0.44      0.39       190\n",
      "weighted avg       0.47      0.58      0.48       190\n",
      "\n"
     ]
    },
    {
     "name": "stderr",
     "output_type": "stream",
     "text": [
      "C:\\Users\\George\\anaconda3\\envs\\tf\\lib\\site-packages\\sklearn\\metrics\\_classification.py:1327: UndefinedMetricWarning: Precision and F-score are ill-defined and being set to 0.0 in labels with no predicted samples. Use `zero_division` parameter to control this behavior.\n",
      "  _warn_prf(average, modifier, msg_start, len(result))\n",
      "C:\\Users\\George\\anaconda3\\envs\\tf\\lib\\site-packages\\sklearn\\metrics\\_classification.py:1327: UndefinedMetricWarning: Precision and F-score are ill-defined and being set to 0.0 in labels with no predicted samples. Use `zero_division` parameter to control this behavior.\n",
      "  _warn_prf(average, modifier, msg_start, len(result))\n",
      "C:\\Users\\George\\anaconda3\\envs\\tf\\lib\\site-packages\\sklearn\\metrics\\_classification.py:1327: UndefinedMetricWarning: Precision and F-score are ill-defined and being set to 0.0 in labels with no predicted samples. Use `zero_division` parameter to control this behavior.\n",
      "  _warn_prf(average, modifier, msg_start, len(result))\n"
     ]
    }
   ],
   "source": [
    "print(classification_report(y_test,grid_pred))"
   ]
  },
  {
   "cell_type": "markdown",
   "id": "5aa763a9",
   "metadata": {},
   "source": [
    "The best accuracy we could get is 0,58 after implementing RFE.\n",
    "\n",
    "Features:\n",
    "- 'AVGH'\n",
    "- 'AVGD'\n",
    "- 'l5_ravg_HTCR'\n",
    "- 'l5_ravg_ATCR'\n",
    "- 'l5_ravg_HTxG'\n",
    "- 'l5_ravg_HTxpts'\n",
    "- 'l5_atdiff'\n",
    "- 'avgHTP'\n",
    "- 'avgATP'\n",
    "- 'diff_DEF'"
   ]
  },
  {
   "cell_type": "markdown",
   "id": "e30e631a",
   "metadata": {},
   "source": [
    "**Season 17/18**"
   ]
  },
  {
   "cell_type": "code",
   "execution_count": 320,
   "id": "eb5e4e04",
   "metadata": {},
   "outputs": [],
   "source": [
    "X = s1718.drop('FTR',axis=1)\n",
    "y = s1718[['FTR','round']]\n",
    "\n",
    "X_train = X[X['round']==1].drop('round',axis=1)\n",
    "X_test = X[X['round']==2].drop('round',axis=1)\n",
    "\n",
    "y_train = y[y['round']==1].drop('round',axis=1)\n",
    "y_test = y[y['round']==2].drop('round',axis=1)\n",
    "\n",
    "scaled_X_train = scaler.fit_transform(X_train)\n",
    "scaled_X_test = scaler.transform(X_test)"
   ]
  },
  {
   "cell_type": "code",
   "execution_count": 321,
   "id": "393fbc50",
   "metadata": {},
   "outputs": [],
   "source": [
    "model.fit(scaled_X_train,y_train.values.ravel())\n",
    "base_pred = model.predict(scaled_X_test)"
   ]
  },
  {
   "cell_type": "code",
   "execution_count": 322,
   "id": "f4e38912",
   "metadata": {},
   "outputs": [
    {
     "data": {
      "text/plain": [
       "array([[19,  1, 30],\n",
       "       [ 7,  2, 43],\n",
       "       [12,  1, 75]], dtype=int64)"
      ]
     },
     "execution_count": 322,
     "metadata": {},
     "output_type": "execute_result"
    }
   ],
   "source": [
    "confusion_matrix(y_test,base_pred)"
   ]
  },
  {
   "cell_type": "code",
   "execution_count": 323,
   "id": "fae23ab2",
   "metadata": {},
   "outputs": [
    {
     "name": "stdout",
     "output_type": "stream",
     "text": [
      "              precision    recall  f1-score   support\n",
      "\n",
      "           A       0.50      0.38      0.43        50\n",
      "           D       0.50      0.04      0.07        52\n",
      "           H       0.51      0.85      0.64        88\n",
      "\n",
      "    accuracy                           0.51       190\n",
      "   macro avg       0.50      0.42      0.38       190\n",
      "weighted avg       0.50      0.51      0.43       190\n",
      "\n"
     ]
    }
   ],
   "source": [
    "print(classification_report(y_test,base_pred))"
   ]
  },
  {
   "cell_type": "code",
   "execution_count": 324,
   "id": "152c4101",
   "metadata": {},
   "outputs": [
    {
     "name": "stdout",
     "output_type": "stream",
     "text": [
      "Features selected [False False  True False False False  True False False False False False\n",
      " False False  True False False False  True  True  True  True False False\n",
      " False False  True  True  True False False False False False False False\n",
      "  True]\n",
      "Feature ranking [23 27  1  6  5 18  1 20  4 26  7  3 17  2  1 14 25 19  1  1  1  1 10 11\n",
      " 16 15  1  1  1 12 24  8  9 21 13 22  1]\n"
     ]
    }
   ],
   "source": [
    "estimator = SVC(kernel=\"linear\")\n",
    "selector = RFECV(estimator, step=1, scoring='accuracy', cv=5)\n",
    "selector = selector.fit(X, y.drop('round',axis=1).values.ravel())\n",
    "print(\"Features selected\", selector.support_)\n",
    "print(\"Feature ranking\", selector.ranking_)"
   ]
  },
  {
   "cell_type": "code",
   "execution_count": 325,
   "id": "19eb199f",
   "metadata": {},
   "outputs": [
    {
     "data": {
      "text/plain": [
       "['round',\n",
       " 'HT_wins',\n",
       " 'l5_ravg_HTCR',\n",
       " 'l5_ravg_HTxG',\n",
       " 'l5_ravg_ATxG',\n",
       " 'l5_ravg_HTxpts',\n",
       " 'l5_ravg_ATxpts',\n",
       " 'l5_htdiff',\n",
       " 'l5_atdiff',\n",
       " 'avgHTP',\n",
       " 'diff_OVA']"
      ]
     },
     "execution_count": 325,
     "metadata": {},
     "output_type": "execute_result"
    }
   ],
   "source": [
    "featured_columns = pd.DataFrame(selector.support_,\n",
    "                               index = X.columns,\n",
    "                               columns=['is_in'])\n",
    "\n",
    "featured_columns = featured_columns[featured_columns.is_in == True].index.tolist()\n",
    "featured_columns"
   ]
  },
  {
   "cell_type": "code",
   "execution_count": 326,
   "id": "fb56e9a0",
   "metadata": {},
   "outputs": [],
   "source": [
    "X = s1718[featured_columns]\n",
    "y = s1718[['FTR','round']]\n",
    "\n",
    "X_train = X[X['round']==1].drop('round',axis=1)\n",
    "X_test = X[X['round']==2].drop('round',axis=1)\n",
    "\n",
    "y_train = y[y['round']==1].drop('round',axis=1)\n",
    "y_test = y[y['round']==2].drop('round',axis=1)\n",
    "\n",
    "scaled_X_train = scaler.fit_transform(X_train)\n",
    "scaled_X_test = scaler.transform(X_test)"
   ]
  },
  {
   "cell_type": "code",
   "execution_count": 327,
   "id": "253d64de",
   "metadata": {},
   "outputs": [],
   "source": [
    "model.fit(scaled_X_train,y_train.values.ravel())\n",
    "rfe_pred = model.predict(scaled_X_test)"
   ]
  },
  {
   "cell_type": "code",
   "execution_count": 328,
   "id": "776e1869",
   "metadata": {},
   "outputs": [
    {
     "data": {
      "text/plain": [
       "array([[25,  6, 19],\n",
       "       [11,  0, 41],\n",
       "       [15,  2, 71]], dtype=int64)"
      ]
     },
     "execution_count": 328,
     "metadata": {},
     "output_type": "execute_result"
    }
   ],
   "source": [
    "confusion_matrix(y_test,rfe_pred)"
   ]
  },
  {
   "cell_type": "code",
   "execution_count": 329,
   "id": "7fefd4bb",
   "metadata": {},
   "outputs": [
    {
     "name": "stdout",
     "output_type": "stream",
     "text": [
      "              precision    recall  f1-score   support\n",
      "\n",
      "           A       0.49      0.50      0.50        50\n",
      "           D       0.00      0.00      0.00        52\n",
      "           H       0.54      0.81      0.65        88\n",
      "\n",
      "    accuracy                           0.51       190\n",
      "   macro avg       0.34      0.44      0.38       190\n",
      "weighted avg       0.38      0.51      0.43       190\n",
      "\n"
     ]
    }
   ],
   "source": [
    "print(classification_report(y_test,rfe_pred))"
   ]
  },
  {
   "cell_type": "code",
   "execution_count": 330,
   "id": "761a465f",
   "metadata": {},
   "outputs": [],
   "source": [
    "#Define the parameters\n",
    "kernel = ['linear','rbf', 'sigmoid']\n",
    "C = [1,2,3,4,5,6,7,8,9,10]\n",
    "gamma = [0.1,0.15,0.16,0.17,0.18,0.2,0.3,'scale']\n",
    "\n",
    "param_grid = {'kernel': kernel,\n",
    "              'C': C,\n",
    "              'gamma': gamma}\n",
    "\n",
    "#Grid Search\n",
    "grid_model = GridSearchCV(model, param_grid=param_grid, scoring='accuracy')\n",
    "\n",
    "grid_model.fit(scaled_X_train,y_train.values.ravel())\n",
    "grid_pred = grid_model.predict(scaled_X_test)"
   ]
  },
  {
   "cell_type": "code",
   "execution_count": 332,
   "id": "fec26064",
   "metadata": {},
   "outputs": [
    {
     "data": {
      "text/plain": [
       "{'C': 5, 'gamma': 0.1, 'kernel': 'linear'}"
      ]
     },
     "execution_count": 332,
     "metadata": {},
     "output_type": "execute_result"
    }
   ],
   "source": [
    "grid_model.best_params_"
   ]
  },
  {
   "cell_type": "code",
   "execution_count": 331,
   "id": "8a12d284",
   "metadata": {},
   "outputs": [
    {
     "data": {
      "text/plain": [
       "array([[27,  1, 22],\n",
       "       [15,  0, 37],\n",
       "       [22,  0, 66]], dtype=int64)"
      ]
     },
     "execution_count": 331,
     "metadata": {},
     "output_type": "execute_result"
    }
   ],
   "source": [
    "confusion_matrix(y_test,grid_pred)"
   ]
  },
  {
   "cell_type": "code",
   "execution_count": 333,
   "id": "5df6991b",
   "metadata": {},
   "outputs": [
    {
     "name": "stdout",
     "output_type": "stream",
     "text": [
      "              precision    recall  f1-score   support\n",
      "\n",
      "           A       0.42      0.54      0.47        50\n",
      "           D       0.00      0.00      0.00        52\n",
      "           H       0.53      0.75      0.62        88\n",
      "\n",
      "    accuracy                           0.49       190\n",
      "   macro avg       0.32      0.43      0.36       190\n",
      "weighted avg       0.36      0.49      0.41       190\n",
      "\n"
     ]
    }
   ],
   "source": [
    "print(classification_report(y_test,grid_pred))"
   ]
  },
  {
   "cell_type": "markdown",
   "id": "08265690",
   "metadata": {},
   "source": [
    "The best accuracy we could get is 0,51 from the base model."
   ]
  },
  {
   "cell_type": "markdown",
   "id": "5e592c09",
   "metadata": {},
   "source": [
    "**Season 18/19**"
   ]
  },
  {
   "cell_type": "code",
   "execution_count": 334,
   "id": "dd0dc29f",
   "metadata": {},
   "outputs": [],
   "source": [
    "X = s1819.drop('FTR',axis=1)\n",
    "y = s1819[['FTR','round']]\n",
    "\n",
    "X_train = X[X['round']==1].drop('round',axis=1)\n",
    "X_test = X[X['round']==2].drop('round',axis=1)\n",
    "\n",
    "y_train = y[y['round']==1].drop('round',axis=1)\n",
    "y_test = y[y['round']==2].drop('round',axis=1)\n",
    "\n",
    "scaled_X_train = scaler.fit_transform(X_train)\n",
    "scaled_X_test = scaler.transform(X_test)"
   ]
  },
  {
   "cell_type": "code",
   "execution_count": 335,
   "id": "48cc71aa",
   "metadata": {},
   "outputs": [],
   "source": [
    "model.fit(scaled_X_train,y_train.values.ravel())\n",
    "base_pred = model.predict(scaled_X_test)"
   ]
  },
  {
   "cell_type": "code",
   "execution_count": 336,
   "id": "688b5ddb",
   "metadata": {},
   "outputs": [
    {
     "data": {
      "text/plain": [
       "array([[27,  0, 35],\n",
       "       [ 7,  0, 26],\n",
       "       [23,  0, 72]], dtype=int64)"
      ]
     },
     "execution_count": 336,
     "metadata": {},
     "output_type": "execute_result"
    }
   ],
   "source": [
    "confusion_matrix(y_test,base_pred)"
   ]
  },
  {
   "cell_type": "code",
   "execution_count": 337,
   "id": "86ef603d",
   "metadata": {},
   "outputs": [
    {
     "name": "stdout",
     "output_type": "stream",
     "text": [
      "              precision    recall  f1-score   support\n",
      "\n",
      "           A       0.47      0.44      0.45        62\n",
      "           D       0.00      0.00      0.00        33\n",
      "           H       0.54      0.76      0.63        95\n",
      "\n",
      "    accuracy                           0.52       190\n",
      "   macro avg       0.34      0.40      0.36       190\n",
      "weighted avg       0.43      0.52      0.46       190\n",
      "\n"
     ]
    },
    {
     "name": "stderr",
     "output_type": "stream",
     "text": [
      "C:\\Users\\George\\anaconda3\\envs\\tf\\lib\\site-packages\\sklearn\\metrics\\_classification.py:1327: UndefinedMetricWarning: Precision and F-score are ill-defined and being set to 0.0 in labels with no predicted samples. Use `zero_division` parameter to control this behavior.\n",
      "  _warn_prf(average, modifier, msg_start, len(result))\n",
      "C:\\Users\\George\\anaconda3\\envs\\tf\\lib\\site-packages\\sklearn\\metrics\\_classification.py:1327: UndefinedMetricWarning: Precision and F-score are ill-defined and being set to 0.0 in labels with no predicted samples. Use `zero_division` parameter to control this behavior.\n",
      "  _warn_prf(average, modifier, msg_start, len(result))\n",
      "C:\\Users\\George\\anaconda3\\envs\\tf\\lib\\site-packages\\sklearn\\metrics\\_classification.py:1327: UndefinedMetricWarning: Precision and F-score are ill-defined and being set to 0.0 in labels with no predicted samples. Use `zero_division` parameter to control this behavior.\n",
      "  _warn_prf(average, modifier, msg_start, len(result))\n"
     ]
    }
   ],
   "source": [
    "print(classification_report(y_test,base_pred))"
   ]
  },
  {
   "cell_type": "code",
   "execution_count": 338,
   "id": "66f1f112",
   "metadata": {},
   "outputs": [
    {
     "name": "stdout",
     "output_type": "stream",
     "text": [
      "Features selected [False False False False  True False False False False False False False\n",
      " False False  True  True False False  True  True False False False  True\n",
      " False False  True  True  True  True False False False False False  True\n",
      "  True]\n",
      "Feature ranking [25 22  2 18  1 23 16 15  7  8 10  9  3  4  1  1 24 19  1  1  6  5 14  1\n",
      " 26 12  1  1  1  1 17 20 11 21 13  1  1]\n"
     ]
    }
   ],
   "source": [
    "estimator = SVC(kernel=\"linear\")\n",
    "selector = RFECV(estimator, step=1, scoring='accuracy', cv=5)\n",
    "selector = selector.fit(X, y.drop('round',axis=1).values.ravel())\n",
    "print(\"Features selected\", selector.support_)\n",
    "print(\"Feature ranking\", selector.ranking_)"
   ]
  },
  {
   "cell_type": "code",
   "execution_count": 339,
   "id": "28e2ee94",
   "metadata": {},
   "outputs": [
    {
     "data": {
      "text/plain": [
       "['AVGD',\n",
       " 'l5_ravg_HTCR',\n",
       " 'l5_ravg_ATCR',\n",
       " 'l5_ravg_HTxG',\n",
       " 'l5_ravg_ATxG',\n",
       " 'l5_ravg_ATdeep',\n",
       " 'l5_htdiff',\n",
       " 'l5_atdiff',\n",
       " 'avgHTP',\n",
       " 'avgATP',\n",
       " 'diff_DEF',\n",
       " 'diff_OVA']"
      ]
     },
     "execution_count": 339,
     "metadata": {},
     "output_type": "execute_result"
    }
   ],
   "source": [
    "featured_columns = pd.DataFrame(selector.support_,\n",
    "                               index = X.columns,\n",
    "                               columns=['is_in'])\n",
    "\n",
    "featured_columns = featured_columns[featured_columns.is_in == True].index.tolist()\n",
    "featured_columns"
   ]
  },
  {
   "cell_type": "code",
   "execution_count": 340,
   "id": "a1ae6992",
   "metadata": {},
   "outputs": [],
   "source": [
    "X = pd.concat([s1819[featured_columns],s1819['round']],axis=1)\n",
    "y = s1819[['FTR','round']]\n",
    "\n",
    "X_train = X[X['round']==1].drop('round',axis=1)\n",
    "X_test = X[X['round']==2].drop('round',axis=1)\n",
    "\n",
    "y_train = y[y['round']==1].drop('round',axis=1)\n",
    "y_test = y[y['round']==2].drop('round',axis=1)\n",
    "\n",
    "scaled_X_train = scaler.fit_transform(X_train)\n",
    "scaled_X_test = scaler.transform(X_test)"
   ]
  },
  {
   "cell_type": "code",
   "execution_count": 341,
   "id": "895b0f26",
   "metadata": {},
   "outputs": [],
   "source": [
    "model.fit(scaled_X_train,y_train.values.ravel())\n",
    "rfe_pred = model.predict(scaled_X_test)"
   ]
  },
  {
   "cell_type": "code",
   "execution_count": 342,
   "id": "ca9cbc42",
   "metadata": {},
   "outputs": [
    {
     "data": {
      "text/plain": [
       "array([[30,  0, 32],\n",
       "       [ 5,  0, 28],\n",
       "       [16,  0, 79]], dtype=int64)"
      ]
     },
     "execution_count": 342,
     "metadata": {},
     "output_type": "execute_result"
    }
   ],
   "source": [
    "confusion_matrix(y_test,rfe_pred)"
   ]
  },
  {
   "cell_type": "code",
   "execution_count": 343,
   "id": "7323b1d4",
   "metadata": {},
   "outputs": [
    {
     "name": "stdout",
     "output_type": "stream",
     "text": [
      "              precision    recall  f1-score   support\n",
      "\n",
      "           A       0.59      0.48      0.53        62\n",
      "           D       0.00      0.00      0.00        33\n",
      "           H       0.57      0.83      0.68        95\n",
      "\n",
      "    accuracy                           0.57       190\n",
      "   macro avg       0.39      0.44      0.40       190\n",
      "weighted avg       0.48      0.57      0.51       190\n",
      "\n"
     ]
    },
    {
     "name": "stderr",
     "output_type": "stream",
     "text": [
      "C:\\Users\\George\\anaconda3\\envs\\tf\\lib\\site-packages\\sklearn\\metrics\\_classification.py:1327: UndefinedMetricWarning: Precision and F-score are ill-defined and being set to 0.0 in labels with no predicted samples. Use `zero_division` parameter to control this behavior.\n",
      "  _warn_prf(average, modifier, msg_start, len(result))\n",
      "C:\\Users\\George\\anaconda3\\envs\\tf\\lib\\site-packages\\sklearn\\metrics\\_classification.py:1327: UndefinedMetricWarning: Precision and F-score are ill-defined and being set to 0.0 in labels with no predicted samples. Use `zero_division` parameter to control this behavior.\n",
      "  _warn_prf(average, modifier, msg_start, len(result))\n",
      "C:\\Users\\George\\anaconda3\\envs\\tf\\lib\\site-packages\\sklearn\\metrics\\_classification.py:1327: UndefinedMetricWarning: Precision and F-score are ill-defined and being set to 0.0 in labels with no predicted samples. Use `zero_division` parameter to control this behavior.\n",
      "  _warn_prf(average, modifier, msg_start, len(result))\n"
     ]
    }
   ],
   "source": [
    "print(classification_report(y_test,rfe_pred))"
   ]
  },
  {
   "cell_type": "code",
   "execution_count": 344,
   "id": "8b512802",
   "metadata": {},
   "outputs": [],
   "source": [
    "#Define the parameters\n",
    "kernel = ['linear','rbf', 'sigmoid']\n",
    "C = [1,2,3,4,5,6,7,8,9,10]\n",
    "gamma = [0.1,0.15,0.16,0.17,0.18,0.2,0.3,'scale']\n",
    "\n",
    "param_grid = {'kernel': kernel,\n",
    "              'C': C,\n",
    "              'gamma': gamma}\n",
    "\n",
    "#Grid Search\n",
    "grid_model = GridSearchCV(model, param_grid=param_grid, scoring='accuracy')\n",
    "\n",
    "grid_model.fit(scaled_X_train,y_train.values.ravel())\n",
    "grid_pred = grid_model.predict(scaled_X_test)"
   ]
  },
  {
   "cell_type": "code",
   "execution_count": 345,
   "id": "f221a947",
   "metadata": {},
   "outputs": [
    {
     "data": {
      "text/plain": [
       "{'C': 2, 'gamma': 'scale', 'kernel': 'rbf'}"
      ]
     },
     "execution_count": 345,
     "metadata": {},
     "output_type": "execute_result"
    }
   ],
   "source": [
    "grid_model.best_params_"
   ]
  },
  {
   "cell_type": "code",
   "execution_count": 346,
   "id": "7cb30180",
   "metadata": {},
   "outputs": [
    {
     "data": {
      "text/plain": [
       "array([[27,  5, 30],\n",
       "       [ 3,  1, 29],\n",
       "       [11,  4, 80]], dtype=int64)"
      ]
     },
     "execution_count": 346,
     "metadata": {},
     "output_type": "execute_result"
    }
   ],
   "source": [
    "confusion_matrix(y_test,grid_pred)"
   ]
  },
  {
   "cell_type": "code",
   "execution_count": 347,
   "id": "fd52f223",
   "metadata": {},
   "outputs": [
    {
     "name": "stdout",
     "output_type": "stream",
     "text": [
      "              precision    recall  f1-score   support\n",
      "\n",
      "           A       0.66      0.44      0.52        62\n",
      "           D       0.10      0.03      0.05        33\n",
      "           H       0.58      0.84      0.68        95\n",
      "\n",
      "    accuracy                           0.57       190\n",
      "   macro avg       0.44      0.44      0.42       190\n",
      "weighted avg       0.52      0.57      0.52       190\n",
      "\n"
     ]
    }
   ],
   "source": [
    "print(classification_report(y_test,grid_pred))"
   ]
  },
  {
   "cell_type": "markdown",
   "id": "c2657ef4",
   "metadata": {},
   "source": [
    "The best accuracy we could get is 0,57 after implementing RFE and Grid Search.\n",
    "\n",
    "Hyperparameters:\n",
    "- 'C': 2\n",
    "- 'gamma': 'scale'\n",
    "- 'kernel': 'rbf'\n",
    "\n",
    "Features:\n",
    "- 'AVGD'\n",
    "- 'l5_ravg_HTCR'\n",
    "- 'l5_ravg_ATCR'\n",
    "- 'l5_ravg_HTxG'\n",
    "- 'l5_ravg_ATxG'\n",
    "- 'l5_ravg_ATdeep'\n",
    "- 'l5_htdiff'\n",
    "- 'l5_atdiff'\n",
    "- 'avgHTP'\n",
    "- 'avgATP'\n",
    "- 'diff_DEF'\n",
    "- 'diff_OVA'"
   ]
  },
  {
   "cell_type": "markdown",
   "id": "3597a016",
   "metadata": {},
   "source": [
    "**Season 19/20**"
   ]
  },
  {
   "cell_type": "code",
   "execution_count": 348,
   "id": "e4247ce1",
   "metadata": {},
   "outputs": [],
   "source": [
    "X = s1920.drop('FTR',axis=1)\n",
    "y = s1920[['FTR','round']]\n",
    "\n",
    "X_train = X[X['round']==1].drop('round',axis=1)\n",
    "X_test = X[X['round']==2].drop('round',axis=1)\n",
    "\n",
    "y_train = y[y['round']==1].drop('round',axis=1)\n",
    "y_test = y[y['round']==2].drop('round',axis=1)\n",
    "\n",
    "scaled_X_train = scaler.fit_transform(X_train)\n",
    "scaled_X_test = scaler.transform(X_test)"
   ]
  },
  {
   "cell_type": "code",
   "execution_count": 349,
   "id": "d8317f94",
   "metadata": {},
   "outputs": [],
   "source": [
    "model.fit(scaled_X_train,y_train.values.ravel())\n",
    "base_pred = model.predict(scaled_X_test)"
   ]
  },
  {
   "cell_type": "code",
   "execution_count": 350,
   "id": "61eaf360",
   "metadata": {},
   "outputs": [
    {
     "data": {
      "text/plain": [
       "array([[20,  0, 35],\n",
       "       [13,  0, 33],\n",
       "       [15,  0, 74]], dtype=int64)"
      ]
     },
     "execution_count": 350,
     "metadata": {},
     "output_type": "execute_result"
    }
   ],
   "source": [
    "confusion_matrix(y_test,base_pred)"
   ]
  },
  {
   "cell_type": "code",
   "execution_count": 351,
   "id": "516fa58e",
   "metadata": {},
   "outputs": [
    {
     "name": "stdout",
     "output_type": "stream",
     "text": [
      "              precision    recall  f1-score   support\n",
      "\n",
      "           A       0.42      0.36      0.39        55\n",
      "           D       0.00      0.00      0.00        46\n",
      "           H       0.52      0.83      0.64        89\n",
      "\n",
      "    accuracy                           0.49       190\n",
      "   macro avg       0.31      0.40      0.34       190\n",
      "weighted avg       0.36      0.49      0.41       190\n",
      "\n"
     ]
    },
    {
     "name": "stderr",
     "output_type": "stream",
     "text": [
      "C:\\Users\\George\\anaconda3\\envs\\tf\\lib\\site-packages\\sklearn\\metrics\\_classification.py:1327: UndefinedMetricWarning: Precision and F-score are ill-defined and being set to 0.0 in labels with no predicted samples. Use `zero_division` parameter to control this behavior.\n",
      "  _warn_prf(average, modifier, msg_start, len(result))\n",
      "C:\\Users\\George\\anaconda3\\envs\\tf\\lib\\site-packages\\sklearn\\metrics\\_classification.py:1327: UndefinedMetricWarning: Precision and F-score are ill-defined and being set to 0.0 in labels with no predicted samples. Use `zero_division` parameter to control this behavior.\n",
      "  _warn_prf(average, modifier, msg_start, len(result))\n",
      "C:\\Users\\George\\anaconda3\\envs\\tf\\lib\\site-packages\\sklearn\\metrics\\_classification.py:1327: UndefinedMetricWarning: Precision and F-score are ill-defined and being set to 0.0 in labels with no predicted samples. Use `zero_division` parameter to control this behavior.\n",
      "  _warn_prf(average, modifier, msg_start, len(result))\n"
     ]
    }
   ],
   "source": [
    "print(classification_report(y_test,base_pred))"
   ]
  },
  {
   "cell_type": "code",
   "execution_count": 352,
   "id": "cb693417",
   "metadata": {},
   "outputs": [
    {
     "name": "stdout",
     "output_type": "stream",
     "text": [
      "Features selected [False False  True  True  True False False False False False  True False\n",
      "  True False  True  True False False  True  True  True False False False\n",
      " False False  True False  True False False False False False False  True\n",
      " False]\n",
      "Feature ranking [24 25  1  1  1 14  4  3 11  9  1  5  1  7  1  1 20 22  1  1  1 15 19 13\n",
      " 23 18  1  8  1  2 12 10  6 17 21  1 16]\n"
     ]
    }
   ],
   "source": [
    "estimator = SVC(kernel=\"linear\")\n",
    "selector = RFECV(estimator, step=1, scoring='accuracy', cv=5)\n",
    "selector = selector.fit(X, y.drop('round',axis=1).values.ravel())\n",
    "print(\"Features selected\", selector.support_)\n",
    "print(\"Feature ranking\", selector.ranking_)"
   ]
  },
  {
   "cell_type": "code",
   "execution_count": 353,
   "id": "a5a2098c",
   "metadata": {},
   "outputs": [
    {
     "data": {
      "text/plain": [
       "['round',\n",
       " 'AVGH',\n",
       " 'AVGD',\n",
       " 'HT_losses',\n",
       " 'l5_ravg_HTST',\n",
       " 'l5_ravg_HTCR',\n",
       " 'l5_ravg_ATCR',\n",
       " 'l5_ravg_HTxG',\n",
       " 'l5_ravg_ATxG',\n",
       " 'l5_ravg_HTxpts',\n",
       " 'l5_htdiff',\n",
       " 'avgHTP',\n",
       " 'diff_DEF']"
      ]
     },
     "execution_count": 353,
     "metadata": {},
     "output_type": "execute_result"
    }
   ],
   "source": [
    "featured_columns = pd.DataFrame(selector.support_,\n",
    "                               index = X.columns,\n",
    "                               columns=['is_in'])\n",
    "\n",
    "featured_columns = featured_columns[featured_columns.is_in == True].index.tolist()\n",
    "featured_columns"
   ]
  },
  {
   "cell_type": "code",
   "execution_count": 354,
   "id": "f5c70d41",
   "metadata": {},
   "outputs": [],
   "source": [
    "X = s1920[featured_columns]\n",
    "y = s1920[['FTR','round']]\n",
    "\n",
    "X_train = X[X['round']==1].drop('round',axis=1)\n",
    "X_test = X[X['round']==2].drop('round',axis=1)\n",
    "\n",
    "y_train = y[y['round']==1].drop('round',axis=1)\n",
    "y_test = y[y['round']==2].drop('round',axis=1)\n",
    "\n",
    "scaled_X_train = scaler.fit_transform(X_train)\n",
    "scaled_X_test = scaler.transform(X_test)"
   ]
  },
  {
   "cell_type": "code",
   "execution_count": 355,
   "id": "0bd5e152",
   "metadata": {},
   "outputs": [],
   "source": [
    "model.fit(scaled_X_train,y_train.values.ravel())\n",
    "rfe_pred = model.predict(scaled_X_test)"
   ]
  },
  {
   "cell_type": "code",
   "execution_count": 356,
   "id": "647a4bcb",
   "metadata": {},
   "outputs": [
    {
     "data": {
      "text/plain": [
       "array([[40,  0, 15],\n",
       "       [26,  0, 20],\n",
       "       [39,  0, 50]], dtype=int64)"
      ]
     },
     "execution_count": 356,
     "metadata": {},
     "output_type": "execute_result"
    }
   ],
   "source": [
    "confusion_matrix(y_test,rfe_pred)"
   ]
  },
  {
   "cell_type": "code",
   "execution_count": 357,
   "id": "92a91dd4",
   "metadata": {},
   "outputs": [
    {
     "name": "stdout",
     "output_type": "stream",
     "text": [
      "              precision    recall  f1-score   support\n",
      "\n",
      "           A       0.38      0.73      0.50        55\n",
      "           D       0.00      0.00      0.00        46\n",
      "           H       0.59      0.56      0.57        89\n",
      "\n",
      "    accuracy                           0.47       190\n",
      "   macro avg       0.32      0.43      0.36       190\n",
      "weighted avg       0.39      0.47      0.41       190\n",
      "\n"
     ]
    },
    {
     "name": "stderr",
     "output_type": "stream",
     "text": [
      "C:\\Users\\George\\anaconda3\\envs\\tf\\lib\\site-packages\\sklearn\\metrics\\_classification.py:1327: UndefinedMetricWarning: Precision and F-score are ill-defined and being set to 0.0 in labels with no predicted samples. Use `zero_division` parameter to control this behavior.\n",
      "  _warn_prf(average, modifier, msg_start, len(result))\n",
      "C:\\Users\\George\\anaconda3\\envs\\tf\\lib\\site-packages\\sklearn\\metrics\\_classification.py:1327: UndefinedMetricWarning: Precision and F-score are ill-defined and being set to 0.0 in labels with no predicted samples. Use `zero_division` parameter to control this behavior.\n",
      "  _warn_prf(average, modifier, msg_start, len(result))\n",
      "C:\\Users\\George\\anaconda3\\envs\\tf\\lib\\site-packages\\sklearn\\metrics\\_classification.py:1327: UndefinedMetricWarning: Precision and F-score are ill-defined and being set to 0.0 in labels with no predicted samples. Use `zero_division` parameter to control this behavior.\n",
      "  _warn_prf(average, modifier, msg_start, len(result))\n"
     ]
    }
   ],
   "source": [
    "print(classification_report(y_test,rfe_pred))"
   ]
  },
  {
   "cell_type": "code",
   "execution_count": 360,
   "id": "8a700653",
   "metadata": {},
   "outputs": [],
   "source": [
    "#Define the parameters\n",
    "kernel = ['linear','rbf', 'sigmoid']\n",
    "C = [1,2,3,4,5,6,7,8,9,10]\n",
    "gamma = [0.1,0.15,0.16,0.17,0.18,0.2,0.3,'scale']\n",
    "\n",
    "param_grid = {'kernel': kernel,\n",
    "              'C': C,\n",
    "              'gamma': gamma}\n",
    "\n",
    "#Grid Search\n",
    "grid_model = GridSearchCV(model, param_grid=param_grid, scoring='accuracy')\n",
    "\n",
    "grid_model.fit(scaled_X_train,y_train.values.ravel())\n",
    "grid_pred = grid_model.predict(scaled_X_test)"
   ]
  },
  {
   "cell_type": "code",
   "execution_count": 361,
   "id": "8bbf495e",
   "metadata": {},
   "outputs": [
    {
     "data": {
      "text/plain": [
       "{'C': 3, 'gamma': 0.3, 'kernel': 'sigmoid'}"
      ]
     },
     "execution_count": 361,
     "metadata": {},
     "output_type": "execute_result"
    }
   ],
   "source": [
    "grid_model.best_params_"
   ]
  },
  {
   "cell_type": "code",
   "execution_count": 362,
   "id": "dac7eee3",
   "metadata": {},
   "outputs": [
    {
     "data": {
      "text/plain": [
       "array([[44,  0, 11],\n",
       "       [27,  0, 19],\n",
       "       [38,  0, 51]], dtype=int64)"
      ]
     },
     "execution_count": 362,
     "metadata": {},
     "output_type": "execute_result"
    }
   ],
   "source": [
    "confusion_matrix(y_test,grid_pred)"
   ]
  },
  {
   "cell_type": "code",
   "execution_count": 363,
   "id": "45b62e22",
   "metadata": {},
   "outputs": [
    {
     "name": "stdout",
     "output_type": "stream",
     "text": [
      "              precision    recall  f1-score   support\n",
      "\n",
      "           A       0.38      0.73      0.50        55\n",
      "           D       0.00      0.00      0.00        46\n",
      "           H       0.59      0.56      0.57        89\n",
      "\n",
      "    accuracy                           0.47       190\n",
      "   macro avg       0.32      0.43      0.36       190\n",
      "weighted avg       0.39      0.47      0.41       190\n",
      "\n"
     ]
    },
    {
     "name": "stderr",
     "output_type": "stream",
     "text": [
      "C:\\Users\\George\\anaconda3\\envs\\tf\\lib\\site-packages\\sklearn\\metrics\\_classification.py:1327: UndefinedMetricWarning: Precision and F-score are ill-defined and being set to 0.0 in labels with no predicted samples. Use `zero_division` parameter to control this behavior.\n",
      "  _warn_prf(average, modifier, msg_start, len(result))\n",
      "C:\\Users\\George\\anaconda3\\envs\\tf\\lib\\site-packages\\sklearn\\metrics\\_classification.py:1327: UndefinedMetricWarning: Precision and F-score are ill-defined and being set to 0.0 in labels with no predicted samples. Use `zero_division` parameter to control this behavior.\n",
      "  _warn_prf(average, modifier, msg_start, len(result))\n",
      "C:\\Users\\George\\anaconda3\\envs\\tf\\lib\\site-packages\\sklearn\\metrics\\_classification.py:1327: UndefinedMetricWarning: Precision and F-score are ill-defined and being set to 0.0 in labels with no predicted samples. Use `zero_division` parameter to control this behavior.\n",
      "  _warn_prf(average, modifier, msg_start, len(result))\n"
     ]
    }
   ],
   "source": [
    "print(classification_report(y_test,rfe_pred))"
   ]
  },
  {
   "cell_type": "markdown",
   "id": "4df85a42",
   "metadata": {},
   "source": [
    "The best accuracy we could get is 0,49 at base model."
   ]
  },
  {
   "cell_type": "markdown",
   "id": "7151afe4",
   "metadata": {},
   "source": [
    "**Serie A**"
   ]
  },
  {
   "cell_type": "code",
   "execution_count": 364,
   "id": "a6779dea",
   "metadata": {},
   "outputs": [],
   "source": [
    "df = pd.read_csv(r\"C:\\Users\\George\\Desktop\\football-match-prediction-using-ml-techniques\\fe\\serie_a.csv\")"
   ]
  },
  {
   "cell_type": "code",
   "execution_count": 365,
   "id": "d65f5682",
   "metadata": {},
   "outputs": [],
   "source": [
    "#We assign a unique value at every team of the league\n",
    "team_id = {'Chievo':1, 'Roma':2, 'Atalanta':3, 'Cesena':4, 'Genoa':5, 'Milan':6,\n",
    "           'Palermo':7, 'Sassuolo':8, 'Torino':9, 'Udinese':10, 'Empoli':11, 'Juventus':12,\n",
    "           'Cagliari':13, 'Fiorentina':14, 'Inter':15, 'Lazio':16, 'Napoli':17, 'Parma':18,\n",
    "           'Sampdoria':19, 'Verona':20, 'Frosinone':21, 'Bologna':22, 'Carpi':23, 'Pescara':24,\n",
    "           'Crotone':25, 'Benevento':26, 'Spal':27, 'Lecce':28, 'Brescia':29}\n",
    "\n",
    "for key,value in df.iteritems():\n",
    "    df['HomeTeam'] = df['HomeTeam'].apply(lambda x: team_id.get(x,x))\n",
    "    \n",
    "for key,value in df.iteritems():\n",
    "    df['AwayTeam'] = df['AwayTeam'].apply(lambda x: team_id.get(x,x))"
   ]
  },
  {
   "cell_type": "code",
   "execution_count": 366,
   "id": "a041b038",
   "metadata": {},
   "outputs": [],
   "source": [
    "#We are dropping the starts that are not available to us before the game \n",
    "df = df.drop(['Unnamed: 0', 'Date','FTHG', 'FTAG', 'HTHG','HTAG','league', 'Hppda_coef', 'Appda_coef','HTW', 'HTD',\n",
    "              'HTCR', 'ATCR','HTGS','HTxpts', 'ATxpts','ATGS', 'HTGC', 'ATGC','HTOVA_S', 'HTatt_S', 'HomeTeamPoints','AwayTeamPoints',\n",
    "              'HTmid_S','HTdef_S', 'ATOVA_S', 'ATatt_S','ATmid_S','ATdef_S','l5_ravg_HTgs', 'l5_ravg_ATgs','l5_ravg_HTgc', 'l5_ravg_ATgc',\n",
    "              'HTL', 'ATL', 'ATD', 'ATW'],axis=1)\n",
    "\n",
    "df = df.dropna()"
   ]
  },
  {
   "cell_type": "code",
   "execution_count": 367,
   "id": "40f65625",
   "metadata": {},
   "outputs": [],
   "source": [
    "s1415 = df[df['season']=='2014/2015'].drop('season',axis=1)\n",
    "s1516 = df[df['season']=='2015/2016'].drop('season',axis=1)\n",
    "s1617 = df[df['season']=='2016/2017'].drop('season',axis=1)\n",
    "s1718 = df[df['season']=='2017/2018'].drop('season',axis=1)\n",
    "s1819 = df[df['season']=='2018/2019'].drop('season',axis=1)\n",
    "s1920 = df[df['season']=='2019/2020'].drop('season',axis=1)"
   ]
  },
  {
   "cell_type": "markdown",
   "id": "a5b32e24",
   "metadata": {},
   "source": [
    "**Season 1415**"
   ]
  },
  {
   "cell_type": "code",
   "execution_count": 368,
   "id": "9837acf3",
   "metadata": {},
   "outputs": [],
   "source": [
    "X = s1415.drop('FTR',axis=1)\n",
    "y = s1415[['FTR','round']]\n",
    "\n",
    "X_train = X[X['round']==1].drop('round',axis=1)\n",
    "X_test = X[X['round']==2].drop('round',axis=1)\n",
    "\n",
    "y_train = y[y['round']==1].drop('round',axis=1)\n",
    "y_test = y[y['round']==2].drop('round',axis=1)\n",
    "\n",
    "scaled_X_train = scaler.fit_transform(X_train)\n",
    "scaled_X_test = scaler.transform(X_test)"
   ]
  },
  {
   "cell_type": "code",
   "execution_count": 369,
   "id": "fd6db43f",
   "metadata": {},
   "outputs": [],
   "source": [
    "model.fit(scaled_X_train,y_train.values.ravel())\n",
    "base_pred = model.predict(scaled_X_test)"
   ]
  },
  {
   "cell_type": "code",
   "execution_count": 370,
   "id": "0fa8bbca",
   "metadata": {},
   "outputs": [
    {
     "data": {
      "text/plain": [
       "array([[11, 16, 26],\n",
       "       [11, 16, 27],\n",
       "       [ 6, 33, 44]], dtype=int64)"
      ]
     },
     "execution_count": 370,
     "metadata": {},
     "output_type": "execute_result"
    }
   ],
   "source": [
    "confusion_matrix(y_test,base_pred)"
   ]
  },
  {
   "cell_type": "code",
   "execution_count": 371,
   "id": "3b97b548",
   "metadata": {},
   "outputs": [
    {
     "name": "stdout",
     "output_type": "stream",
     "text": [
      "              precision    recall  f1-score   support\n",
      "\n",
      "           A       0.39      0.21      0.27        53\n",
      "           D       0.25      0.30      0.27        54\n",
      "           H       0.45      0.53      0.49        83\n",
      "\n",
      "    accuracy                           0.37       190\n",
      "   macro avg       0.36      0.34      0.34       190\n",
      "weighted avg       0.38      0.37      0.37       190\n",
      "\n"
     ]
    }
   ],
   "source": [
    "print(classification_report(y_test,base_pred))"
   ]
  },
  {
   "cell_type": "code",
   "execution_count": 372,
   "id": "3798130c",
   "metadata": {},
   "outputs": [
    {
     "name": "stdout",
     "output_type": "stream",
     "text": [
      "Features selected [False False  True  True  True False False False False False False False\n",
      " False False  True  True False False  True  True  True  True False False\n",
      " False False False False  True  True False False False False False False\n",
      "  True]\n",
      "Feature ranking [24 26  1  1  1 19  5  2  3 12  6  7 16 15  1  1 17 18  1  1  1  1 20 25\n",
      " 21  8 14 10  1  1  9  4 13 23 22 11  1]\n"
     ]
    }
   ],
   "source": [
    "estimator = SVC(kernel=\"linear\")\n",
    "selector = RFECV(estimator, step=1, scoring='accuracy', cv=5)\n",
    "selector = selector.fit(X, y.drop('round',axis=1).values.ravel())\n",
    "print(\"Features selected\", selector.support_)\n",
    "print(\"Feature ranking\", selector.ranking_)"
   ]
  },
  {
   "cell_type": "code",
   "execution_count": 373,
   "id": "4f712f43",
   "metadata": {},
   "outputs": [
    {
     "data": {
      "text/plain": [
       "['round',\n",
       " 'AVGH',\n",
       " 'AVGD',\n",
       " 'l5_ravg_HTCR',\n",
       " 'l5_ravg_ATCR',\n",
       " 'l5_ravg_HTxG',\n",
       " 'l5_ravg_ATxG',\n",
       " 'l5_ravg_HTxpts',\n",
       " 'l5_ravg_ATxpts',\n",
       " 'avgHTP',\n",
       " 'avgATP',\n",
       " 'diff_OVA']"
      ]
     },
     "execution_count": 373,
     "metadata": {},
     "output_type": "execute_result"
    }
   ],
   "source": [
    "featured_columns = pd.DataFrame(selector.support_,\n",
    "                               index = X.columns,\n",
    "                               columns=['is_in'])\n",
    "\n",
    "featured_columns = featured_columns[featured_columns.is_in == True].index.tolist()\n",
    "featured_columns"
   ]
  },
  {
   "cell_type": "code",
   "execution_count": 374,
   "id": "3a74231c",
   "metadata": {},
   "outputs": [],
   "source": [
    "X = s1415[featured_columns]\n",
    "y = s1415[['FTR','round']]\n",
    "\n",
    "X_train = X[X['round']==1].drop('round',axis=1)\n",
    "X_test = X[X['round']==2].drop('round',axis=1)\n",
    "\n",
    "y_train = y[y['round']==1].drop('round',axis=1)\n",
    "y_test = y[y['round']==2].drop('round',axis=1)\n",
    "\n",
    "scaled_X_train = scaler.fit_transform(X_train)\n",
    "scaled_X_test = scaler.transform(X_test)"
   ]
  },
  {
   "cell_type": "code",
   "execution_count": 375,
   "id": "15233436",
   "metadata": {},
   "outputs": [],
   "source": [
    "model.fit(scaled_X_train,y_train.values.ravel())\n",
    "rfe_pred = model.predict(scaled_X_test)"
   ]
  },
  {
   "cell_type": "code",
   "execution_count": 376,
   "id": "2f2f7c24",
   "metadata": {},
   "outputs": [
    {
     "data": {
      "text/plain": [
       "array([[11, 16, 26],\n",
       "       [11, 16, 27],\n",
       "       [ 6, 33, 44]], dtype=int64)"
      ]
     },
     "execution_count": 376,
     "metadata": {},
     "output_type": "execute_result"
    }
   ],
   "source": [
    "confusion_matrix(y_test,base_pred)"
   ]
  },
  {
   "cell_type": "code",
   "execution_count": 377,
   "id": "198ae19a",
   "metadata": {},
   "outputs": [
    {
     "name": "stdout",
     "output_type": "stream",
     "text": [
      "              precision    recall  f1-score   support\n",
      "\n",
      "           A       0.39      0.21      0.27        53\n",
      "           D       0.25      0.30      0.27        54\n",
      "           H       0.45      0.53      0.49        83\n",
      "\n",
      "    accuracy                           0.37       190\n",
      "   macro avg       0.36      0.34      0.34       190\n",
      "weighted avg       0.38      0.37      0.37       190\n",
      "\n"
     ]
    }
   ],
   "source": [
    "print(classification_report(y_test,base_pred))"
   ]
  },
  {
   "cell_type": "code",
   "execution_count": 378,
   "id": "6e4b0a6d",
   "metadata": {},
   "outputs": [],
   "source": [
    "#Define the parameters\n",
    "kernel = ['linear','rbf', 'sigmoid']\n",
    "C = [1,2,3,4,5,6,7,8,9,10]\n",
    "gamma = [0.1,0.15,0.16,0.17,0.18,0.2,0.3,'scale']\n",
    "\n",
    "param_grid = {'kernel': kernel,\n",
    "              'C': C,\n",
    "              'gamma': gamma}\n",
    "\n",
    "#Grid Search\n",
    "grid_model = GridSearchCV(model, param_grid=param_grid, scoring='accuracy')\n",
    "\n",
    "grid_model.fit(scaled_X_train,y_train.values.ravel())\n",
    "grid_pred = grid_model.predict(scaled_X_test)"
   ]
  },
  {
   "cell_type": "code",
   "execution_count": 379,
   "id": "221ffbfd",
   "metadata": {},
   "outputs": [
    {
     "data": {
      "text/plain": [
       "{'C': 5, 'gamma': 0.3, 'kernel': 'sigmoid'}"
      ]
     },
     "execution_count": 379,
     "metadata": {},
     "output_type": "execute_result"
    }
   ],
   "source": [
    "grid_model.best_params_"
   ]
  },
  {
   "cell_type": "code",
   "execution_count": 380,
   "id": "82e7c67a",
   "metadata": {},
   "outputs": [
    {
     "data": {
      "text/plain": [
       "array([[ 6, 42,  5],\n",
       "       [ 7, 32, 15],\n",
       "       [ 3, 45, 35]], dtype=int64)"
      ]
     },
     "execution_count": 380,
     "metadata": {},
     "output_type": "execute_result"
    }
   ],
   "source": [
    "confusion_matrix(y_test,grid_pred)"
   ]
  },
  {
   "cell_type": "code",
   "execution_count": 381,
   "id": "ee2c083d",
   "metadata": {},
   "outputs": [
    {
     "name": "stdout",
     "output_type": "stream",
     "text": [
      "              precision    recall  f1-score   support\n",
      "\n",
      "           A       0.38      0.11      0.17        53\n",
      "           D       0.27      0.59      0.37        54\n",
      "           H       0.64      0.42      0.51        83\n",
      "\n",
      "    accuracy                           0.38       190\n",
      "   macro avg       0.43      0.38      0.35       190\n",
      "weighted avg       0.46      0.38      0.38       190\n",
      "\n"
     ]
    }
   ],
   "source": [
    "print(classification_report(y_test,grid_pred))"
   ]
  },
  {
   "cell_type": "markdown",
   "id": "23e407d4",
   "metadata": {},
   "source": [
    "The best accuracy we could get is 0,39 after RFE.\n",
    "\n",
    "Features:\n",
    "- 'AVGH'\n",
    "- 'AVGD'\n",
    "- 'l5_ravg_HTCR'\n",
    "- 'l5_ravg_ATCR'\n",
    "- 'l5_ravg_HTxG'\n",
    "- 'l5_ravg_ATxG'\n",
    "- 'l5_ravg_HTxpts'\n",
    "- 'l5_ravg_ATxpts'\n",
    "- 'avgHTP'\n",
    "- 'avgATP'\n",
    "- 'diff_OVA'"
   ]
  },
  {
   "cell_type": "markdown",
   "id": "8d9e2f9a",
   "metadata": {},
   "source": [
    "**Season 15/16**"
   ]
  },
  {
   "cell_type": "code",
   "execution_count": 139,
   "id": "24758528",
   "metadata": {},
   "outputs": [],
   "source": [
    "X = s1516.drop('FTR',axis=1)\n",
    "y = s1516[['FTR','round']]\n",
    "\n",
    "X_train = X[X['round']==1].drop('round',axis=1)\n",
    "X_test = X[X['round']==2].drop('round',axis=1)\n",
    "\n",
    "y_train = y[y['round']==1].drop('round',axis=1)\n",
    "y_test = y[y['round']==2].drop('round',axis=1)\n",
    "\n",
    "scaled_X_train = scaler.fit_transform(X_train)\n",
    "scaled_X_test = scaler.transform(X_test)"
   ]
  },
  {
   "cell_type": "code",
   "execution_count": 141,
   "id": "64555ed6",
   "metadata": {},
   "outputs": [],
   "source": [
    "model.fit(scaled_X_train,y_train.values.ravel())\n",
    "base_pred = model.predict(scaled_X_test)"
   ]
  },
  {
   "cell_type": "code",
   "execution_count": 142,
   "id": "13478f20",
   "metadata": {},
   "outputs": [
    {
     "data": {
      "text/plain": [
       "array([[48,  0,  0],\n",
       "       [48,  0,  5],\n",
       "       [73,  0, 16]], dtype=int64)"
      ]
     },
     "execution_count": 142,
     "metadata": {},
     "output_type": "execute_result"
    }
   ],
   "source": [
    "confusion_matrix(y_test,base_pred)"
   ]
  },
  {
   "cell_type": "code",
   "execution_count": 143,
   "id": "f63a2e78",
   "metadata": {},
   "outputs": [
    {
     "name": "stdout",
     "output_type": "stream",
     "text": [
      "              precision    recall  f1-score   support\n",
      "\n",
      "           A       0.28      1.00      0.44        48\n",
      "           D       0.00      0.00      0.00        53\n",
      "           H       0.76      0.18      0.29        89\n",
      "\n",
      "    accuracy                           0.34       190\n",
      "   macro avg       0.35      0.39      0.24       190\n",
      "weighted avg       0.43      0.34      0.25       190\n",
      "\n"
     ]
    },
    {
     "name": "stderr",
     "output_type": "stream",
     "text": [
      "C:\\Users\\George\\anaconda3\\envs\\tf\\lib\\site-packages\\sklearn\\metrics\\_classification.py:1327: UndefinedMetricWarning: Precision and F-score are ill-defined and being set to 0.0 in labels with no predicted samples. Use `zero_division` parameter to control this behavior.\n",
      "  _warn_prf(average, modifier, msg_start, len(result))\n",
      "C:\\Users\\George\\anaconda3\\envs\\tf\\lib\\site-packages\\sklearn\\metrics\\_classification.py:1327: UndefinedMetricWarning: Precision and F-score are ill-defined and being set to 0.0 in labels with no predicted samples. Use `zero_division` parameter to control this behavior.\n",
      "  _warn_prf(average, modifier, msg_start, len(result))\n",
      "C:\\Users\\George\\anaconda3\\envs\\tf\\lib\\site-packages\\sklearn\\metrics\\_classification.py:1327: UndefinedMetricWarning: Precision and F-score are ill-defined and being set to 0.0 in labels with no predicted samples. Use `zero_division` parameter to control this behavior.\n",
      "  _warn_prf(average, modifier, msg_start, len(result))\n"
     ]
    }
   ],
   "source": [
    "print(classification_report(y_test,base_pred))"
   ]
  },
  {
   "cell_type": "code",
   "execution_count": 144,
   "id": "026540f7",
   "metadata": {},
   "outputs": [
    {
     "name": "stdout",
     "output_type": "stream",
     "text": [
      "Features selected [False False  True  True  True  True False False False  True False False\n",
      "  True  True  True  True False False  True  True  True  True False False\n",
      "  True False  True False  True  True False False False False False False\n",
      " False]\n",
      "Feature ranking [18 21  1  1  1  1  3  2  7  1 10  9  1  1  1  1 15 16  1  1  1  1 17 12\n",
      "  1  6  1 13  1  1  4 11 19 14  5 20  8]\n"
     ]
    }
   ],
   "source": [
    "estimator = SVC(kernel=\"linear\")\n",
    "selector = RFECV(estimator, step=1, scoring='accuracy', cv=5)\n",
    "selector = selector.fit(X, y.drop('round',axis=1).values.ravel())\n",
    "print(\"Features selected\", selector.support_)\n",
    "print(\"Feature ranking\", selector.ranking_)"
   ]
  },
  {
   "cell_type": "code",
   "execution_count": 145,
   "id": "c0b684a6",
   "metadata": {},
   "outputs": [
    {
     "data": {
      "text/plain": [
       "['round',\n",
       " 'AVGH',\n",
       " 'AVGD',\n",
       " 'AVGA',\n",
       " 'AT_draws',\n",
       " 'l5_ravg_HTST',\n",
       " 'l5_ravg_ATST',\n",
       " 'l5_ravg_HTCR',\n",
       " 'l5_ravg_ATCR',\n",
       " 'l5_ravg_HTxG',\n",
       " 'l5_ravg_ATxG',\n",
       " 'l5_ravg_HTxpts',\n",
       " 'l5_ravg_ATxpts',\n",
       " 'l5_ravg_HTppda',\n",
       " 'l5_htdiff',\n",
       " 'avgHTP',\n",
       " 'avgATP']"
      ]
     },
     "execution_count": 145,
     "metadata": {},
     "output_type": "execute_result"
    }
   ],
   "source": [
    "featured_columns = pd.DataFrame(selector.support_,\n",
    "                               index = X.columns,\n",
    "                               columns=['is_in'])\n",
    "\n",
    "featured_columns = featured_columns[featured_columns.is_in == True].index.tolist()\n",
    "featured_columns"
   ]
  },
  {
   "cell_type": "code",
   "execution_count": 146,
   "id": "e13f9dcf",
   "metadata": {},
   "outputs": [],
   "source": [
    "X = s1516[featured_columns]\n",
    "y = s1516[['FTR','round']]\n",
    "\n",
    "X_train = X[X['round']==1].drop('round',axis=1)\n",
    "X_test = X[X['round']==2].drop('round',axis=1)\n",
    "\n",
    "y_train = y[y['round']==1].drop('round',axis=1)\n",
    "y_test = y[y['round']==2].drop('round',axis=1)\n",
    "\n",
    "scaled_X_train = scaler.fit_transform(X_train)\n",
    "scaled_X_test = scaler.transform(X_test)"
   ]
  },
  {
   "cell_type": "code",
   "execution_count": 148,
   "id": "6972d94d",
   "metadata": {},
   "outputs": [],
   "source": [
    "model.fit(scaled_X_train,y_train.values.ravel())\n",
    "rfe_pred = model.predict(scaled_X_test)"
   ]
  },
  {
   "cell_type": "code",
   "execution_count": 149,
   "id": "c45c2953",
   "metadata": {},
   "outputs": [
    {
     "data": {
      "text/plain": [
       "array([[41,  0,  7],\n",
       "       [30,  0, 23],\n",
       "       [36,  0, 53]], dtype=int64)"
      ]
     },
     "execution_count": 149,
     "metadata": {},
     "output_type": "execute_result"
    }
   ],
   "source": [
    "confusion_matrix(y_test,rfe_pred)"
   ]
  },
  {
   "cell_type": "code",
   "execution_count": 150,
   "id": "eccf799a",
   "metadata": {},
   "outputs": [
    {
     "name": "stdout",
     "output_type": "stream",
     "text": [
      "              precision    recall  f1-score   support\n",
      "\n",
      "           A       0.38      0.85      0.53        48\n",
      "           D       0.00      0.00      0.00        53\n",
      "           H       0.64      0.60      0.62        89\n",
      "\n",
      "    accuracy                           0.49       190\n",
      "   macro avg       0.34      0.48      0.38       190\n",
      "weighted avg       0.40      0.49      0.42       190\n",
      "\n"
     ]
    },
    {
     "name": "stderr",
     "output_type": "stream",
     "text": [
      "C:\\Users\\George\\anaconda3\\envs\\tf\\lib\\site-packages\\sklearn\\metrics\\_classification.py:1327: UndefinedMetricWarning: Precision and F-score are ill-defined and being set to 0.0 in labels with no predicted samples. Use `zero_division` parameter to control this behavior.\n",
      "  _warn_prf(average, modifier, msg_start, len(result))\n",
      "C:\\Users\\George\\anaconda3\\envs\\tf\\lib\\site-packages\\sklearn\\metrics\\_classification.py:1327: UndefinedMetricWarning: Precision and F-score are ill-defined and being set to 0.0 in labels with no predicted samples. Use `zero_division` parameter to control this behavior.\n",
      "  _warn_prf(average, modifier, msg_start, len(result))\n",
      "C:\\Users\\George\\anaconda3\\envs\\tf\\lib\\site-packages\\sklearn\\metrics\\_classification.py:1327: UndefinedMetricWarning: Precision and F-score are ill-defined and being set to 0.0 in labels with no predicted samples. Use `zero_division` parameter to control this behavior.\n",
      "  _warn_prf(average, modifier, msg_start, len(result))\n"
     ]
    }
   ],
   "source": [
    "print(classification_report(y_test,rfe_pred))"
   ]
  },
  {
   "cell_type": "code",
   "execution_count": 151,
   "id": "c18c91cf",
   "metadata": {},
   "outputs": [],
   "source": [
    "#Define the parameters\n",
    "kernel = ['rbf', 'sigmoid']\n",
    "C = [1,2,3,4,5,6,7,8,9,10]\n",
    "gamma = [0.1,0.15,0.16,0.17,0.18,0.2,0.3,'scale']\n",
    "\n",
    "param_grid = {'kernel': kernel,\n",
    "              'C': C,\n",
    "              'gamma': gamma}\n",
    "\n",
    "#Grid Search\n",
    "grid_model = GridSearchCV(model, param_grid=param_grid, scoring='accuracy')\n",
    "\n",
    "grid_model.fit(scaled_X_train,y_train.values.ravel())\n",
    "grid_pred = grid_model.predict(scaled_X_test)"
   ]
  },
  {
   "cell_type": "code",
   "execution_count": 154,
   "id": "7d33f3cf",
   "metadata": {},
   "outputs": [
    {
     "data": {
      "text/plain": [
       "{'C': 8, 'gamma': 0.3, 'kernel': 'sigmoid'}"
      ]
     },
     "execution_count": 154,
     "metadata": {},
     "output_type": "execute_result"
    }
   ],
   "source": [
    "grid_model.best_params_"
   ]
  },
  {
   "cell_type": "code",
   "execution_count": 152,
   "id": "f6e4fa03",
   "metadata": {},
   "outputs": [
    {
     "data": {
      "text/plain": [
       "array([[40,  0,  8],\n",
       "       [27,  2, 24],\n",
       "       [29,  8, 52]], dtype=int64)"
      ]
     },
     "execution_count": 152,
     "metadata": {},
     "output_type": "execute_result"
    }
   ],
   "source": [
    "confusion_matrix(y_test,grid_pred)"
   ]
  },
  {
   "cell_type": "code",
   "execution_count": 153,
   "id": "12f1425c",
   "metadata": {},
   "outputs": [
    {
     "name": "stdout",
     "output_type": "stream",
     "text": [
      "              precision    recall  f1-score   support\n",
      "\n",
      "           A       0.42      0.83      0.56        48\n",
      "           D       0.20      0.04      0.06        53\n",
      "           H       0.62      0.58      0.60        89\n",
      "\n",
      "    accuracy                           0.49       190\n",
      "   macro avg       0.41      0.49      0.41       190\n",
      "weighted avg       0.45      0.49      0.44       190\n",
      "\n"
     ]
    }
   ],
   "source": [
    "print(classification_report(y_test,grid_pred))"
   ]
  },
  {
   "cell_type": "markdown",
   "id": "9d597092",
   "metadata": {},
   "source": [
    "The best accuracy we could get is 0,49 after implementing RFE and GridSearch.\n",
    "\n",
    "Hyperparameters:\n",
    "- 'C': 8\n",
    "- 'gamma': 0.3\n",
    "- 'kernel': 'sigmoid'\n",
    "\n",
    "Features:\n",
    "- 'AVGH'\n",
    "- 'AVGD'\n",
    "- 'AVGA'\n",
    "- 'AT_draws'\n",
    "- 'l5_ravg_HTST'\n",
    "- 'l5_ravg_ATST'\n",
    "- 'l5_ravg_HTCR'\n",
    "- 'l5_ravg_ATCR'\n",
    "- 'l5_ravg_HTxG'\n",
    "- 'l5_ravg_ATxG'\n",
    "- 'l5_ravg_HTxpts'\n",
    "- 'l5_ravg_ATxpts'\n",
    "- 'l5_ravg_HTppda'\n",
    "- 'l5_htdiff'\n",
    "- 'avgHTP'\n",
    "- 'avgATP'"
   ]
  },
  {
   "cell_type": "markdown",
   "id": "8010af8d",
   "metadata": {},
   "source": [
    "**Season 16/17**"
   ]
  },
  {
   "cell_type": "code",
   "execution_count": 382,
   "id": "330a4bb9",
   "metadata": {},
   "outputs": [],
   "source": [
    "X = s1617.drop('FTR',axis=1)\n",
    "y = s1617[['FTR','round']]\n",
    "\n",
    "X_train = X[X['round']==1].drop('round',axis=1)\n",
    "X_test = X[X['round']==2].drop('round',axis=1)\n",
    "\n",
    "y_train = y[y['round']==1].drop('round',axis=1)\n",
    "y_test = y[y['round']==2].drop('round',axis=1)\n",
    "\n",
    "scaled_X_train = scaler.fit_transform(X_train)\n",
    "scaled_X_test = scaler.transform(X_test)"
   ]
  },
  {
   "cell_type": "code",
   "execution_count": 383,
   "id": "d95f6386",
   "metadata": {},
   "outputs": [],
   "source": [
    "model.fit(scaled_X_train,y_train.values.ravel())\n",
    "base_pred = model.predict(scaled_X_test)"
   ]
  },
  {
   "cell_type": "code",
   "execution_count": 384,
   "id": "4399199e",
   "metadata": {},
   "outputs": [
    {
     "data": {
      "text/plain": [
       "array([[21,  0, 43],\n",
       "       [ 8,  0, 34],\n",
       "       [ 4,  0, 80]], dtype=int64)"
      ]
     },
     "execution_count": 384,
     "metadata": {},
     "output_type": "execute_result"
    }
   ],
   "source": [
    "confusion_matrix(y_test,base_pred)"
   ]
  },
  {
   "cell_type": "code",
   "execution_count": 385,
   "id": "e4bc2e73",
   "metadata": {},
   "outputs": [
    {
     "name": "stdout",
     "output_type": "stream",
     "text": [
      "              precision    recall  f1-score   support\n",
      "\n",
      "           A       0.64      0.33      0.43        64\n",
      "           D       0.00      0.00      0.00        42\n",
      "           H       0.51      0.95      0.66        84\n",
      "\n",
      "    accuracy                           0.53       190\n",
      "   macro avg       0.38      0.43      0.37       190\n",
      "weighted avg       0.44      0.53      0.44       190\n",
      "\n"
     ]
    },
    {
     "name": "stderr",
     "output_type": "stream",
     "text": [
      "C:\\Users\\George\\anaconda3\\envs\\tf\\lib\\site-packages\\sklearn\\metrics\\_classification.py:1327: UndefinedMetricWarning: Precision and F-score are ill-defined and being set to 0.0 in labels with no predicted samples. Use `zero_division` parameter to control this behavior.\n",
      "  _warn_prf(average, modifier, msg_start, len(result))\n",
      "C:\\Users\\George\\anaconda3\\envs\\tf\\lib\\site-packages\\sklearn\\metrics\\_classification.py:1327: UndefinedMetricWarning: Precision and F-score are ill-defined and being set to 0.0 in labels with no predicted samples. Use `zero_division` parameter to control this behavior.\n",
      "  _warn_prf(average, modifier, msg_start, len(result))\n",
      "C:\\Users\\George\\anaconda3\\envs\\tf\\lib\\site-packages\\sklearn\\metrics\\_classification.py:1327: UndefinedMetricWarning: Precision and F-score are ill-defined and being set to 0.0 in labels with no predicted samples. Use `zero_division` parameter to control this behavior.\n",
      "  _warn_prf(average, modifier, msg_start, len(result))\n"
     ]
    }
   ],
   "source": [
    "print(classification_report(y_test,base_pred))"
   ]
  },
  {
   "cell_type": "code",
   "execution_count": 386,
   "id": "785bc958",
   "metadata": {},
   "outputs": [
    {
     "name": "stdout",
     "output_type": "stream",
     "text": [
      "Features selected [False False False  True  True False False False False False False False\n",
      " False False  True  True False False  True False  True False False False\n",
      " False False  True False  True  True False False False False False False\n",
      " False]\n",
      "Feature ranking [29 27  5  1  1 24 12  9 14 19 17 23 21 16  1  1 25 18  1  6  1 11 22  2\n",
      " 28 20  1  7  1  1 13 10 26  8  3 15  4]\n"
     ]
    }
   ],
   "source": [
    "estimator = SVC(kernel=\"linear\")\n",
    "selector = RFECV(estimator, step=1, scoring='accuracy', cv=5)\n",
    "selector = selector.fit(X, y.drop('round',axis=1).values.ravel())\n",
    "print(\"Features selected\", selector.support_)\n",
    "print(\"Feature ranking\", selector.ranking_)"
   ]
  },
  {
   "cell_type": "code",
   "execution_count": 387,
   "id": "eb3d7f8d",
   "metadata": {},
   "outputs": [
    {
     "data": {
      "text/plain": [
       "['AVGH',\n",
       " 'AVGD',\n",
       " 'l5_ravg_HTCR',\n",
       " 'l5_ravg_ATCR',\n",
       " 'l5_ravg_HTxG',\n",
       " 'l5_ravg_HTxpts',\n",
       " 'l5_htdiff',\n",
       " 'avgHTP',\n",
       " 'avgATP']"
      ]
     },
     "execution_count": 387,
     "metadata": {},
     "output_type": "execute_result"
    }
   ],
   "source": [
    "featured_columns = pd.DataFrame(selector.support_,\n",
    "                               index = X.columns,\n",
    "                               columns=['is_in'])\n",
    "\n",
    "featured_columns = featured_columns[featured_columns.is_in == True].index.tolist()\n",
    "featured_columns"
   ]
  },
  {
   "cell_type": "code",
   "execution_count": 388,
   "id": "cd9f5df9",
   "metadata": {},
   "outputs": [],
   "source": [
    "X = pd.concat([s1617[featured_columns],s1617['round']],axis=1)\n",
    "y = s1617[['FTR','round']]\n",
    "\n",
    "X_train = X[X['round']==1].drop('round',axis=1)\n",
    "X_test = X[X['round']==2].drop('round',axis=1)\n",
    "\n",
    "y_train = y[y['round']==1].drop('round',axis=1)\n",
    "y_test = y[y['round']==2].drop('round',axis=1)\n",
    "\n",
    "scaled_X_train = scaler.fit_transform(X_train)\n",
    "scaled_X_test = scaler.transform(X_test)"
   ]
  },
  {
   "cell_type": "code",
   "execution_count": 389,
   "id": "ad96b66a",
   "metadata": {},
   "outputs": [],
   "source": [
    "model.fit(scaled_X_train,y_train.values.ravel())\n",
    "rfe_pred = model.predict(scaled_X_test)"
   ]
  },
  {
   "cell_type": "code",
   "execution_count": 390,
   "id": "26aa2b48",
   "metadata": {},
   "outputs": [
    {
     "data": {
      "text/plain": [
       "array([[23,  0, 41],\n",
       "       [ 5,  0, 37],\n",
       "       [ 6,  0, 78]], dtype=int64)"
      ]
     },
     "execution_count": 390,
     "metadata": {},
     "output_type": "execute_result"
    }
   ],
   "source": [
    "confusion_matrix(y_test,rfe_pred)"
   ]
  },
  {
   "cell_type": "code",
   "execution_count": 391,
   "id": "c73214e1",
   "metadata": {},
   "outputs": [
    {
     "name": "stdout",
     "output_type": "stream",
     "text": [
      "              precision    recall  f1-score   support\n",
      "\n",
      "           A       0.68      0.36      0.47        64\n",
      "           D       0.00      0.00      0.00        42\n",
      "           H       0.50      0.93      0.65        84\n",
      "\n",
      "    accuracy                           0.53       190\n",
      "   macro avg       0.39      0.43      0.37       190\n",
      "weighted avg       0.45      0.53      0.45       190\n",
      "\n"
     ]
    },
    {
     "name": "stderr",
     "output_type": "stream",
     "text": [
      "C:\\Users\\George\\anaconda3\\envs\\tf\\lib\\site-packages\\sklearn\\metrics\\_classification.py:1327: UndefinedMetricWarning: Precision and F-score are ill-defined and being set to 0.0 in labels with no predicted samples. Use `zero_division` parameter to control this behavior.\n",
      "  _warn_prf(average, modifier, msg_start, len(result))\n",
      "C:\\Users\\George\\anaconda3\\envs\\tf\\lib\\site-packages\\sklearn\\metrics\\_classification.py:1327: UndefinedMetricWarning: Precision and F-score are ill-defined and being set to 0.0 in labels with no predicted samples. Use `zero_division` parameter to control this behavior.\n",
      "  _warn_prf(average, modifier, msg_start, len(result))\n",
      "C:\\Users\\George\\anaconda3\\envs\\tf\\lib\\site-packages\\sklearn\\metrics\\_classification.py:1327: UndefinedMetricWarning: Precision and F-score are ill-defined and being set to 0.0 in labels with no predicted samples. Use `zero_division` parameter to control this behavior.\n",
      "  _warn_prf(average, modifier, msg_start, len(result))\n"
     ]
    }
   ],
   "source": [
    "print(classification_report(y_test,rfe_pred))"
   ]
  },
  {
   "cell_type": "code",
   "execution_count": 392,
   "id": "9f4aface",
   "metadata": {},
   "outputs": [],
   "source": [
    "#Define the parameters\n",
    "kernel = ['linear','rbf', 'sigmoid']\n",
    "C = [1,2,3,4,5,6,7,8,9,10]\n",
    "gamma = [0.1,0.15,0.16,0.17,0.18,0.2,0.3,'scale']\n",
    "\n",
    "param_grid = {'kernel': kernel,\n",
    "              'C': C,\n",
    "              'gamma': gamma}\n",
    "\n",
    "#Grid Search\n",
    "grid_model = GridSearchCV(model, param_grid=param_grid, scoring='accuracy')\n",
    "\n",
    "grid_model.fit(scaled_X_train,y_train.values.ravel())\n",
    "grid_pred = grid_model.predict(scaled_X_test)"
   ]
  },
  {
   "cell_type": "code",
   "execution_count": 393,
   "id": "7c21879a",
   "metadata": {},
   "outputs": [
    {
     "data": {
      "text/plain": [
       "{'C': 7, 'gamma': 0.1, 'kernel': 'linear'}"
      ]
     },
     "execution_count": 393,
     "metadata": {},
     "output_type": "execute_result"
    }
   ],
   "source": [
    "grid_model.best_params_"
   ]
  },
  {
   "cell_type": "code",
   "execution_count": 394,
   "id": "4c95707c",
   "metadata": {},
   "outputs": [
    {
     "data": {
      "text/plain": [
       "array([[30,  0, 34],\n",
       "       [11,  0, 31],\n",
       "       [ 9,  0, 75]], dtype=int64)"
      ]
     },
     "execution_count": 394,
     "metadata": {},
     "output_type": "execute_result"
    }
   ],
   "source": [
    "confusion_matrix(y_test,grid_pred)"
   ]
  },
  {
   "cell_type": "code",
   "execution_count": 395,
   "id": "3c43675b",
   "metadata": {},
   "outputs": [
    {
     "name": "stdout",
     "output_type": "stream",
     "text": [
      "              precision    recall  f1-score   support\n",
      "\n",
      "           A       0.60      0.47      0.53        64\n",
      "           D       0.00      0.00      0.00        42\n",
      "           H       0.54      0.89      0.67        84\n",
      "\n",
      "    accuracy                           0.55       190\n",
      "   macro avg       0.38      0.45      0.40       190\n",
      "weighted avg       0.44      0.55      0.47       190\n",
      "\n"
     ]
    },
    {
     "name": "stderr",
     "output_type": "stream",
     "text": [
      "C:\\Users\\George\\anaconda3\\envs\\tf\\lib\\site-packages\\sklearn\\metrics\\_classification.py:1327: UndefinedMetricWarning: Precision and F-score are ill-defined and being set to 0.0 in labels with no predicted samples. Use `zero_division` parameter to control this behavior.\n",
      "  _warn_prf(average, modifier, msg_start, len(result))\n",
      "C:\\Users\\George\\anaconda3\\envs\\tf\\lib\\site-packages\\sklearn\\metrics\\_classification.py:1327: UndefinedMetricWarning: Precision and F-score are ill-defined and being set to 0.0 in labels with no predicted samples. Use `zero_division` parameter to control this behavior.\n",
      "  _warn_prf(average, modifier, msg_start, len(result))\n",
      "C:\\Users\\George\\anaconda3\\envs\\tf\\lib\\site-packages\\sklearn\\metrics\\_classification.py:1327: UndefinedMetricWarning: Precision and F-score are ill-defined and being set to 0.0 in labels with no predicted samples. Use `zero_division` parameter to control this behavior.\n",
      "  _warn_prf(average, modifier, msg_start, len(result))\n"
     ]
    }
   ],
   "source": [
    "print(classification_report(y_test,grid_pred))"
   ]
  },
  {
   "cell_type": "markdown",
   "id": "737c773f",
   "metadata": {},
   "source": [
    "Best accuracy we could get is 0,55.\n",
    "\n",
    "Hyperparameters:\n",
    "- 'C': 7\n",
    "- 'gamma': 0.1\n",
    "- 'kernel': 'linear'\n",
    "\n",
    "Features:\n",
    "- 'AVGH'\n",
    "- 'AVGD'\n",
    "- 'l5_ravg_HTCR'\n",
    "- 'l5_ravg_ATCR'\n",
    "- 'l5_ravg_HTxG'\n",
    "- 'l5_ravg_HTxpts'\n",
    "- 'l5_htdiff'\n",
    "- 'avgHTP'\n",
    "- 'avgATP'"
   ]
  },
  {
   "cell_type": "markdown",
   "id": "c3019225",
   "metadata": {},
   "source": [
    "**Season 17/18**"
   ]
  },
  {
   "cell_type": "code",
   "execution_count": 16,
   "id": "74f3c462",
   "metadata": {},
   "outputs": [],
   "source": [
    "X = s1718.drop('FTR',axis=1)\n",
    "y = s1718[['FTR','round']]\n",
    "\n",
    "X_train = X[X['round']==1].drop('round',axis=1)\n",
    "X_test = X[X['round']==2].drop('round',axis=1)\n",
    "\n",
    "y_train = y[y['round']==1].drop('round',axis=1)\n",
    "y_test = y[y['round']==2].drop('round',axis=1)\n",
    "\n",
    "scaled_X_train = scaler.fit_transform(X_train)\n",
    "scaled_X_test = scaler.transform(X_test)"
   ]
  },
  {
   "cell_type": "code",
   "execution_count": 17,
   "id": "b9e0dff1",
   "metadata": {},
   "outputs": [],
   "source": [
    "model.fit(scaled_X_train,y_train.values.ravel())\n",
    "base_pred = model.predict(scaled_X_test)"
   ]
  },
  {
   "cell_type": "code",
   "execution_count": 18,
   "id": "f308822a",
   "metadata": {},
   "outputs": [
    {
     "data": {
      "text/plain": [
       "array([[41, 17,  5],\n",
       "       [22, 10,  9],\n",
       "       [39, 13, 34]], dtype=int64)"
      ]
     },
     "execution_count": 18,
     "metadata": {},
     "output_type": "execute_result"
    }
   ],
   "source": [
    "confusion_matrix(y_test,base_pred)"
   ]
  },
  {
   "cell_type": "code",
   "execution_count": 19,
   "id": "93b2095c",
   "metadata": {},
   "outputs": [
    {
     "name": "stdout",
     "output_type": "stream",
     "text": [
      "              precision    recall  f1-score   support\n",
      "\n",
      "           A       0.40      0.65      0.50        63\n",
      "           D       0.25      0.24      0.25        41\n",
      "           H       0.71      0.40      0.51        86\n",
      "\n",
      "    accuracy                           0.45       190\n",
      "   macro avg       0.45      0.43      0.42       190\n",
      "weighted avg       0.51      0.45      0.45       190\n",
      "\n"
     ]
    }
   ],
   "source": [
    "print(classification_report(y_test,base_pred))"
   ]
  },
  {
   "cell_type": "code",
   "execution_count": 20,
   "id": "8b0c1a3c",
   "metadata": {},
   "outputs": [
    {
     "name": "stdout",
     "output_type": "stream",
     "text": [
      "Features selected [False False  True  True  True  True False False False False False False\n",
      "  True False  True  True False False  True  True  True  True False False\n",
      " False False False False  True  True False False False False False False\n",
      " False]\n",
      "Feature ranking [23 25  1  1  1  1  8  6 13  9 11 12  1 18  1  1 22 24  1  1  1  1 19 16\n",
      " 21 20  2 14  1  1 10 15 17  5  7  3  4]\n"
     ]
    }
   ],
   "source": [
    "estimator = SVC(kernel=\"linear\")\n",
    "selector = RFECV(estimator, step=1, scoring='accuracy', cv=5)\n",
    "selector = selector.fit(X, y.drop('round',axis=1).values.ravel())\n",
    "print(\"Features selected\", selector.support_)\n",
    "print(\"Feature ranking\", selector.ranking_)"
   ]
  },
  {
   "cell_type": "code",
   "execution_count": 21,
   "id": "0a845af7",
   "metadata": {},
   "outputs": [
    {
     "data": {
      "text/plain": [
       "['round',\n",
       " 'AVGH',\n",
       " 'AVGD',\n",
       " 'AVGA',\n",
       " 'l5_ravg_HTST',\n",
       " 'l5_ravg_HTCR',\n",
       " 'l5_ravg_ATCR',\n",
       " 'l5_ravg_HTxG',\n",
       " 'l5_ravg_ATxG',\n",
       " 'l5_ravg_HTxpts',\n",
       " 'l5_ravg_ATxpts',\n",
       " 'avgHTP',\n",
       " 'avgATP']"
      ]
     },
     "execution_count": 21,
     "metadata": {},
     "output_type": "execute_result"
    }
   ],
   "source": [
    "featured_columns = pd.DataFrame(selector.support_,\n",
    "                               index = X.columns,\n",
    "                               columns=['is_in'])\n",
    "\n",
    "featured_columns = featured_columns[featured_columns.is_in == True].index.tolist()\n",
    "featured_columns"
   ]
  },
  {
   "cell_type": "code",
   "execution_count": 22,
   "id": "f7676a67",
   "metadata": {},
   "outputs": [],
   "source": [
    "X = s1718[featured_columns]\n",
    "y = s1718[['FTR','round']]\n",
    "\n",
    "X_train = X[X['round']==1].drop('round',axis=1)\n",
    "X_test = X[X['round']==2].drop('round',axis=1)\n",
    "\n",
    "y_train = y[y['round']==1].drop('round',axis=1)\n",
    "y_test = y[y['round']==2].drop('round',axis=1)\n",
    "\n",
    "scaled_X_train = scaler.fit_transform(X_train)\n",
    "scaled_X_test = scaler.transform(X_test)"
   ]
  },
  {
   "cell_type": "code",
   "execution_count": 23,
   "id": "9be2bcc7",
   "metadata": {},
   "outputs": [],
   "source": [
    "model.fit(scaled_X_train,y_train.values.ravel())\n",
    "rfe_pred = model.predict(scaled_X_test)"
   ]
  },
  {
   "cell_type": "code",
   "execution_count": 24,
   "id": "d7d1d1d1",
   "metadata": {},
   "outputs": [
    {
     "data": {
      "text/plain": [
       "array([[51,  2, 10],\n",
       "       [25,  7,  9],\n",
       "       [29,  2, 55]], dtype=int64)"
      ]
     },
     "execution_count": 24,
     "metadata": {},
     "output_type": "execute_result"
    }
   ],
   "source": [
    "confusion_matrix(y_test,rfe_pred)"
   ]
  },
  {
   "cell_type": "code",
   "execution_count": 25,
   "id": "0730b28a",
   "metadata": {},
   "outputs": [
    {
     "name": "stdout",
     "output_type": "stream",
     "text": [
      "              precision    recall  f1-score   support\n",
      "\n",
      "           A       0.49      0.81      0.61        63\n",
      "           D       0.64      0.17      0.27        41\n",
      "           H       0.74      0.64      0.69        86\n",
      "\n",
      "    accuracy                           0.59       190\n",
      "   macro avg       0.62      0.54      0.52       190\n",
      "weighted avg       0.63      0.59      0.57       190\n",
      "\n"
     ]
    }
   ],
   "source": [
    "print(classification_report(y_test,rfe_pred))"
   ]
  },
  {
   "cell_type": "code",
   "execution_count": 26,
   "id": "83f89790",
   "metadata": {},
   "outputs": [],
   "source": [
    "#Define the parameters\n",
    "kernel = ['rbf', 'sigmoid']\n",
    "C = [1,2,3,4,5,6,7,8,9,10]\n",
    "gamma = [0.1,0.15,0.16,0.17,0.18,0.2,0.3,'scale']\n",
    "\n",
    "param_grid = {'kernel': kernel,\n",
    "              'C': C,\n",
    "              'gamma': gamma}\n",
    "\n",
    "#Grid Search\n",
    "grid_model = GridSearchCV(model, param_grid=param_grid, scoring='accuracy')\n",
    "\n",
    "grid_model.fit(scaled_X_train,y_train.values.ravel())\n",
    "grid_pred = grid_model.predict(scaled_X_test)"
   ]
  },
  {
   "cell_type": "code",
   "execution_count": 27,
   "id": "ad10f6a4",
   "metadata": {},
   "outputs": [
    {
     "data": {
      "text/plain": [
       "array([[53,  2,  8],\n",
       "       [27,  6,  8],\n",
       "       [39,  2, 45]], dtype=int64)"
      ]
     },
     "execution_count": 27,
     "metadata": {},
     "output_type": "execute_result"
    }
   ],
   "source": [
    "confusion_matrix(y_test,grid_pred)"
   ]
  },
  {
   "cell_type": "code",
   "execution_count": 28,
   "id": "299d4d5b",
   "metadata": {},
   "outputs": [
    {
     "name": "stdout",
     "output_type": "stream",
     "text": [
      "              precision    recall  f1-score   support\n",
      "\n",
      "           A       0.45      0.84      0.58        63\n",
      "           D       0.60      0.15      0.24        41\n",
      "           H       0.74      0.52      0.61        86\n",
      "\n",
      "    accuracy                           0.55       190\n",
      "   macro avg       0.59      0.50      0.48       190\n",
      "weighted avg       0.61      0.55      0.52       190\n",
      "\n"
     ]
    }
   ],
   "source": [
    "print(classification_report(y_test,grid_pred))"
   ]
  },
  {
   "cell_type": "markdown",
   "id": "a342be0a",
   "metadata": {},
   "source": [
    "The best accuracy we could get is 0,59 after implementing RFE at the base model\n",
    "\n",
    "Features:\n",
    "- 'AVGH'\n",
    "- 'AVGD'\n",
    "- 'AVGA'\n",
    "- 'l5_ravg_HTST'\n",
    "- 'l5_ravg_HTCR'\n",
    "- 'l5_ravg_ATCR'\n",
    "- 'l5_ravg_HTxG'\n",
    "- 'l5_ravg_ATxG'\n",
    "- 'l5_ravg_HTxpts'\n",
    "- 'l5_ravg_ATxpts'\n",
    "- 'avgHTP'\n",
    "- 'avgATP'"
   ]
  },
  {
   "cell_type": "markdown",
   "id": "7cddf4c7",
   "metadata": {},
   "source": [
    "**Season 18/19**"
   ]
  },
  {
   "cell_type": "code",
   "execution_count": 42,
   "id": "f7f8df9d",
   "metadata": {},
   "outputs": [],
   "source": [
    "X = s1819.drop('FTR',axis=1)\n",
    "y = s1819[['FTR','round']]\n",
    "\n",
    "X_train = X[X['round']==1].drop('round',axis=1)\n",
    "X_test = X[X['round']==2].drop('round',axis=1)\n",
    "\n",
    "y_train = y[y['round']==1].drop('round',axis=1)\n",
    "y_test = y[y['round']==2].drop('round',axis=1)\n",
    "\n",
    "scaled_X_train = scaler.fit_transform(X_train)\n",
    "scaled_X_test = scaler.transform(X_test)"
   ]
  },
  {
   "cell_type": "code",
   "execution_count": 30,
   "id": "169fb60d",
   "metadata": {},
   "outputs": [],
   "source": [
    "model.fit(scaled_X_train,y_train.values.ravel())\n",
    "base_pred = model.predict(scaled_X_test)"
   ]
  },
  {
   "cell_type": "code",
   "execution_count": 31,
   "id": "e4326ec5",
   "metadata": {},
   "outputs": [
    {
     "data": {
      "text/plain": [
       "array([[16,  7, 32],\n",
       "       [ 7,  8, 37],\n",
       "       [ 7,  3, 73]], dtype=int64)"
      ]
     },
     "execution_count": 31,
     "metadata": {},
     "output_type": "execute_result"
    }
   ],
   "source": [
    "confusion_matrix(y_test,base_pred)"
   ]
  },
  {
   "cell_type": "code",
   "execution_count": 32,
   "id": "20981e08",
   "metadata": {},
   "outputs": [
    {
     "name": "stdout",
     "output_type": "stream",
     "text": [
      "              precision    recall  f1-score   support\n",
      "\n",
      "           A       0.53      0.29      0.38        55\n",
      "           D       0.44      0.15      0.23        52\n",
      "           H       0.51      0.88      0.65        83\n",
      "\n",
      "    accuracy                           0.51       190\n",
      "   macro avg       0.50      0.44      0.42       190\n",
      "weighted avg       0.50      0.51      0.45       190\n",
      "\n"
     ]
    }
   ],
   "source": [
    "print(classification_report(y_test,base_pred))"
   ]
  },
  {
   "cell_type": "code",
   "execution_count": 33,
   "id": "ce6ba335",
   "metadata": {},
   "outputs": [
    {
     "name": "stdout",
     "output_type": "stream",
     "text": [
      "Features selected [False False  True  True False False False False False False False False\n",
      " False False  True  True False False False False  True False False False\n",
      " False False False False  True  True False False False False False False\n",
      "  True]\n",
      "Feature ranking [29 28  1  1  4 25 12 11 14 13 15 16 26  6  1  1 27 30  7  5  1  3 20 17\n",
      " 23 21 22  8  1  1 19 18 24  9 10  2  1]\n"
     ]
    }
   ],
   "source": [
    "estimator = SVC(kernel=\"linear\")\n",
    "selector = RFECV(estimator, step=1, scoring='accuracy', cv=5)\n",
    "selector = selector.fit(X, y.drop('round',axis=1).values.ravel())\n",
    "print(\"Features selected\", selector.support_)\n",
    "print(\"Feature ranking\", selector.ranking_)"
   ]
  },
  {
   "cell_type": "code",
   "execution_count": 34,
   "id": "4e522f8b",
   "metadata": {},
   "outputs": [
    {
     "data": {
      "text/plain": [
       "['round',\n",
       " 'AVGH',\n",
       " 'l5_ravg_HTCR',\n",
       " 'l5_ravg_ATCR',\n",
       " 'l5_ravg_HTxpts',\n",
       " 'avgHTP',\n",
       " 'avgATP',\n",
       " 'diff_OVA']"
      ]
     },
     "execution_count": 34,
     "metadata": {},
     "output_type": "execute_result"
    }
   ],
   "source": [
    "featured_columns = pd.DataFrame(selector.support_,\n",
    "                               index = X.columns,\n",
    "                               columns=['is_in'])\n",
    "\n",
    "featured_columns = featured_columns[featured_columns.is_in == True].index.tolist()\n",
    "featured_columns"
   ]
  },
  {
   "cell_type": "code",
   "execution_count": 35,
   "id": "14c686d7",
   "metadata": {},
   "outputs": [],
   "source": [
    "X = s1819[featured_columns]\n",
    "y = s1819[['FTR','round']]\n",
    "\n",
    "X_train = X[X['round']==1].drop('round',axis=1)\n",
    "X_test = X[X['round']==2].drop('round',axis=1)\n",
    "\n",
    "y_train = y[y['round']==1].drop('round',axis=1)\n",
    "y_test = y[y['round']==2].drop('round',axis=1)\n",
    "\n",
    "scaled_X_train = scaler.fit_transform(X_train)\n",
    "scaled_X_test = scaler.transform(X_test)"
   ]
  },
  {
   "cell_type": "code",
   "execution_count": 36,
   "id": "ba9c3814",
   "metadata": {},
   "outputs": [],
   "source": [
    "model.fit(scaled_X_train,y_train.values.ravel())\n",
    "rfe_pred = model.predict(scaled_X_test)"
   ]
  },
  {
   "cell_type": "code",
   "execution_count": 37,
   "id": "b1673e93",
   "metadata": {},
   "outputs": [
    {
     "data": {
      "text/plain": [
       "array([[14, 27, 14],\n",
       "       [ 4, 25, 23],\n",
       "       [ 6, 33, 44]], dtype=int64)"
      ]
     },
     "execution_count": 37,
     "metadata": {},
     "output_type": "execute_result"
    }
   ],
   "source": [
    "confusion_matrix(y_test,rfe_pred)"
   ]
  },
  {
   "cell_type": "code",
   "execution_count": 38,
   "id": "887658b4",
   "metadata": {},
   "outputs": [
    {
     "name": "stdout",
     "output_type": "stream",
     "text": [
      "              precision    recall  f1-score   support\n",
      "\n",
      "           A       0.58      0.25      0.35        55\n",
      "           D       0.29      0.48      0.36        52\n",
      "           H       0.54      0.53      0.54        83\n",
      "\n",
      "    accuracy                           0.44       190\n",
      "   macro avg       0.47      0.42      0.42       190\n",
      "weighted avg       0.49      0.44      0.44       190\n",
      "\n"
     ]
    }
   ],
   "source": [
    "print(classification_report(y_test,rfe_pred))"
   ]
  },
  {
   "cell_type": "markdown",
   "id": "fd2be622",
   "metadata": {},
   "source": [
    "After RFE the accuracy of the model fell. So we are going to implement Grid Search using all features."
   ]
  },
  {
   "cell_type": "code",
   "execution_count": 43,
   "id": "281b3d90",
   "metadata": {},
   "outputs": [],
   "source": [
    "#Define the parameters\n",
    "kernel = ['rbf', 'sigmoid']\n",
    "C = [1,2,3,4,5,6,7,8,9,10]\n",
    "gamma = [0.1,0.15,0.16,0.17,0.18,0.2,0.3,'scale']\n",
    "\n",
    "param_grid = {'kernel': kernel,\n",
    "              'C': C,\n",
    "              'gamma': gamma}\n",
    "\n",
    "#Grid Search\n",
    "grid_model = GridSearchCV(model, param_grid=param_grid, scoring='accuracy')\n",
    "\n",
    "grid_model.fit(scaled_X_train,y_train.values.ravel())\n",
    "grid_pred = grid_model.predict(scaled_X_test)"
   ]
  },
  {
   "cell_type": "code",
   "execution_count": 44,
   "id": "8bfbce2e",
   "metadata": {},
   "outputs": [
    {
     "data": {
      "text/plain": [
       "array([[28,  7, 20],\n",
       "       [13,  3, 36],\n",
       "       [17,  5, 61]], dtype=int64)"
      ]
     },
     "execution_count": 44,
     "metadata": {},
     "output_type": "execute_result"
    }
   ],
   "source": [
    "confusion_matrix(y_test,grid_pred)"
   ]
  },
  {
   "cell_type": "code",
   "execution_count": 45,
   "id": "d29483f5",
   "metadata": {},
   "outputs": [
    {
     "name": "stdout",
     "output_type": "stream",
     "text": [
      "              precision    recall  f1-score   support\n",
      "\n",
      "           A       0.48      0.51      0.50        55\n",
      "           D       0.20      0.06      0.09        52\n",
      "           H       0.52      0.73      0.61        83\n",
      "\n",
      "    accuracy                           0.48       190\n",
      "   macro avg       0.40      0.43      0.40       190\n",
      "weighted avg       0.42      0.48      0.43       190\n",
      "\n"
     ]
    }
   ],
   "source": [
    "print(classification_report(y_test,grid_pred))"
   ]
  },
  {
   "cell_type": "markdown",
   "id": "9ec0cff1",
   "metadata": {},
   "source": [
    "The best accuyracy we could get is 0,51 at the base model."
   ]
  },
  {
   "cell_type": "markdown",
   "id": "63eda5de",
   "metadata": {},
   "source": [
    "**Season 19/20**"
   ]
  },
  {
   "cell_type": "code",
   "execution_count": 396,
   "id": "c0dc02ae",
   "metadata": {},
   "outputs": [],
   "source": [
    "X = s1920.drop('FTR',axis=1)\n",
    "y = s1920[['FTR','round']]\n",
    "\n",
    "X_train = X[X['round']==1].drop('round',axis=1)\n",
    "X_test = X[X['round']==2].drop('round',axis=1)\n",
    "\n",
    "y_train = y[y['round']==1].drop('round',axis=1)\n",
    "y_test = y[y['round']==2].drop('round',axis=1)\n",
    "\n",
    "scaled_X_train = scaler.fit_transform(X_train)\n",
    "scaled_X_test = scaler.transform(X_test)"
   ]
  },
  {
   "cell_type": "code",
   "execution_count": 397,
   "id": "3f0bc367",
   "metadata": {},
   "outputs": [],
   "source": [
    "model.fit(scaled_X_train,y_train.values.ravel())\n",
    "base_pred = model.predict(scaled_X_test)"
   ]
  },
  {
   "cell_type": "code",
   "execution_count": 398,
   "id": "630797ad",
   "metadata": {},
   "outputs": [
    {
     "data": {
      "text/plain": [
       "array([[31,  0, 36],\n",
       "       [16,  0, 27],\n",
       "       [16,  1, 63]], dtype=int64)"
      ]
     },
     "execution_count": 398,
     "metadata": {},
     "output_type": "execute_result"
    }
   ],
   "source": [
    "confusion_matrix(y_test,base_pred)"
   ]
  },
  {
   "cell_type": "code",
   "execution_count": 399,
   "id": "ddf01844",
   "metadata": {},
   "outputs": [
    {
     "name": "stdout",
     "output_type": "stream",
     "text": [
      "              precision    recall  f1-score   support\n",
      "\n",
      "           A       0.49      0.46      0.48        67\n",
      "           D       0.00      0.00      0.00        43\n",
      "           H       0.50      0.79      0.61        80\n",
      "\n",
      "    accuracy                           0.49       190\n",
      "   macro avg       0.33      0.42      0.36       190\n",
      "weighted avg       0.38      0.49      0.43       190\n",
      "\n"
     ]
    }
   ],
   "source": [
    "print(classification_report(y_test,base_pred))"
   ]
  },
  {
   "cell_type": "code",
   "execution_count": 400,
   "id": "21997fff",
   "metadata": {},
   "outputs": [
    {
     "name": "stdout",
     "output_type": "stream",
     "text": [
      "Features selected [False False False  True  True False False False False False False False\n",
      " False False  True  True False False  True  True  True False False False\n",
      " False False False False  True  True False False False False False False\n",
      " False]\n",
      "Feature ranking [28 29  3  1  1 19 14 16  6  5  8  7 21 18  1  1 25 17  1  1  1  4 24 26\n",
      " 23 27 11  2  1  1 15 22  9 20 10 13 12]\n"
     ]
    }
   ],
   "source": [
    "estimator = SVC(kernel=\"linear\")\n",
    "selector = RFECV(estimator, step=1, scoring='accuracy', cv=5)\n",
    "selector = selector.fit(X, y.drop('round',axis=1).values.ravel())\n",
    "print(\"Features selected\", selector.support_)\n",
    "print(\"Feature ranking\", selector.ranking_)"
   ]
  },
  {
   "cell_type": "code",
   "execution_count": 401,
   "id": "4af25f6c",
   "metadata": {},
   "outputs": [
    {
     "data": {
      "text/plain": [
       "['AVGH',\n",
       " 'AVGD',\n",
       " 'l5_ravg_HTCR',\n",
       " 'l5_ravg_ATCR',\n",
       " 'l5_ravg_HTxG',\n",
       " 'l5_ravg_ATxG',\n",
       " 'l5_ravg_HTxpts',\n",
       " 'avgHTP',\n",
       " 'avgATP']"
      ]
     },
     "execution_count": 401,
     "metadata": {},
     "output_type": "execute_result"
    }
   ],
   "source": [
    "featured_columns = pd.DataFrame(selector.support_,\n",
    "                               index = X.columns,\n",
    "                               columns=['is_in'])\n",
    "\n",
    "featured_columns = featured_columns[featured_columns.is_in == True].index.tolist()\n",
    "featured_columns"
   ]
  },
  {
   "cell_type": "code",
   "execution_count": 402,
   "id": "afd244df",
   "metadata": {},
   "outputs": [],
   "source": [
    "X = pd.concat([s1920[featured_columns],s1920['round']],axis=1)\n",
    "y = s1920[['FTR','round']]\n",
    "\n",
    "X_train = X[X['round']==1].drop('round',axis=1)\n",
    "X_test = X[X['round']==2].drop('round',axis=1)\n",
    "\n",
    "y_train = y[y['round']==1].drop('round',axis=1)\n",
    "y_test = y[y['round']==2].drop('round',axis=1)\n",
    "\n",
    "scaled_X_train = scaler.fit_transform(X_train)\n",
    "scaled_X_test = scaler.transform(X_test)"
   ]
  },
  {
   "cell_type": "code",
   "execution_count": 403,
   "id": "57dfc348",
   "metadata": {},
   "outputs": [],
   "source": [
    "model.fit(scaled_X_train,y_train.values.ravel())\n",
    "rfe_pred = model.predict(scaled_X_test)"
   ]
  },
  {
   "cell_type": "code",
   "execution_count": 404,
   "id": "69af2364",
   "metadata": {},
   "outputs": [
    {
     "data": {
      "text/plain": [
       "array([[44,  1, 22],\n",
       "       [16,  3, 24],\n",
       "       [15,  1, 64]], dtype=int64)"
      ]
     },
     "execution_count": 404,
     "metadata": {},
     "output_type": "execute_result"
    }
   ],
   "source": [
    "confusion_matrix(y_test,rfe_pred)"
   ]
  },
  {
   "cell_type": "code",
   "execution_count": 405,
   "id": "1a1e3e36",
   "metadata": {},
   "outputs": [
    {
     "name": "stdout",
     "output_type": "stream",
     "text": [
      "              precision    recall  f1-score   support\n",
      "\n",
      "           A       0.59      0.66      0.62        67\n",
      "           D       0.60      0.07      0.12        43\n",
      "           H       0.58      0.80      0.67        80\n",
      "\n",
      "    accuracy                           0.58       190\n",
      "   macro avg       0.59      0.51      0.47       190\n",
      "weighted avg       0.59      0.58      0.53       190\n",
      "\n"
     ]
    }
   ],
   "source": [
    "print(classification_report(y_test,rfe_pred))"
   ]
  },
  {
   "cell_type": "code",
   "execution_count": 406,
   "id": "fb1446e8",
   "metadata": {},
   "outputs": [],
   "source": [
    "#Define the parameters\n",
    "kernel = ['linear','rbf', 'sigmoid']\n",
    "C = [1,2,3,4,5,6,7,8,9,10]\n",
    "gamma = [0.1,0.15,0.16,0.17,0.18,0.2,0.3,'scale']\n",
    "\n",
    "param_grid = {'kernel': kernel,\n",
    "              'C': C,\n",
    "              'gamma': gamma}\n",
    "\n",
    "#Grid Search\n",
    "grid_model = GridSearchCV(model, param_grid=param_grid, scoring='accuracy')\n",
    "\n",
    "grid_model.fit(scaled_X_train,y_train.values.ravel())\n",
    "grid_pred = grid_model.predict(scaled_X_test)"
   ]
  },
  {
   "cell_type": "code",
   "execution_count": 407,
   "id": "516a820b",
   "metadata": {},
   "outputs": [
    {
     "data": {
      "text/plain": [
       "{'C': 5, 'gamma': 0.1, 'kernel': 'linear'}"
      ]
     },
     "execution_count": 407,
     "metadata": {},
     "output_type": "execute_result"
    }
   ],
   "source": [
    "grid_model.best_params_"
   ]
  },
  {
   "cell_type": "code",
   "execution_count": 408,
   "id": "02bf931b",
   "metadata": {},
   "outputs": [
    {
     "data": {
      "text/plain": [
       "array([[45,  0, 22],\n",
       "       [19,  2, 22],\n",
       "       [18,  1, 61]], dtype=int64)"
      ]
     },
     "execution_count": 408,
     "metadata": {},
     "output_type": "execute_result"
    }
   ],
   "source": [
    "confusion_matrix(y_test,grid_pred)"
   ]
  },
  {
   "cell_type": "code",
   "execution_count": 409,
   "id": "6b97c6d7",
   "metadata": {},
   "outputs": [
    {
     "name": "stdout",
     "output_type": "stream",
     "text": [
      "              precision    recall  f1-score   support\n",
      "\n",
      "           A       0.55      0.67      0.60        67\n",
      "           D       0.67      0.05      0.09        43\n",
      "           H       0.58      0.76      0.66        80\n",
      "\n",
      "    accuracy                           0.57       190\n",
      "   macro avg       0.60      0.49      0.45       190\n",
      "weighted avg       0.59      0.57      0.51       190\n",
      "\n"
     ]
    }
   ],
   "source": [
    "print(classification_report(y_test,grid_pred))"
   ]
  },
  {
   "cell_type": "markdown",
   "id": "6f5f6ba9",
   "metadata": {},
   "source": [
    "The best accuracy we could get is 0,58 at the base model after implementing RFE.\n",
    "\n",
    "Features:\n",
    "- 'AVGH'\n",
    "- 'AVGD'\n",
    "- 'l5_ravg_HTCR'\n",
    "- 'l5_ravg_ATCR'\n",
    "- 'l5_ravg_HTxG'\n",
    "- 'l5_ravg_ATxG'\n",
    "- 'l5_ravg_HTxpts'\n",
    "- 'avgHTP'\n",
    "- 'avgATP'"
   ]
  },
  {
   "cell_type": "markdown",
   "id": "e49dc1f7",
   "metadata": {},
   "source": [
    "**La Liga**"
   ]
  },
  {
   "cell_type": "code",
   "execution_count": 31,
   "id": "e81c0bce",
   "metadata": {},
   "outputs": [],
   "source": [
    "df = pd.read_csv(r\"C:\\Users\\George\\Desktop\\football-match-prediction-using-ml-techniques\\fe\\la_liga.csv\")"
   ]
  },
  {
   "cell_type": "code",
   "execution_count": 32,
   "id": "6a5f57b7",
   "metadata": {},
   "outputs": [],
   "source": [
    "#We assign a unique value at every team of the league\n",
    "team_id = {'Almeria':1, 'Granada':2, 'Malaga':3, 'Sevilla':4, 'Barcelona':5, 'Celta':6,\n",
    "           'Eibar':7, 'Levante':8, 'Real Madrid':9, 'Vallecano':10, 'Getafe':11,\n",
    "           'Valencia':12, 'Ath Bilbao':13, 'Ath Madrid':14, 'Cordoba':15, 'Espanol':16,\n",
    "           'Elche':17, 'La Coruna':18, 'Sociedad':19, 'Villarreal':20, 'Betis':21,\n",
    "           'Sp Gijon':22, 'Las Palmas':23, 'Leganes':24, 'Osasuna':25, 'Alaves':26, 'Girona':27,\n",
    "           'Valladolid':28, 'Huesca':29, 'Mallorca':30}\n",
    "\n",
    "for key,value in df.iteritems():\n",
    "    df['HomeTeam'] = df['HomeTeam'].apply(lambda x: team_id.get(x,x))\n",
    "    \n",
    "for key,value in df.iteritems():\n",
    "    df['AwayTeam'] = df['AwayTeam'].apply(lambda x: team_id.get(x,x))"
   ]
  },
  {
   "cell_type": "code",
   "execution_count": 33,
   "id": "a3019b5a",
   "metadata": {},
   "outputs": [],
   "source": [
    "#We are dropping the starts that are not available to us before the game \n",
    "df = df.drop(['Unnamed: 0', 'Date','FTHG', 'FTAG', 'HTHG','HTAG','league', 'Hppda_coef', 'Appda_coef','HTW', 'HTD',\n",
    "              'HTCR', 'ATCR','HTGS','HTxpts', 'ATxpts','ATGS', 'HTGC', 'ATGC','HTOVA_S', 'HTatt_S', 'HomeTeamPoints','AwayTeamPoints',\n",
    "              'HTmid_S','HTdef_S', 'ATOVA_S', 'ATatt_S','ATmid_S','ATdef_S','l5_ravg_HTgs', 'l5_ravg_ATgs','l5_ravg_HTgc', 'l5_ravg_ATgc',\n",
    "              'HTL', 'ATL', 'ATD', 'ATW'],axis=1)\n",
    "\n",
    "df = df.dropna()"
   ]
  },
  {
   "cell_type": "code",
   "execution_count": 34,
   "id": "a7378855",
   "metadata": {},
   "outputs": [],
   "source": [
    "s1415 = df[df['season']=='2014/2015'].drop('season',axis=1)\n",
    "s1516 = df[df['season']=='2015/2016'].drop('season',axis=1)\n",
    "s1617 = df[df['season']=='2016/2017'].drop('season',axis=1)\n",
    "s1718 = df[df['season']=='2017/2018'].drop('season',axis=1)\n",
    "s1819 = df[df['season']=='2018/2019'].drop('season',axis=1)\n",
    "s1920 = df[df['season']=='2019/2020'].drop('season',axis=1)"
   ]
  },
  {
   "cell_type": "markdown",
   "id": "d5ca9da4",
   "metadata": {},
   "source": [
    "**Season 14/15**"
   ]
  },
  {
   "cell_type": "code",
   "execution_count": 64,
   "id": "49bace1f",
   "metadata": {},
   "outputs": [],
   "source": [
    "X = s1415.drop('FTR',axis=1)\n",
    "y = s1415[['FTR','round']]\n",
    "\n",
    "X_train = X[X['round']==1].drop('round',axis=1)\n",
    "X_test = X[X['round']==2].drop('round',axis=1)\n",
    "\n",
    "y_train = y[y['round']==1].drop('round',axis=1)\n",
    "y_test = y[y['round']==2].drop('round',axis=1)\n",
    "\n",
    "scaled_X_train = scaler.fit_transform(X_train)\n",
    "scaled_X_test = scaler.transform(X_test)"
   ]
  },
  {
   "cell_type": "code",
   "execution_count": 65,
   "id": "ec97f6c2",
   "metadata": {},
   "outputs": [],
   "source": [
    "model.fit(scaled_X_train,y_train.values.ravel())\n",
    "base_pred = model.predict(scaled_X_test)"
   ]
  },
  {
   "cell_type": "code",
   "execution_count": 66,
   "id": "cc28b4c5",
   "metadata": {},
   "outputs": [
    {
     "data": {
      "text/plain": [
       "array([[22,  1, 33],\n",
       "       [ 7,  2, 35],\n",
       "       [15,  2, 73]], dtype=int64)"
      ]
     },
     "execution_count": 66,
     "metadata": {},
     "output_type": "execute_result"
    }
   ],
   "source": [
    "confusion_matrix(y_test,base_pred)"
   ]
  },
  {
   "cell_type": "code",
   "execution_count": 67,
   "id": "2db82a00",
   "metadata": {},
   "outputs": [
    {
     "name": "stdout",
     "output_type": "stream",
     "text": [
      "              precision    recall  f1-score   support\n",
      "\n",
      "           A       0.50      0.39      0.44        56\n",
      "           D       0.40      0.05      0.08        44\n",
      "           H       0.52      0.81      0.63        90\n",
      "\n",
      "    accuracy                           0.51       190\n",
      "   macro avg       0.47      0.42      0.38       190\n",
      "weighted avg       0.49      0.51      0.45       190\n",
      "\n"
     ]
    }
   ],
   "source": [
    "print(classification_report(y_test,base_pred))"
   ]
  },
  {
   "cell_type": "code",
   "execution_count": 72,
   "id": "a8d1cdd3",
   "metadata": {},
   "outputs": [
    {
     "name": "stdout",
     "output_type": "stream",
     "text": [
      "Features selected [False False False False False False False False False False False False\n",
      " False False  True False False False  True  True False False False False\n",
      " False False False False False  True False False False False False False\n",
      " False]\n",
      "Feature ranking [29 21  6  2  5 28 23 13 27 14 22 25 17 10  1  7 33 34  1  1  8 16 31 26\n",
      " 24 18  4 12  3  1 19 15 20 32 11 30  9]\n"
     ]
    }
   ],
   "source": [
    "estimator = SVC(kernel=\"linear\")\n",
    "selector = RFECV(estimator, step=1, scoring='accuracy', cv=5)\n",
    "selector = selector.fit(X, y.drop('round',axis=1).values.ravel())\n",
    "print(\"Features selected\", selector.support_)\n",
    "print(\"Feature ranking\", selector.ranking_)"
   ]
  },
  {
   "cell_type": "code",
   "execution_count": 73,
   "id": "48fb1f9a",
   "metadata": {},
   "outputs": [
    {
     "data": {
      "text/plain": [
       "['l5_ravg_HTCR', 'l5_ravg_HTxG', 'l5_ravg_ATxG', 'avgATP']"
      ]
     },
     "execution_count": 73,
     "metadata": {},
     "output_type": "execute_result"
    }
   ],
   "source": [
    "featured_columns = pd.DataFrame(selector.support_,\n",
    "                               index = X.columns,\n",
    "                               columns=['is_in'])\n",
    "\n",
    "featured_columns = featured_columns[featured_columns.is_in == True].index.tolist()\n",
    "featured_columns"
   ]
  },
  {
   "cell_type": "code",
   "execution_count": 75,
   "id": "465e2b3e",
   "metadata": {},
   "outputs": [],
   "source": [
    "X = pd.concat([s1415[featured_columns],s1415['round']],axis=1)\n",
    "y = s1415[['FTR','round']]\n",
    "          \n",
    "X_train = X[X['round']==1].drop('round',axis=1)\n",
    "X_test = X[X['round']==2].drop('round',axis=1)\n",
    "\n",
    "y_train = y[y['round']==1].drop('round',axis=1)\n",
    "y_test = y[y['round']==2].drop('round',axis=1)\n",
    "\n",
    "scaled_X_train = scaler.fit_transform(X_train)\n",
    "scaled_X_test = scaler.transform(X_test)"
   ]
  },
  {
   "cell_type": "code",
   "execution_count": 76,
   "id": "e43222ef",
   "metadata": {},
   "outputs": [],
   "source": [
    "model.fit(scaled_X_train,y_train.values.ravel())\n",
    "rfe_pred = model.predict(scaled_X_test)"
   ]
  },
  {
   "cell_type": "code",
   "execution_count": 77,
   "id": "e832c913",
   "metadata": {},
   "outputs": [
    {
     "data": {
      "text/plain": [
       "array([[26, 13, 17],\n",
       "       [ 4, 15, 25],\n",
       "       [ 9, 24, 57]], dtype=int64)"
      ]
     },
     "execution_count": 77,
     "metadata": {},
     "output_type": "execute_result"
    }
   ],
   "source": [
    "confusion_matrix(y_test,rfe_pred)"
   ]
  },
  {
   "cell_type": "code",
   "execution_count": 78,
   "id": "10b735da",
   "metadata": {},
   "outputs": [
    {
     "name": "stdout",
     "output_type": "stream",
     "text": [
      "              precision    recall  f1-score   support\n",
      "\n",
      "           A       0.67      0.46      0.55        56\n",
      "           D       0.29      0.34      0.31        44\n",
      "           H       0.58      0.63      0.60        90\n",
      "\n",
      "    accuracy                           0.52       190\n",
      "   macro avg       0.51      0.48      0.49       190\n",
      "weighted avg       0.54      0.52      0.52       190\n",
      "\n"
     ]
    }
   ],
   "source": [
    "print(classification_report(y_test,rfe_pred))"
   ]
  },
  {
   "cell_type": "code",
   "execution_count": 79,
   "id": "34724022",
   "metadata": {},
   "outputs": [],
   "source": [
    "#Define the parameters\n",
    "kernel = ['rbf', 'sigmoid']\n",
    "C = [1,2,3,4,5,6,7,8,9,10]\n",
    "gamma = [0.1,0.15,0.16,0.17,0.18,0.2,0.3,'scale']\n",
    "\n",
    "param_grid = {'kernel': kernel,\n",
    "              'C': C,\n",
    "              'gamma': gamma}\n",
    "\n",
    "#Grid Search\n",
    "grid_model = GridSearchCV(model, param_grid=param_grid, scoring='accuracy')\n",
    "\n",
    "grid_model.fit(scaled_X_train,y_train.values.ravel())\n",
    "grid_pred = grid_model.predict(scaled_X_test)"
   ]
  },
  {
   "cell_type": "code",
   "execution_count": 80,
   "id": "ae56568e",
   "metadata": {},
   "outputs": [
    {
     "data": {
      "text/plain": [
       "{'C': 2, 'gamma': 0.2, 'kernel': 'sigmoid'}"
      ]
     },
     "execution_count": 80,
     "metadata": {},
     "output_type": "execute_result"
    }
   ],
   "source": [
    "grid_model.best_params_"
   ]
  },
  {
   "cell_type": "code",
   "execution_count": 81,
   "id": "ecd2fca0",
   "metadata": {},
   "outputs": [
    {
     "data": {
      "text/plain": [
       "array([[21,  0, 35],\n",
       "       [ 2,  0, 42],\n",
       "       [ 3,  0, 87]], dtype=int64)"
      ]
     },
     "execution_count": 81,
     "metadata": {},
     "output_type": "execute_result"
    }
   ],
   "source": [
    "confusion_matrix(y_test,grid_pred)"
   ]
  },
  {
   "cell_type": "code",
   "execution_count": 82,
   "id": "0cc00650",
   "metadata": {},
   "outputs": [
    {
     "name": "stdout",
     "output_type": "stream",
     "text": [
      "              precision    recall  f1-score   support\n",
      "\n",
      "           A       0.81      0.38      0.51        56\n",
      "           D       0.00      0.00      0.00        44\n",
      "           H       0.53      0.97      0.69        90\n",
      "\n",
      "    accuracy                           0.57       190\n",
      "   macro avg       0.45      0.45      0.40       190\n",
      "weighted avg       0.49      0.57      0.48       190\n",
      "\n"
     ]
    },
    {
     "name": "stderr",
     "output_type": "stream",
     "text": [
      "C:\\Users\\George\\anaconda3\\envs\\tf\\lib\\site-packages\\sklearn\\metrics\\_classification.py:1327: UndefinedMetricWarning: Precision and F-score are ill-defined and being set to 0.0 in labels with no predicted samples. Use `zero_division` parameter to control this behavior.\n",
      "  _warn_prf(average, modifier, msg_start, len(result))\n",
      "C:\\Users\\George\\anaconda3\\envs\\tf\\lib\\site-packages\\sklearn\\metrics\\_classification.py:1327: UndefinedMetricWarning: Precision and F-score are ill-defined and being set to 0.0 in labels with no predicted samples. Use `zero_division` parameter to control this behavior.\n",
      "  _warn_prf(average, modifier, msg_start, len(result))\n",
      "C:\\Users\\George\\anaconda3\\envs\\tf\\lib\\site-packages\\sklearn\\metrics\\_classification.py:1327: UndefinedMetricWarning: Precision and F-score are ill-defined and being set to 0.0 in labels with no predicted samples. Use `zero_division` parameter to control this behavior.\n",
      "  _warn_prf(average, modifier, msg_start, len(result))\n"
     ]
    }
   ],
   "source": [
    "print(classification_report(y_test,grid_pred))"
   ]
  },
  {
   "cell_type": "markdown",
   "id": "ed05e482",
   "metadata": {},
   "source": [
    "The best accuracy we could get is 0,57 after implemented Grid Search.\n",
    "\n",
    "Hyperparameters:\n",
    "- 'C': 2\n",
    "- 'gamma': 0.2\n",
    "- 'kernel': 'sigmoid'\n",
    "\n",
    "Features:\n",
    "- 'l5_ravg_HTCR'\n",
    "- 'l5_ravg_HTxG'\n",
    "- 'l5_ravg_ATxG'\n",
    "- 'avgATP'"
   ]
  },
  {
   "cell_type": "markdown",
   "id": "a7796683",
   "metadata": {},
   "source": [
    "**Season 15/16**"
   ]
  },
  {
   "cell_type": "code",
   "execution_count": 83,
   "id": "f721c596",
   "metadata": {},
   "outputs": [],
   "source": [
    "X = s1516.drop('FTR',axis=1)\n",
    "y = s1516[['FTR','round']]\n",
    "\n",
    "X_train = X[X['round']==1].drop('round',axis=1)\n",
    "X_test = X[X['round']==2].drop('round',axis=1)\n",
    "\n",
    "y_train = y[y['round']==1].drop('round',axis=1)\n",
    "y_test = y[y['round']==2].drop('round',axis=1)\n",
    "\n",
    "scaled_X_train = scaler.fit_transform(X_train)\n",
    "scaled_X_test = scaler.transform(X_test)"
   ]
  },
  {
   "cell_type": "code",
   "execution_count": 85,
   "id": "b30accf2",
   "metadata": {},
   "outputs": [],
   "source": [
    "model.fit(scaled_X_train,y_train.values.ravel())\n",
    "base_pred = model.predict(scaled_X_test)"
   ]
  },
  {
   "cell_type": "code",
   "execution_count": 86,
   "id": "69c45202",
   "metadata": {},
   "outputs": [
    {
     "data": {
      "text/plain": [
       "array([[ 2,  3, 48],\n",
       "       [ 0,  2, 43],\n",
       "       [ 0,  0, 92]], dtype=int64)"
      ]
     },
     "execution_count": 86,
     "metadata": {},
     "output_type": "execute_result"
    }
   ],
   "source": [
    "confusion_matrix(y_test,base_pred)"
   ]
  },
  {
   "cell_type": "code",
   "execution_count": 87,
   "id": "85846111",
   "metadata": {},
   "outputs": [
    {
     "name": "stdout",
     "output_type": "stream",
     "text": [
      "              precision    recall  f1-score   support\n",
      "\n",
      "           A       1.00      0.04      0.07        53\n",
      "           D       0.40      0.04      0.08        45\n",
      "           H       0.50      1.00      0.67        92\n",
      "\n",
      "    accuracy                           0.51       190\n",
      "   macro avg       0.63      0.36      0.27       190\n",
      "weighted avg       0.62      0.51      0.36       190\n",
      "\n"
     ]
    }
   ],
   "source": [
    "print(classification_report(y_test,base_pred))"
   ]
  },
  {
   "cell_type": "code",
   "execution_count": 88,
   "id": "4384b42f",
   "metadata": {},
   "outputs": [
    {
     "name": "stdout",
     "output_type": "stream",
     "text": [
      "Features selected [False False  True  True  True  True  True  True  True  True  True  True\n",
      "  True  True  True  True False  True  True  True  True  True  True False\n",
      "  True  True  True  True  True  True  True  True  True  True  True  True\n",
      "  True]\n",
      "Feature ranking [5 3 1 1 1 1 1 1 1 1 1 1 1 1 1 1 2 1 1 1 1 1 1 4 1 1 1 1 1 1 1 1 1 1 1 1 1]\n"
     ]
    }
   ],
   "source": [
    "estimator = SVC(kernel=\"linear\")\n",
    "selector = RFECV(estimator, step=1, scoring='accuracy', cv=5)\n",
    "selector = selector.fit(X, y.drop('round',axis=1).values.ravel())\n",
    "print(\"Features selected\", selector.support_)\n",
    "print(\"Feature ranking\", selector.ranking_)"
   ]
  },
  {
   "cell_type": "code",
   "execution_count": 89,
   "id": "5b568ec9",
   "metadata": {},
   "outputs": [
    {
     "data": {
      "text/plain": [
       "['round',\n",
       " 'AVGH',\n",
       " 'AVGD',\n",
       " 'AVGA',\n",
       " 'HT_wins',\n",
       " 'AT_wins',\n",
       " 'HT_draws',\n",
       " 'AT_draws',\n",
       " 'HT_losses',\n",
       " 'AT_losses',\n",
       " 'l5_ravg_HTST',\n",
       " 'l5_ravg_ATST',\n",
       " 'l5_ravg_HTCR',\n",
       " 'l5_ravg_ATCR',\n",
       " 'AToveral',\n",
       " 'l5_ravg_HTxG',\n",
       " 'l5_ravg_ATxG',\n",
       " 'l5_ravg_HTxpts',\n",
       " 'l5_ravg_ATxpts',\n",
       " 'l5_ravg_HTdeep',\n",
       " 'l5_ravg_HTppda',\n",
       " 'l5_ravg_ATppda',\n",
       " 'l5_htdiff',\n",
       " 'l5_atdiff',\n",
       " 'avgHTP',\n",
       " 'avgATP',\n",
       " 'l5_ravg_HTp',\n",
       " 'l3_ravg_ATp',\n",
       " 'diff_points',\n",
       " 'diff_ATT',\n",
       " 'diff_MID',\n",
       " 'diff_DEF',\n",
       " 'diff_OVA']"
      ]
     },
     "execution_count": 89,
     "metadata": {},
     "output_type": "execute_result"
    }
   ],
   "source": [
    "featured_columns = pd.DataFrame(selector.support_,\n",
    "                               index = X.columns,\n",
    "                               columns=['is_in'])\n",
    "\n",
    "featured_columns = featured_columns[featured_columns.is_in == True].index.tolist()\n",
    "featured_columns"
   ]
  },
  {
   "cell_type": "code",
   "execution_count": 90,
   "id": "b02964c7",
   "metadata": {},
   "outputs": [],
   "source": [
    "X = s1516[featured_columns]\n",
    "y = s1516[['FTR','round']]\n",
    "\n",
    "X_train = X[X['round']==1].drop('round',axis=1)\n",
    "X_test = X[X['round']==2].drop('round',axis=1)\n",
    "\n",
    "y_train = y[y['round']==1].drop('round',axis=1)\n",
    "y_test = y[y['round']==2].drop('round',axis=1)\n",
    "\n",
    "scaled_X_train = scaler.fit_transform(X_train)\n",
    "scaled_X_test = scaler.transform(X_test)"
   ]
  },
  {
   "cell_type": "code",
   "execution_count": 91,
   "id": "4596e485",
   "metadata": {},
   "outputs": [],
   "source": [
    "model.fit(scaled_X_train,y_train.values.ravel())\n",
    "rfe_pred = model.predict(scaled_X_test)"
   ]
  },
  {
   "cell_type": "code",
   "execution_count": 92,
   "id": "19249382",
   "metadata": {},
   "outputs": [
    {
     "data": {
      "text/plain": [
       "array([[ 2,  3, 48],\n",
       "       [ 0,  2, 43],\n",
       "       [ 0,  0, 92]], dtype=int64)"
      ]
     },
     "execution_count": 92,
     "metadata": {},
     "output_type": "execute_result"
    }
   ],
   "source": [
    "confusion_matrix(y_test,rfe_pred)"
   ]
  },
  {
   "cell_type": "code",
   "execution_count": 93,
   "id": "493601a1",
   "metadata": {},
   "outputs": [
    {
     "name": "stdout",
     "output_type": "stream",
     "text": [
      "              precision    recall  f1-score   support\n",
      "\n",
      "           A       1.00      0.04      0.07        53\n",
      "           D       0.40      0.04      0.08        45\n",
      "           H       0.50      1.00      0.67        92\n",
      "\n",
      "    accuracy                           0.51       190\n",
      "   macro avg       0.63      0.36      0.27       190\n",
      "weighted avg       0.62      0.51      0.36       190\n",
      "\n"
     ]
    }
   ],
   "source": [
    "print(classification_report(y_test,rfe_pred))"
   ]
  },
  {
   "cell_type": "code",
   "execution_count": 94,
   "id": "b09b12ff",
   "metadata": {},
   "outputs": [],
   "source": [
    "#Define the parameters\n",
    "kernel = ['rbf', 'sigmoid']\n",
    "C = [1,2,3,4,5,6,7,8,9,10]\n",
    "gamma = [0.1,0.15,0.16,0.17,0.18,0.2,0.3,'scale']\n",
    "\n",
    "param_grid = {'kernel': kernel,\n",
    "              'C': C,\n",
    "              'gamma': gamma}\n",
    "\n",
    "#Grid Search\n",
    "grid_model = GridSearchCV(model, param_grid=param_grid, scoring='accuracy')\n",
    "\n",
    "grid_model.fit(scaled_X_train,y_train.values.ravel())\n",
    "grid_pred = grid_model.predict(scaled_X_test)"
   ]
  },
  {
   "cell_type": "code",
   "execution_count": 97,
   "id": "32a7f1e3",
   "metadata": {},
   "outputs": [
    {
     "data": {
      "text/plain": [
       "{'C': 6, 'gamma': 0.16, 'kernel': 'sigmoid'}"
      ]
     },
     "execution_count": 97,
     "metadata": {},
     "output_type": "execute_result"
    }
   ],
   "source": [
    "grid_model.best_params_"
   ]
  },
  {
   "cell_type": "code",
   "execution_count": 95,
   "id": "db265dce",
   "metadata": {},
   "outputs": [
    {
     "data": {
      "text/plain": [
       "array([[28,  0, 25],\n",
       "       [10,  0, 35],\n",
       "       [26,  0, 66]], dtype=int64)"
      ]
     },
     "execution_count": 95,
     "metadata": {},
     "output_type": "execute_result"
    }
   ],
   "source": [
    "confusion_matrix(y_test,grid_pred)"
   ]
  },
  {
   "cell_type": "code",
   "execution_count": 96,
   "id": "b21d9649",
   "metadata": {},
   "outputs": [
    {
     "name": "stdout",
     "output_type": "stream",
     "text": [
      "              precision    recall  f1-score   support\n",
      "\n",
      "           A       0.44      0.53      0.48        53\n",
      "           D       0.00      0.00      0.00        45\n",
      "           H       0.52      0.72      0.61        92\n",
      "\n",
      "    accuracy                           0.49       190\n",
      "   macro avg       0.32      0.42      0.36       190\n",
      "weighted avg       0.38      0.49      0.43       190\n",
      "\n"
     ]
    },
    {
     "name": "stderr",
     "output_type": "stream",
     "text": [
      "C:\\Users\\George\\anaconda3\\envs\\tf\\lib\\site-packages\\sklearn\\metrics\\_classification.py:1327: UndefinedMetricWarning: Precision and F-score are ill-defined and being set to 0.0 in labels with no predicted samples. Use `zero_division` parameter to control this behavior.\n",
      "  _warn_prf(average, modifier, msg_start, len(result))\n",
      "C:\\Users\\George\\anaconda3\\envs\\tf\\lib\\site-packages\\sklearn\\metrics\\_classification.py:1327: UndefinedMetricWarning: Precision and F-score are ill-defined and being set to 0.0 in labels with no predicted samples. Use `zero_division` parameter to control this behavior.\n",
      "  _warn_prf(average, modifier, msg_start, len(result))\n",
      "C:\\Users\\George\\anaconda3\\envs\\tf\\lib\\site-packages\\sklearn\\metrics\\_classification.py:1327: UndefinedMetricWarning: Precision and F-score are ill-defined and being set to 0.0 in labels with no predicted samples. Use `zero_division` parameter to control this behavior.\n",
      "  _warn_prf(average, modifier, msg_start, len(result))\n"
     ]
    }
   ],
   "source": [
    "print(classification_report(y_test,grid_pred))"
   ]
  },
  {
   "cell_type": "markdown",
   "id": "8cf295d4",
   "metadata": {},
   "source": [
    "The best accuracy we could get is 0,52 after implementing RFE. But the model almost predicted everything to be a home win. That tactic probably won't give any profit."
   ]
  },
  {
   "cell_type": "markdown",
   "id": "8161f7d6",
   "metadata": {},
   "source": [
    "**Season 16/17**"
   ]
  },
  {
   "cell_type": "code",
   "execution_count": 98,
   "id": "655ad32c",
   "metadata": {},
   "outputs": [],
   "source": [
    "X = s1617.drop('FTR',axis=1)\n",
    "y = s1617[['FTR','round']]\n",
    "\n",
    "X_train = X[X['round']==1].drop('round',axis=1)\n",
    "X_test = X[X['round']==2].drop('round',axis=1)\n",
    "\n",
    "y_train = y[y['round']==1].drop('round',axis=1)\n",
    "y_test = y[y['round']==2].drop('round',axis=1)\n",
    "\n",
    "scaled_X_train = scaler.fit_transform(X_train)\n",
    "scaled_X_test = scaler.transform(X_test)"
   ]
  },
  {
   "cell_type": "code",
   "execution_count": 100,
   "id": "3b44e183",
   "metadata": {},
   "outputs": [],
   "source": [
    "model.fit(scaled_X_train,y_train.values.ravel())\n",
    "base_pred = model.predict(scaled_X_test)"
   ]
  },
  {
   "cell_type": "code",
   "execution_count": 101,
   "id": "4d3bdcb2",
   "metadata": {},
   "outputs": [
    {
     "data": {
      "text/plain": [
       "array([[11, 11, 39],\n",
       "       [ 4,  4, 27],\n",
       "       [ 3, 10, 81]], dtype=int64)"
      ]
     },
     "execution_count": 101,
     "metadata": {},
     "output_type": "execute_result"
    }
   ],
   "source": [
    "confusion_matrix(y_test,base_pred)"
   ]
  },
  {
   "cell_type": "code",
   "execution_count": 102,
   "id": "649aabb4",
   "metadata": {},
   "outputs": [
    {
     "name": "stdout",
     "output_type": "stream",
     "text": [
      "              precision    recall  f1-score   support\n",
      "\n",
      "           A       0.61      0.18      0.28        61\n",
      "           D       0.16      0.11      0.13        35\n",
      "           H       0.55      0.86      0.67        94\n",
      "\n",
      "    accuracy                           0.51       190\n",
      "   macro avg       0.44      0.39      0.36       190\n",
      "weighted avg       0.50      0.51      0.45       190\n",
      "\n"
     ]
    }
   ],
   "source": [
    "print(classification_report(y_test,base_pred))"
   ]
  },
  {
   "cell_type": "code",
   "execution_count": 103,
   "id": "fea66fab",
   "metadata": {},
   "outputs": [
    {
     "name": "stdout",
     "output_type": "stream",
     "text": [
      "Features selected [False False  True False False False False False False False False False\n",
      " False False False False False False False  True  True False False False\n",
      " False False False False  True  True False False False False False False\n",
      " False]\n",
      "Feature ranking [28 31  1  4  3 24 13 22  9 14 12 11  7 20  6 26 30 32  2  1  1 10 29 19\n",
      "  8 21 17  5  1  1 25 15 23 27 18 33 16]\n"
     ]
    }
   ],
   "source": [
    "estimator = SVC(kernel=\"linear\")\n",
    "selector = RFECV(estimator, step=1, scoring='accuracy', cv=5)\n",
    "selector = selector.fit(X, y.drop('round',axis=1).values.ravel())\n",
    "print(\"Features selected\", selector.support_)\n",
    "print(\"Feature ranking\", selector.ranking_)"
   ]
  },
  {
   "cell_type": "code",
   "execution_count": 104,
   "id": "56330be2",
   "metadata": {},
   "outputs": [
    {
     "data": {
      "text/plain": [
       "['round', 'l5_ravg_ATxG', 'l5_ravg_HTxpts', 'avgHTP', 'avgATP']"
      ]
     },
     "execution_count": 104,
     "metadata": {},
     "output_type": "execute_result"
    }
   ],
   "source": [
    "featured_columns = pd.DataFrame(selector.support_,\n",
    "                               index = X.columns,\n",
    "                               columns=['is_in'])\n",
    "\n",
    "featured_columns = featured_columns[featured_columns.is_in == True].index.tolist()\n",
    "featured_columns"
   ]
  },
  {
   "cell_type": "code",
   "execution_count": 105,
   "id": "56e4fd52",
   "metadata": {},
   "outputs": [],
   "source": [
    "X = s1617[featured_columns]\n",
    "y = s1617[['FTR','round']]\n",
    "\n",
    "X_train = X[X['round']==1].drop('round',axis=1)\n",
    "X_test = X[X['round']==2].drop('round',axis=1)\n",
    "\n",
    "y_train = y[y['round']==1].drop('round',axis=1)\n",
    "y_test = y[y['round']==2].drop('round',axis=1)\n",
    "\n",
    "scaled_X_train = scaler.fit_transform(X_train)\n",
    "scaled_X_test = scaler.transform(X_test)"
   ]
  },
  {
   "cell_type": "code",
   "execution_count": 106,
   "id": "e63c7eba",
   "metadata": {},
   "outputs": [],
   "source": [
    "model.fit(scaled_X_train,y_train.values.ravel())\n",
    "rfe_pred = model.predict(scaled_X_test)"
   ]
  },
  {
   "cell_type": "code",
   "execution_count": 107,
   "id": "1a2a56f1",
   "metadata": {},
   "outputs": [
    {
     "data": {
      "text/plain": [
       "array([[25,  9, 27],\n",
       "       [ 6,  3, 26],\n",
       "       [11,  6, 77]], dtype=int64)"
      ]
     },
     "execution_count": 107,
     "metadata": {},
     "output_type": "execute_result"
    }
   ],
   "source": [
    "confusion_matrix(y_test,rfe_pred)"
   ]
  },
  {
   "cell_type": "code",
   "execution_count": 108,
   "id": "25d8b249",
   "metadata": {},
   "outputs": [
    {
     "name": "stdout",
     "output_type": "stream",
     "text": [
      "              precision    recall  f1-score   support\n",
      "\n",
      "           A       0.60      0.41      0.49        61\n",
      "           D       0.17      0.09      0.11        35\n",
      "           H       0.59      0.82      0.69        94\n",
      "\n",
      "    accuracy                           0.55       190\n",
      "   macro avg       0.45      0.44      0.43       190\n",
      "weighted avg       0.51      0.55      0.52       190\n",
      "\n"
     ]
    }
   ],
   "source": [
    "print(classification_report(y_test,rfe_pred))"
   ]
  },
  {
   "cell_type": "code",
   "execution_count": 109,
   "id": "a870cb53",
   "metadata": {},
   "outputs": [],
   "source": [
    "#Define the parameters\n",
    "kernel = ['rbf', 'sigmoid']\n",
    "C = [1,2,3,4,5,6,7,8,9,10]\n",
    "gamma = [0.1,0.15,0.16,0.17,0.18,0.2,0.3,'scale']\n",
    "\n",
    "param_grid = {'kernel': kernel,\n",
    "              'C': C,\n",
    "              'gamma': gamma}\n",
    "\n",
    "#Grid Search\n",
    "grid_model = GridSearchCV(model, param_grid=param_grid, scoring='accuracy')\n",
    "\n",
    "grid_model.fit(scaled_X_train,y_train.values.ravel())\n",
    "grid_pred = grid_model.predict(scaled_X_test)"
   ]
  },
  {
   "cell_type": "code",
   "execution_count": 112,
   "id": "53c5c538",
   "metadata": {},
   "outputs": [
    {
     "data": {
      "text/plain": [
       "{'C': 7, 'gamma': 0.3, 'kernel': 'sigmoid'}"
      ]
     },
     "execution_count": 112,
     "metadata": {},
     "output_type": "execute_result"
    }
   ],
   "source": [
    "grid_model.best_params_"
   ]
  },
  {
   "cell_type": "code",
   "execution_count": 110,
   "id": "32478822",
   "metadata": {},
   "outputs": [
    {
     "data": {
      "text/plain": [
       "array([[25,  0, 36],\n",
       "       [ 5,  0, 30],\n",
       "       [10,  0, 84]], dtype=int64)"
      ]
     },
     "execution_count": 110,
     "metadata": {},
     "output_type": "execute_result"
    }
   ],
   "source": [
    "confusion_matrix(y_test,grid_pred)"
   ]
  },
  {
   "cell_type": "code",
   "execution_count": 111,
   "id": "2046c443",
   "metadata": {},
   "outputs": [
    {
     "name": "stdout",
     "output_type": "stream",
     "text": [
      "              precision    recall  f1-score   support\n",
      "\n",
      "           A       0.62      0.41      0.50        61\n",
      "           D       0.00      0.00      0.00        35\n",
      "           H       0.56      0.89      0.69        94\n",
      "\n",
      "    accuracy                           0.57       190\n",
      "   macro avg       0.40      0.43      0.39       190\n",
      "weighted avg       0.48      0.57      0.50       190\n",
      "\n"
     ]
    },
    {
     "name": "stderr",
     "output_type": "stream",
     "text": [
      "C:\\Users\\George\\anaconda3\\envs\\tf\\lib\\site-packages\\sklearn\\metrics\\_classification.py:1327: UndefinedMetricWarning: Precision and F-score are ill-defined and being set to 0.0 in labels with no predicted samples. Use `zero_division` parameter to control this behavior.\n",
      "  _warn_prf(average, modifier, msg_start, len(result))\n",
      "C:\\Users\\George\\anaconda3\\envs\\tf\\lib\\site-packages\\sklearn\\metrics\\_classification.py:1327: UndefinedMetricWarning: Precision and F-score are ill-defined and being set to 0.0 in labels with no predicted samples. Use `zero_division` parameter to control this behavior.\n",
      "  _warn_prf(average, modifier, msg_start, len(result))\n",
      "C:\\Users\\George\\anaconda3\\envs\\tf\\lib\\site-packages\\sklearn\\metrics\\_classification.py:1327: UndefinedMetricWarning: Precision and F-score are ill-defined and being set to 0.0 in labels with no predicted samples. Use `zero_division` parameter to control this behavior.\n",
      "  _warn_prf(average, modifier, msg_start, len(result))\n"
     ]
    }
   ],
   "source": [
    "print(classification_report(y_test,grid_pred))"
   ]
  },
  {
   "cell_type": "markdown",
   "id": "6ba7f0be",
   "metadata": {},
   "source": [
    "Best accuracy we could get is 0,57 after implementing Grid Search.\n",
    "\n",
    "Hyperparameters:\n",
    "- 'C': 7 \n",
    "- 'gamma': 0.3 \n",
    "- 'kernel': 'sigmoid'\n",
    "\n",
    "Features:\n",
    "- 'l5_ravg_ATxG' \n",
    "- 'l5_ravg_HTxpts' \n",
    "- 'avgHTP'\n",
    "- 'avgATP'"
   ]
  },
  {
   "cell_type": "markdown",
   "id": "cbaf79c0",
   "metadata": {},
   "source": [
    "**Season 17/18**"
   ]
  },
  {
   "cell_type": "code",
   "execution_count": 113,
   "id": "0f46b602",
   "metadata": {},
   "outputs": [],
   "source": [
    "X = s1718.drop('FTR',axis=1)\n",
    "y = s1718[['FTR','round']]\n",
    "\n",
    "X_train = X[X['round']==1].drop('round',axis=1)\n",
    "X_test = X[X['round']==2].drop('round',axis=1)\n",
    "\n",
    "y_train = y[y['round']==1].drop('round',axis=1)\n",
    "y_test = y[y['round']==2].drop('round',axis=1)\n",
    "\n",
    "scaled_X_train = scaler.fit_transform(X_train)\n",
    "scaled_X_test = scaler.transform(X_test)"
   ]
  },
  {
   "cell_type": "code",
   "execution_count": 114,
   "id": "f8b7cf02",
   "metadata": {},
   "outputs": [],
   "source": [
    "model.fit(scaled_X_train,y_train.values.ravel())\n",
    "base_pred = model.predict(scaled_X_test)"
   ]
  },
  {
   "cell_type": "code",
   "execution_count": 115,
   "id": "f24b47fd",
   "metadata": {},
   "outputs": [
    {
     "data": {
      "text/plain": [
       "array([[40,  0, 13],\n",
       "       [28,  0, 16],\n",
       "       [46,  0, 47]], dtype=int64)"
      ]
     },
     "execution_count": 115,
     "metadata": {},
     "output_type": "execute_result"
    }
   ],
   "source": [
    "confusion_matrix(y_test,base_pred)"
   ]
  },
  {
   "cell_type": "code",
   "execution_count": 116,
   "id": "68b4d0de",
   "metadata": {
    "scrolled": true
   },
   "outputs": [
    {
     "name": "stdout",
     "output_type": "stream",
     "text": [
      "              precision    recall  f1-score   support\n",
      "\n",
      "           A       0.35      0.75      0.48        53\n",
      "           D       0.00      0.00      0.00        44\n",
      "           H       0.62      0.51      0.56        93\n",
      "\n",
      "    accuracy                           0.46       190\n",
      "   macro avg       0.32      0.42      0.35       190\n",
      "weighted avg       0.40      0.46      0.41       190\n",
      "\n"
     ]
    },
    {
     "name": "stderr",
     "output_type": "stream",
     "text": [
      "C:\\Users\\George\\anaconda3\\envs\\tf\\lib\\site-packages\\sklearn\\metrics\\_classification.py:1327: UndefinedMetricWarning: Precision and F-score are ill-defined and being set to 0.0 in labels with no predicted samples. Use `zero_division` parameter to control this behavior.\n",
      "  _warn_prf(average, modifier, msg_start, len(result))\n",
      "C:\\Users\\George\\anaconda3\\envs\\tf\\lib\\site-packages\\sklearn\\metrics\\_classification.py:1327: UndefinedMetricWarning: Precision and F-score are ill-defined and being set to 0.0 in labels with no predicted samples. Use `zero_division` parameter to control this behavior.\n",
      "  _warn_prf(average, modifier, msg_start, len(result))\n",
      "C:\\Users\\George\\anaconda3\\envs\\tf\\lib\\site-packages\\sklearn\\metrics\\_classification.py:1327: UndefinedMetricWarning: Precision and F-score are ill-defined and being set to 0.0 in labels with no predicted samples. Use `zero_division` parameter to control this behavior.\n",
      "  _warn_prf(average, modifier, msg_start, len(result))\n"
     ]
    }
   ],
   "source": [
    "print(classification_report(y_test,base_pred))"
   ]
  },
  {
   "cell_type": "code",
   "execution_count": 122,
   "id": "dcc4219b",
   "metadata": {},
   "outputs": [
    {
     "name": "stdout",
     "output_type": "stream",
     "text": [
      "Features selected [False False  True  True  True False False False  True  True  True  True\n",
      "  True False  True  True False False  True  True  True  True False False\n",
      " False False  True  True  True  True False False  True False  True False\n",
      " False]\n",
      "Feature ranking [17 15  1  1  1 10  3  5  1  1  1  1  1  7  1  1 18 14  1  1  1  1 13  8\n",
      " 11 16  1  1  1  1  6  4  1  9  1 12  2]\n"
     ]
    }
   ],
   "source": [
    "estimator = SVC(kernel=\"linear\")\n",
    "selector = RFECV(estimator, step=1, scoring='accuracy', cv=5)\n",
    "selector = selector.fit(X, y.drop('round',axis=1).values.ravel())\n",
    "print(\"Features selected\", selector.support_)\n",
    "print(\"Feature ranking\", selector.ranking_)"
   ]
  },
  {
   "cell_type": "code",
   "execution_count": 123,
   "id": "787dab3d",
   "metadata": {},
   "outputs": [
    {
     "data": {
      "text/plain": [
       "['round',\n",
       " 'AVGH',\n",
       " 'AVGD',\n",
       " 'HT_draws',\n",
       " 'AT_draws',\n",
       " 'HT_losses',\n",
       " 'AT_losses',\n",
       " 'l5_ravg_HTST',\n",
       " 'l5_ravg_HTCR',\n",
       " 'l5_ravg_ATCR',\n",
       " 'l5_ravg_HTxG',\n",
       " 'l5_ravg_ATxG',\n",
       " 'l5_ravg_HTxpts',\n",
       " 'l5_ravg_ATxpts',\n",
       " 'l5_htdiff',\n",
       " 'l5_atdiff',\n",
       " 'avgHTP',\n",
       " 'avgATP',\n",
       " 'diff_points',\n",
       " 'diff_MID']"
      ]
     },
     "execution_count": 123,
     "metadata": {},
     "output_type": "execute_result"
    }
   ],
   "source": [
    "featured_columns = pd.DataFrame(selector.support_,\n",
    "                               index = X.columns,\n",
    "                               columns=['is_in'])\n",
    "\n",
    "featured_columns = featured_columns[featured_columns.is_in == True].index.tolist()\n",
    "featured_columns"
   ]
  },
  {
   "cell_type": "code",
   "execution_count": 124,
   "id": "ab4c3834",
   "metadata": {},
   "outputs": [],
   "source": [
    "X = s1718[featured_columns]\n",
    "y = s1718[['FTR','round']]\n",
    "\n",
    "X_train = X[X['round']==1].drop('round',axis=1)\n",
    "X_test = X[X['round']==2].drop('round',axis=1)\n",
    "\n",
    "y_train = y[y['round']==1].drop('round',axis=1)\n",
    "y_test = y[y['round']==2].drop('round',axis=1)\n",
    "\n",
    "scaled_X_train = scaler.fit_transform(X_train)\n",
    "scaled_X_test = scaler.transform(X_test)"
   ]
  },
  {
   "cell_type": "code",
   "execution_count": 125,
   "id": "9034c6d4",
   "metadata": {},
   "outputs": [],
   "source": [
    "model.fit(scaled_X_train,y_train.values.ravel())\n",
    "rfe_pred = model.predict(scaled_X_test)"
   ]
  },
  {
   "cell_type": "code",
   "execution_count": 126,
   "id": "087eb401",
   "metadata": {},
   "outputs": [
    {
     "data": {
      "text/plain": [
       "array([[41,  0, 12],\n",
       "       [19,  0, 25],\n",
       "       [35,  0, 58]], dtype=int64)"
      ]
     },
     "execution_count": 126,
     "metadata": {},
     "output_type": "execute_result"
    }
   ],
   "source": [
    "confusion_matrix(y_test,rfe_pred)"
   ]
  },
  {
   "cell_type": "code",
   "execution_count": 127,
   "id": "b22f9f2b",
   "metadata": {},
   "outputs": [
    {
     "name": "stdout",
     "output_type": "stream",
     "text": [
      "              precision    recall  f1-score   support\n",
      "\n",
      "           A       0.43      0.77      0.55        53\n",
      "           D       0.00      0.00      0.00        44\n",
      "           H       0.61      0.62      0.62        93\n",
      "\n",
      "    accuracy                           0.52       190\n",
      "   macro avg       0.35      0.47      0.39       190\n",
      "weighted avg       0.42      0.52      0.46       190\n",
      "\n"
     ]
    },
    {
     "name": "stderr",
     "output_type": "stream",
     "text": [
      "C:\\Users\\George\\anaconda3\\envs\\tf\\lib\\site-packages\\sklearn\\metrics\\_classification.py:1327: UndefinedMetricWarning: Precision and F-score are ill-defined and being set to 0.0 in labels with no predicted samples. Use `zero_division` parameter to control this behavior.\n",
      "  _warn_prf(average, modifier, msg_start, len(result))\n",
      "C:\\Users\\George\\anaconda3\\envs\\tf\\lib\\site-packages\\sklearn\\metrics\\_classification.py:1327: UndefinedMetricWarning: Precision and F-score are ill-defined and being set to 0.0 in labels with no predicted samples. Use `zero_division` parameter to control this behavior.\n",
      "  _warn_prf(average, modifier, msg_start, len(result))\n",
      "C:\\Users\\George\\anaconda3\\envs\\tf\\lib\\site-packages\\sklearn\\metrics\\_classification.py:1327: UndefinedMetricWarning: Precision and F-score are ill-defined and being set to 0.0 in labels with no predicted samples. Use `zero_division` parameter to control this behavior.\n",
      "  _warn_prf(average, modifier, msg_start, len(result))\n"
     ]
    }
   ],
   "source": [
    "print(classification_report(y_test,rfe_pred))"
   ]
  },
  {
   "cell_type": "code",
   "execution_count": 128,
   "id": "92bb435f",
   "metadata": {},
   "outputs": [],
   "source": [
    "#Define the parameters\n",
    "kernel = ['rbf', 'sigmoid']\n",
    "C = [1,2,3,4,5,6,7,8,9,10]\n",
    "gamma = [0.1,0.15,0.16,0.17,0.18,0.2,0.3,'scale']\n",
    "\n",
    "param_grid = {'kernel': kernel,\n",
    "              'C': C,\n",
    "              'gamma': gamma}\n",
    "\n",
    "#Grid Search\n",
    "grid_model = GridSearchCV(model, param_grid=param_grid, scoring='accuracy')\n",
    "\n",
    "grid_model.fit(scaled_X_train,y_train.values.ravel())\n",
    "grid_pred = grid_model.predict(scaled_X_test)"
   ]
  },
  {
   "cell_type": "code",
   "execution_count": 129,
   "id": "b3744491",
   "metadata": {},
   "outputs": [
    {
     "data": {
      "text/plain": [
       "array([[34,  0, 19],\n",
       "       [18,  0, 26],\n",
       "       [40,  3, 50]], dtype=int64)"
      ]
     },
     "execution_count": 129,
     "metadata": {},
     "output_type": "execute_result"
    }
   ],
   "source": [
    "confusion_matrix(y_test,grid_pred)"
   ]
  },
  {
   "cell_type": "code",
   "execution_count": 130,
   "id": "9f99655c",
   "metadata": {},
   "outputs": [
    {
     "name": "stdout",
     "output_type": "stream",
     "text": [
      "              precision    recall  f1-score   support\n",
      "\n",
      "           A       0.37      0.64      0.47        53\n",
      "           D       0.00      0.00      0.00        44\n",
      "           H       0.53      0.54      0.53        93\n",
      "\n",
      "    accuracy                           0.44       190\n",
      "   macro avg       0.30      0.39      0.33       190\n",
      "weighted avg       0.36      0.44      0.39       190\n",
      "\n"
     ]
    }
   ],
   "source": [
    "print(classification_report(y_test,grid_pred))"
   ]
  },
  {
   "cell_type": "markdown",
   "id": "e31bd7a9",
   "metadata": {},
   "source": [
    "The best accuracy we could get is 0,52 after implementing RFE.\n",
    "\n",
    "Features:\n",
    "- 'AVGH'\n",
    "- 'AVGD'\n",
    "- 'HT_draws'\n",
    "- 'AT_draws'\n",
    "- 'HT_losses'\n",
    "- 'AT_losses'\n",
    "- 'l5_ravg_HTST'\n",
    "- 'l5_ravg_HTCR'\n",
    "- 'l5_ravg_ATCR'\n",
    "- 'l5_ravg_HTxG'\n",
    "- 'l5_ravg_ATxG'\n",
    "- 'l5_ravg_HTxpts'\n",
    "- 'l5_ravg_ATxpts'\n",
    "- 'l5_htdiff'\n",
    "- 'l5_atdiff'\n",
    "- 'avgHTP'\n",
    "- 'avgATP'\n",
    "- 'diff_points'\n",
    "- 'diff_MID'"
   ]
  },
  {
   "cell_type": "markdown",
   "id": "0f78493e",
   "metadata": {},
   "source": [
    "**Season 18/19**"
   ]
  },
  {
   "cell_type": "code",
   "execution_count": 152,
   "id": "f0d098c9",
   "metadata": {},
   "outputs": [],
   "source": [
    "X = s1819.drop('FTR',axis=1)\n",
    "y = s1819[['FTR','round']]\n",
    "\n",
    "X_train = X[X['round']==1].drop('round',axis=1)\n",
    "X_test = X[X['round']==2].drop('round',axis=1)\n",
    "\n",
    "y_train = y[y['round']==1].drop('round',axis=1)\n",
    "y_test = y[y['round']==2].drop('round',axis=1)\n",
    "\n",
    "scaled_X_train = scaler.fit_transform(X_train)\n",
    "scaled_X_test = scaler.transform(X_test)"
   ]
  },
  {
   "cell_type": "code",
   "execution_count": 153,
   "id": "645a30da",
   "metadata": {},
   "outputs": [],
   "source": [
    "model.fit(scaled_X_train,y_train.values.ravel())\n",
    "base_pred = model.predict(scaled_X_test)"
   ]
  },
  {
   "cell_type": "code",
   "execution_count": 154,
   "id": "916e221e",
   "metadata": {},
   "outputs": [
    {
     "data": {
      "text/plain": [
       "array([[ 3,  1, 46],\n",
       "       [ 0,  4, 44],\n",
       "       [ 0,  5, 87]], dtype=int64)"
      ]
     },
     "execution_count": 154,
     "metadata": {},
     "output_type": "execute_result"
    }
   ],
   "source": [
    "confusion_matrix(y_test,base_pred)"
   ]
  },
  {
   "cell_type": "code",
   "execution_count": 135,
   "id": "6d797e2d",
   "metadata": {},
   "outputs": [
    {
     "name": "stdout",
     "output_type": "stream",
     "text": [
      "              precision    recall  f1-score   support\n",
      "\n",
      "           A       1.00      0.06      0.11        50\n",
      "           D       0.40      0.08      0.14        48\n",
      "           H       0.49      0.95      0.65        92\n",
      "\n",
      "    accuracy                           0.49       190\n",
      "   macro avg       0.63      0.36      0.30       190\n",
      "weighted avg       0.60      0.49      0.38       190\n",
      "\n"
     ]
    }
   ],
   "source": [
    "print(classification_report(y_test,base_pred))"
   ]
  },
  {
   "cell_type": "code",
   "execution_count": 139,
   "id": "990867d4",
   "metadata": {},
   "outputs": [
    {
     "name": "stdout",
     "output_type": "stream",
     "text": [
      "Features selected [False False  True  True  True False False False False False False False\n",
      " False False False  True False False  True  True  True  True False False\n",
      " False False False False  True False False False False False  True False\n",
      "  True]\n",
      "Feature ranking [27 26  1  1  1 15 11 10  6  5  8  7 16 20  3  1 21 24  1  1  1  1 23 14\n",
      " 22 25 12  2  1  4 13 18  9 19  1 17  1]\n"
     ]
    }
   ],
   "source": [
    "estimator = SVC(kernel=\"linear\")\n",
    "selector = RFECV(estimator, step=1, scoring='accuracy', cv=3)\n",
    "selector = selector.fit(X, y.drop('round',axis=1).values.ravel())\n",
    "print(\"Features selected\", selector.support_)\n",
    "print(\"Feature ranking\", selector.ranking_)"
   ]
  },
  {
   "cell_type": "code",
   "execution_count": 140,
   "id": "66a8c462",
   "metadata": {},
   "outputs": [
    {
     "data": {
      "text/plain": [
       "['round',\n",
       " 'AVGH',\n",
       " 'AVGD',\n",
       " 'l5_ravg_ATCR',\n",
       " 'l5_ravg_HTxG',\n",
       " 'l5_ravg_ATxG',\n",
       " 'l5_ravg_HTxpts',\n",
       " 'l5_ravg_ATxpts',\n",
       " 'avgHTP',\n",
       " 'diff_MID',\n",
       " 'diff_OVA']"
      ]
     },
     "execution_count": 140,
     "metadata": {},
     "output_type": "execute_result"
    }
   ],
   "source": [
    "featured_columns = pd.DataFrame(selector.support_,\n",
    "                               index = X.columns,\n",
    "                               columns=['is_in'])\n",
    "\n",
    "featured_columns = featured_columns[featured_columns.is_in == True].index.tolist()\n",
    "featured_columns"
   ]
  },
  {
   "cell_type": "code",
   "execution_count": 141,
   "id": "e1fc20b6",
   "metadata": {},
   "outputs": [],
   "source": [
    "X = s1819[featured_columns]\n",
    "y = s1819[['FTR','round']]\n",
    "\n",
    "X_train = X[X['round']==1].drop('round',axis=1)\n",
    "X_test = X[X['round']==2].drop('round',axis=1)\n",
    "\n",
    "y_train = y[y['round']==1].drop('round',axis=1)\n",
    "y_test = y[y['round']==2].drop('round',axis=1)\n",
    "\n",
    "scaled_X_train = scaler.fit_transform(X_train)\n",
    "scaled_X_test = scaler.transform(X_test)"
   ]
  },
  {
   "cell_type": "code",
   "execution_count": 143,
   "id": "aa759e6f",
   "metadata": {},
   "outputs": [],
   "source": [
    "model.fit(scaled_X_train,y_train.values.ravel())\n",
    "rfe_pred = model.predict(scaled_X_test)"
   ]
  },
  {
   "cell_type": "code",
   "execution_count": 144,
   "id": "6a1f27f4",
   "metadata": {},
   "outputs": [
    {
     "data": {
      "text/plain": [
       "array([[ 4, 30, 16],\n",
       "       [ 1, 25, 22],\n",
       "       [ 1, 42, 49]], dtype=int64)"
      ]
     },
     "execution_count": 144,
     "metadata": {},
     "output_type": "execute_result"
    }
   ],
   "source": [
    "confusion_matrix(y_test,rfe_pred)"
   ]
  },
  {
   "cell_type": "code",
   "execution_count": 145,
   "id": "acb96d3e",
   "metadata": {},
   "outputs": [
    {
     "name": "stdout",
     "output_type": "stream",
     "text": [
      "              precision    recall  f1-score   support\n",
      "\n",
      "           A       0.67      0.08      0.14        50\n",
      "           D       0.26      0.52      0.34        48\n",
      "           H       0.56      0.53      0.55        92\n",
      "\n",
      "    accuracy                           0.41       190\n",
      "   macro avg       0.50      0.38      0.35       190\n",
      "weighted avg       0.51      0.41      0.39       190\n",
      "\n"
     ]
    }
   ],
   "source": [
    "print(classification_report(y_test,rfe_pred))"
   ]
  },
  {
   "cell_type": "code",
   "execution_count": 155,
   "id": "41e12d4c",
   "metadata": {},
   "outputs": [],
   "source": [
    "#Define the parameters\n",
    "kernel = ['linear','rbf', 'sigmoid']\n",
    "C = [1,2,3,4,5,6,7,8,9,10]\n",
    "gamma = [0.1,0.15,0.16,0.17,0.18,0.2,0.3,'scale']\n",
    "\n",
    "param_grid = {'kernel': kernel,\n",
    "              'C': C,\n",
    "              'gamma': gamma}\n",
    "\n",
    "#Grid Search\n",
    "grid_model = GridSearchCV(model, param_grid=param_grid, scoring='accuracy')\n",
    "\n",
    "grid_model.fit(scaled_X_train,y_train.values.ravel())\n",
    "grid_pred = grid_model.predict(scaled_X_test)"
   ]
  },
  {
   "cell_type": "code",
   "execution_count": 156,
   "id": "9b5d7087",
   "metadata": {},
   "outputs": [
    {
     "data": {
      "text/plain": [
       "{'C': 1, 'gamma': 0.3, 'kernel': 'rbf'}"
      ]
     },
     "execution_count": 156,
     "metadata": {},
     "output_type": "execute_result"
    }
   ],
   "source": [
    "grid_model.best_params_"
   ]
  },
  {
   "cell_type": "code",
   "execution_count": 157,
   "id": "8f0ea410",
   "metadata": {},
   "outputs": [
    {
     "data": {
      "text/plain": [
       "array([[ 4, 12, 34],\n",
       "       [ 1,  6, 41],\n",
       "       [ 0,  9, 83]], dtype=int64)"
      ]
     },
     "execution_count": 157,
     "metadata": {},
     "output_type": "execute_result"
    }
   ],
   "source": [
    "confusion_matrix(y_test,grid_pred)"
   ]
  },
  {
   "cell_type": "code",
   "execution_count": 158,
   "id": "1c43a3e1",
   "metadata": {},
   "outputs": [
    {
     "name": "stdout",
     "output_type": "stream",
     "text": [
      "              precision    recall  f1-score   support\n",
      "\n",
      "           A       0.80      0.08      0.15        50\n",
      "           D       0.22      0.12      0.16        48\n",
      "           H       0.53      0.90      0.66        92\n",
      "\n",
      "    accuracy                           0.49       190\n",
      "   macro avg       0.52      0.37      0.32       190\n",
      "weighted avg       0.52      0.49      0.40       190\n",
      "\n"
     ]
    }
   ],
   "source": [
    "print(classification_report(y_test,grid_pred))"
   ]
  },
  {
   "cell_type": "markdown",
   "id": "b27566da",
   "metadata": {},
   "source": [
    "The best accuracy we could get is 0,49 after implementing GridSearchCV.\n",
    "\n",
    "Hyperparameters:\n",
    "- 'C': 1\n",
    "- 'gamma': 0.3 \n",
    "- 'kernel': 'rbf'"
   ]
  },
  {
   "cell_type": "markdown",
   "id": "51769fc3",
   "metadata": {},
   "source": [
    "**Season 19/20**"
   ]
  },
  {
   "cell_type": "code",
   "execution_count": 159,
   "id": "e33c29d0",
   "metadata": {},
   "outputs": [],
   "source": [
    "X = s1920.drop('FTR',axis=1)\n",
    "y = s1920[['FTR','round']]\n",
    "\n",
    "X_train = X[X['round']==1].drop('round',axis=1)\n",
    "X_test = X[X['round']==2].drop('round',axis=1)\n",
    "\n",
    "y_train = y[y['round']==1].drop('round',axis=1)\n",
    "y_test = y[y['round']==2].drop('round',axis=1)\n",
    "\n",
    "scaled_X_train = scaler.fit_transform(X_train)\n",
    "scaled_X_test = scaler.transform(X_test)"
   ]
  },
  {
   "cell_type": "code",
   "execution_count": 161,
   "id": "cbb21608",
   "metadata": {},
   "outputs": [],
   "source": [
    "model.fit(scaled_X_train,y_train.values.ravel())\n",
    "base_pred = model.predict(scaled_X_test)"
   ]
  },
  {
   "cell_type": "code",
   "execution_count": 162,
   "id": "caf137f4",
   "metadata": {},
   "outputs": [
    {
     "data": {
      "text/plain": [
       "array([[ 1, 24, 27],\n",
       "       [ 0, 19, 31],\n",
       "       [ 3, 33, 52]], dtype=int64)"
      ]
     },
     "execution_count": 162,
     "metadata": {},
     "output_type": "execute_result"
    }
   ],
   "source": [
    "confusion_matrix(y_test,base_pred)"
   ]
  },
  {
   "cell_type": "code",
   "execution_count": 163,
   "id": "37511d57",
   "metadata": {},
   "outputs": [
    {
     "name": "stdout",
     "output_type": "stream",
     "text": [
      "              precision    recall  f1-score   support\n",
      "\n",
      "           A       0.25      0.02      0.04        52\n",
      "           D       0.25      0.38      0.30        50\n",
      "           H       0.47      0.59      0.53        88\n",
      "\n",
      "    accuracy                           0.38       190\n",
      "   macro avg       0.32      0.33      0.29       190\n",
      "weighted avg       0.35      0.38      0.33       190\n",
      "\n"
     ]
    }
   ],
   "source": [
    "print(classification_report(y_test,base_pred))"
   ]
  },
  {
   "cell_type": "code",
   "execution_count": 166,
   "id": "10668dac",
   "metadata": {},
   "outputs": [
    {
     "name": "stdout",
     "output_type": "stream",
     "text": [
      "Features selected [False False False  True  True False False False False False False False\n",
      " False False  True False False False  True  True False  True False False\n",
      " False False  True False  True  True False False False False False False\n",
      " False]\n",
      "Feature ranking [28 29  8  1  1  2 10  9 12 19 20 13  6  4  1  3 21 16  1  1  5  1 25 26\n",
      " 27 22  1  7  1  1 11 24 23 14 18 17 15]\n"
     ]
    }
   ],
   "source": [
    "estimator = SVC(kernel=\"linear\")\n",
    "selector = RFECV(estimator, step=1, scoring='accuracy', cv=5)\n",
    "selector = selector.fit(X, y.drop('round',axis=1).values.ravel())\n",
    "print(\"Features selected\", selector.support_)\n",
    "print(\"Feature ranking\", selector.ranking_)"
   ]
  },
  {
   "cell_type": "code",
   "execution_count": 167,
   "id": "309ff9fa",
   "metadata": {},
   "outputs": [
    {
     "data": {
      "text/plain": [
       "['AVGH',\n",
       " 'AVGD',\n",
       " 'l5_ravg_HTCR',\n",
       " 'l5_ravg_HTxG',\n",
       " 'l5_ravg_ATxG',\n",
       " 'l5_ravg_ATxpts',\n",
       " 'l5_htdiff',\n",
       " 'avgHTP',\n",
       " 'avgATP']"
      ]
     },
     "execution_count": 167,
     "metadata": {},
     "output_type": "execute_result"
    }
   ],
   "source": [
    "featured_columns = pd.DataFrame(selector.support_,\n",
    "                               index = X.columns,\n",
    "                               columns=['is_in'])\n",
    "\n",
    "featured_columns = featured_columns[featured_columns.is_in == True].index.tolist()\n",
    "featured_columns"
   ]
  },
  {
   "cell_type": "code",
   "execution_count": 168,
   "id": "612f3fc4",
   "metadata": {},
   "outputs": [],
   "source": [
    "X = pd.concat([s1920[featured_columns],s1920['round']],axis=1)\n",
    "y = s1920[['FTR','round']]\n",
    "\n",
    "X_train = X[X['round']==1].drop('round',axis=1)\n",
    "X_test = X[X['round']==2].drop('round',axis=1)\n",
    "\n",
    "y_train = y[y['round']==1].drop('round',axis=1)\n",
    "y_test = y[y['round']==2].drop('round',axis=1)\n",
    "\n",
    "scaled_X_train = scaler.fit_transform(X_train)\n",
    "scaled_X_test = scaler.transform(X_test)"
   ]
  },
  {
   "cell_type": "code",
   "execution_count": 169,
   "id": "77eda89c",
   "metadata": {},
   "outputs": [],
   "source": [
    "model.fit(scaled_X_train,y_train.values.ravel())\n",
    "rfe_pred = model.predict(scaled_X_test)"
   ]
  },
  {
   "cell_type": "code",
   "execution_count": 170,
   "id": "c707795e",
   "metadata": {},
   "outputs": [
    {
     "data": {
      "text/plain": [
       "array([[16,  1, 35],\n",
       "       [ 8,  1, 41],\n",
       "       [ 9,  1, 78]], dtype=int64)"
      ]
     },
     "execution_count": 170,
     "metadata": {},
     "output_type": "execute_result"
    }
   ],
   "source": [
    "confusion_matrix(y_test,rfe_pred)"
   ]
  },
  {
   "cell_type": "code",
   "execution_count": 171,
   "id": "e9a5c6b8",
   "metadata": {},
   "outputs": [
    {
     "name": "stdout",
     "output_type": "stream",
     "text": [
      "              precision    recall  f1-score   support\n",
      "\n",
      "           A       0.48      0.31      0.38        52\n",
      "           D       0.33      0.02      0.04        50\n",
      "           H       0.51      0.89      0.64        88\n",
      "\n",
      "    accuracy                           0.50       190\n",
      "   macro avg       0.44      0.40      0.35       190\n",
      "weighted avg       0.46      0.50      0.41       190\n",
      "\n"
     ]
    }
   ],
   "source": [
    "print(classification_report(y_test,rfe_pred))"
   ]
  },
  {
   "cell_type": "code",
   "execution_count": 172,
   "id": "6c703264",
   "metadata": {},
   "outputs": [],
   "source": [
    "#Define the parameters\n",
    "kernel = ['linear','rbf', 'sigmoid']\n",
    "C = [1,2,3,4,5,6,7,8,9,10]\n",
    "gamma = [0.1,0.15,0.16,0.17,0.18,0.2,0.3,'scale']\n",
    "\n",
    "param_grid = {'kernel': kernel,\n",
    "              'C': C,\n",
    "              'gamma': gamma}\n",
    "\n",
    "#Grid Search\n",
    "grid_model = GridSearchCV(model, param_grid=param_grid, scoring='accuracy')\n",
    "\n",
    "grid_model.fit(scaled_X_train,y_train.values.ravel())\n",
    "grid_pred = grid_model.predict(scaled_X_test)"
   ]
  },
  {
   "cell_type": "code",
   "execution_count": 175,
   "id": "39d74ef4",
   "metadata": {},
   "outputs": [
    {
     "data": {
      "text/plain": [
       "{'C': 6, 'gamma': 0.17, 'kernel': 'sigmoid'}"
      ]
     },
     "execution_count": 175,
     "metadata": {},
     "output_type": "execute_result"
    }
   ],
   "source": [
    "grid_model.best_params_"
   ]
  },
  {
   "cell_type": "code",
   "execution_count": 173,
   "id": "160d5781",
   "metadata": {},
   "outputs": [
    {
     "data": {
      "text/plain": [
       "array([[15,  0, 37],\n",
       "       [ 4,  0, 46],\n",
       "       [ 5,  0, 83]], dtype=int64)"
      ]
     },
     "execution_count": 173,
     "metadata": {},
     "output_type": "execute_result"
    }
   ],
   "source": [
    "confusion_matrix(y_test,grid_pred)"
   ]
  },
  {
   "cell_type": "code",
   "execution_count": 174,
   "id": "f59f03d9",
   "metadata": {},
   "outputs": [
    {
     "name": "stdout",
     "output_type": "stream",
     "text": [
      "              precision    recall  f1-score   support\n",
      "\n",
      "           A       0.62      0.29      0.39        52\n",
      "           D       0.00      0.00      0.00        50\n",
      "           H       0.50      0.94      0.65        88\n",
      "\n",
      "    accuracy                           0.52       190\n",
      "   macro avg       0.38      0.41      0.35       190\n",
      "weighted avg       0.40      0.52      0.41       190\n",
      "\n"
     ]
    },
    {
     "name": "stderr",
     "output_type": "stream",
     "text": [
      "C:\\Users\\George\\anaconda3\\envs\\tf\\lib\\site-packages\\sklearn\\metrics\\_classification.py:1327: UndefinedMetricWarning: Precision and F-score are ill-defined and being set to 0.0 in labels with no predicted samples. Use `zero_division` parameter to control this behavior.\n",
      "  _warn_prf(average, modifier, msg_start, len(result))\n",
      "C:\\Users\\George\\anaconda3\\envs\\tf\\lib\\site-packages\\sklearn\\metrics\\_classification.py:1327: UndefinedMetricWarning: Precision and F-score are ill-defined and being set to 0.0 in labels with no predicted samples. Use `zero_division` parameter to control this behavior.\n",
      "  _warn_prf(average, modifier, msg_start, len(result))\n",
      "C:\\Users\\George\\anaconda3\\envs\\tf\\lib\\site-packages\\sklearn\\metrics\\_classification.py:1327: UndefinedMetricWarning: Precision and F-score are ill-defined and being set to 0.0 in labels with no predicted samples. Use `zero_division` parameter to control this behavior.\n",
      "  _warn_prf(average, modifier, msg_start, len(result))\n"
     ]
    }
   ],
   "source": [
    "print(classification_report(y_test,grid_pred))"
   ]
  },
  {
   "cell_type": "markdown",
   "id": "d7039c99",
   "metadata": {},
   "source": [
    "The best accuracy we could get is 0,52 after Grid Search.\n",
    "\n",
    "Hyperparameters:\n",
    "- 'C': 6\n",
    "- 'gamma': 0.17\n",
    "- 'kernel': 'sigmoid'\n",
    "\n",
    "Features:\n",
    "- 'AVGH'\n",
    "- 'AVGD'\n",
    "- 'l5_ravg_HTCR'\n",
    "- 'l5_ravg_HTxG'\n",
    "- 'l5_ravg_ATxG'\n",
    "- 'l5_ravg_ATxpts'\n",
    "- 'l5_htdiff'\n",
    "- 'avgHTP'\n",
    "- 'avgATP'\n"
   ]
  },
  {
   "cell_type": "markdown",
   "id": "cd5bc7e8",
   "metadata": {},
   "source": [
    "**Bundesliga**"
   ]
  },
  {
   "cell_type": "code",
   "execution_count": 13,
   "id": "ad5268fc",
   "metadata": {},
   "outputs": [],
   "source": [
    "df = pd.read_csv(r\"C:\\Users\\George\\Desktop\\football-match-prediction-using-ml-techniques\\fe\\bundesliga.csv\")"
   ]
  },
  {
   "cell_type": "code",
   "execution_count": 14,
   "id": "3843cc2b",
   "metadata": {},
   "outputs": [],
   "source": [
    "team_id = {'Bayern Munich':1, 'Dortmund':2, 'Ein Frankfurt':3, 'FC Koln':4,\n",
    "           'Hannover':5, 'Hertha':6, 'Hoffenheim':7, \"M'gladbach\":8, 'Paderborn':9,\n",
    "           'Augsburg':10, 'Hamburg':11, 'Leverkusen':12, 'Schalke 04':13, 'Stuttgart':14,\n",
    "           'Werder Bremen':15, 'Wolfsburg':16, 'Freiburg':17, 'Mainz':18, 'Darmstadt':19,\n",
    "           'Ingolstadt':20, 'RB Leipzig':21, 'Fortuna Dusseldorf':22, 'Nurnberg':23,\n",
    "           'Union Berlin':24}\n",
    "\n",
    "for key,value in df.iteritems():\n",
    "    df['HomeTeam'] = df['HomeTeam'].apply(lambda x: team_id.get(x,x))\n",
    "    \n",
    "for key,value in df.iteritems():\n",
    "    df['AwayTeam'] = df['AwayTeam'].apply(lambda x: team_id.get(x,x))"
   ]
  },
  {
   "cell_type": "code",
   "execution_count": 15,
   "id": "d1a76266",
   "metadata": {},
   "outputs": [],
   "source": [
    "#We are dropping the starts that are not available to us before the game \n",
    "df = df.drop(['Unnamed: 0', 'Date','FTHG', 'FTAG', 'HTHG','HTAG','league', 'Hppda_coef', 'Appda_coef','HTW', 'HTD',\n",
    "              'HTCR', 'ATCR','HTGS','HTxpts', 'ATxpts','ATGS', 'HTGC', 'ATGC','HTOVA_S', 'HTatt_S', 'HomeTeamPoints','AwayTeamPoints',\n",
    "              'HTmid_S','HTdef_S', 'ATOVA_S', 'ATatt_S','ATmid_S','ATdef_S','l5_ravg_HTgs', 'l5_ravg_ATgs','l5_ravg_HTgc', 'l5_ravg_ATgc',\n",
    "              'HTL', 'ATL', 'ATD', 'ATW'],axis=1)\n",
    "\n",
    "df = df.dropna()"
   ]
  },
  {
   "cell_type": "code",
   "execution_count": 16,
   "id": "432aea20",
   "metadata": {},
   "outputs": [],
   "source": [
    "s1415 = df[df['season']=='2014/2015'].drop('season',axis=1)\n",
    "s1516 = df[df['season']=='2015/2016'].drop('season',axis=1)\n",
    "s1617 = df[df['season']=='2016/2017'].drop('season',axis=1)\n",
    "s1718 = df[df['season']=='2017/2018'].drop('season',axis=1)\n",
    "s1819 = df[df['season']=='2018/2019'].drop('season',axis=1)\n",
    "s1920 = df[df['season']=='2019/2020'].drop('season',axis=1)"
   ]
  },
  {
   "cell_type": "markdown",
   "id": "d4d0e8c5",
   "metadata": {},
   "source": [
    "**Season 14/15**"
   ]
  },
  {
   "cell_type": "code",
   "execution_count": 205,
   "id": "3aa5e881",
   "metadata": {},
   "outputs": [],
   "source": [
    "X = s1415.drop('FTR',axis=1)\n",
    "y = s1415[['FTR','round']]\n",
    "\n",
    "X_train = X[X['round']==1].drop('round',axis=1)\n",
    "X_test = X[X['round']==2].drop('round',axis=1)\n",
    "\n",
    "y_train = y[y['round']==1].drop('round',axis=1)\n",
    "y_test = y[y['round']==2].drop('round',axis=1)\n",
    "\n",
    "scaled_X_train = scaler.fit_transform(X_train)\n",
    "scaled_X_test = scaler.transform(X_test)"
   ]
  },
  {
   "cell_type": "code",
   "execution_count": 206,
   "id": "bbd0e4e7",
   "metadata": {},
   "outputs": [],
   "source": [
    "model.fit(scaled_X_train,y_train.values.ravel())\n",
    "base_pred = model.predict(scaled_X_test)"
   ]
  },
  {
   "cell_type": "code",
   "execution_count": 207,
   "id": "5dd23af1",
   "metadata": {},
   "outputs": [
    {
     "data": {
      "text/plain": [
       "array([[ 4,  2, 34],\n",
       "       [ 0,  2, 37],\n",
       "       [ 1,  3, 70]], dtype=int64)"
      ]
     },
     "execution_count": 207,
     "metadata": {},
     "output_type": "execute_result"
    }
   ],
   "source": [
    "confusion_matrix(y_test,base_pred)"
   ]
  },
  {
   "cell_type": "code",
   "execution_count": 195,
   "id": "ee59f48c",
   "metadata": {},
   "outputs": [
    {
     "name": "stdout",
     "output_type": "stream",
     "text": [
      "              precision    recall  f1-score   support\n",
      "\n",
      "           A       0.80      0.10      0.18        40\n",
      "           D       0.29      0.05      0.09        39\n",
      "           H       0.50      0.95      0.65        74\n",
      "\n",
      "    accuracy                           0.50       153\n",
      "   macro avg       0.53      0.37      0.31       153\n",
      "weighted avg       0.52      0.50      0.38       153\n",
      "\n"
     ]
    }
   ],
   "source": [
    "print(classification_report(y_test,base_pred))"
   ]
  },
  {
   "cell_type": "code",
   "execution_count": 196,
   "id": "4da51c01",
   "metadata": {},
   "outputs": [
    {
     "name": "stdout",
     "output_type": "stream",
     "text": [
      "Features selected [False False  True  True False False False False False False False False\n",
      " False  True  True  True False False False  True  True False False  True\n",
      " False False  True False  True  True False False False False False False\n",
      " False]\n",
      "Feature ranking [27 26  1  1  8  9 10 20 18 23 17 11  7  1  1  1 16 13  5  1  1 14  6  1\n",
      " 22 25  1 15  1  1 19 24 12 21  4  2  3]\n"
     ]
    }
   ],
   "source": [
    "estimator = SVC(kernel=\"linear\")\n",
    "selector = RFECV(estimator, step=1, scoring='accuracy', cv=3)\n",
    "selector = selector.fit(X, y.drop('round',axis=1).values.ravel())\n",
    "print(\"Features selected\", selector.support_)\n",
    "print(\"Feature ranking\", selector.ranking_)"
   ]
  },
  {
   "cell_type": "code",
   "execution_count": 197,
   "id": "587261fd",
   "metadata": {},
   "outputs": [
    {
     "data": {
      "text/plain": [
       "['round',\n",
       " 'AVGH',\n",
       " 'l5_ravg_ATST',\n",
       " 'l5_ravg_HTCR',\n",
       " 'l5_ravg_ATCR',\n",
       " 'l5_ravg_ATxG',\n",
       " 'l5_ravg_HTxpts',\n",
       " 'l5_ravg_ATdeep',\n",
       " 'l5_htdiff',\n",
       " 'avgHTP',\n",
       " 'avgATP']"
      ]
     },
     "execution_count": 197,
     "metadata": {},
     "output_type": "execute_result"
    }
   ],
   "source": [
    "featured_columns = pd.DataFrame(selector.support_,\n",
    "                               index = X.columns,\n",
    "                               columns=['is_in'])\n",
    "\n",
    "featured_columns = featured_columns[featured_columns.is_in == True].index.tolist()\n",
    "featured_columns"
   ]
  },
  {
   "cell_type": "code",
   "execution_count": 198,
   "id": "7e8aef86",
   "metadata": {},
   "outputs": [],
   "source": [
    "X = s1415[featured_columns]\n",
    "y = s1415[['FTR','round']]\n",
    "\n",
    "X_train = X[X['round']==1].drop('round',axis=1)\n",
    "X_test = X[X['round']==2].drop('round',axis=1)\n",
    "\n",
    "y_train = y[y['round']==1].drop('round',axis=1)\n",
    "y_test = y[y['round']==2].drop('round',axis=1)\n",
    "\n",
    "scaled_X_train = scaler.fit_transform(X_train)\n",
    "scaled_X_test = scaler.transform(X_test)"
   ]
  },
  {
   "cell_type": "code",
   "execution_count": 199,
   "id": "d0513db3",
   "metadata": {},
   "outputs": [],
   "source": [
    "model.fit(scaled_X_train,y_train.values.ravel())\n",
    "rfe_pred = model.predict(scaled_X_test)"
   ]
  },
  {
   "cell_type": "code",
   "execution_count": 200,
   "id": "19874f8e",
   "metadata": {},
   "outputs": [
    {
     "data": {
      "text/plain": [
       "array([[ 4,  0, 36],\n",
       "       [ 2,  0, 37],\n",
       "       [ 9,  0, 65]], dtype=int64)"
      ]
     },
     "execution_count": 200,
     "metadata": {},
     "output_type": "execute_result"
    }
   ],
   "source": [
    "confusion_matrix(y_test,rfe_pred)"
   ]
  },
  {
   "cell_type": "code",
   "execution_count": 201,
   "id": "58c908b9",
   "metadata": {},
   "outputs": [
    {
     "name": "stdout",
     "output_type": "stream",
     "text": [
      "              precision    recall  f1-score   support\n",
      "\n",
      "           A       0.27      0.10      0.15        40\n",
      "           D       0.00      0.00      0.00        39\n",
      "           H       0.47      0.88      0.61        74\n",
      "\n",
      "    accuracy                           0.45       153\n",
      "   macro avg       0.25      0.33      0.25       153\n",
      "weighted avg       0.30      0.45      0.33       153\n",
      "\n"
     ]
    },
    {
     "name": "stderr",
     "output_type": "stream",
     "text": [
      "C:\\Users\\George\\anaconda3\\envs\\tf\\lib\\site-packages\\sklearn\\metrics\\_classification.py:1327: UndefinedMetricWarning: Precision and F-score are ill-defined and being set to 0.0 in labels with no predicted samples. Use `zero_division` parameter to control this behavior.\n",
      "  _warn_prf(average, modifier, msg_start, len(result))\n",
      "C:\\Users\\George\\anaconda3\\envs\\tf\\lib\\site-packages\\sklearn\\metrics\\_classification.py:1327: UndefinedMetricWarning: Precision and F-score are ill-defined and being set to 0.0 in labels with no predicted samples. Use `zero_division` parameter to control this behavior.\n",
      "  _warn_prf(average, modifier, msg_start, len(result))\n",
      "C:\\Users\\George\\anaconda3\\envs\\tf\\lib\\site-packages\\sklearn\\metrics\\_classification.py:1327: UndefinedMetricWarning: Precision and F-score are ill-defined and being set to 0.0 in labels with no predicted samples. Use `zero_division` parameter to control this behavior.\n",
      "  _warn_prf(average, modifier, msg_start, len(result))\n"
     ]
    }
   ],
   "source": [
    "print(classification_report(y_test,rfe_pred))"
   ]
  },
  {
   "cell_type": "code",
   "execution_count": 208,
   "id": "7ae966fe",
   "metadata": {},
   "outputs": [],
   "source": [
    "#Define the parameters\n",
    "kernel = ['linear','rbf', 'sigmoid']\n",
    "C = [1,2,3,4,5,6,7,8,9,10]\n",
    "gamma = [0.1,0.15,0.16,0.17,0.18,0.2,0.3,'scale']\n",
    "\n",
    "param_grid = {'kernel': kernel,\n",
    "              'C': C,\n",
    "              'gamma': gamma}\n",
    "\n",
    "#Grid Search\n",
    "grid_model = GridSearchCV(model, param_grid=param_grid, scoring='accuracy')\n",
    "\n",
    "grid_model.fit(scaled_X_train,y_train.values.ravel())\n",
    "grid_pred = grid_model.predict(scaled_X_test)"
   ]
  },
  {
   "cell_type": "code",
   "execution_count": 211,
   "id": "43b2402d",
   "metadata": {},
   "outputs": [
    {
     "data": {
      "text/plain": [
       "{'C': 1, 'gamma': 0.1, 'kernel': 'rbf'}"
      ]
     },
     "execution_count": 211,
     "metadata": {},
     "output_type": "execute_result"
    }
   ],
   "source": [
    "grid_model.best_params_"
   ]
  },
  {
   "cell_type": "code",
   "execution_count": 209,
   "id": "994ea6dd",
   "metadata": {},
   "outputs": [
    {
     "data": {
      "text/plain": [
       "array([[11,  0, 29],\n",
       "       [ 4,  0, 35],\n",
       "       [ 6,  0, 68]], dtype=int64)"
      ]
     },
     "execution_count": 209,
     "metadata": {},
     "output_type": "execute_result"
    }
   ],
   "source": [
    "confusion_matrix(y_test,grid_pred)"
   ]
  },
  {
   "cell_type": "code",
   "execution_count": 210,
   "id": "8248ab28",
   "metadata": {
    "scrolled": false
   },
   "outputs": [
    {
     "name": "stdout",
     "output_type": "stream",
     "text": [
      "              precision    recall  f1-score   support\n",
      "\n",
      "           A       0.52      0.28      0.36        40\n",
      "           D       0.00      0.00      0.00        39\n",
      "           H       0.52      0.92      0.66        74\n",
      "\n",
      "    accuracy                           0.52       153\n",
      "   macro avg       0.35      0.40      0.34       153\n",
      "weighted avg       0.39      0.52      0.41       153\n",
      "\n"
     ]
    },
    {
     "name": "stderr",
     "output_type": "stream",
     "text": [
      "C:\\Users\\George\\anaconda3\\envs\\tf\\lib\\site-packages\\sklearn\\metrics\\_classification.py:1327: UndefinedMetricWarning: Precision and F-score are ill-defined and being set to 0.0 in labels with no predicted samples. Use `zero_division` parameter to control this behavior.\n",
      "  _warn_prf(average, modifier, msg_start, len(result))\n",
      "C:\\Users\\George\\anaconda3\\envs\\tf\\lib\\site-packages\\sklearn\\metrics\\_classification.py:1327: UndefinedMetricWarning: Precision and F-score are ill-defined and being set to 0.0 in labels with no predicted samples. Use `zero_division` parameter to control this behavior.\n",
      "  _warn_prf(average, modifier, msg_start, len(result))\n",
      "C:\\Users\\George\\anaconda3\\envs\\tf\\lib\\site-packages\\sklearn\\metrics\\_classification.py:1327: UndefinedMetricWarning: Precision and F-score are ill-defined and being set to 0.0 in labels with no predicted samples. Use `zero_division` parameter to control this behavior.\n",
      "  _warn_prf(average, modifier, msg_start, len(result))\n"
     ]
    }
   ],
   "source": [
    "print(classification_report(y_test,grid_pred))"
   ]
  },
  {
   "cell_type": "markdown",
   "id": "caffdbc5",
   "metadata": {},
   "source": [
    "The best accuracy we could get is 0,52 after implementing Grid Search.\n",
    "\n",
    "Hyperparameters:\n",
    "- 'C': 1\n",
    "- 'gamma': 0.1\n",
    "- 'kernel': 'rbf'"
   ]
  },
  {
   "cell_type": "markdown",
   "id": "9449d087",
   "metadata": {},
   "source": [
    "**Season 15/16**"
   ]
  },
  {
   "cell_type": "code",
   "execution_count": 212,
   "id": "b20aa3d8",
   "metadata": {},
   "outputs": [],
   "source": [
    "X = s1516.drop('FTR',axis=1)\n",
    "y = s1516[['FTR','round']]\n",
    "\n",
    "X_train = X[X['round']==1].drop('round',axis=1)\n",
    "X_test = X[X['round']==2].drop('round',axis=1)\n",
    "\n",
    "y_train = y[y['round']==1].drop('round',axis=1)\n",
    "y_test = y[y['round']==2].drop('round',axis=1)\n",
    "\n",
    "scaled_X_train = scaler.fit_transform(X_train)\n",
    "scaled_X_test = scaler.transform(X_test)"
   ]
  },
  {
   "cell_type": "code",
   "execution_count": 214,
   "id": "8d6fb084",
   "metadata": {},
   "outputs": [],
   "source": [
    "model.fit(scaled_X_train,y_train.values.ravel())\n",
    "base_pred = model.predict(scaled_X_test)"
   ]
  },
  {
   "cell_type": "code",
   "execution_count": 215,
   "id": "999eaf2d",
   "metadata": {},
   "outputs": [
    {
     "data": {
      "text/plain": [
       "array([[ 5,  0, 41],\n",
       "       [ 0,  0, 38],\n",
       "       [ 2,  0, 67]], dtype=int64)"
      ]
     },
     "execution_count": 215,
     "metadata": {},
     "output_type": "execute_result"
    }
   ],
   "source": [
    "confusion_matrix(y_test,base_pred)"
   ]
  },
  {
   "cell_type": "code",
   "execution_count": 216,
   "id": "aa9e0d6a",
   "metadata": {},
   "outputs": [
    {
     "name": "stdout",
     "output_type": "stream",
     "text": [
      "              precision    recall  f1-score   support\n",
      "\n",
      "           A       0.53      0.17      0.26        46\n",
      "           D       0.00      0.00      0.00        38\n",
      "           H       0.48      0.96      0.64        69\n",
      "\n",
      "    accuracy                           0.48       153\n",
      "   macro avg       0.34      0.38      0.30       153\n",
      "weighted avg       0.38      0.48      0.37       153\n",
      "\n"
     ]
    },
    {
     "name": "stderr",
     "output_type": "stream",
     "text": [
      "C:\\Users\\George\\anaconda3\\envs\\tf\\lib\\site-packages\\sklearn\\metrics\\_classification.py:1327: UndefinedMetricWarning: Precision and F-score are ill-defined and being set to 0.0 in labels with no predicted samples. Use `zero_division` parameter to control this behavior.\n",
      "  _warn_prf(average, modifier, msg_start, len(result))\n",
      "C:\\Users\\George\\anaconda3\\envs\\tf\\lib\\site-packages\\sklearn\\metrics\\_classification.py:1327: UndefinedMetricWarning: Precision and F-score are ill-defined and being set to 0.0 in labels with no predicted samples. Use `zero_division` parameter to control this behavior.\n",
      "  _warn_prf(average, modifier, msg_start, len(result))\n",
      "C:\\Users\\George\\anaconda3\\envs\\tf\\lib\\site-packages\\sklearn\\metrics\\_classification.py:1327: UndefinedMetricWarning: Precision and F-score are ill-defined and being set to 0.0 in labels with no predicted samples. Use `zero_division` parameter to control this behavior.\n",
      "  _warn_prf(average, modifier, msg_start, len(result))\n"
     ]
    }
   ],
   "source": [
    "print(classification_report(y_test,rfe_pred))"
   ]
  },
  {
   "cell_type": "code",
   "execution_count": 219,
   "id": "2e0346bf",
   "metadata": {},
   "outputs": [
    {
     "name": "stdout",
     "output_type": "stream",
     "text": [
      "Features selected [False False  True  True False False False False False False False False\n",
      " False False  True  True False False  True  True False  True  True False\n",
      " False False  True  True  True  True False False False False False False\n",
      " False]\n",
      "Feature ranking [26 23  1  1  2 12 14  7 15  4 13 25 11  5  1  1 24 16  1  1  3  1  1 17\n",
      " 21 19  1  1  1  1 20  8 22  6  9 18 10]\n"
     ]
    }
   ],
   "source": [
    "estimator = SVC(kernel=\"linear\")\n",
    "selector = RFECV(estimator, step=1, scoring='accuracy', cv=5)\n",
    "selector = selector.fit(X, y.drop('round',axis=1).values.ravel())\n",
    "print(\"Features selected\", selector.support_)\n",
    "print(\"Feature ranking\", selector.ranking_)"
   ]
  },
  {
   "cell_type": "code",
   "execution_count": 233,
   "id": "1fd13596",
   "metadata": {},
   "outputs": [
    {
     "data": {
      "text/plain": [
       "['round',\n",
       " 'AVGH',\n",
       " 'l5_ravg_HTCR',\n",
       " 'l5_ravg_ATCR',\n",
       " 'l5_ravg_HTxG',\n",
       " 'l5_ravg_ATxG',\n",
       " 'l5_ravg_ATxpts',\n",
       " 'l5_ravg_HTdeep',\n",
       " 'l5_htdiff',\n",
       " 'l5_atdiff',\n",
       " 'avgHTP',\n",
       " 'avgATP']"
      ]
     },
     "execution_count": 233,
     "metadata": {},
     "output_type": "execute_result"
    }
   ],
   "source": [
    "featured_columns = pd.DataFrame(selector.support_,\n",
    "                               index = X.columns,\n",
    "                               columns=['is_in'])\n",
    "\n",
    "featured_columns = featured_columns[featured_columns.is_in == True].index.tolist()\n",
    "featured_columns"
   ]
  },
  {
   "cell_type": "code",
   "execution_count": 221,
   "id": "c7d3f3e8",
   "metadata": {},
   "outputs": [],
   "source": [
    "X = s1516[featured_columns]\n",
    "y = s1516[['FTR','round']]\n",
    "\n",
    "X_train = X[X['round']==1].drop('round',axis=1)\n",
    "X_test = X[X['round']==2].drop('round',axis=1)\n",
    "\n",
    "y_train = y[y['round']==1].drop('round',axis=1)\n",
    "y_test = y[y['round']==2].drop('round',axis=1)\n",
    "\n",
    "scaled_X_train = scaler.fit_transform(X_train)\n",
    "scaled_X_test = scaler.transform(X_test)"
   ]
  },
  {
   "cell_type": "code",
   "execution_count": 222,
   "id": "d8bf64b5",
   "metadata": {},
   "outputs": [],
   "source": [
    "model.fit(scaled_X_train,y_train.values.ravel())\n",
    "rfe_pred = model.predict(scaled_X_test)"
   ]
  },
  {
   "cell_type": "code",
   "execution_count": 223,
   "id": "c72cf824",
   "metadata": {},
   "outputs": [
    {
     "data": {
      "text/plain": [
       "array([[29,  0, 17],\n",
       "       [18,  1, 19],\n",
       "       [23,  1, 45]], dtype=int64)"
      ]
     },
     "execution_count": 223,
     "metadata": {},
     "output_type": "execute_result"
    }
   ],
   "source": [
    "confusion_matrix(y_test,rfe_pred)"
   ]
  },
  {
   "cell_type": "code",
   "execution_count": 224,
   "id": "47dfe50a",
   "metadata": {},
   "outputs": [
    {
     "name": "stdout",
     "output_type": "stream",
     "text": [
      "              precision    recall  f1-score   support\n",
      "\n",
      "           A       0.41      0.63      0.50        46\n",
      "           D       0.50      0.03      0.05        38\n",
      "           H       0.56      0.65      0.60        69\n",
      "\n",
      "    accuracy                           0.49       153\n",
      "   macro avg       0.49      0.44      0.38       153\n",
      "weighted avg       0.50      0.49      0.43       153\n",
      "\n"
     ]
    }
   ],
   "source": [
    "print(classification_report(y_test,rfe_pred))"
   ]
  },
  {
   "cell_type": "code",
   "execution_count": 225,
   "id": "224aaadf",
   "metadata": {},
   "outputs": [],
   "source": [
    "#Define the parameters\n",
    "kernel = ['linear','rbf', 'sigmoid']\n",
    "C = [1,2,3,4,5,6,7,8,9,10]\n",
    "gamma = [0.1,0.15,0.16,0.17,0.18,0.2,0.3,'scale']\n",
    "\n",
    "param_grid = {'kernel': kernel,\n",
    "              'C': C,\n",
    "              'gamma': gamma}\n",
    "\n",
    "#Grid Search\n",
    "grid_model = GridSearchCV(model, param_grid=param_grid, scoring='accuracy')\n",
    "\n",
    "grid_model.fit(scaled_X_train,y_train.values.ravel())\n",
    "grid_pred = grid_model.predict(scaled_X_test)"
   ]
  },
  {
   "cell_type": "code",
   "execution_count": 228,
   "id": "46eec2b9",
   "metadata": {},
   "outputs": [
    {
     "data": {
      "text/plain": [
       "{'C': 6, 'gamma': 0.1, 'kernel': 'linear'}"
      ]
     },
     "execution_count": 228,
     "metadata": {},
     "output_type": "execute_result"
    }
   ],
   "source": [
    "grid_model.best_params_"
   ]
  },
  {
   "cell_type": "code",
   "execution_count": 226,
   "id": "8992f870",
   "metadata": {},
   "outputs": [
    {
     "data": {
      "text/plain": [
       "array([[26,  0, 20],\n",
       "       [13,  0, 25],\n",
       "       [15,  0, 54]], dtype=int64)"
      ]
     },
     "execution_count": 226,
     "metadata": {},
     "output_type": "execute_result"
    }
   ],
   "source": [
    "confusion_matrix(y_test,grid_pred)"
   ]
  },
  {
   "cell_type": "code",
   "execution_count": 227,
   "id": "149e1448",
   "metadata": {},
   "outputs": [
    {
     "name": "stdout",
     "output_type": "stream",
     "text": [
      "              precision    recall  f1-score   support\n",
      "\n",
      "           A       0.48      0.57      0.52        46\n",
      "           D       0.00      0.00      0.00        38\n",
      "           H       0.55      0.78      0.64        69\n",
      "\n",
      "    accuracy                           0.52       153\n",
      "   macro avg       0.34      0.45      0.39       153\n",
      "weighted avg       0.39      0.52      0.45       153\n",
      "\n"
     ]
    },
    {
     "name": "stderr",
     "output_type": "stream",
     "text": [
      "C:\\Users\\George\\anaconda3\\envs\\tf\\lib\\site-packages\\sklearn\\metrics\\_classification.py:1327: UndefinedMetricWarning: Precision and F-score are ill-defined and being set to 0.0 in labels with no predicted samples. Use `zero_division` parameter to control this behavior.\n",
      "  _warn_prf(average, modifier, msg_start, len(result))\n",
      "C:\\Users\\George\\anaconda3\\envs\\tf\\lib\\site-packages\\sklearn\\metrics\\_classification.py:1327: UndefinedMetricWarning: Precision and F-score are ill-defined and being set to 0.0 in labels with no predicted samples. Use `zero_division` parameter to control this behavior.\n",
      "  _warn_prf(average, modifier, msg_start, len(result))\n",
      "C:\\Users\\George\\anaconda3\\envs\\tf\\lib\\site-packages\\sklearn\\metrics\\_classification.py:1327: UndefinedMetricWarning: Precision and F-score are ill-defined and being set to 0.0 in labels with no predicted samples. Use `zero_division` parameter to control this behavior.\n",
      "  _warn_prf(average, modifier, msg_start, len(result))\n"
     ]
    }
   ],
   "source": [
    "print(classification_report(y_test,grid_pred))"
   ]
  },
  {
   "cell_type": "markdown",
   "id": "8883be23",
   "metadata": {},
   "source": [
    "The best accuracy we could get is 0,52 after implementing Grid Search.\n",
    "\n",
    "Hyperparameters:\n",
    "- 'C': 6\n",
    "- 'gamma': 0.1\n",
    "- 'kernel': 'linear'\n",
    "\n",
    "Features:\n",
    "- 'AVGH'\n",
    "- 'l5_ravg_HTCR'\n",
    "- 'l5_ravg_ATCR'\n",
    "- 'l5_ravg_HTxG'\n",
    "- 'l5_ravg_ATxG'\n",
    "- 'l5_ravg_ATxpts'\n",
    "- 'l5_ravg_HTdeep'\n",
    "- 'l5_htdiff'\n",
    "- 'l5_atdiff'\n",
    "- 'avgHTP'\n",
    "- 'avgATP"
   ]
  },
  {
   "cell_type": "markdown",
   "id": "98085418",
   "metadata": {},
   "source": [
    "**Season 16/17**"
   ]
  },
  {
   "cell_type": "code",
   "execution_count": 17,
   "id": "b2eaea9d",
   "metadata": {},
   "outputs": [],
   "source": [
    "X = s1617.drop('FTR',axis=1)\n",
    "y = s1617[['FTR','round']]\n",
    "\n",
    "X_train = X[X['round']==1].drop('round',axis=1)\n",
    "X_test = X[X['round']==2].drop('round',axis=1)\n",
    "\n",
    "y_train = y[y['round']==1].drop('round',axis=1)\n",
    "y_test = y[y['round']==2].drop('round',axis=1)\n",
    "\n",
    "scaled_X_train = scaler.fit_transform(X_train)\n",
    "scaled_X_test = scaler.transform(X_test)"
   ]
  },
  {
   "cell_type": "code",
   "execution_count": 18,
   "id": "dcb40d0e",
   "metadata": {},
   "outputs": [],
   "source": [
    "model.fit(scaled_X_train,y_train.values.ravel())\n",
    "base_pred = model.predict(scaled_X_test)"
   ]
  },
  {
   "cell_type": "code",
   "execution_count": 19,
   "id": "0130cf51",
   "metadata": {},
   "outputs": [
    {
     "data": {
      "text/plain": [
       "array([[ 5,  0, 36],\n",
       "       [ 3,  1, 31],\n",
       "       [ 6,  0, 71]], dtype=int64)"
      ]
     },
     "execution_count": 19,
     "metadata": {},
     "output_type": "execute_result"
    }
   ],
   "source": [
    "confusion_matrix(y_test,base_pred)"
   ]
  },
  {
   "cell_type": "code",
   "execution_count": 20,
   "id": "57269c03",
   "metadata": {},
   "outputs": [
    {
     "name": "stdout",
     "output_type": "stream",
     "text": [
      "              precision    recall  f1-score   support\n",
      "\n",
      "           A       0.36      0.12      0.18        41\n",
      "           D       1.00      0.03      0.06        35\n",
      "           H       0.51      0.92      0.66        77\n",
      "\n",
      "    accuracy                           0.50       153\n",
      "   macro avg       0.62      0.36      0.30       153\n",
      "weighted avg       0.58      0.50      0.39       153\n",
      "\n"
     ]
    }
   ],
   "source": [
    "print(classification_report(y_test,base_pred))"
   ]
  },
  {
   "cell_type": "code",
   "execution_count": 21,
   "id": "dca865cf",
   "metadata": {},
   "outputs": [
    {
     "name": "stdout",
     "output_type": "stream",
     "text": [
      "Features selected [False False False  True  True False False False False False False False\n",
      "  True False  True  True False False  True  True  True False  True False\n",
      " False False  True False False False False False False False False False\n",
      " False]\n",
      "Feature ranking [18 26  4  1  1  5  7 13 10 23 20 22  1 16  1  1 21 28  1  1  1  2  1  9\n",
      " 24 19  1  6  3 17  8 11 12 15 25 27 14]\n"
     ]
    }
   ],
   "source": [
    "estimator = SVC(kernel=\"linear\")\n",
    "selector = RFECV(estimator, step=1, scoring='accuracy', cv=5)\n",
    "selector = selector.fit(X, y.drop('round',axis=1).values.ravel())\n",
    "print(\"Features selected\", selector.support_)\n",
    "print(\"Feature ranking\", selector.ranking_)"
   ]
  },
  {
   "cell_type": "code",
   "execution_count": 22,
   "id": "ec49c2cd",
   "metadata": {},
   "outputs": [
    {
     "data": {
      "text/plain": [
       "['AVGH',\n",
       " 'AVGD',\n",
       " 'l5_ravg_HTST',\n",
       " 'l5_ravg_HTCR',\n",
       " 'l5_ravg_ATCR',\n",
       " 'l5_ravg_HTxG',\n",
       " 'l5_ravg_ATxG',\n",
       " 'l5_ravg_HTxpts',\n",
       " 'l5_ravg_HTdeep',\n",
       " 'l5_htdiff']"
      ]
     },
     "execution_count": 22,
     "metadata": {},
     "output_type": "execute_result"
    }
   ],
   "source": [
    "featured_columns = pd.DataFrame(selector.support_,\n",
    "                               index = X.columns,\n",
    "                               columns=['is_in'])\n",
    "\n",
    "featured_columns = featured_columns[featured_columns.is_in == True].index.tolist()\n",
    "featured_columns"
   ]
  },
  {
   "cell_type": "code",
   "execution_count": 23,
   "id": "b23e046c",
   "metadata": {},
   "outputs": [],
   "source": [
    "X = pd.concat([s1617[featured_columns],s1617['round']],axis=1)\n",
    "y = s1617[['FTR','round']]\n",
    "\n",
    "X_train = X[X['round']==1].drop('round',axis=1)\n",
    "X_test = X[X['round']==2].drop('round',axis=1)\n",
    "\n",
    "y_train = y[y['round']==1].drop('round',axis=1)\n",
    "y_test = y[y['round']==2].drop('round',axis=1)\n",
    "\n",
    "scaled_X_train = scaler.fit_transform(X_train)\n",
    "scaled_X_test = scaler.transform(X_test)"
   ]
  },
  {
   "cell_type": "code",
   "execution_count": 24,
   "id": "ada016eb",
   "metadata": {},
   "outputs": [],
   "source": [
    "model.fit(scaled_X_train,y_train.values.ravel())\n",
    "rfe_pred = model.predict(scaled_X_test)"
   ]
  },
  {
   "cell_type": "code",
   "execution_count": 25,
   "id": "5f629f20",
   "metadata": {},
   "outputs": [
    {
     "data": {
      "text/plain": [
       "array([[ 1,  2, 38],\n",
       "       [ 1,  0, 34],\n",
       "       [ 2,  1, 74]], dtype=int64)"
      ]
     },
     "execution_count": 25,
     "metadata": {},
     "output_type": "execute_result"
    }
   ],
   "source": [
    "confusion_matrix(y_test,rfe_pred)"
   ]
  },
  {
   "cell_type": "code",
   "execution_count": 26,
   "id": "4d29d0d3",
   "metadata": {},
   "outputs": [
    {
     "name": "stdout",
     "output_type": "stream",
     "text": [
      "              precision    recall  f1-score   support\n",
      "\n",
      "           A       0.25      0.02      0.04        41\n",
      "           D       0.00      0.00      0.00        35\n",
      "           H       0.51      0.96      0.66        77\n",
      "\n",
      "    accuracy                           0.49       153\n",
      "   macro avg       0.25      0.33      0.24       153\n",
      "weighted avg       0.32      0.49      0.35       153\n",
      "\n"
     ]
    }
   ],
   "source": [
    "print(classification_report(y_test,rfe_pred))"
   ]
  },
  {
   "cell_type": "code",
   "execution_count": 27,
   "id": "decb260f",
   "metadata": {},
   "outputs": [],
   "source": [
    "#Define the parameters\n",
    "kernel = ['linear','rbf', 'sigmoid']\n",
    "C = [1,2,3,4,5,6,7,8,9,10]\n",
    "gamma = [0.1,0.15,0.16,0.17,0.18,0.2,0.3,'scale']\n",
    "\n",
    "param_grid = {'kernel': kernel,\n",
    "              'C': C,\n",
    "              'gamma': gamma}\n",
    "\n",
    "#Grid Search\n",
    "grid_model = GridSearchCV(model, param_grid=param_grid, scoring='accuracy')\n",
    "\n",
    "grid_model.fit(scaled_X_train,y_train.values.ravel())\n",
    "grid_pred = grid_model.predict(scaled_X_test)"
   ]
  },
  {
   "cell_type": "code",
   "execution_count": 28,
   "id": "b6c95e71",
   "metadata": {},
   "outputs": [
    {
     "data": {
      "text/plain": [
       "{'C': 1, 'gamma': 0.3, 'kernel': 'rbf'}"
      ]
     },
     "execution_count": 28,
     "metadata": {},
     "output_type": "execute_result"
    }
   ],
   "source": [
    "grid_model.best_params_"
   ]
  },
  {
   "cell_type": "code",
   "execution_count": 29,
   "id": "15cbb458",
   "metadata": {},
   "outputs": [
    {
     "data": {
      "text/plain": [
       "array([[ 1,  0, 40],\n",
       "       [ 0,  0, 35],\n",
       "       [ 2,  0, 75]], dtype=int64)"
      ]
     },
     "execution_count": 29,
     "metadata": {},
     "output_type": "execute_result"
    }
   ],
   "source": [
    "confusion_matrix(y_test,grid_pred)"
   ]
  },
  {
   "cell_type": "code",
   "execution_count": 30,
   "id": "b44cd91b",
   "metadata": {},
   "outputs": [
    {
     "name": "stdout",
     "output_type": "stream",
     "text": [
      "              precision    recall  f1-score   support\n",
      "\n",
      "           A       0.33      0.02      0.05        41\n",
      "           D       0.00      0.00      0.00        35\n",
      "           H       0.50      0.97      0.66        77\n",
      "\n",
      "    accuracy                           0.50       153\n",
      "   macro avg       0.28      0.33      0.24       153\n",
      "weighted avg       0.34      0.50      0.34       153\n",
      "\n"
     ]
    },
    {
     "name": "stderr",
     "output_type": "stream",
     "text": [
      "C:\\Users\\George\\anaconda3\\envs\\tf\\lib\\site-packages\\sklearn\\metrics\\_classification.py:1327: UndefinedMetricWarning: Precision and F-score are ill-defined and being set to 0.0 in labels with no predicted samples. Use `zero_division` parameter to control this behavior.\n",
      "  _warn_prf(average, modifier, msg_start, len(result))\n",
      "C:\\Users\\George\\anaconda3\\envs\\tf\\lib\\site-packages\\sklearn\\metrics\\_classification.py:1327: UndefinedMetricWarning: Precision and F-score are ill-defined and being set to 0.0 in labels with no predicted samples. Use `zero_division` parameter to control this behavior.\n",
      "  _warn_prf(average, modifier, msg_start, len(result))\n",
      "C:\\Users\\George\\anaconda3\\envs\\tf\\lib\\site-packages\\sklearn\\metrics\\_classification.py:1327: UndefinedMetricWarning: Precision and F-score are ill-defined and being set to 0.0 in labels with no predicted samples. Use `zero_division` parameter to control this behavior.\n",
      "  _warn_prf(average, modifier, msg_start, len(result))\n"
     ]
    }
   ],
   "source": [
    "print(classification_report(y_test,grid_pred))"
   ]
  },
  {
   "cell_type": "markdown",
   "id": "70099101",
   "metadata": {},
   "source": [
    "**Season 17/18**"
   ]
  },
  {
   "cell_type": "code",
   "execution_count": 229,
   "id": "edcfe01e",
   "metadata": {},
   "outputs": [],
   "source": [
    "X = s1718.drop('FTR',axis=1)\n",
    "y = s1718[['FTR','round']]\n",
    "\n",
    "X_train = X[X['round']==1].drop('round',axis=1)\n",
    "X_test = X[X['round']==2].drop('round',axis=1)\n",
    "\n",
    "y_train = y[y['round']==1].drop('round',axis=1)\n",
    "y_test = y[y['round']==2].drop('round',axis=1)\n",
    "\n",
    "scaled_X_train = scaler.fit_transform(X_train)\n",
    "scaled_X_test = scaler.transform(X_test)"
   ]
  },
  {
   "cell_type": "code",
   "execution_count": 230,
   "id": "df8fd789",
   "metadata": {},
   "outputs": [],
   "source": [
    "model.fit(scaled_X_train,y_train.values.ravel())\n",
    "base_pred = model.predict(scaled_X_test)"
   ]
  },
  {
   "cell_type": "code",
   "execution_count": 231,
   "id": "cb5e5e14",
   "metadata": {},
   "outputs": [
    {
     "data": {
      "text/plain": [
       "array([[ 1,  1, 42],\n",
       "       [ 1,  0, 37],\n",
       "       [ 0,  1, 70]], dtype=int64)"
      ]
     },
     "execution_count": 231,
     "metadata": {},
     "output_type": "execute_result"
    }
   ],
   "source": [
    "confusion_matrix(y_test,base_pred)"
   ]
  },
  {
   "cell_type": "code",
   "execution_count": 232,
   "id": "0fb7f0d0",
   "metadata": {},
   "outputs": [
    {
     "name": "stdout",
     "output_type": "stream",
     "text": [
      "              precision    recall  f1-score   support\n",
      "\n",
      "           A       0.50      0.02      0.04        44\n",
      "           D       0.00      0.00      0.00        38\n",
      "           H       0.47      0.99      0.64        71\n",
      "\n",
      "    accuracy                           0.46       153\n",
      "   macro avg       0.32      0.34      0.23       153\n",
      "weighted avg       0.36      0.46      0.31       153\n",
      "\n"
     ]
    }
   ],
   "source": [
    "print(classification_report(y_test,base_pred))"
   ]
  },
  {
   "cell_type": "code",
   "execution_count": 234,
   "id": "27f2dad7",
   "metadata": {},
   "outputs": [
    {
     "name": "stdout",
     "output_type": "stream",
     "text": [
      "Features selected [False False  True  True False False False False False False False False\n",
      " False False  True  True False False False  True False  True False False\n",
      " False False False False False  True False False False False False False\n",
      " False]\n",
      "Feature ranking [31 25  1  1  7 13 10 20 28 23 24 21  6  9  1  1 22 26  2  1  3  1 29 30\n",
      " 15 27  5 12  4  1 11 18 19 14 17 16  8]\n"
     ]
    }
   ],
   "source": [
    "estimator = SVC(kernel=\"linear\")\n",
    "selector = RFECV(estimator, step=1, scoring='accuracy', cv=5)\n",
    "selector = selector.fit(X, y.drop('round',axis=1).values.ravel())\n",
    "print(\"Features selected\", selector.support_)\n",
    "print(\"Feature ranking\", selector.ranking_)"
   ]
  },
  {
   "cell_type": "code",
   "execution_count": 235,
   "id": "a68d2af4",
   "metadata": {},
   "outputs": [
    {
     "data": {
      "text/plain": [
       "['round',\n",
       " 'AVGH',\n",
       " 'l5_ravg_HTCR',\n",
       " 'l5_ravg_ATCR',\n",
       " 'l5_ravg_ATxG',\n",
       " 'l5_ravg_ATxpts',\n",
       " 'avgATP']"
      ]
     },
     "execution_count": 235,
     "metadata": {},
     "output_type": "execute_result"
    }
   ],
   "source": [
    "featured_columns = pd.DataFrame(selector.support_,\n",
    "                               index = X.columns,\n",
    "                               columns=['is_in'])\n",
    "\n",
    "featured_columns = featured_columns[featured_columns.is_in == True].index.tolist()\n",
    "featured_columns"
   ]
  },
  {
   "cell_type": "code",
   "execution_count": 237,
   "id": "24388d99",
   "metadata": {},
   "outputs": [],
   "source": [
    "X = s1718[featured_columns]\n",
    "y = s1718[['FTR','round']]\n",
    "\n",
    "X_train = X[X['round']==1].drop('round',axis=1)\n",
    "X_test = X[X['round']==2].drop('round',axis=1)\n",
    "\n",
    "y_train = y[y['round']==1].drop('round',axis=1)\n",
    "y_test = y[y['round']==2].drop('round',axis=1)\n",
    "\n",
    "scaled_X_train = scaler.fit_transform(X_train)\n",
    "scaled_X_test = scaler.transform(X_test)"
   ]
  },
  {
   "cell_type": "code",
   "execution_count": 239,
   "id": "59b3d576",
   "metadata": {},
   "outputs": [],
   "source": [
    "model.fit(scaled_X_train,y_train.values.ravel())\n",
    "rfe_pred = model.predict(scaled_X_test)"
   ]
  },
  {
   "cell_type": "code",
   "execution_count": 240,
   "id": "3aeddd8f",
   "metadata": {},
   "outputs": [
    {
     "data": {
      "text/plain": [
       "array([[ 3,  3, 38],\n",
       "       [ 0,  3, 35],\n",
       "       [ 0,  7, 64]], dtype=int64)"
      ]
     },
     "execution_count": 240,
     "metadata": {},
     "output_type": "execute_result"
    }
   ],
   "source": [
    "confusion_matrix(y_test,rfe_pred)"
   ]
  },
  {
   "cell_type": "code",
   "execution_count": 241,
   "id": "e1221d1f",
   "metadata": {},
   "outputs": [
    {
     "name": "stdout",
     "output_type": "stream",
     "text": [
      "              precision    recall  f1-score   support\n",
      "\n",
      "           A       1.00      0.07      0.13        44\n",
      "           D       0.23      0.08      0.12        38\n",
      "           H       0.47      0.90      0.62        71\n",
      "\n",
      "    accuracy                           0.46       153\n",
      "   macro avg       0.57      0.35      0.29       153\n",
      "weighted avg       0.56      0.46      0.35       153\n",
      "\n"
     ]
    }
   ],
   "source": [
    "print(classification_report(y_test,rfe_pred))"
   ]
  },
  {
   "cell_type": "code",
   "execution_count": 242,
   "id": "3cdaa18b",
   "metadata": {},
   "outputs": [],
   "source": [
    "#Define the parameters\n",
    "kernel = ['linear','rbf', 'sigmoid']\n",
    "C = [1,2,3,4,5,6,7,8,9,10]\n",
    "gamma = [0.1,0.15,0.16,0.17,0.18,0.2,0.3,'scale']\n",
    "\n",
    "param_grid = {'kernel': kernel,\n",
    "              'C': C,\n",
    "              'gamma': gamma}\n",
    "\n",
    "#Grid Search\n",
    "grid_model = GridSearchCV(model, param_grid=param_grid, scoring='accuracy')\n",
    "\n",
    "grid_model.fit(scaled_X_train,y_train.values.ravel())\n",
    "grid_pred = grid_model.predict(scaled_X_test)"
   ]
  },
  {
   "cell_type": "code",
   "execution_count": 245,
   "id": "2d222de1",
   "metadata": {},
   "outputs": [
    {
     "data": {
      "text/plain": [
       "{'C': 4, 'gamma': 0.3, 'kernel': 'sigmoid'}"
      ]
     },
     "execution_count": 245,
     "metadata": {},
     "output_type": "execute_result"
    }
   ],
   "source": [
    "grid_model.best_params_"
   ]
  },
  {
   "cell_type": "code",
   "execution_count": 243,
   "id": "c9bcd144",
   "metadata": {},
   "outputs": [
    {
     "data": {
      "text/plain": [
       "array([[ 6,  0, 38],\n",
       "       [ 0,  0, 38],\n",
       "       [ 1,  0, 70]], dtype=int64)"
      ]
     },
     "execution_count": 243,
     "metadata": {},
     "output_type": "execute_result"
    }
   ],
   "source": [
    "confusion_matrix(y_test,grid_pred)"
   ]
  },
  {
   "cell_type": "code",
   "execution_count": 244,
   "id": "674c5f8f",
   "metadata": {},
   "outputs": [
    {
     "name": "stdout",
     "output_type": "stream",
     "text": [
      "              precision    recall  f1-score   support\n",
      "\n",
      "           A       0.86      0.14      0.24        44\n",
      "           D       0.00      0.00      0.00        38\n",
      "           H       0.48      0.99      0.65        71\n",
      "\n",
      "    accuracy                           0.50       153\n",
      "   macro avg       0.45      0.37      0.29       153\n",
      "weighted avg       0.47      0.50      0.37       153\n",
      "\n"
     ]
    },
    {
     "name": "stderr",
     "output_type": "stream",
     "text": [
      "C:\\Users\\George\\anaconda3\\envs\\tf\\lib\\site-packages\\sklearn\\metrics\\_classification.py:1327: UndefinedMetricWarning: Precision and F-score are ill-defined and being set to 0.0 in labels with no predicted samples. Use `zero_division` parameter to control this behavior.\n",
      "  _warn_prf(average, modifier, msg_start, len(result))\n",
      "C:\\Users\\George\\anaconda3\\envs\\tf\\lib\\site-packages\\sklearn\\metrics\\_classification.py:1327: UndefinedMetricWarning: Precision and F-score are ill-defined and being set to 0.0 in labels with no predicted samples. Use `zero_division` parameter to control this behavior.\n",
      "  _warn_prf(average, modifier, msg_start, len(result))\n",
      "C:\\Users\\George\\anaconda3\\envs\\tf\\lib\\site-packages\\sklearn\\metrics\\_classification.py:1327: UndefinedMetricWarning: Precision and F-score are ill-defined and being set to 0.0 in labels with no predicted samples. Use `zero_division` parameter to control this behavior.\n",
      "  _warn_prf(average, modifier, msg_start, len(result))\n"
     ]
    }
   ],
   "source": [
    "print(classification_report(y_test,grid_pred))"
   ]
  },
  {
   "cell_type": "markdown",
   "id": "47c0ec2f",
   "metadata": {},
   "source": [
    "The best accuracy we could get is 0,50 after implementing Grid Search\n",
    "\n",
    "Hyperparameters:\n",
    "- 'C': 4\n",
    "- 'gamma': 0.3\n",
    "- 'kernel': 'sigmoid'\n",
    "\n",
    "Features:\n",
    "- 'AVGH'\n",
    "- 'l5_ravg_HTCR'\n",
    "- 'l5_ravg_ATCR'\n",
    "- 'l5_ravg_ATxG'\n",
    "- 'l5_ravg_ATxpts'\n",
    "- 'avgATP'"
   ]
  },
  {
   "cell_type": "markdown",
   "id": "32c4ee96",
   "metadata": {},
   "source": [
    "**Season 18/19**"
   ]
  },
  {
   "cell_type": "code",
   "execution_count": 246,
   "id": "22c7a9ca",
   "metadata": {},
   "outputs": [],
   "source": [
    "X = s1819.drop('FTR',axis=1)\n",
    "y = s1819[['FTR','round']]\n",
    "\n",
    "X_train = X[X['round']==1].drop('round',axis=1)\n",
    "X_test = X[X['round']==2].drop('round',axis=1)\n",
    "\n",
    "y_train = y[y['round']==1].drop('round',axis=1)\n",
    "y_test = y[y['round']==2].drop('round',axis=1)\n",
    "\n",
    "scaled_X_train = scaler.fit_transform(X_train)\n",
    "scaled_X_test = scaler.transform(X_test)"
   ]
  },
  {
   "cell_type": "code",
   "execution_count": 247,
   "id": "8b1a913e",
   "metadata": {},
   "outputs": [],
   "source": [
    "model.fit(scaled_X_train,y_train.values.ravel())\n",
    "base_pred = model.predict(scaled_X_test)"
   ]
  },
  {
   "cell_type": "code",
   "execution_count": 248,
   "id": "60632a81",
   "metadata": {},
   "outputs": [
    {
     "data": {
      "text/plain": [
       "array([[14,  0, 35],\n",
       "       [ 6,  0, 29],\n",
       "       [14,  0, 55]], dtype=int64)"
      ]
     },
     "execution_count": 248,
     "metadata": {},
     "output_type": "execute_result"
    }
   ],
   "source": [
    "confusion_matrix(y_test,base_pred)"
   ]
  },
  {
   "cell_type": "code",
   "execution_count": 249,
   "id": "e159fce7",
   "metadata": {},
   "outputs": [
    {
     "name": "stdout",
     "output_type": "stream",
     "text": [
      "              precision    recall  f1-score   support\n",
      "\n",
      "           A       0.41      0.29      0.34        49\n",
      "           D       0.00      0.00      0.00        35\n",
      "           H       0.46      0.80      0.59        69\n",
      "\n",
      "    accuracy                           0.45       153\n",
      "   macro avg       0.29      0.36      0.31       153\n",
      "weighted avg       0.34      0.45      0.37       153\n",
      "\n"
     ]
    },
    {
     "name": "stderr",
     "output_type": "stream",
     "text": [
      "C:\\Users\\George\\anaconda3\\envs\\tf\\lib\\site-packages\\sklearn\\metrics\\_classification.py:1327: UndefinedMetricWarning: Precision and F-score are ill-defined and being set to 0.0 in labels with no predicted samples. Use `zero_division` parameter to control this behavior.\n",
      "  _warn_prf(average, modifier, msg_start, len(result))\n",
      "C:\\Users\\George\\anaconda3\\envs\\tf\\lib\\site-packages\\sklearn\\metrics\\_classification.py:1327: UndefinedMetricWarning: Precision and F-score are ill-defined and being set to 0.0 in labels with no predicted samples. Use `zero_division` parameter to control this behavior.\n",
      "  _warn_prf(average, modifier, msg_start, len(result))\n",
      "C:\\Users\\George\\anaconda3\\envs\\tf\\lib\\site-packages\\sklearn\\metrics\\_classification.py:1327: UndefinedMetricWarning: Precision and F-score are ill-defined and being set to 0.0 in labels with no predicted samples. Use `zero_division` parameter to control this behavior.\n",
      "  _warn_prf(average, modifier, msg_start, len(result))\n"
     ]
    }
   ],
   "source": [
    "print(classification_report(y_test,base_pred))"
   ]
  },
  {
   "cell_type": "code",
   "execution_count": 250,
   "id": "9bacbd64",
   "metadata": {},
   "outputs": [
    {
     "name": "stdout",
     "output_type": "stream",
     "text": [
      "Features selected [False False  True  True  True  True  True False False False False False\n",
      " False False  True  True False False False  True False  True False False\n",
      " False False  True False False  True  True False False False  True  True\n",
      " False]\n",
      "Feature ranking [20 23  1  1  1  1  1 14 11 15 16  8 13  7  1  1 21  9 10  1 12  1 18 17\n",
      " 22 24  1  3  6  1  1  4  5 19  1  1  2]\n"
     ]
    }
   ],
   "source": [
    "estimator = SVC(kernel=\"linear\")\n",
    "selector = RFECV(estimator, step=1, scoring='accuracy', cv=5)\n",
    "selector = selector.fit(X, y.drop('round',axis=1).values.ravel())\n",
    "print(\"Features selected\", selector.support_)\n",
    "print(\"Feature ranking\", selector.ranking_)"
   ]
  },
  {
   "cell_type": "code",
   "execution_count": 251,
   "id": "cc81fa71",
   "metadata": {},
   "outputs": [
    {
     "data": {
      "text/plain": [
       "['round',\n",
       " 'AVGH',\n",
       " 'AVGD',\n",
       " 'AVGA',\n",
       " 'HT_wins',\n",
       " 'l5_ravg_HTCR',\n",
       " 'l5_ravg_ATCR',\n",
       " 'l5_ravg_ATxG',\n",
       " 'l5_ravg_ATxpts',\n",
       " 'l5_htdiff',\n",
       " 'avgATP',\n",
       " 'l5_ravg_HTp',\n",
       " 'diff_MID',\n",
       " 'diff_DEF']"
      ]
     },
     "execution_count": 251,
     "metadata": {},
     "output_type": "execute_result"
    }
   ],
   "source": [
    "featured_columns = pd.DataFrame(selector.support_,\n",
    "                               index = X.columns,\n",
    "                               columns=['is_in'])\n",
    "\n",
    "featured_columns = featured_columns[featured_columns.is_in == True].index.tolist()\n",
    "featured_columns"
   ]
  },
  {
   "cell_type": "code",
   "execution_count": 252,
   "id": "cea73c07",
   "metadata": {},
   "outputs": [],
   "source": [
    "X = s1819[featured_columns]\n",
    "y = s1819[['FTR','round']]\n",
    "\n",
    "X_train = X[X['round']==1].drop('round',axis=1)\n",
    "X_test = X[X['round']==2].drop('round',axis=1)\n",
    "\n",
    "y_train = y[y['round']==1].drop('round',axis=1)\n",
    "y_test = y[y['round']==2].drop('round',axis=1)\n",
    "\n",
    "scaled_X_train = scaler.fit_transform(X_train)\n",
    "scaled_X_test = scaler.transform(X_test)"
   ]
  },
  {
   "cell_type": "code",
   "execution_count": 253,
   "id": "5179d502",
   "metadata": {},
   "outputs": [],
   "source": [
    "model.fit(scaled_X_train,y_train.values.ravel())\n",
    "rfe_pred = model.predict(scaled_X_test)"
   ]
  },
  {
   "cell_type": "code",
   "execution_count": 254,
   "id": "67b9046e",
   "metadata": {},
   "outputs": [
    {
     "data": {
      "text/plain": [
       "array([[20,  0, 29],\n",
       "       [ 7,  0, 28],\n",
       "       [ 9,  0, 60]], dtype=int64)"
      ]
     },
     "execution_count": 254,
     "metadata": {},
     "output_type": "execute_result"
    }
   ],
   "source": [
    "confusion_matrix(y_test,rfe_pred)"
   ]
  },
  {
   "cell_type": "code",
   "execution_count": 255,
   "id": "0d2ea9cc",
   "metadata": {},
   "outputs": [
    {
     "name": "stdout",
     "output_type": "stream",
     "text": [
      "              precision    recall  f1-score   support\n",
      "\n",
      "           A       0.56      0.41      0.47        49\n",
      "           D       0.00      0.00      0.00        35\n",
      "           H       0.51      0.87      0.65        69\n",
      "\n",
      "    accuracy                           0.52       153\n",
      "   macro avg       0.36      0.43      0.37       153\n",
      "weighted avg       0.41      0.52      0.44       153\n",
      "\n"
     ]
    },
    {
     "name": "stderr",
     "output_type": "stream",
     "text": [
      "C:\\Users\\George\\anaconda3\\envs\\tf\\lib\\site-packages\\sklearn\\metrics\\_classification.py:1327: UndefinedMetricWarning: Precision and F-score are ill-defined and being set to 0.0 in labels with no predicted samples. Use `zero_division` parameter to control this behavior.\n",
      "  _warn_prf(average, modifier, msg_start, len(result))\n",
      "C:\\Users\\George\\anaconda3\\envs\\tf\\lib\\site-packages\\sklearn\\metrics\\_classification.py:1327: UndefinedMetricWarning: Precision and F-score are ill-defined and being set to 0.0 in labels with no predicted samples. Use `zero_division` parameter to control this behavior.\n",
      "  _warn_prf(average, modifier, msg_start, len(result))\n",
      "C:\\Users\\George\\anaconda3\\envs\\tf\\lib\\site-packages\\sklearn\\metrics\\_classification.py:1327: UndefinedMetricWarning: Precision and F-score are ill-defined and being set to 0.0 in labels with no predicted samples. Use `zero_division` parameter to control this behavior.\n",
      "  _warn_prf(average, modifier, msg_start, len(result))\n"
     ]
    }
   ],
   "source": [
    "print(classification_report(y_test,rfe_pred))"
   ]
  },
  {
   "cell_type": "code",
   "execution_count": 256,
   "id": "b52b2ad6",
   "metadata": {},
   "outputs": [],
   "source": [
    "#Define the parameters\n",
    "kernel = ['linear','rbf', 'sigmoid']\n",
    "C = [1,2,3,4,5,6,7,8,9,10]\n",
    "gamma = [0.1,0.15,0.16,0.17,0.18,0.2,0.3,'scale']\n",
    "\n",
    "param_grid = {'kernel': kernel,\n",
    "              'C': C,\n",
    "              'gamma': gamma}\n",
    "\n",
    "#Grid Search\n",
    "grid_model = GridSearchCV(model, param_grid=param_grid, scoring='accuracy')\n",
    "\n",
    "grid_model.fit(scaled_X_train,y_train.values.ravel())\n",
    "grid_pred = grid_model.predict(scaled_X_test)"
   ]
  },
  {
   "cell_type": "code",
   "execution_count": 259,
   "id": "c044eaa0",
   "metadata": {},
   "outputs": [
    {
     "data": {
      "text/plain": [
       "{'C': 5, 'gamma': 0.1, 'kernel': 'sigmoid'}"
      ]
     },
     "execution_count": 259,
     "metadata": {},
     "output_type": "execute_result"
    }
   ],
   "source": [
    "grid_model.best_params_"
   ]
  },
  {
   "cell_type": "code",
   "execution_count": 257,
   "id": "e8d2232e",
   "metadata": {},
   "outputs": [
    {
     "data": {
      "text/plain": [
       "array([[22,  0, 27],\n",
       "       [ 7,  0, 28],\n",
       "       [ 6,  0, 63]], dtype=int64)"
      ]
     },
     "execution_count": 257,
     "metadata": {},
     "output_type": "execute_result"
    }
   ],
   "source": [
    "confusion_matrix(y_test,grid_pred)"
   ]
  },
  {
   "cell_type": "code",
   "execution_count": 258,
   "id": "257c64ab",
   "metadata": {},
   "outputs": [
    {
     "name": "stdout",
     "output_type": "stream",
     "text": [
      "              precision    recall  f1-score   support\n",
      "\n",
      "           A       0.63      0.45      0.52        49\n",
      "           D       0.00      0.00      0.00        35\n",
      "           H       0.53      0.91      0.67        69\n",
      "\n",
      "    accuracy                           0.56       153\n",
      "   macro avg       0.39      0.45      0.40       153\n",
      "weighted avg       0.44      0.56      0.47       153\n",
      "\n"
     ]
    },
    {
     "name": "stderr",
     "output_type": "stream",
     "text": [
      "C:\\Users\\George\\anaconda3\\envs\\tf\\lib\\site-packages\\sklearn\\metrics\\_classification.py:1327: UndefinedMetricWarning: Precision and F-score are ill-defined and being set to 0.0 in labels with no predicted samples. Use `zero_division` parameter to control this behavior.\n",
      "  _warn_prf(average, modifier, msg_start, len(result))\n",
      "C:\\Users\\George\\anaconda3\\envs\\tf\\lib\\site-packages\\sklearn\\metrics\\_classification.py:1327: UndefinedMetricWarning: Precision and F-score are ill-defined and being set to 0.0 in labels with no predicted samples. Use `zero_division` parameter to control this behavior.\n",
      "  _warn_prf(average, modifier, msg_start, len(result))\n",
      "C:\\Users\\George\\anaconda3\\envs\\tf\\lib\\site-packages\\sklearn\\metrics\\_classification.py:1327: UndefinedMetricWarning: Precision and F-score are ill-defined and being set to 0.0 in labels with no predicted samples. Use `zero_division` parameter to control this behavior.\n",
      "  _warn_prf(average, modifier, msg_start, len(result))\n"
     ]
    }
   ],
   "source": [
    "print(classification_report(y_test,grid_pred))"
   ]
  },
  {
   "cell_type": "markdown",
   "id": "f7496eb7",
   "metadata": {},
   "source": [
    "The best accuracy we could get is 0,56.\n",
    "\n",
    "Hyperparameters:\n",
    "- 'C': 5\n",
    "- 'gamma': 0.1\n",
    "- 'kernel': 'sigmoid'\n",
    "\n",
    "Features:\n",
    "- 'AVGH'\n",
    "- 'AVGD'\n",
    "- 'AVGA'\n",
    "- 'HT_wins'\n",
    "- 'l5_ravg_HTCR'\n",
    "- 'l5_ravg_ATCR'\n",
    "- 'l5_ravg_ATxG'\n",
    "- 'l5_ravg_ATxpts'\n",
    "- 'l5_htdiff'\n",
    "- 'avgATP'\n",
    "- 'l5_ravg_HTp'\n",
    "- 'diff_MID'\n",
    "- 'diff_DEF"
   ]
  },
  {
   "cell_type": "markdown",
   "id": "a9e1f436",
   "metadata": {},
   "source": [
    "**Season 19/20**"
   ]
  },
  {
   "cell_type": "code",
   "execution_count": 260,
   "id": "c5ddea08",
   "metadata": {},
   "outputs": [],
   "source": [
    "X = s1920.drop('FTR',axis=1)\n",
    "y = s1920[['FTR','round']]\n",
    "\n",
    "X_train = X[X['round']==1].drop('round',axis=1)\n",
    "X_test = X[X['round']==2].drop('round',axis=1)\n",
    "\n",
    "y_train = y[y['round']==1].drop('round',axis=1)\n",
    "y_test = y[y['round']==2].drop('round',axis=1)\n",
    "\n",
    "scaled_X_train = scaler.fit_transform(X_train)\n",
    "scaled_X_test = scaler.transform(X_test)"
   ]
  },
  {
   "cell_type": "code",
   "execution_count": 261,
   "id": "d74ae824",
   "metadata": {},
   "outputs": [],
   "source": [
    "model.fit(scaled_X_train,y_train.values.ravel())\n",
    "base_pred = model.predict(scaled_X_test)"
   ]
  },
  {
   "cell_type": "code",
   "execution_count": 262,
   "id": "1bd8173b",
   "metadata": {},
   "outputs": [
    {
     "data": {
      "text/plain": [
       "array([[ 2,  0, 62],\n",
       "       [ 0,  0, 35],\n",
       "       [ 0,  0, 54]], dtype=int64)"
      ]
     },
     "execution_count": 262,
     "metadata": {},
     "output_type": "execute_result"
    }
   ],
   "source": [
    "confusion_matrix(y_test,base_pred)"
   ]
  },
  {
   "cell_type": "code",
   "execution_count": 263,
   "id": "e87d488f",
   "metadata": {},
   "outputs": [
    {
     "name": "stdout",
     "output_type": "stream",
     "text": [
      "              precision    recall  f1-score   support\n",
      "\n",
      "           A       1.00      0.03      0.06        64\n",
      "           D       0.00      0.00      0.00        35\n",
      "           H       0.36      1.00      0.53        54\n",
      "\n",
      "    accuracy                           0.37       153\n",
      "   macro avg       0.45      0.34      0.20       153\n",
      "weighted avg       0.54      0.37      0.21       153\n",
      "\n"
     ]
    },
    {
     "name": "stderr",
     "output_type": "stream",
     "text": [
      "C:\\Users\\George\\anaconda3\\envs\\tf\\lib\\site-packages\\sklearn\\metrics\\_classification.py:1327: UndefinedMetricWarning: Precision and F-score are ill-defined and being set to 0.0 in labels with no predicted samples. Use `zero_division` parameter to control this behavior.\n",
      "  _warn_prf(average, modifier, msg_start, len(result))\n",
      "C:\\Users\\George\\anaconda3\\envs\\tf\\lib\\site-packages\\sklearn\\metrics\\_classification.py:1327: UndefinedMetricWarning: Precision and F-score are ill-defined and being set to 0.0 in labels with no predicted samples. Use `zero_division` parameter to control this behavior.\n",
      "  _warn_prf(average, modifier, msg_start, len(result))\n",
      "C:\\Users\\George\\anaconda3\\envs\\tf\\lib\\site-packages\\sklearn\\metrics\\_classification.py:1327: UndefinedMetricWarning: Precision and F-score are ill-defined and being set to 0.0 in labels with no predicted samples. Use `zero_division` parameter to control this behavior.\n",
      "  _warn_prf(average, modifier, msg_start, len(result))\n"
     ]
    }
   ],
   "source": [
    "print(classification_report(y_test,base_pred))"
   ]
  },
  {
   "cell_type": "code",
   "execution_count": 264,
   "id": "1a2e43df",
   "metadata": {},
   "outputs": [
    {
     "name": "stdout",
     "output_type": "stream",
     "text": [
      "Features selected [False False  True False False  True False False False False False False\n",
      "  True False False  True False False  True False  True  True False False\n",
      " False False  True  True  True  True False False False False False False\n",
      " False]\n",
      "Feature ranking [24 27  1 20 13  1 17 18  5  6  8  7  1  3 15  1 23 26  1  2  1  1 14 16\n",
      " 25 21  1  1  1  1 22 19  9  4 11 12 10]\n"
     ]
    }
   ],
   "source": [
    "estimator = SVC(kernel=\"linear\")\n",
    "selector = RFECV(estimator, step=1, scoring='accuracy', cv=5)\n",
    "selector = selector.fit(X, y.drop('round',axis=1).values.ravel())\n",
    "print(\"Features selected\", selector.support_)\n",
    "print(\"Feature ranking\", selector.ranking_)"
   ]
  },
  {
   "cell_type": "code",
   "execution_count": 265,
   "id": "276e81e5",
   "metadata": {},
   "outputs": [
    {
     "data": {
      "text/plain": [
       "['round',\n",
       " 'AVGA',\n",
       " 'l5_ravg_HTST',\n",
       " 'l5_ravg_ATCR',\n",
       " 'l5_ravg_HTxG',\n",
       " 'l5_ravg_HTxpts',\n",
       " 'l5_ravg_ATxpts',\n",
       " 'l5_htdiff',\n",
       " 'l5_atdiff',\n",
       " 'avgHTP',\n",
       " 'avgATP']"
      ]
     },
     "execution_count": 265,
     "metadata": {},
     "output_type": "execute_result"
    }
   ],
   "source": [
    "featured_columns = pd.DataFrame(selector.support_,\n",
    "                               index = X.columns,\n",
    "                               columns=['is_in'])\n",
    "\n",
    "featured_columns = featured_columns[featured_columns.is_in == True].index.tolist()\n",
    "featured_columns"
   ]
  },
  {
   "cell_type": "code",
   "execution_count": 266,
   "id": "aa7af84c",
   "metadata": {},
   "outputs": [],
   "source": [
    "X = s1920[featured_columns]\n",
    "y = s1920[['FTR','round']]\n",
    "\n",
    "X_train = X[X['round']==1].drop('round',axis=1)\n",
    "X_test = X[X['round']==2].drop('round',axis=1)\n",
    "\n",
    "y_train = y[y['round']==1].drop('round',axis=1)\n",
    "y_test = y[y['round']==2].drop('round',axis=1)\n",
    "\n",
    "scaled_X_train = scaler.fit_transform(X_train)\n",
    "scaled_X_test = scaler.transform(X_test)"
   ]
  },
  {
   "cell_type": "code",
   "execution_count": 267,
   "id": "94a2e996",
   "metadata": {},
   "outputs": [],
   "source": [
    "model.fit(scaled_X_train,y_train.values.ravel())\n",
    "rfe_pred = model.predict(scaled_X_test)"
   ]
  },
  {
   "cell_type": "code",
   "execution_count": 268,
   "id": "da782833",
   "metadata": {},
   "outputs": [
    {
     "data": {
      "text/plain": [
       "array([[13,  0, 51],\n",
       "       [ 5,  0, 30],\n",
       "       [ 2,  0, 52]], dtype=int64)"
      ]
     },
     "execution_count": 268,
     "metadata": {},
     "output_type": "execute_result"
    }
   ],
   "source": [
    "confusion_matrix(y_test,rfe_pred)"
   ]
  },
  {
   "cell_type": "code",
   "execution_count": 269,
   "id": "95410182",
   "metadata": {},
   "outputs": [
    {
     "name": "stdout",
     "output_type": "stream",
     "text": [
      "              precision    recall  f1-score   support\n",
      "\n",
      "           A       0.65      0.20      0.31        64\n",
      "           D       0.00      0.00      0.00        35\n",
      "           H       0.39      0.96      0.56        54\n",
      "\n",
      "    accuracy                           0.42       153\n",
      "   macro avg       0.35      0.39      0.29       153\n",
      "weighted avg       0.41      0.42      0.33       153\n",
      "\n"
     ]
    },
    {
     "name": "stderr",
     "output_type": "stream",
     "text": [
      "C:\\Users\\George\\anaconda3\\envs\\tf\\lib\\site-packages\\sklearn\\metrics\\_classification.py:1327: UndefinedMetricWarning: Precision and F-score are ill-defined and being set to 0.0 in labels with no predicted samples. Use `zero_division` parameter to control this behavior.\n",
      "  _warn_prf(average, modifier, msg_start, len(result))\n",
      "C:\\Users\\George\\anaconda3\\envs\\tf\\lib\\site-packages\\sklearn\\metrics\\_classification.py:1327: UndefinedMetricWarning: Precision and F-score are ill-defined and being set to 0.0 in labels with no predicted samples. Use `zero_division` parameter to control this behavior.\n",
      "  _warn_prf(average, modifier, msg_start, len(result))\n",
      "C:\\Users\\George\\anaconda3\\envs\\tf\\lib\\site-packages\\sklearn\\metrics\\_classification.py:1327: UndefinedMetricWarning: Precision and F-score are ill-defined and being set to 0.0 in labels with no predicted samples. Use `zero_division` parameter to control this behavior.\n",
      "  _warn_prf(average, modifier, msg_start, len(result))\n"
     ]
    }
   ],
   "source": [
    "print(classification_report(y_test,rfe_pred))"
   ]
  },
  {
   "cell_type": "code",
   "execution_count": 270,
   "id": "bf7e6d9f",
   "metadata": {},
   "outputs": [],
   "source": [
    "#Define the parameters\n",
    "kernel = ['linear','rbf', 'sigmoid']\n",
    "C = [1,2,3,4,5,6,7,8,9,10]\n",
    "gamma = [0.1,0.15,0.16,0.17,0.18,0.2,0.3,'scale']\n",
    "\n",
    "param_grid = {'kernel': kernel,\n",
    "              'C': C,\n",
    "              'gamma': gamma}\n",
    "\n",
    "#Grid Search\n",
    "grid_model = GridSearchCV(model, param_grid=param_grid, scoring='accuracy')\n",
    "\n",
    "grid_model.fit(scaled_X_train,y_train.values.ravel())\n",
    "grid_pred = grid_model.predict(scaled_X_test)"
   ]
  },
  {
   "cell_type": "code",
   "execution_count": 271,
   "id": "296ce2c5",
   "metadata": {},
   "outputs": [
    {
     "data": {
      "text/plain": [
       "{'C': 1, 'gamma': 'scale', 'kernel': 'rbf'}"
      ]
     },
     "execution_count": 271,
     "metadata": {},
     "output_type": "execute_result"
    }
   ],
   "source": [
    "grid_model.best_params_"
   ]
  },
  {
   "cell_type": "code",
   "execution_count": 272,
   "id": "7655daf4",
   "metadata": {},
   "outputs": [
    {
     "data": {
      "text/plain": [
       "array([[13,  0, 51],\n",
       "       [ 5,  0, 30],\n",
       "       [ 2,  0, 52]], dtype=int64)"
      ]
     },
     "execution_count": 272,
     "metadata": {},
     "output_type": "execute_result"
    }
   ],
   "source": [
    "confusion_matrix(y_test,grid_pred)"
   ]
  },
  {
   "cell_type": "code",
   "execution_count": 273,
   "id": "a4d4ae7d",
   "metadata": {},
   "outputs": [
    {
     "name": "stdout",
     "output_type": "stream",
     "text": [
      "              precision    recall  f1-score   support\n",
      "\n",
      "           A       0.65      0.20      0.31        64\n",
      "           D       0.00      0.00      0.00        35\n",
      "           H       0.39      0.96      0.56        54\n",
      "\n",
      "    accuracy                           0.42       153\n",
      "   macro avg       0.35      0.39      0.29       153\n",
      "weighted avg       0.41      0.42      0.33       153\n",
      "\n"
     ]
    },
    {
     "name": "stderr",
     "output_type": "stream",
     "text": [
      "C:\\Users\\George\\anaconda3\\envs\\tf\\lib\\site-packages\\sklearn\\metrics\\_classification.py:1327: UndefinedMetricWarning: Precision and F-score are ill-defined and being set to 0.0 in labels with no predicted samples. Use `zero_division` parameter to control this behavior.\n",
      "  _warn_prf(average, modifier, msg_start, len(result))\n",
      "C:\\Users\\George\\anaconda3\\envs\\tf\\lib\\site-packages\\sklearn\\metrics\\_classification.py:1327: UndefinedMetricWarning: Precision and F-score are ill-defined and being set to 0.0 in labels with no predicted samples. Use `zero_division` parameter to control this behavior.\n",
      "  _warn_prf(average, modifier, msg_start, len(result))\n",
      "C:\\Users\\George\\anaconda3\\envs\\tf\\lib\\site-packages\\sklearn\\metrics\\_classification.py:1327: UndefinedMetricWarning: Precision and F-score are ill-defined and being set to 0.0 in labels with no predicted samples. Use `zero_division` parameter to control this behavior.\n",
      "  _warn_prf(average, modifier, msg_start, len(result))\n"
     ]
    }
   ],
   "source": [
    "print(classification_report(y_test,grid_pred))"
   ]
  },
  {
   "cell_type": "markdown",
   "id": "03a4fd63",
   "metadata": {},
   "source": [
    "Best accuracy we could get is 0,42.\n",
    "\n",
    "Features:\n",
    "- 'AVGA'\n",
    "- 'l5_ravg_HTST'\n",
    "- 'l5_ravg_ATCR'\n",
    "- 'l5_ravg_HTxG'\n",
    "- 'l5_ravg_HTxpts'\n",
    "- 'l5_ravg_ATxpts'\n",
    "- 'l5_htdiff'\n",
    "- 'l5_atdiff'\n",
    "- 'avgHTP'\n",
    "- 'avgATP'"
   ]
  },
  {
   "cell_type": "code",
   "execution_count": null,
   "id": "2055ac26",
   "metadata": {},
   "outputs": [],
   "source": []
  }
 ],
 "metadata": {
  "kernelspec": {
   "display_name": "Python 3 (ipykernel)",
   "language": "python",
   "name": "python3"
  },
  "language_info": {
   "codemirror_mode": {
    "name": "ipython",
    "version": 3
   },
   "file_extension": ".py",
   "mimetype": "text/x-python",
   "name": "python",
   "nbconvert_exporter": "python",
   "pygments_lexer": "ipython3",
   "version": "3.9.13"
  }
 },
 "nbformat": 4,
 "nbformat_minor": 5
}
